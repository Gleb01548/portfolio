{
 "cells": [
  {
   "cell_type": "markdown",
   "metadata": {},
   "source": [
    "- [ Прогнозирование заказов такси](#toc1_)    \n",
    "  - [Подготовка](#toc1_1_)    \n",
    "  - [Анализ](#toc1_2_)    \n",
    "  - [Обучение](#toc1_3_)    \n",
    "    - [Catboost](#toc1_3_1_)    \n",
    "    - [ TabNet](#toc1_3_2_)    \n",
    "  - [Тестирование](#toc1_4_)    \n",
    "  - [Вывод](#toc1_5_)    \n",
    "\n",
    "<!-- vscode-jupyter-toc-config\n",
    "\tnumbering=false\n",
    "\tanchor=true\n",
    "\tflat=false\n",
    "\tminLevel=1\n",
    "\tmaxLevel=6\n",
    "\t/vscode-jupyter-toc-config -->\n",
    "<!-- THIS CELL WILL BE REPLACED ON TOC UPDATE. DO NOT WRITE YOUR TEXT IN THIS CELL -->"
   ]
  },
  {
   "cell_type": "markdown",
   "metadata": {},
   "source": [
    "# <a id='toc1_'></a>[ Прогнозирование заказов такси](#toc0_)"
   ]
  },
  {
   "cell_type": "markdown",
   "metadata": {},
   "source": [
    "Компания «Чётенькое такси» собрала исторические данные о заказах такси в аэропортах. Чтобы привлекать больше водителей в период пиковой нагрузки, нужно спрогнозировать количество заказов такси на следующий час. Постройте модель для такого предсказания.\n",
    "\n",
    "Значение метрики *RMSE* на тестовой выборке должно быть не больше 48.\n",
    "\n",
    "Вам нужно:\n",
    "\n",
    "1. Загрузить данные и выполнить их ресемплирование по одному часу.\n",
    "2. Проанализировать данные.\n",
    "3. Обучить разные модели с различными гиперпараметрами. Сделать тестовую выборку размером 10% от исходных данных.\n",
    "4. Проверить данные на тестовой выборке и сделать выводы.\n",
    "\n",
    "\n",
    "Данные лежат в файле `taxi.csv`. Количество заказов находится в столбце `num_orders` (от англ. *number of orders*, «число заказов»)."
   ]
  },
  {
   "cell_type": "markdown",
   "metadata": {},
   "source": [
    "## <a id='toc1_1_'></a>[Подготовка](#toc0_)"
   ]
  },
  {
   "cell_type": "code",
   "execution_count": 1,
   "metadata": {},
   "outputs": [
    {
     "name": "stdout",
     "output_type": "stream",
     "text": [
      "Requirement already satisfied: pytorch-tabnet in /opt/conda/lib/python3.9/site-packages (4.0)\n",
      "Requirement already satisfied: scipy>1.4 in /opt/conda/lib/python3.9/site-packages (from pytorch-tabnet) (1.9.1)\n",
      "Requirement already satisfied: scikit_learn>0.21 in /opt/conda/lib/python3.9/site-packages (from pytorch-tabnet) (0.24.1)\n",
      "Requirement already satisfied: numpy<2.0,>=1.17 in /opt/conda/lib/python3.9/site-packages (from pytorch-tabnet) (1.21.1)\n",
      "Requirement already satisfied: torch<2.0,>=1.2 in /opt/conda/lib/python3.9/site-packages (from pytorch-tabnet) (1.10.0)\n",
      "Requirement already satisfied: tqdm<5.0,>=4.36 in /opt/conda/lib/python3.9/site-packages (from pytorch-tabnet) (4.61.2)\n",
      "Requirement already satisfied: joblib>=0.11 in /opt/conda/lib/python3.9/site-packages (from scikit_learn>0.21->pytorch-tabnet) (1.1.0)\n",
      "Requirement already satisfied: threadpoolctl>=2.0.0 in /opt/conda/lib/python3.9/site-packages (from scikit_learn>0.21->pytorch-tabnet) (3.1.0)\n",
      "Requirement already satisfied: typing-extensions in /opt/conda/lib/python3.9/site-packages (from torch<2.0,>=1.2->pytorch-tabnet) (4.3.0)\n"
     ]
    }
   ],
   "source": [
    "!pip install pytorch-tabnet"
   ]
  },
  {
   "cell_type": "code",
   "execution_count": 2,
   "metadata": {},
   "outputs": [
    {
     "name": "stdout",
     "output_type": "stream",
     "text": [
      "Requirement already satisfied: pytorch_optimizer in /opt/conda/lib/python3.9/site-packages (2.5.1)\r\n",
      "Requirement already satisfied: numpy in /opt/conda/lib/python3.9/site-packages (from pytorch_optimizer) (1.21.1)\r\n",
      "Requirement already satisfied: torch>=1.10 in /opt/conda/lib/python3.9/site-packages (from pytorch_optimizer) (1.10.0)\r\n",
      "Requirement already satisfied: typing-extensions in /opt/conda/lib/python3.9/site-packages (from torch>=1.10->pytorch_optimizer) (4.3.0)\r\n"
     ]
    }
   ],
   "source": [
    "!pip install pytorch_optimizer"
   ]
  },
  {
   "cell_type": "code",
   "execution_count": 3,
   "metadata": {
    "scrolled": true
   },
   "outputs": [
    {
     "name": "stdout",
     "output_type": "stream",
     "text": [
      "Requirement already satisfied: category_encoders in /opt/conda/lib/python3.9/site-packages (2.6.0)\n",
      "Requirement already satisfied: scipy>=1.0.0 in /opt/conda/lib/python3.9/site-packages (from category_encoders) (1.9.1)\n",
      "Requirement already satisfied: scikit-learn>=0.20.0 in /opt/conda/lib/python3.9/site-packages (from category_encoders) (0.24.1)\n",
      "Requirement already satisfied: statsmodels>=0.9.0 in /opt/conda/lib/python3.9/site-packages (from category_encoders) (0.13.2)\n",
      "Requirement already satisfied: pandas>=1.0.5 in /opt/conda/lib/python3.9/site-packages (from category_encoders) (1.2.4)\n",
      "Requirement already satisfied: numpy>=1.14.0 in /opt/conda/lib/python3.9/site-packages (from category_encoders) (1.21.1)\n",
      "Requirement already satisfied: patsy>=0.5.1 in /opt/conda/lib/python3.9/site-packages (from category_encoders) (0.5.2)\n",
      "Requirement already satisfied: python-dateutil>=2.7.3 in /opt/conda/lib/python3.9/site-packages (from pandas>=1.0.5->category_encoders) (2.8.1)\n",
      "Requirement already satisfied: pytz>=2017.3 in /opt/conda/lib/python3.9/site-packages (from pandas>=1.0.5->category_encoders) (2021.1)\n",
      "Requirement already satisfied: six in /opt/conda/lib/python3.9/site-packages (from patsy>=0.5.1->category_encoders) (1.16.0)\n",
      "Requirement already satisfied: threadpoolctl>=2.0.0 in /opt/conda/lib/python3.9/site-packages (from scikit-learn>=0.20.0->category_encoders) (3.1.0)\n",
      "Requirement already satisfied: joblib>=0.11 in /opt/conda/lib/python3.9/site-packages (from scikit-learn>=0.20.0->category_encoders) (1.1.0)\n",
      "Requirement already satisfied: packaging>=21.3 in /opt/conda/lib/python3.9/site-packages (from statsmodels>=0.9.0->category_encoders) (21.3)\n",
      "Requirement already satisfied: pyparsing!=3.0.5,>=2.0.2 in /opt/conda/lib/python3.9/site-packages (from packaging>=21.3->statsmodels>=0.9.0->category_encoders) (2.4.7)\n"
     ]
    }
   ],
   "source": [
    "!pip install category_encoders"
   ]
  },
  {
   "cell_type": "code",
   "execution_count": 4,
   "metadata": {},
   "outputs": [],
   "source": [
    "import copy\n",
    "import numpy as np\n",
    "import random\n",
    "\n",
    "import pandas as pd\n",
    "from statsmodels.tsa.seasonal import seasonal_decompose\n",
    "import matplotlib.pyplot as plt\n",
    "\n",
    "from sklearn.model_selection import train_test_split, TimeSeriesSplit\n",
    "from sklearn.preprocessing import StandardScaler\n",
    "from sklearn.preprocessing import OneHotEncoder\n",
    "from sklearn.compose import ColumnTransformer\n",
    "from sklearn.metrics import mean_squared_error\n",
    "\n",
    "from catboost import CatBoostRegressor\n",
    "\n",
    "from pytorch_tabnet.tab_model import TabNetRegressor\n",
    "from pytorch_tabnet.pretraining import TabNetPretrainer\n",
    "\n",
    "import torch\n",
    "from torch.optim.lr_scheduler import CosineAnnealingLR\n",
    "from torch.optim.lr_scheduler import OneCycleLR\n",
    "from torch.optim.lr_scheduler import CyclicLR\n",
    "from pytorch_optimizer import AdaBelief\n",
    "\n",
    "from category_encoders import TargetEncoder\n",
    "\n",
    "\n",
    "SEED = 1234\n",
    "\n",
    "random.seed(SEED)\n",
    "np.random.seed(SEED)\n",
    "torch.manual_seed(SEED)\n",
    "torch.cuda.manual_seed(SEED)\n",
    "torch.backends.cudnn.deterministic = True"
   ]
  },
  {
   "cell_type": "code",
   "execution_count": 5,
   "metadata": {},
   "outputs": [],
   "source": [
    "df = pd.read_csv('/datasets/taxi.csv')"
   ]
  },
  {
   "cell_type": "code",
   "execution_count": 6,
   "metadata": {},
   "outputs": [
    {
     "data": {
      "text/html": [
       "<div>\n",
       "<style scoped>\n",
       "    .dataframe tbody tr th:only-of-type {\n",
       "        vertical-align: middle;\n",
       "    }\n",
       "\n",
       "    .dataframe tbody tr th {\n",
       "        vertical-align: top;\n",
       "    }\n",
       "\n",
       "    .dataframe thead th {\n",
       "        text-align: right;\n",
       "    }\n",
       "</style>\n",
       "<table border=\"1\" class=\"dataframe\">\n",
       "  <thead>\n",
       "    <tr style=\"text-align: right;\">\n",
       "      <th></th>\n",
       "      <th>datetime</th>\n",
       "      <th>num_orders</th>\n",
       "    </tr>\n",
       "  </thead>\n",
       "  <tbody>\n",
       "    <tr>\n",
       "      <th>24382</th>\n",
       "      <td>2018-08-17 07:40:00</td>\n",
       "      <td>13</td>\n",
       "    </tr>\n",
       "    <tr>\n",
       "      <th>17033</th>\n",
       "      <td>2018-06-27 06:50:00</td>\n",
       "      <td>0</td>\n",
       "    </tr>\n",
       "    <tr>\n",
       "      <th>3096</th>\n",
       "      <td>2018-03-22 12:00:00</td>\n",
       "      <td>6</td>\n",
       "    </tr>\n",
       "    <tr>\n",
       "      <th>9205</th>\n",
       "      <td>2018-05-03 22:10:00</td>\n",
       "      <td>9</td>\n",
       "    </tr>\n",
       "    <tr>\n",
       "      <th>11768</th>\n",
       "      <td>2018-05-21 17:20:00</td>\n",
       "      <td>21</td>\n",
       "    </tr>\n",
       "  </tbody>\n",
       "</table>\n",
       "</div>"
      ],
      "text/plain": [
       "                  datetime  num_orders\n",
       "24382  2018-08-17 07:40:00          13\n",
       "17033  2018-06-27 06:50:00           0\n",
       "3096   2018-03-22 12:00:00           6\n",
       "9205   2018-05-03 22:10:00           9\n",
       "11768  2018-05-21 17:20:00          21"
      ]
     },
     "execution_count": 6,
     "metadata": {},
     "output_type": "execute_result"
    }
   ],
   "source": [
    "df.sample(5)"
   ]
  },
  {
   "cell_type": "code",
   "execution_count": 7,
   "metadata": {},
   "outputs": [
    {
     "name": "stdout",
     "output_type": "stream",
     "text": [
      "<class 'pandas.core.frame.DataFrame'>\n",
      "RangeIndex: 26496 entries, 0 to 26495\n",
      "Data columns (total 2 columns):\n",
      " #   Column      Non-Null Count  Dtype \n",
      "---  ------      --------------  ----- \n",
      " 0   datetime    26496 non-null  object\n",
      " 1   num_orders  26496 non-null  int64 \n",
      "dtypes: int64(1), object(1)\n",
      "memory usage: 414.1+ KB\n"
     ]
    }
   ],
   "source": [
    "df.info()"
   ]
  },
  {
   "cell_type": "code",
   "execution_count": 8,
   "metadata": {},
   "outputs": [
    {
     "data": {
      "text/plain": [
       "0"
      ]
     },
     "execution_count": 8,
     "metadata": {},
     "output_type": "execute_result"
    }
   ],
   "source": [
    "df.duplicated().sum()"
   ]
  },
  {
   "cell_type": "code",
   "execution_count": 9,
   "metadata": {},
   "outputs": [
    {
     "data": {
      "text/plain": [
       "datetime      0\n",
       "num_orders    0\n",
       "dtype: int64"
      ]
     },
     "execution_count": 9,
     "metadata": {},
     "output_type": "execute_result"
    }
   ],
   "source": [
    "df.isna().sum()"
   ]
  },
  {
   "cell_type": "markdown",
   "metadata": {},
   "source": [
    "Проблем с пропусками и с дубликатами нет"
   ]
  },
  {
   "cell_type": "code",
   "execution_count": 10,
   "metadata": {},
   "outputs": [],
   "source": [
    "df['datetime'] = df['datetime'].astype('datetime64')"
   ]
  },
  {
   "cell_type": "code",
   "execution_count": 11,
   "metadata": {},
   "outputs": [
    {
     "name": "stdout",
     "output_type": "stream",
     "text": [
      "<class 'pandas.core.frame.DataFrame'>\n",
      "RangeIndex: 26496 entries, 0 to 26495\n",
      "Data columns (total 2 columns):\n",
      " #   Column      Non-Null Count  Dtype         \n",
      "---  ------      --------------  -----         \n",
      " 0   datetime    26496 non-null  datetime64[ns]\n",
      " 1   num_orders  26496 non-null  int64         \n",
      "dtypes: datetime64[ns](1), int64(1)\n",
      "memory usage: 414.1 KB\n"
     ]
    }
   ],
   "source": [
    "df.info()"
   ]
  },
  {
   "cell_type": "markdown",
   "metadata": {},
   "source": [
    "## <a id='toc1_2_'></a>[Анализ](#toc0_)"
   ]
  },
  {
   "cell_type": "code",
   "execution_count": 12,
   "metadata": {},
   "outputs": [],
   "source": [
    "df.set_index('datetime', inplace=True)\n",
    "df.sort_index(inplace=True)\n",
    "df = df.resample('1H').sum()\n",
    "data = df.copy()"
   ]
  },
  {
   "cell_type": "code",
   "execution_count": 13,
   "metadata": {},
   "outputs": [],
   "source": [
    "data['rolling_mean'] = data.rolling(10).mean()"
   ]
  },
  {
   "cell_type": "code",
   "execution_count": 14,
   "metadata": {},
   "outputs": [
    {
     "data": {
      "text/plain": [
       "<AxesSubplot:xlabel='datetime'>"
      ]
     },
     "execution_count": 14,
     "metadata": {},
     "output_type": "execute_result"
    },
    {
     "data": {
      "image/png": "[encoded data removed]",
      "text/plain": [
       "<Figure size 432x288 with 1 Axes>"
      ]
     },
     "metadata": {
      "needs_background": "light"
     },
     "output_type": "display_data"
    }
   ],
   "source": [
    "data.plot()"
   ]
  },
  {
   "cell_type": "code",
   "execution_count": 15,
   "metadata": {},
   "outputs": [],
   "source": [
    "data.dropna(inplace=True)"
   ]
  },
  {
   "cell_type": "code",
   "execution_count": 16,
   "metadata": {},
   "outputs": [],
   "source": [
    "decomposed = seasonal_decompose(data['num_orders'])"
   ]
  },
  {
   "cell_type": "code",
   "execution_count": 17,
   "metadata": {},
   "outputs": [
    {
     "data": {
      "text/plain": [
       "<AxesSubplot:xlabel='datetime'>"
      ]
     },
     "execution_count": 17,
     "metadata": {},
     "output_type": "execute_result"
    },
    {
     "data": {
      "image/png": "[encoded data removed]",
      "text/plain": [
       "<Figure size 432x288 with 1 Axes>"
      ]
     },
     "metadata": {
      "needs_background": "light"
     },
     "output_type": "display_data"
    }
   ],
   "source": [
    "decomposed.trend.plot(ax=plt.gca())"
   ]
  },
  {
   "cell_type": "code",
   "execution_count": 18,
   "metadata": {},
   "outputs": [
    {
     "data": {
      "text/plain": [
       "<AxesSubplot:xlabel='datetime'>"
      ]
     },
     "execution_count": 18,
     "metadata": {},
     "output_type": "execute_result"
    },
    {
     "data": {
      "image/png": "[encoded data removed]",
      "text/plain": [
       "<Figure size 432x288 with 1 Axes>"
      ]
     },
     "metadata": {
      "needs_background": "light"
     },
     "output_type": "display_data"
    }
   ],
   "source": [
    "decomposed.seasonal.plot(ax=plt.gca())"
   ]
  },
  {
   "cell_type": "code",
   "execution_count": 19,
   "metadata": {},
   "outputs": [
    {
     "data": {
      "text/plain": [
       "<AxesSubplot:xlabel='datetime'>"
      ]
     },
     "execution_count": 19,
     "metadata": {},
     "output_type": "execute_result"
    },
    {
     "data": {
      "image/png": "[encoded data removed]",
      "text/plain": [
       "<Figure size 432x288 with 1 Axes>"
      ]
     },
     "metadata": {
      "needs_background": "light"
     },
     "output_type": "display_data"
    }
   ],
   "source": [
    "decomposed.resid.plot(ax=plt.gca())"
   ]
  },
  {
   "cell_type": "markdown",
   "metadata": {},
   "source": [
    "Как видим тренд идет на повышение количества заказов. Сезонность отсутствует."
   ]
  },
  {
   "cell_type": "markdown",
   "metadata": {},
   "source": [
    "Перед началом обучения создадим признаки для нашей модели. "
   ]
  },
  {
   "cell_type": "code",
   "execution_count": 20,
   "metadata": {},
   "outputs": [],
   "source": [
    "def make_features(data, max_lag, rolling_mean_size):\n",
    "    data['hour'] = data.index.hour\n",
    "    data['year'] = data.index.year\n",
    "    data['month'] = data.index.month\n",
    "    data['day'] = data.index.day\n",
    "    data['dayofweek'] = data.index.dayofweek\n",
    "    \n",
    "    for lag in range(1, max_lag + 1):\n",
    "        data['lag_{}'.format(lag)] = data['num_orders'].shift(lag)\n",
    "        \n",
    "    data['rolling_mean'] = data['num_orders'].shift().rolling(rolling_mean_size).mean()"
   ]
  },
  {
   "cell_type": "code",
   "execution_count": 21,
   "metadata": {},
   "outputs": [],
   "source": [
    "make_features(df, 6, 6)"
   ]
  },
  {
   "cell_type": "code",
   "execution_count": 22,
   "metadata": {},
   "outputs": [],
   "source": [
    "df.dropna(inplace=True)"
   ]
  },
  {
   "cell_type": "code",
   "execution_count": 23,
   "metadata": {},
   "outputs": [
    {
     "data": {
      "text/plain": [
       "((4410, 13), (4410, 12), (4410,))"
      ]
     },
     "execution_count": 23,
     "metadata": {},
     "output_type": "execute_result"
    }
   ],
   "source": [
    "y = df['num_orders']\n",
    "X = df.drop('num_orders', axis=1)\n",
    "df.shape, X.shape, y.shape"
   ]
  },
  {
   "cell_type": "code",
   "execution_count": 24,
   "metadata": {},
   "outputs": [
    {
     "data": {
      "text/html": [
       "<div>\n",
       "<style scoped>\n",
       "    .dataframe tbody tr th:only-of-type {\n",
       "        vertical-align: middle;\n",
       "    }\n",
       "\n",
       "    .dataframe tbody tr th {\n",
       "        vertical-align: top;\n",
       "    }\n",
       "\n",
       "    .dataframe thead th {\n",
       "        text-align: right;\n",
       "    }\n",
       "</style>\n",
       "<table border=\"1\" class=\"dataframe\">\n",
       "  <thead>\n",
       "    <tr style=\"text-align: right;\">\n",
       "      <th></th>\n",
       "      <th>hour</th>\n",
       "      <th>year</th>\n",
       "      <th>month</th>\n",
       "      <th>day</th>\n",
       "      <th>dayofweek</th>\n",
       "      <th>lag_1</th>\n",
       "      <th>lag_2</th>\n",
       "      <th>lag_3</th>\n",
       "      <th>lag_4</th>\n",
       "      <th>lag_5</th>\n",
       "      <th>lag_6</th>\n",
       "      <th>rolling_mean</th>\n",
       "    </tr>\n",
       "    <tr>\n",
       "      <th>datetime</th>\n",
       "      <th></th>\n",
       "      <th></th>\n",
       "      <th></th>\n",
       "      <th></th>\n",
       "      <th></th>\n",
       "      <th></th>\n",
       "      <th></th>\n",
       "      <th></th>\n",
       "      <th></th>\n",
       "      <th></th>\n",
       "      <th></th>\n",
       "      <th></th>\n",
       "    </tr>\n",
       "  </thead>\n",
       "  <tbody>\n",
       "    <tr>\n",
       "      <th>2018-05-17 14:00:00</th>\n",
       "      <td>14</td>\n",
       "      <td>2018</td>\n",
       "      <td>5</td>\n",
       "      <td>17</td>\n",
       "      <td>3</td>\n",
       "      <td>63.0</td>\n",
       "      <td>62.0</td>\n",
       "      <td>92.0</td>\n",
       "      <td>92.0</td>\n",
       "      <td>91.0</td>\n",
       "      <td>61.0</td>\n",
       "      <td>76.833333</td>\n",
       "    </tr>\n",
       "    <tr>\n",
       "      <th>2018-07-25 21:00:00</th>\n",
       "      <td>21</td>\n",
       "      <td>2018</td>\n",
       "      <td>7</td>\n",
       "      <td>25</td>\n",
       "      <td>2</td>\n",
       "      <td>111.0</td>\n",
       "      <td>137.0</td>\n",
       "      <td>68.0</td>\n",
       "      <td>121.0</td>\n",
       "      <td>134.0</td>\n",
       "      <td>119.0</td>\n",
       "      <td>115.000000</td>\n",
       "    </tr>\n",
       "  </tbody>\n",
       "</table>\n",
       "</div>"
      ],
      "text/plain": [
       "                     hour  year  month  day  dayofweek  lag_1  lag_2  lag_3  \\\n",
       "datetime                                                                      \n",
       "2018-05-17 14:00:00    14  2018      5   17          3   63.0   62.0   92.0   \n",
       "2018-07-25 21:00:00    21  2018      7   25          2  111.0  137.0   68.0   \n",
       "\n",
       "                     lag_4  lag_5  lag_6  rolling_mean  \n",
       "datetime                                                \n",
       "2018-05-17 14:00:00   92.0   91.0   61.0     76.833333  \n",
       "2018-07-25 21:00:00  121.0  134.0  119.0    115.000000  "
      ]
     },
     "execution_count": 24,
     "metadata": {},
     "output_type": "execute_result"
    }
   ],
   "source": [
    "X.sample(2)"
   ]
  },
  {
   "cell_type": "markdown",
   "metadata": {},
   "source": [
    "C учетом неоднородности трафика по дням недели есть смысл представить dayofweek, как категориальный признак. "
   ]
  },
  {
   "cell_type": "code",
   "execution_count": 25,
   "metadata": {},
   "outputs": [],
   "source": [
    "X['dayofweek'] = X['dayofweek'].astype('str')\n",
    "X['hour'] = X['hour'].astype('str')"
   ]
  },
  {
   "cell_type": "code",
   "execution_count": 26,
   "metadata": {},
   "outputs": [
    {
     "name": "stdout",
     "output_type": "stream",
     "text": [
      "<class 'pandas.core.frame.DataFrame'>\n",
      "DatetimeIndex: 4410 entries, 2018-03-01 06:00:00 to 2018-08-31 23:00:00\n",
      "Freq: H\n",
      "Data columns (total 12 columns):\n",
      " #   Column        Non-Null Count  Dtype  \n",
      "---  ------        --------------  -----  \n",
      " 0   hour          4410 non-null   object \n",
      " 1   year          4410 non-null   int64  \n",
      " 2   month         4410 non-null   int64  \n",
      " 3   day           4410 non-null   int64  \n",
      " 4   dayofweek     4410 non-null   object \n",
      " 5   lag_1         4410 non-null   float64\n",
      " 6   lag_2         4410 non-null   float64\n",
      " 7   lag_3         4410 non-null   float64\n",
      " 8   lag_4         4410 non-null   float64\n",
      " 9   lag_5         4410 non-null   float64\n",
      " 10  lag_6         4410 non-null   float64\n",
      " 11  rolling_mean  4410 non-null   float64\n",
      "dtypes: float64(7), int64(3), object(2)\n",
      "memory usage: 447.9+ KB\n"
     ]
    }
   ],
   "source": [
    "X.info()"
   ]
  },
  {
   "cell_type": "markdown",
   "metadata": {},
   "source": [
    "## <a id='toc1_3_'></a>[Обучение](#toc0_)"
   ]
  },
  {
   "cell_type": "markdown",
   "metadata": {},
   "source": [
    "### <a id='toc1_3_1_'></a>[Catboost](#toc0_)"
   ]
  },
  {
   "cell_type": "code",
   "execution_count": 27,
   "metadata": {},
   "outputs": [],
   "source": [
    "X_train, X_test, y_train, y_test = train_test_split(X, y, test_size=0.1, shuffle=False,\n",
    "                                                    random_state=4)"
   ]
  },
  {
   "cell_type": "code",
   "execution_count": 28,
   "metadata": {},
   "outputs": [
    {
     "data": {
      "text/plain": [
       "((3969, 12), (3969,), (441, 12), (441,))"
      ]
     },
     "execution_count": 28,
     "metadata": {},
     "output_type": "execute_result"
    }
   ],
   "source": [
    "X_train.shape, y_train.shape, X_test.shape, y_test.shape"
   ]
  },
  {
   "cell_type": "code",
   "execution_count": 29,
   "metadata": {
    "scrolled": true
   },
   "outputs": [
    {
     "data": {
      "application/vnd.jupyter.widget-view+json": {
       "model_id": "b8eaa44ef69643c19aec7dfd68f8c75e",
       "version_major": 2,
       "version_minor": 0
      },
      "text/plain": [
       "MetricVisualizer(layout=Layout(align_self='stretch', height='500px'))"
      ]
     },
     "metadata": {},
     "output_type": "display_data"
    },
    {
     "name": "stdout",
     "output_type": "stream",
     "text": [
      "\n",
      "bestTest = 30.29545858\n",
      "bestIteration = 1731\n",
      "\n",
      "\n",
      "bestTest = 30.22464512\n",
      "bestIteration = 9986\n",
      "\n",
      "\n",
      "bestTest = 30.37998059\n",
      "bestIteration = 1505\n",
      "\n",
      "\n",
      "bestTest = 30.410447\n",
      "bestIteration = 9982\n",
      "\n",
      "\n",
      "bestTest = 30.70822154\n",
      "bestIteration = 994\n",
      "\n",
      "\n",
      "bestTest = 30.7625584\n",
      "bestIteration = 9999\n",
      "\n",
      "\n",
      "bestTest = 30.89757854\n",
      "bestIteration = 1262\n",
      "\n",
      "\n",
      "bestTest = 30.77588186\n",
      "bestIteration = 9867\n",
      "\n",
      "Training on fold [0/5]\n",
      "\n",
      "bestTest = 22.51570131\n",
      "bestIteration = 1839\n",
      "\n",
      "Training on fold [1/5]\n",
      "\n",
      "bestTest = 22.76385794\n",
      "bestIteration = 9244\n",
      "\n",
      "Training on fold [2/5]\n",
      "\n",
      "bestTest = 23.47153278\n",
      "bestIteration = 9993\n",
      "\n",
      "Training on fold [3/5]\n",
      "\n",
      "bestTest = 23.82011453\n",
      "bestIteration = 3896\n",
      "\n",
      "Training on fold [4/5]\n",
      "\n",
      "bestTest = 30.36148048\n",
      "bestIteration = 7224\n",
      "\n"
     ]
    }
   ],
   "source": [
    "cat = ['dayofweek', 'hour']\n",
    "\n",
    "ts = TimeSeriesSplit(n_splits=5)\n",
    "\n",
    "model = CatBoostRegressor(iterations=10000, \n",
    "                          cat_features=cat,\n",
    "                          verbose=False, \n",
    "                          eval_metric ='RMSE'\n",
    "                         )\n",
    "\n",
    "param = {'l2_leaf_reg':[0.5, 1], \n",
    "        'depth':[6, 8], \n",
    "         'learning_rate':[0.03, 0.003]\n",
    "       }\n",
    "\n",
    "grid_search = model.grid_search(param,\n",
    "                                X=X_train,\n",
    "                                y=y_train,\n",
    "                                train_size=0.8,\n",
    "                                refit=True,\n",
    "                                cv=ts,\n",
    "                                calc_cv_statistics=True,\n",
    "                                verbose=False,\n",
    "                                plot=True)"
   ]
  },
  {
   "cell_type": "code",
   "execution_count": 44,
   "metadata": {},
   "outputs": [
    {
     "name": "stdout",
     "output_type": "stream",
     "text": [
      "Луший результат: 30.2, со следующими параметрами: {'depth': 6, 'learning_rate': 0.003, 'l2_leaf_reg': 0.5}\n"
     ]
    }
   ],
   "source": [
    "best_param = grid_search['params']\n",
    "print(f'Луший результат: 30.2, со следующими параметрами: {best_param}')"
   ]
  },
  {
   "cell_type": "markdown",
   "metadata": {},
   "source": [
    "### <a id='toc1_3_2_'></a>[ TabNet](#toc0_)"
   ]
  },
  {
   "cell_type": "code",
   "execution_count": 31,
   "metadata": {},
   "outputs": [
    {
     "data": {
      "text/plain": [
       "((3528, 12), (3528,), (441, 12), (441,), (441, 12), (441,))"
      ]
     },
     "execution_count": 31,
     "metadata": {},
     "output_type": "execute_result"
    }
   ],
   "source": [
    "X_train, X_test, y_train, y_test = train_test_split(X, y, test_size=0.2,\n",
    "                                                    shuffle=False)\n",
    "X_val, X_test, y_val, y_test = train_test_split(X_test, y_test, test_size=0.5,\n",
    "                                                shuffle=False)\n",
    "\n",
    "X_train.shape, y_train.shape, X_val.shape, y_val.shape, X_test.shape, y_test.shape"
   ]
  },
  {
   "cell_type": "code",
   "execution_count": 32,
   "metadata": {},
   "outputs": [
    {
     "data": {
      "text/html": [
       "<div>\n",
       "<style scoped>\n",
       "    .dataframe tbody tr th:only-of-type {\n",
       "        vertical-align: middle;\n",
       "    }\n",
       "\n",
       "    .dataframe tbody tr th {\n",
       "        vertical-align: top;\n",
       "    }\n",
       "\n",
       "    .dataframe thead th {\n",
       "        text-align: right;\n",
       "    }\n",
       "</style>\n",
       "<table border=\"1\" class=\"dataframe\">\n",
       "  <thead>\n",
       "    <tr style=\"text-align: right;\">\n",
       "      <th></th>\n",
       "      <th>hour</th>\n",
       "      <th>year</th>\n",
       "      <th>month</th>\n",
       "      <th>day</th>\n",
       "      <th>dayofweek</th>\n",
       "      <th>lag_1</th>\n",
       "      <th>lag_2</th>\n",
       "      <th>lag_3</th>\n",
       "      <th>lag_4</th>\n",
       "      <th>lag_5</th>\n",
       "      <th>lag_6</th>\n",
       "      <th>rolling_mean</th>\n",
       "    </tr>\n",
       "    <tr>\n",
       "      <th>datetime</th>\n",
       "      <th></th>\n",
       "      <th></th>\n",
       "      <th></th>\n",
       "      <th></th>\n",
       "      <th></th>\n",
       "      <th></th>\n",
       "      <th></th>\n",
       "      <th></th>\n",
       "      <th></th>\n",
       "      <th></th>\n",
       "      <th></th>\n",
       "      <th></th>\n",
       "    </tr>\n",
       "  </thead>\n",
       "  <tbody>\n",
       "    <tr>\n",
       "      <th>2018-07-26 03:00:00</th>\n",
       "      <td>3</td>\n",
       "      <td>2018</td>\n",
       "      <td>7</td>\n",
       "      <td>26</td>\n",
       "      <td>3</td>\n",
       "      <td>197.0</td>\n",
       "      <td>73.0</td>\n",
       "      <td>149.0</td>\n",
       "      <td>138.0</td>\n",
       "      <td>84.0</td>\n",
       "      <td>110.0</td>\n",
       "      <td>125.166667</td>\n",
       "    </tr>\n",
       "    <tr>\n",
       "      <th>2018-07-26 04:00:00</th>\n",
       "      <td>4</td>\n",
       "      <td>2018</td>\n",
       "      <td>7</td>\n",
       "      <td>26</td>\n",
       "      <td>3</td>\n",
       "      <td>141.0</td>\n",
       "      <td>197.0</td>\n",
       "      <td>73.0</td>\n",
       "      <td>149.0</td>\n",
       "      <td>138.0</td>\n",
       "      <td>84.0</td>\n",
       "      <td>130.333333</td>\n",
       "    </tr>\n",
       "    <tr>\n",
       "      <th>2018-07-26 05:00:00</th>\n",
       "      <td>5</td>\n",
       "      <td>2018</td>\n",
       "      <td>7</td>\n",
       "      <td>26</td>\n",
       "      <td>3</td>\n",
       "      <td>131.0</td>\n",
       "      <td>141.0</td>\n",
       "      <td>197.0</td>\n",
       "      <td>73.0</td>\n",
       "      <td>149.0</td>\n",
       "      <td>138.0</td>\n",
       "      <td>138.166667</td>\n",
       "    </tr>\n",
       "  </tbody>\n",
       "</table>\n",
       "</div>"
      ],
      "text/plain": [
       "                    hour  year  month  day dayofweek  lag_1  lag_2  lag_3  \\\n",
       "datetime                                                                    \n",
       "2018-07-26 03:00:00    3  2018      7   26         3  197.0   73.0  149.0   \n",
       "2018-07-26 04:00:00    4  2018      7   26         3  141.0  197.0   73.0   \n",
       "2018-07-26 05:00:00    5  2018      7   26         3  131.0  141.0  197.0   \n",
       "\n",
       "                     lag_4  lag_5  lag_6  rolling_mean  \n",
       "datetime                                                \n",
       "2018-07-26 03:00:00  138.0   84.0  110.0    125.166667  \n",
       "2018-07-26 04:00:00  149.0  138.0   84.0    130.333333  \n",
       "2018-07-26 05:00:00   73.0  149.0  138.0    138.166667  "
      ]
     },
     "execution_count": 32,
     "metadata": {},
     "output_type": "execute_result"
    }
   ],
   "source": [
    "X_train.tail(3)"
   ]
  },
  {
   "cell_type": "code",
   "execution_count": 33,
   "metadata": {},
   "outputs": [
    {
     "data": {
      "text/html": [
       "<div>\n",
       "<style scoped>\n",
       "    .dataframe tbody tr th:only-of-type {\n",
       "        vertical-align: middle;\n",
       "    }\n",
       "\n",
       "    .dataframe tbody tr th {\n",
       "        vertical-align: top;\n",
       "    }\n",
       "\n",
       "    .dataframe thead th {\n",
       "        text-align: right;\n",
       "    }\n",
       "</style>\n",
       "<table border=\"1\" class=\"dataframe\">\n",
       "  <thead>\n",
       "    <tr style=\"text-align: right;\">\n",
       "      <th></th>\n",
       "      <th>hour</th>\n",
       "      <th>year</th>\n",
       "      <th>month</th>\n",
       "      <th>day</th>\n",
       "      <th>dayofweek</th>\n",
       "      <th>lag_1</th>\n",
       "      <th>lag_2</th>\n",
       "      <th>lag_3</th>\n",
       "      <th>lag_4</th>\n",
       "      <th>lag_5</th>\n",
       "      <th>lag_6</th>\n",
       "      <th>rolling_mean</th>\n",
       "    </tr>\n",
       "    <tr>\n",
       "      <th>datetime</th>\n",
       "      <th></th>\n",
       "      <th></th>\n",
       "      <th></th>\n",
       "      <th></th>\n",
       "      <th></th>\n",
       "      <th></th>\n",
       "      <th></th>\n",
       "      <th></th>\n",
       "      <th></th>\n",
       "      <th></th>\n",
       "      <th></th>\n",
       "      <th></th>\n",
       "    </tr>\n",
       "  </thead>\n",
       "  <tbody>\n",
       "    <tr>\n",
       "      <th>2018-08-13 12:00:00</th>\n",
       "      <td>12</td>\n",
       "      <td>2018</td>\n",
       "      <td>8</td>\n",
       "      <td>13</td>\n",
       "      <td>0</td>\n",
       "      <td>144.0</td>\n",
       "      <td>156.0</td>\n",
       "      <td>137.0</td>\n",
       "      <td>91.0</td>\n",
       "      <td>39.0</td>\n",
       "      <td>66.0</td>\n",
       "      <td>105.500000</td>\n",
       "    </tr>\n",
       "    <tr>\n",
       "      <th>2018-08-13 13:00:00</th>\n",
       "      <td>13</td>\n",
       "      <td>2018</td>\n",
       "      <td>8</td>\n",
       "      <td>13</td>\n",
       "      <td>0</td>\n",
       "      <td>92.0</td>\n",
       "      <td>144.0</td>\n",
       "      <td>156.0</td>\n",
       "      <td>137.0</td>\n",
       "      <td>91.0</td>\n",
       "      <td>39.0</td>\n",
       "      <td>109.833333</td>\n",
       "    </tr>\n",
       "    <tr>\n",
       "      <th>2018-08-13 14:00:00</th>\n",
       "      <td>14</td>\n",
       "      <td>2018</td>\n",
       "      <td>8</td>\n",
       "      <td>13</td>\n",
       "      <td>0</td>\n",
       "      <td>119.0</td>\n",
       "      <td>92.0</td>\n",
       "      <td>144.0</td>\n",
       "      <td>156.0</td>\n",
       "      <td>137.0</td>\n",
       "      <td>91.0</td>\n",
       "      <td>123.166667</td>\n",
       "    </tr>\n",
       "  </tbody>\n",
       "</table>\n",
       "</div>"
      ],
      "text/plain": [
       "                    hour  year  month  day dayofweek  lag_1  lag_2  lag_3  \\\n",
       "datetime                                                                    \n",
       "2018-08-13 12:00:00   12  2018      8   13         0  144.0  156.0  137.0   \n",
       "2018-08-13 13:00:00   13  2018      8   13         0   92.0  144.0  156.0   \n",
       "2018-08-13 14:00:00   14  2018      8   13         0  119.0   92.0  144.0   \n",
       "\n",
       "                     lag_4  lag_5  lag_6  rolling_mean  \n",
       "datetime                                                \n",
       "2018-08-13 12:00:00   91.0   39.0   66.0    105.500000  \n",
       "2018-08-13 13:00:00  137.0   91.0   39.0    109.833333  \n",
       "2018-08-13 14:00:00  156.0  137.0   91.0    123.166667  "
      ]
     },
     "execution_count": 33,
     "metadata": {},
     "output_type": "execute_result"
    }
   ],
   "source": [
    "X_val.tail(3)"
   ]
  },
  {
   "cell_type": "code",
   "execution_count": 34,
   "metadata": {},
   "outputs": [
    {
     "data": {
      "text/html": [
       "<div>\n",
       "<style scoped>\n",
       "    .dataframe tbody tr th:only-of-type {\n",
       "        vertical-align: middle;\n",
       "    }\n",
       "\n",
       "    .dataframe tbody tr th {\n",
       "        vertical-align: top;\n",
       "    }\n",
       "\n",
       "    .dataframe thead th {\n",
       "        text-align: right;\n",
       "    }\n",
       "</style>\n",
       "<table border=\"1\" class=\"dataframe\">\n",
       "  <thead>\n",
       "    <tr style=\"text-align: right;\">\n",
       "      <th></th>\n",
       "      <th>hour</th>\n",
       "      <th>year</th>\n",
       "      <th>month</th>\n",
       "      <th>day</th>\n",
       "      <th>dayofweek</th>\n",
       "      <th>lag_1</th>\n",
       "      <th>lag_2</th>\n",
       "      <th>lag_3</th>\n",
       "      <th>lag_4</th>\n",
       "      <th>lag_5</th>\n",
       "      <th>lag_6</th>\n",
       "      <th>rolling_mean</th>\n",
       "    </tr>\n",
       "    <tr>\n",
       "      <th>datetime</th>\n",
       "      <th></th>\n",
       "      <th></th>\n",
       "      <th></th>\n",
       "      <th></th>\n",
       "      <th></th>\n",
       "      <th></th>\n",
       "      <th></th>\n",
       "      <th></th>\n",
       "      <th></th>\n",
       "      <th></th>\n",
       "      <th></th>\n",
       "      <th></th>\n",
       "    </tr>\n",
       "  </thead>\n",
       "  <tbody>\n",
       "    <tr>\n",
       "      <th>2018-08-31 21:00:00</th>\n",
       "      <td>21</td>\n",
       "      <td>2018</td>\n",
       "      <td>8</td>\n",
       "      <td>31</td>\n",
       "      <td>4</td>\n",
       "      <td>154.0</td>\n",
       "      <td>136.0</td>\n",
       "      <td>207.0</td>\n",
       "      <td>217.0</td>\n",
       "      <td>197.0</td>\n",
       "      <td>116.0</td>\n",
       "      <td>171.166667</td>\n",
       "    </tr>\n",
       "    <tr>\n",
       "      <th>2018-08-31 22:00:00</th>\n",
       "      <td>22</td>\n",
       "      <td>2018</td>\n",
       "      <td>8</td>\n",
       "      <td>31</td>\n",
       "      <td>4</td>\n",
       "      <td>159.0</td>\n",
       "      <td>154.0</td>\n",
       "      <td>136.0</td>\n",
       "      <td>207.0</td>\n",
       "      <td>217.0</td>\n",
       "      <td>197.0</td>\n",
       "      <td>178.333333</td>\n",
       "    </tr>\n",
       "    <tr>\n",
       "      <th>2018-08-31 23:00:00</th>\n",
       "      <td>23</td>\n",
       "      <td>2018</td>\n",
       "      <td>8</td>\n",
       "      <td>31</td>\n",
       "      <td>4</td>\n",
       "      <td>223.0</td>\n",
       "      <td>159.0</td>\n",
       "      <td>154.0</td>\n",
       "      <td>136.0</td>\n",
       "      <td>207.0</td>\n",
       "      <td>217.0</td>\n",
       "      <td>182.666667</td>\n",
       "    </tr>\n",
       "  </tbody>\n",
       "</table>\n",
       "</div>"
      ],
      "text/plain": [
       "                    hour  year  month  day dayofweek  lag_1  lag_2  lag_3  \\\n",
       "datetime                                                                    \n",
       "2018-08-31 21:00:00   21  2018      8   31         4  154.0  136.0  207.0   \n",
       "2018-08-31 22:00:00   22  2018      8   31         4  159.0  154.0  136.0   \n",
       "2018-08-31 23:00:00   23  2018      8   31         4  223.0  159.0  154.0   \n",
       "\n",
       "                     lag_4  lag_5  lag_6  rolling_mean  \n",
       "datetime                                                \n",
       "2018-08-31 21:00:00  217.0  197.0  116.0    171.166667  \n",
       "2018-08-31 22:00:00  207.0  217.0  197.0    178.333333  \n",
       "2018-08-31 23:00:00  136.0  207.0  217.0    182.666667  "
      ]
     },
     "execution_count": 34,
     "metadata": {},
     "output_type": "execute_result"
    }
   ],
   "source": [
    "X_test.tail(3)"
   ]
  },
  {
   "cell_type": "code",
   "execution_count": 35,
   "metadata": {},
   "outputs": [
    {
     "data": {
      "text/plain": [
       "Index(['hour', 'year', 'month', 'day', 'dayofweek', 'lag_1', 'lag_2', 'lag_3',\n",
       "       'lag_4', 'lag_5', 'lag_6', 'rolling_mean'],\n",
       "      dtype='object')"
      ]
     },
     "execution_count": 35,
     "metadata": {},
     "output_type": "execute_result"
    }
   ],
   "source": [
    "X_train.columns"
   ]
  },
  {
   "cell_type": "code",
   "execution_count": 36,
   "metadata": {},
   "outputs": [],
   "source": [
    "cat = ['dayofweek', 'hour']\n",
    "num = ['year', 'month', 'day', 'lag_1', 'lag_2',\n",
    "    'lag_3', 'lag_4', 'rolling_mean']\n",
    "\n",
    "col_transformer_scl = ColumnTransformer(\n",
    "                    transformers=[\n",
    "                        ('scal', StandardScaler(), num),\n",
    "                        ('ohe', TargetEncoder(), cat)\n",
    "                    ],\n",
    "                    remainder='drop',\n",
    "                    n_jobs=-1\n",
    "                    )\n"
   ]
  },
  {
   "cell_type": "code",
   "execution_count": 37,
   "metadata": {},
   "outputs": [],
   "source": [
    "X_train_pre = col_transformer_scl.fit_transform(X_train, y=y_train)\n",
    "X_val_pre = col_transformer_scl.transform(X_val)\n",
    "X_test_pre = col_transformer_scl.transform(X_test)"
   ]
  },
  {
   "cell_type": "code",
   "execution_count": 38,
   "metadata": {},
   "outputs": [
    {
     "data": {
      "text/plain": [
       "((3528, 10), (441, 10), (441, 10))"
      ]
     },
     "execution_count": 38,
     "metadata": {},
     "output_type": "execute_result"
    }
   ],
   "source": [
    "X_train_pre.shape, X_val_pre.shape, X_test_pre.shape"
   ]
  },
  {
   "cell_type": "code",
   "execution_count": 39,
   "metadata": {},
   "outputs": [
    {
     "name": "stderr",
     "output_type": "stream",
     "text": [
      "/opt/conda/lib/python3.9/site-packages/pytorch_tabnet/abstract_model.py:75: UserWarning: Device used : cpu\n",
      "  warnings.warn(f\"Device used : {self.device}\")\n"
     ]
    },
    {
     "name": "stdout",
     "output_type": "stream",
     "text": [
      "epoch 0  | loss: 43.67276| val_0_unsup_loss_numpy: 272.4197998046875|  0:00:01s\n",
      "epoch 20 | loss: 32.10573| val_0_unsup_loss_numpy: 43.20600128173828|  0:00:32s\n",
      "epoch 40 | loss: 1.79736 | val_0_unsup_loss_numpy: 32.33143997192383|  0:01:03s\n",
      "epoch 60 | loss: 0.97763 | val_0_unsup_loss_numpy: 15.244990348815918|  0:01:35s\n",
      "epoch 80 | loss: 0.79193 | val_0_unsup_loss_numpy: 12.285880088806152|  0:02:11s\n",
      "epoch 100| loss: 0.73404 | val_0_unsup_loss_numpy: 8.926039695739746|  0:02:44s\n",
      "epoch 120| loss: 0.71849 | val_0_unsup_loss_numpy: 7.214260101318359|  0:03:18s\n",
      "\n",
      "Early stopping occurred at epoch 133 with best_epoch = 123 and best_val_0_unsup_loss_numpy = 6.6947197914123535\n"
     ]
    },
    {
     "name": "stderr",
     "output_type": "stream",
     "text": [
      "/opt/conda/lib/python3.9/site-packages/pytorch_tabnet/callbacks.py:172: UserWarning: Best weights from best epoch are automatically used!\n",
      "  warnings.warn(wrn_msg)\n"
     ]
    }
   ],
   "source": [
    "unsupervised_model = TabNetPretrainer(  \n",
    "    n_shared_decoder=1,\n",
    "    n_indep_decoder=1,\n",
    "    verbose=20,    \n",
    "    optimizer_fn=AdaBelief,\n",
    "    optimizer_params=dict(lr=1e-3),\n",
    "    mask_type='entmax'    \n",
    ")\n",
    "\n",
    "unsupervised_model.fit(\n",
    "    X_train=X_train_pre,\n",
    "    eval_set=[X_val_pre],\n",
    "    max_epochs=300 ,\n",
    "    batch_size=200, virtual_batch_size=128,\n",
    "    num_workers=0,\n",
    "    pretraining_ratio=0.5, \n",
    ")"
   ]
  },
  {
   "cell_type": "code",
   "execution_count": 40,
   "metadata": {},
   "outputs": [
    {
     "name": "stderr",
     "output_type": "stream",
     "text": [
      "/opt/conda/lib/python3.9/site-packages/pytorch_tabnet/abstract_model.py:75: UserWarning: Device used : cpu\n",
      "  warnings.warn(f\"Device used : {self.device}\")\n",
      "/opt/conda/lib/python3.9/site-packages/pytorch_tabnet/abstract_model.py:231: UserWarning: Loading weights from unsupervised pretraining\n",
      "  warnings.warn(\"Loading weights from unsupervised pretraining\")\n"
     ]
    },
    {
     "name": "stdout",
     "output_type": "stream",
     "text": [
      "epoch 0  | loss: 6276.41856| train_rmse: 74.96027| valid_rmse: 106.55889|  0:00:01s\n",
      "epoch 20 | loss: 462.92178| train_rmse: 21.1242 | valid_rmse: 33.32997|  0:00:43s\n",
      "epoch 40 | loss: 449.14415| train_rmse: 20.65973| valid_rmse: 33.65521|  0:01:25s\n",
      "\n",
      "Early stopping occurred at epoch 42 with best_epoch = 12 and best_valid_rmse = 32.77984\n"
     ]
    },
    {
     "name": "stderr",
     "output_type": "stream",
     "text": [
      "/opt/conda/lib/python3.9/site-packages/pytorch_tabnet/callbacks.py:172: UserWarning: Best weights from best epoch are automatically used!\n",
      "  warnings.warn(wrn_msg)\n"
     ]
    },
    {
     "name": "stdout",
     "output_type": "stream",
     "text": [
      "32.779837768908635 entmax 0.5\n"
     ]
    },
    {
     "name": "stderr",
     "output_type": "stream",
     "text": [
      "/opt/conda/lib/python3.9/site-packages/pytorch_tabnet/abstract_model.py:75: UserWarning: Device used : cpu\n",
      "  warnings.warn(f\"Device used : {self.device}\")\n",
      "/opt/conda/lib/python3.9/site-packages/pytorch_tabnet/abstract_model.py:231: UserWarning: Loading weights from unsupervised pretraining\n",
      "  warnings.warn(\"Loading weights from unsupervised pretraining\")\n"
     ]
    },
    {
     "name": "stdout",
     "output_type": "stream",
     "text": [
      "epoch 0  | loss: 6276.41856| train_rmse: 74.96027| valid_rmse: 106.55889|  0:00:02s\n",
      "epoch 20 | loss: 449.42837| train_rmse: 20.82577| valid_rmse: 33.38991|  0:00:43s\n",
      "epoch 40 | loss: 423.51236| train_rmse: 20.00597| valid_rmse: 35.11633|  0:01:24s\n",
      "\n",
      "Early stopping occurred at epoch 43 with best_epoch = 13 and best_valid_rmse = 32.62835\n"
     ]
    },
    {
     "name": "stderr",
     "output_type": "stream",
     "text": [
      "/opt/conda/lib/python3.9/site-packages/pytorch_tabnet/callbacks.py:172: UserWarning: Best weights from best epoch are automatically used!\n",
      "  warnings.warn(wrn_msg)\n"
     ]
    },
    {
     "name": "stdout",
     "output_type": "stream",
     "text": [
      "32.628354038645725 entmax 0.7\n"
     ]
    },
    {
     "name": "stderr",
     "output_type": "stream",
     "text": [
      "/opt/conda/lib/python3.9/site-packages/pytorch_tabnet/abstract_model.py:75: UserWarning: Device used : cpu\n",
      "  warnings.warn(f\"Device used : {self.device}\")\n",
      "/opt/conda/lib/python3.9/site-packages/pytorch_tabnet/abstract_model.py:231: UserWarning: Loading weights from unsupervised pretraining\n",
      "  warnings.warn(\"Loading weights from unsupervised pretraining\")\n"
     ]
    },
    {
     "name": "stdout",
     "output_type": "stream",
     "text": [
      "epoch 0  | loss: 6276.41856| train_rmse: 74.96027| valid_rmse: 106.55889|  0:00:01s\n",
      "epoch 20 | loss: 446.82455| train_rmse: 20.699  | valid_rmse: 33.65563|  0:00:42s\n",
      "epoch 40 | loss: 413.27103| train_rmse: 19.70082| valid_rmse: 35.29649|  0:01:23s\n",
      "\n",
      "Early stopping occurred at epoch 45 with best_epoch = 15 and best_valid_rmse = 32.77804\n"
     ]
    },
    {
     "name": "stderr",
     "output_type": "stream",
     "text": [
      "/opt/conda/lib/python3.9/site-packages/pytorch_tabnet/callbacks.py:172: UserWarning: Best weights from best epoch are automatically used!\n",
      "  warnings.warn(wrn_msg)\n"
     ]
    },
    {
     "name": "stdout",
     "output_type": "stream",
     "text": [
      "32.77803536223076 entmax 0.8\n"
     ]
    },
    {
     "name": "stderr",
     "output_type": "stream",
     "text": [
      "/opt/conda/lib/python3.9/site-packages/pytorch_tabnet/abstract_model.py:75: UserWarning: Device used : cpu\n",
      "  warnings.warn(f\"Device used : {self.device}\")\n",
      "/opt/conda/lib/python3.9/site-packages/pytorch_tabnet/abstract_model.py:231: UserWarning: Loading weights from unsupervised pretraining\n",
      "  warnings.warn(\"Loading weights from unsupervised pretraining\")\n"
     ]
    },
    {
     "name": "stdout",
     "output_type": "stream",
     "text": [
      "epoch 0  | loss: 6276.41856| train_rmse: 74.96027| valid_rmse: 106.55889|  0:00:02s\n",
      "epoch 20 | loss: 450.04835| train_rmse: 20.72732| valid_rmse: 32.60509|  0:00:42s\n",
      "epoch 40 | loss: 411.18839| train_rmse: 19.4057 | valid_rmse: 31.65423|  0:01:21s\n",
      "\n",
      "Early stopping occurred at epoch 59 with best_epoch = 29 and best_valid_rmse = 31.19715\n"
     ]
    },
    {
     "name": "stderr",
     "output_type": "stream",
     "text": [
      "/opt/conda/lib/python3.9/site-packages/pytorch_tabnet/callbacks.py:172: UserWarning: Best weights from best epoch are automatically used!\n",
      "  warnings.warn(wrn_msg)\n"
     ]
    },
    {
     "name": "stdout",
     "output_type": "stream",
     "text": [
      "31.19715298995871 entmax 0.9\n"
     ]
    },
    {
     "name": "stderr",
     "output_type": "stream",
     "text": [
      "/opt/conda/lib/python3.9/site-packages/pytorch_tabnet/abstract_model.py:75: UserWarning: Device used : cpu\n",
      "  warnings.warn(f\"Device used : {self.device}\")\n",
      "/opt/conda/lib/python3.9/site-packages/pytorch_tabnet/abstract_model.py:105: UserWarning: Pretraining: mask_type changed from sparsemax to entmax\n",
      "  warnings.warn(wrn_msg)\n",
      "/opt/conda/lib/python3.9/site-packages/pytorch_tabnet/abstract_model.py:231: UserWarning: Loading weights from unsupervised pretraining\n",
      "  warnings.warn(\"Loading weights from unsupervised pretraining\")\n"
     ]
    },
    {
     "name": "stdout",
     "output_type": "stream",
     "text": [
      "epoch 0  | loss: 6276.41856| train_rmse: 74.96027| valid_rmse: 106.55889|  0:00:01s\n",
      "epoch 20 | loss: 462.92178| train_rmse: 21.1242 | valid_rmse: 33.32997|  0:00:48s\n",
      "epoch 40 | loss: 449.14415| train_rmse: 20.65973| valid_rmse: 33.65521|  0:01:42s\n",
      "\n",
      "Early stopping occurred at epoch 42 with best_epoch = 12 and best_valid_rmse = 32.77984\n"
     ]
    },
    {
     "name": "stderr",
     "output_type": "stream",
     "text": [
      "/opt/conda/lib/python3.9/site-packages/pytorch_tabnet/callbacks.py:172: UserWarning: Best weights from best epoch are automatically used!\n",
      "  warnings.warn(wrn_msg)\n"
     ]
    },
    {
     "name": "stdout",
     "output_type": "stream",
     "text": [
      "32.779837768908635 sparsemax 0.5\n"
     ]
    },
    {
     "name": "stderr",
     "output_type": "stream",
     "text": [
      "/opt/conda/lib/python3.9/site-packages/pytorch_tabnet/abstract_model.py:75: UserWarning: Device used : cpu\n",
      "  warnings.warn(f\"Device used : {self.device}\")\n",
      "/opt/conda/lib/python3.9/site-packages/pytorch_tabnet/abstract_model.py:105: UserWarning: Pretraining: mask_type changed from sparsemax to entmax\n",
      "  warnings.warn(wrn_msg)\n",
      "/opt/conda/lib/python3.9/site-packages/pytorch_tabnet/abstract_model.py:231: UserWarning: Loading weights from unsupervised pretraining\n",
      "  warnings.warn(\"Loading weights from unsupervised pretraining\")\n"
     ]
    },
    {
     "name": "stdout",
     "output_type": "stream",
     "text": [
      "epoch 0  | loss: 6276.41856| train_rmse: 74.96027| valid_rmse: 106.55889|  0:00:02s\n",
      "epoch 20 | loss: 449.42837| train_rmse: 20.82577| valid_rmse: 33.38991|  0:00:54s\n",
      "epoch 40 | loss: 423.51236| train_rmse: 20.00597| valid_rmse: 35.11633|  0:01:49s\n",
      "\n",
      "Early stopping occurred at epoch 43 with best_epoch = 13 and best_valid_rmse = 32.62835\n"
     ]
    },
    {
     "name": "stderr",
     "output_type": "stream",
     "text": [
      "/opt/conda/lib/python3.9/site-packages/pytorch_tabnet/callbacks.py:172: UserWarning: Best weights from best epoch are automatically used!\n",
      "  warnings.warn(wrn_msg)\n"
     ]
    },
    {
     "name": "stdout",
     "output_type": "stream",
     "text": [
      "32.628354038645725 sparsemax 0.7\n"
     ]
    },
    {
     "name": "stderr",
     "output_type": "stream",
     "text": [
      "/opt/conda/lib/python3.9/site-packages/pytorch_tabnet/abstract_model.py:75: UserWarning: Device used : cpu\n",
      "  warnings.warn(f\"Device used : {self.device}\")\n",
      "/opt/conda/lib/python3.9/site-packages/pytorch_tabnet/abstract_model.py:105: UserWarning: Pretraining: mask_type changed from sparsemax to entmax\n",
      "  warnings.warn(wrn_msg)\n",
      "/opt/conda/lib/python3.9/site-packages/pytorch_tabnet/abstract_model.py:231: UserWarning: Loading weights from unsupervised pretraining\n",
      "  warnings.warn(\"Loading weights from unsupervised pretraining\")\n"
     ]
    },
    {
     "name": "stdout",
     "output_type": "stream",
     "text": [
      "epoch 0  | loss: 6276.41856| train_rmse: 74.96027| valid_rmse: 106.55889|  0:00:02s\n",
      "epoch 20 | loss: 446.82455| train_rmse: 20.699  | valid_rmse: 33.65563|  0:01:00s\n",
      "epoch 40 | loss: 413.27103| train_rmse: 19.70082| valid_rmse: 35.29649|  0:02:26s\n",
      "\n",
      "Early stopping occurred at epoch 45 with best_epoch = 15 and best_valid_rmse = 32.77804\n"
     ]
    },
    {
     "name": "stderr",
     "output_type": "stream",
     "text": [
      "/opt/conda/lib/python3.9/site-packages/pytorch_tabnet/callbacks.py:172: UserWarning: Best weights from best epoch are automatically used!\n",
      "  warnings.warn(wrn_msg)\n"
     ]
    },
    {
     "name": "stdout",
     "output_type": "stream",
     "text": [
      "32.77803536223076 sparsemax 0.8\n"
     ]
    },
    {
     "name": "stderr",
     "output_type": "stream",
     "text": [
      "/opt/conda/lib/python3.9/site-packages/pytorch_tabnet/abstract_model.py:75: UserWarning: Device used : cpu\n",
      "  warnings.warn(f\"Device used : {self.device}\")\n",
      "/opt/conda/lib/python3.9/site-packages/pytorch_tabnet/abstract_model.py:105: UserWarning: Pretraining: mask_type changed from sparsemax to entmax\n",
      "  warnings.warn(wrn_msg)\n",
      "/opt/conda/lib/python3.9/site-packages/pytorch_tabnet/abstract_model.py:231: UserWarning: Loading weights from unsupervised pretraining\n",
      "  warnings.warn(\"Loading weights from unsupervised pretraining\")\n"
     ]
    },
    {
     "name": "stdout",
     "output_type": "stream",
     "text": [
      "epoch 0  | loss: 6276.41856| train_rmse: 74.96027| valid_rmse: 106.55889|  0:00:03s\n",
      "epoch 20 | loss: 450.04835| train_rmse: 20.72732| valid_rmse: 32.60509|  0:01:18s\n",
      "epoch 40 | loss: 411.18839| train_rmse: 19.4057 | valid_rmse: 31.65423|  0:02:25s\n",
      "\n",
      "Early stopping occurred at epoch 59 with best_epoch = 29 and best_valid_rmse = 31.19715\n"
     ]
    },
    {
     "name": "stderr",
     "output_type": "stream",
     "text": [
      "/opt/conda/lib/python3.9/site-packages/pytorch_tabnet/callbacks.py:172: UserWarning: Best weights from best epoch are automatically used!\n",
      "  warnings.warn(wrn_msg)\n"
     ]
    },
    {
     "name": "stdout",
     "output_type": "stream",
     "text": [
      "31.19715298995871 sparsemax 0.9\n",
      "Лучшая метрика: 31.19715298995871\n",
      "Лучшие гиперпараметры: ('entmax', 0.9)\n"
     ]
    }
   ],
   "source": [
    "best_metric = float('inf')\n",
    "best_model_net = None\n",
    "for mask_type in ['entmax', 'sparsemax']:\n",
    "        for gamma in [0.5, 0.7, 0.8, 0.9]:\n",
    "            model_tab = TabNetRegressor(\n",
    "                optimizer_fn=AdaBelief,\n",
    "                optimizer_params=dict(lr=2e-2),\n",
    "                scheduler_params={\"step_size\":5,\n",
    "                                  \"gamma\":gamma},\n",
    "                scheduler_fn=torch.optim.lr_scheduler.StepLR,\n",
    "                mask_type=mask_type, \n",
    "                verbose = 20\n",
    "            )\n",
    "\n",
    "            model_tab.fit(\n",
    "                X_train=X_train_pre, y_train=np.array(y_train).reshape(-1, 1),\n",
    "                eval_set=[(X_train_pre, np.array(y_train).reshape(-1, 1)), (X_val_pre, np.array(y_val).reshape(-1, 1))],\n",
    "                eval_name=['train', 'valid'],\n",
    "                eval_metric=['rmse'],\n",
    "                max_epochs=200 , patience=30,\n",
    "                batch_size=200, virtual_batch_size=128,\n",
    "                num_workers=0,\n",
    "                drop_last=False,\n",
    "                from_unsupervised=unsupervised_model, \n",
    "\n",
    "            ) \n",
    "\n",
    "            predict = model_tab.predict(X_val_pre)\n",
    "            metric = mean_squared_error(y_val, predict, squared=False)\n",
    "            print(metric, mask_type, gamma)\n",
    "            if metric < best_metric:\n",
    "                best_metric = metric\n",
    "                best_model_net = copy.deepcopy(model_tab)\n",
    "                best_param = (mask_type, gamma)\n",
    "print('Лучшая метрика:', best_metric)\n",
    "print('Лучшие гиперпараметры:', best_param)"
   ]
  },
  {
   "cell_type": "code",
   "execution_count": 45,
   "metadata": {},
   "outputs": [
    {
     "data": {
      "text/html": [
       "<div>\n",
       "<style scoped>\n",
       "    .dataframe tbody tr th:only-of-type {\n",
       "        vertical-align: middle;\n",
       "    }\n",
       "\n",
       "    .dataframe tbody tr th {\n",
       "        vertical-align: top;\n",
       "    }\n",
       "\n",
       "    .dataframe thead th {\n",
       "        text-align: right;\n",
       "    }\n",
       "</style>\n",
       "<table border=\"1\" class=\"dataframe\">\n",
       "  <thead>\n",
       "    <tr style=\"text-align: right;\">\n",
       "      <th></th>\n",
       "      <th>model</th>\n",
       "      <th>RMSE</th>\n",
       "    </tr>\n",
       "  </thead>\n",
       "  <tbody>\n",
       "    <tr>\n",
       "      <th>0</th>\n",
       "      <td>Catboost</td>\n",
       "      <td>30.20</td>\n",
       "    </tr>\n",
       "    <tr>\n",
       "      <th>1</th>\n",
       "      <td>TabNet</td>\n",
       "      <td>31.19</td>\n",
       "    </tr>\n",
       "  </tbody>\n",
       "</table>\n",
       "</div>"
      ],
      "text/plain": [
       "      model   RMSE\n",
       "0  Catboost  30.20\n",
       "1    TabNet  31.19"
      ]
     },
     "execution_count": 45,
     "metadata": {},
     "output_type": "execute_result"
    }
   ],
   "source": [
    "pd.DataFrame({'model':['Catboost', 'TabNet'], 'RMSE':[30.2 , 31.19]})"
   ]
  },
  {
   "cell_type": "markdown",
   "metadata": {},
   "source": [
    "На валидационных данных лучше всего себя показала модель Catboost с RMSE 30.2."
   ]
  },
  {
   "cell_type": "markdown",
   "metadata": {},
   "source": [
    "## <a id='toc1_4_'></a>[Тестирование](#toc0_)"
   ]
  },
  {
   "cell_type": "code",
   "execution_count": 46,
   "metadata": {},
   "outputs": [
    {
     "data": {
      "text/plain": [
       "39.35338685303478"
      ]
     },
     "execution_count": 46,
     "metadata": {},
     "output_type": "execute_result"
    }
   ],
   "source": [
    "predict = model.predict(X_test)\n",
    "metric = mean_squared_error(y_test, predict, squared=False)\n",
    "metric"
   ]
  },
  {
   "cell_type": "markdown",
   "metadata": {},
   "source": [
    "Значение на тестовой выборке 39.35."
   ]
  },
  {
   "cell_type": "markdown",
   "metadata": {},
   "source": [
    "## <a id='toc1_5_'></a>[Вывод](#toc0_)"
   ]
  },
  {
   "cell_type": "markdown",
   "metadata": {},
   "source": [
    "По результатам анализа работы моделей выбрана модель Catboost, значение RMSE на тестовой выборки данной модели составляет 39.35.\n",
    "\n",
    "Также анализ данных показал, что имеется тренд на увеличения заказов в час. "
   ]
  }
 ],
 "metadata": {
  "ExecuteTimeLog": [
   {
    "duration": 507,
    "start_time": "2023-04-03T02:30:34.326Z"
   },
   {
    "duration": 128,
    "start_time": "2023-04-03T02:31:30.287Z"
   },
   {
    "duration": 14,
    "start_time": "2023-04-03T02:31:43.879Z"
   },
   {
    "duration": 14,
    "start_time": "2023-04-03T02:32:22.095Z"
   },
   {
    "duration": 7,
    "start_time": "2023-04-03T02:32:29.575Z"
   },
   {
    "duration": 11,
    "start_time": "2023-04-03T02:34:51.425Z"
   },
   {
    "duration": 59,
    "start_time": "2023-04-03T02:36:39.815Z"
   },
   {
    "duration": 13,
    "start_time": "2023-04-03T02:36:57.302Z"
   },
   {
    "duration": 9,
    "start_time": "2023-04-03T02:37:17.801Z"
   },
   {
    "duration": 8,
    "start_time": "2023-04-03T02:37:30.265Z"
   },
   {
    "duration": 4,
    "start_time": "2023-04-03T02:38:09.643Z"
   },
   {
    "duration": 9,
    "start_time": "2023-04-03T02:38:14.057Z"
   },
   {
    "duration": 14,
    "start_time": "2023-04-03T02:41:20.203Z"
   },
   {
    "duration": 12,
    "start_time": "2023-04-03T02:41:38.910Z"
   },
   {
    "duration": 12,
    "start_time": "2023-04-03T02:42:16.021Z"
   },
   {
    "duration": 9,
    "start_time": "2023-04-03T02:42:34.021Z"
   },
   {
    "duration": 9,
    "start_time": "2023-04-03T02:43:32.904Z"
   },
   {
    "duration": 11,
    "start_time": "2023-04-03T02:43:37.374Z"
   },
   {
    "duration": 3,
    "start_time": "2023-04-03T02:44:32.499Z"
   },
   {
    "duration": 6,
    "start_time": "2023-04-03T02:44:32.976Z"
   },
   {
    "duration": 6,
    "start_time": "2023-04-03T02:44:41.937Z"
   },
   {
    "duration": 634,
    "start_time": "2023-04-03T02:44:42.305Z"
   },
   {
    "duration": 11,
    "start_time": "2023-04-03T02:46:03.384Z"
   },
   {
    "duration": 238,
    "start_time": "2023-04-03T02:46:15.741Z"
   },
   {
    "duration": 18,
    "start_time": "2023-04-03T02:47:15.056Z"
   },
   {
    "duration": 485,
    "start_time": "2023-04-03T02:47:24.886Z"
   },
   {
    "duration": 35,
    "start_time": "2023-04-03T02:47:28.803Z"
   },
   {
    "duration": 11,
    "start_time": "2023-04-03T02:47:46.468Z"
   },
   {
    "duration": 8,
    "start_time": "2023-04-03T02:48:23.538Z"
   },
   {
    "duration": 11,
    "start_time": "2023-04-03T02:48:28.851Z"
   },
   {
    "duration": 12,
    "start_time": "2023-04-03T02:48:42.193Z"
   },
   {
    "duration": 6,
    "start_time": "2023-04-03T02:48:49.927Z"
   },
   {
    "duration": 25,
    "start_time": "2023-04-03T02:48:51.958Z"
   },
   {
    "duration": 12,
    "start_time": "2023-04-03T02:49:16.571Z"
   },
   {
    "duration": 9,
    "start_time": "2023-04-03T02:49:45.800Z"
   },
   {
    "duration": 8,
    "start_time": "2023-04-03T02:49:46.114Z"
   },
   {
    "duration": 839,
    "start_time": "2023-04-03T02:49:56.555Z"
   },
   {
    "duration": 42,
    "start_time": "2023-04-03T02:49:57.396Z"
   },
   {
    "duration": 13,
    "start_time": "2023-04-03T02:49:57.439Z"
   },
   {
    "duration": 12,
    "start_time": "2023-04-03T02:49:57.497Z"
   },
   {
    "duration": 12,
    "start_time": "2023-04-03T02:49:57.886Z"
   },
   {
    "duration": 7,
    "start_time": "2023-04-03T02:49:58.387Z"
   },
   {
    "duration": 8,
    "start_time": "2023-04-03T02:49:59.213Z"
   },
   {
    "duration": 10,
    "start_time": "2023-04-03T02:49:59.696Z"
   },
   {
    "duration": 4,
    "start_time": "2023-04-03T02:50:02.213Z"
   },
   {
    "duration": 11,
    "start_time": "2023-04-03T02:50:02.974Z"
   },
   {
    "duration": 664,
    "start_time": "2023-04-03T02:50:03.367Z"
   },
   {
    "duration": 5,
    "start_time": "2023-04-03T02:50:08.004Z"
   },
   {
    "duration": 11,
    "start_time": "2023-04-03T02:50:09.627Z"
   },
   {
    "duration": 10,
    "start_time": "2023-04-03T02:50:26.455Z"
   },
   {
    "duration": 7,
    "start_time": "2023-04-03T02:50:35.086Z"
   },
   {
    "duration": 103,
    "start_time": "2023-04-03T02:51:34.848Z"
   },
   {
    "duration": 3,
    "start_time": "2023-04-03T02:51:48.019Z"
   },
   {
    "duration": 198,
    "start_time": "2023-04-03T02:51:51.799Z"
   },
   {
    "duration": 185,
    "start_time": "2023-04-03T02:52:26.619Z"
   },
   {
    "duration": 11,
    "start_time": "2023-04-03T02:52:45.618Z"
   },
   {
    "duration": 194,
    "start_time": "2023-04-03T02:52:54.778Z"
   },
   {
    "duration": 1320,
    "start_time": "2023-04-05T01:07:59.527Z"
   },
   {
    "duration": 211,
    "start_time": "2023-04-05T01:08:00.850Z"
   },
   {
    "duration": 48,
    "start_time": "2023-04-05T01:08:01.063Z"
   },
   {
    "duration": 14,
    "start_time": "2023-04-05T01:08:03.000Z"
   },
   {
    "duration": 13,
    "start_time": "2023-04-05T01:08:03.335Z"
   },
   {
    "duration": 8,
    "start_time": "2023-04-05T01:08:03.875Z"
   },
   {
    "duration": 10,
    "start_time": "2023-04-05T01:08:04.955Z"
   },
   {
    "duration": 10,
    "start_time": "2023-04-05T01:08:05.342Z"
   },
   {
    "duration": 4,
    "start_time": "2023-04-05T01:08:06.332Z"
   },
   {
    "duration": 12,
    "start_time": "2023-04-05T01:08:06.703Z"
   },
   {
    "duration": 257,
    "start_time": "2023-04-05T01:08:07.223Z"
   },
   {
    "duration": 7,
    "start_time": "2023-04-05T01:08:07.999Z"
   },
   {
    "duration": 7,
    "start_time": "2023-04-05T01:08:08.527Z"
   },
   {
    "duration": 194,
    "start_time": "2023-04-05T01:08:08.931Z"
   },
   {
    "duration": 208,
    "start_time": "2023-04-05T01:08:10.303Z"
   },
   {
    "duration": 200,
    "start_time": "2023-04-05T01:08:10.960Z"
   },
   {
    "duration": 4,
    "start_time": "2023-04-05T01:15:31.354Z"
   },
   {
    "duration": 7,
    "start_time": "2023-04-05T01:15:46.096Z"
   },
   {
    "duration": 4,
    "start_time": "2023-04-05T01:15:49.591Z"
   },
   {
    "duration": 8,
    "start_time": "2023-04-05T01:15:59.049Z"
   },
   {
    "duration": 8,
    "start_time": "2023-04-05T01:16:29.809Z"
   },
   {
    "duration": 8,
    "start_time": "2023-04-05T01:16:39.871Z"
   },
   {
    "duration": 8,
    "start_time": "2023-04-05T01:17:20.281Z"
   },
   {
    "duration": 9,
    "start_time": "2023-04-05T01:17:37.881Z"
   },
   {
    "duration": 1090,
    "start_time": "2023-04-05T01:19:26.734Z"
   },
   {
    "duration": 115,
    "start_time": "2023-04-05T01:19:27.826Z"
   },
   {
    "duration": 13,
    "start_time": "2023-04-05T01:19:27.943Z"
   },
   {
    "duration": 14,
    "start_time": "2023-04-05T01:19:27.957Z"
   },
   {
    "duration": 17,
    "start_time": "2023-04-05T01:19:27.973Z"
   },
   {
    "duration": 7,
    "start_time": "2023-04-05T01:19:27.992Z"
   },
   {
    "duration": 41,
    "start_time": "2023-04-05T01:19:28.000Z"
   },
   {
    "duration": 20,
    "start_time": "2023-04-05T01:19:28.043Z"
   },
   {
    "duration": 16,
    "start_time": "2023-04-05T01:19:28.065Z"
   },
   {
    "duration": 8,
    "start_time": "2023-04-05T01:19:28.083Z"
   },
   {
    "duration": 300,
    "start_time": "2023-04-05T01:19:28.093Z"
   },
   {
    "duration": 7,
    "start_time": "2023-04-05T01:19:28.395Z"
   },
   {
    "duration": 34,
    "start_time": "2023-04-05T01:19:28.403Z"
   },
   {
    "duration": 228,
    "start_time": "2023-04-05T01:19:28.439Z"
   },
   {
    "duration": 230,
    "start_time": "2023-04-05T01:19:28.669Z"
   },
   {
    "duration": 225,
    "start_time": "2023-04-05T01:19:28.901Z"
   },
   {
    "duration": 4,
    "start_time": "2023-04-05T01:19:29.128Z"
   },
   {
    "duration": 915,
    "start_time": "2023-04-05T01:19:29.140Z"
   },
   {
    "duration": 13,
    "start_time": "2023-04-05T01:19:47.806Z"
   },
   {
    "duration": 1090,
    "start_time": "2023-04-05T01:20:07.328Z"
   },
   {
    "duration": 104,
    "start_time": "2023-04-05T01:20:08.419Z"
   },
   {
    "duration": 66,
    "start_time": "2023-04-05T01:20:08.524Z"
   },
   {
    "duration": 43,
    "start_time": "2023-04-05T01:20:08.592Z"
   },
   {
    "duration": 23,
    "start_time": "2023-04-05T01:20:08.637Z"
   },
   {
    "duration": 28,
    "start_time": "2023-04-05T01:20:08.661Z"
   },
   {
    "duration": 53,
    "start_time": "2023-04-05T01:20:08.691Z"
   },
   {
    "duration": 14,
    "start_time": "2023-04-05T01:20:08.746Z"
   },
   {
    "duration": 12,
    "start_time": "2023-04-05T01:20:08.761Z"
   },
   {
    "duration": 7,
    "start_time": "2023-04-05T01:20:08.775Z"
   },
   {
    "duration": 281,
    "start_time": "2023-04-05T01:20:08.783Z"
   },
   {
    "duration": 8,
    "start_time": "2023-04-05T01:20:09.066Z"
   },
   {
    "duration": 14,
    "start_time": "2023-04-05T01:20:09.076Z"
   },
   {
    "duration": 240,
    "start_time": "2023-04-05T01:20:09.093Z"
   },
   {
    "duration": 240,
    "start_time": "2023-04-05T01:20:09.341Z"
   },
   {
    "duration": 235,
    "start_time": "2023-04-05T01:20:09.584Z"
   },
   {
    "duration": 4,
    "start_time": "2023-04-05T01:20:09.821Z"
   },
   {
    "duration": 22,
    "start_time": "2023-04-05T01:20:09.826Z"
   },
   {
    "duration": 20,
    "start_time": "2023-04-05T01:20:18.100Z"
   },
   {
    "duration": 5,
    "start_time": "2023-04-05T01:23:04.973Z"
   },
   {
    "duration": 16,
    "start_time": "2023-04-05T01:23:10.143Z"
   },
   {
    "duration": 100,
    "start_time": "2023-04-05T01:23:40.817Z"
   },
   {
    "duration": 10,
    "start_time": "2023-04-05T01:23:52.430Z"
   },
   {
    "duration": 5,
    "start_time": "2023-04-05T01:23:56.850Z"
   },
   {
    "duration": 9,
    "start_time": "2023-04-05T01:26:04.559Z"
   },
   {
    "duration": 296,
    "start_time": "2023-04-05T01:26:10.450Z"
   },
   {
    "duration": 7,
    "start_time": "2023-04-05T01:26:14.253Z"
   },
   {
    "duration": 4,
    "start_time": "2023-04-05T01:27:16.573Z"
   },
   {
    "duration": 12,
    "start_time": "2023-04-05T01:28:08.895Z"
   },
   {
    "duration": 10,
    "start_time": "2023-04-05T01:29:50.547Z"
   },
   {
    "duration": 16,
    "start_time": "2023-04-05T01:32:17.726Z"
   },
   {
    "duration": 38,
    "start_time": "2023-04-05T01:32:24.402Z"
   },
   {
    "duration": 22,
    "start_time": "2023-04-05T01:32:40.372Z"
   },
   {
    "duration": 13,
    "start_time": "2023-04-05T01:32:47.058Z"
   },
   {
    "duration": 10,
    "start_time": "2023-04-05T01:37:40.680Z"
   },
   {
    "duration": 1335,
    "start_time": "2023-04-05T01:37:48.735Z"
   },
   {
    "duration": 43,
    "start_time": "2023-04-05T01:37:50.072Z"
   },
   {
    "duration": 11,
    "start_time": "2023-04-05T01:37:50.117Z"
   },
   {
    "duration": 15,
    "start_time": "2023-04-05T01:37:50.130Z"
   },
   {
    "duration": 39,
    "start_time": "2023-04-05T01:37:50.146Z"
   },
   {
    "duration": 16,
    "start_time": "2023-04-05T01:37:50.186Z"
   },
   {
    "duration": 25,
    "start_time": "2023-04-05T01:37:50.203Z"
   },
   {
    "duration": 48,
    "start_time": "2023-04-05T01:37:50.229Z"
   },
   {
    "duration": 68,
    "start_time": "2023-04-05T01:37:50.279Z"
   },
   {
    "duration": 52,
    "start_time": "2023-04-05T01:37:50.349Z"
   },
   {
    "duration": 281,
    "start_time": "2023-04-05T01:37:50.403Z"
   },
   {
    "duration": 7,
    "start_time": "2023-04-05T01:37:50.686Z"
   },
   {
    "duration": 29,
    "start_time": "2023-04-05T01:37:50.695Z"
   },
   {
    "duration": 223,
    "start_time": "2023-04-05T01:37:50.726Z"
   },
   {
    "duration": 216,
    "start_time": "2023-04-05T01:37:50.950Z"
   },
   {
    "duration": 307,
    "start_time": "2023-04-05T01:37:51.168Z"
   },
   {
    "duration": 5,
    "start_time": "2023-04-05T01:37:51.477Z"
   },
   {
    "duration": 23,
    "start_time": "2023-04-05T01:37:51.484Z"
   },
   {
    "duration": 9,
    "start_time": "2023-04-05T01:37:51.510Z"
   },
   {
    "duration": 24,
    "start_time": "2023-04-05T01:37:51.521Z"
   },
   {
    "duration": 4354,
    "start_time": "2023-04-05T01:37:51.547Z"
   },
   {
    "duration": 0,
    "start_time": "2023-04-05T01:37:55.903Z"
   },
   {
    "duration": 0,
    "start_time": "2023-04-05T01:37:55.905Z"
   },
   {
    "duration": 0,
    "start_time": "2023-04-05T01:37:55.906Z"
   },
   {
    "duration": 12,
    "start_time": "2023-04-05T01:38:04.033Z"
   },
   {
    "duration": 6,
    "start_time": "2023-04-05T01:38:33.561Z"
   },
   {
    "duration": 10,
    "start_time": "2023-04-05T01:38:40.293Z"
   },
   {
    "duration": 10,
    "start_time": "2023-04-05T01:38:45.955Z"
   },
   {
    "duration": 5,
    "start_time": "2023-04-05T01:38:46.238Z"
   },
   {
    "duration": 12,
    "start_time": "2023-04-05T01:38:47.091Z"
   },
   {
    "duration": 61,
    "start_time": "2023-04-05T01:39:07.584Z"
   },
   {
    "duration": 8,
    "start_time": "2023-04-05T01:40:56.833Z"
   },
   {
    "duration": 5,
    "start_time": "2023-04-05T01:40:57.758Z"
   },
   {
    "duration": 7,
    "start_time": "2023-04-05T01:41:47.820Z"
   },
   {
    "duration": 5,
    "start_time": "2023-04-05T01:41:48.079Z"
   },
   {
    "duration": 92099,
    "start_time": "2023-04-05T01:43:00.949Z"
   },
   {
    "duration": 1426,
    "start_time": "2023-04-05T01:44:44.947Z"
   },
   {
    "duration": 43,
    "start_time": "2023-04-05T01:44:46.375Z"
   },
   {
    "duration": 11,
    "start_time": "2023-04-05T01:44:46.420Z"
   },
   {
    "duration": 40,
    "start_time": "2023-04-05T01:44:46.432Z"
   },
   {
    "duration": 21,
    "start_time": "2023-04-05T01:44:46.474Z"
   },
   {
    "duration": 25,
    "start_time": "2023-04-05T01:44:46.496Z"
   },
   {
    "duration": 31,
    "start_time": "2023-04-05T01:44:46.522Z"
   },
   {
    "duration": 22,
    "start_time": "2023-04-05T01:44:46.554Z"
   },
   {
    "duration": 30,
    "start_time": "2023-04-05T01:44:46.578Z"
   },
   {
    "duration": 32,
    "start_time": "2023-04-05T01:44:46.610Z"
   },
   {
    "duration": 286,
    "start_time": "2023-04-05T01:44:46.644Z"
   },
   {
    "duration": 10,
    "start_time": "2023-04-05T01:44:46.931Z"
   },
   {
    "duration": 38,
    "start_time": "2023-04-05T01:44:46.942Z"
   },
   {
    "duration": 323,
    "start_time": "2023-04-05T01:44:46.982Z"
   },
   {
    "duration": 202,
    "start_time": "2023-04-05T01:44:47.307Z"
   },
   {
    "duration": 284,
    "start_time": "2023-04-05T01:44:47.511Z"
   },
   {
    "duration": 3,
    "start_time": "2023-04-05T01:44:47.797Z"
   },
   {
    "duration": 25,
    "start_time": "2023-04-05T01:44:47.802Z"
   },
   {
    "duration": 22,
    "start_time": "2023-04-05T01:44:47.828Z"
   },
   {
    "duration": 42,
    "start_time": "2023-04-05T01:44:47.851Z"
   },
   {
    "duration": 55,
    "start_time": "2023-04-05T01:44:47.895Z"
   },
   {
    "duration": 44,
    "start_time": "2023-04-05T01:44:47.952Z"
   },
   {
    "duration": 31,
    "start_time": "2023-04-05T01:44:47.998Z"
   },
   {
    "duration": 30,
    "start_time": "2023-04-05T01:44:48.031Z"
   },
   {
    "duration": 265854,
    "start_time": "2023-04-05T01:44:48.062Z"
   },
   {
    "duration": 40,
    "start_time": "2023-04-05T02:20:12.122Z"
   },
   {
    "duration": 36,
    "start_time": "2023-04-05T02:20:53.671Z"
   },
   {
    "duration": 5,
    "start_time": "2023-04-05T02:21:00.722Z"
   },
   {
    "duration": 53,
    "start_time": "2023-04-05T02:22:07.184Z"
   },
   {
    "duration": 4,
    "start_time": "2023-04-05T02:22:23.059Z"
   },
   {
    "duration": 2771,
    "start_time": "2023-04-05T02:26:12.205Z"
   },
   {
    "duration": 2666,
    "start_time": "2023-04-05T02:28:32.350Z"
   },
   {
    "duration": 456,
    "start_time": "2023-04-05T02:29:48.031Z"
   },
   {
    "duration": 7,
    "start_time": "2023-04-05T02:39:03.099Z"
   },
   {
    "duration": 140,
    "start_time": "2023-04-05T02:39:16.172Z"
   },
   {
    "duration": 12,
    "start_time": "2023-04-05T02:40:06.808Z"
   },
   {
    "duration": 13,
    "start_time": "2023-04-05T02:41:57.384Z"
   },
   {
    "duration": 13,
    "start_time": "2023-04-05T02:42:12.028Z"
   },
   {
    "duration": 4,
    "start_time": "2023-04-05T02:42:27.624Z"
   },
   {
    "duration": 7,
    "start_time": "2023-04-05T02:42:28.011Z"
   },
   {
    "duration": 4,
    "start_time": "2023-04-05T02:42:40.867Z"
   },
   {
    "duration": 18,
    "start_time": "2023-04-05T02:42:56.537Z"
   },
   {
    "duration": 5,
    "start_time": "2023-04-05T02:43:07.431Z"
   },
   {
    "duration": 4,
    "start_time": "2023-04-05T02:43:19.131Z"
   },
   {
    "duration": 8,
    "start_time": "2023-04-05T02:43:25.136Z"
   },
   {
    "duration": 5,
    "start_time": "2023-04-05T02:43:56.177Z"
   },
   {
    "duration": 5,
    "start_time": "2023-04-05T02:45:53.872Z"
   },
   {
    "duration": 5,
    "start_time": "2023-04-05T02:46:03.867Z"
   },
   {
    "duration": 35,
    "start_time": "2023-04-05T02:48:36.934Z"
   },
   {
    "duration": 16,
    "start_time": "2023-04-05T02:48:44.881Z"
   },
   {
    "duration": 19,
    "start_time": "2023-04-05T02:49:08.218Z"
   },
   {
    "duration": 3163,
    "start_time": "2023-04-05T05:01:06.960Z"
   },
   {
    "duration": 757,
    "start_time": "2023-04-05T05:01:18.966Z"
   },
   {
    "duration": 2857,
    "start_time": "2023-04-05T05:01:25.503Z"
   },
   {
    "duration": 110,
    "start_time": "2023-04-05T05:01:58.325Z"
   },
   {
    "duration": 215,
    "start_time": "2023-04-05T05:02:05.358Z"
   },
   {
    "duration": 6,
    "start_time": "2023-04-05T05:02:10.641Z"
   },
   {
    "duration": 7,
    "start_time": "2023-04-05T05:03:41.319Z"
   },
   {
    "duration": 7,
    "start_time": "2023-04-05T05:05:53.670Z"
   },
   {
    "duration": 14,
    "start_time": "2023-04-05T05:08:47.850Z"
   },
   {
    "duration": 11,
    "start_time": "2023-04-05T05:09:45.654Z"
   },
   {
    "duration": 13,
    "start_time": "2023-04-05T05:09:57.677Z"
   },
   {
    "duration": 22,
    "start_time": "2023-04-05T05:10:28.160Z"
   },
   {
    "duration": 19,
    "start_time": "2023-04-05T05:10:33.311Z"
   },
   {
    "duration": 4,
    "start_time": "2023-04-05T05:11:09.260Z"
   },
   {
    "duration": 5,
    "start_time": "2023-04-05T05:11:15.100Z"
   },
   {
    "duration": 34,
    "start_time": "2023-04-05T05:12:03.256Z"
   },
   {
    "duration": 32,
    "start_time": "2023-04-05T05:12:11.708Z"
   },
   {
    "duration": 62,
    "start_time": "2023-04-05T05:13:18.332Z"
   },
   {
    "duration": 6,
    "start_time": "2023-04-05T05:13:37.758Z"
   },
   {
    "duration": 4,
    "start_time": "2023-04-05T05:13:41.721Z"
   },
   {
    "duration": 5,
    "start_time": "2023-04-05T05:15:49.800Z"
   },
   {
    "duration": 7,
    "start_time": "2023-04-05T05:16:19.864Z"
   },
   {
    "duration": 6,
    "start_time": "2023-04-05T05:17:04.708Z"
   },
   {
    "duration": 4,
    "start_time": "2023-04-05T05:17:22.960Z"
   },
   {
    "duration": 4,
    "start_time": "2023-04-05T05:17:46.063Z"
   },
   {
    "duration": 25,
    "start_time": "2023-04-05T05:17:57.032Z"
   },
   {
    "duration": 32,
    "start_time": "2023-04-05T05:18:29.765Z"
   },
   {
    "duration": 9,
    "start_time": "2023-04-05T05:18:41.861Z"
   },
   {
    "duration": 16,
    "start_time": "2023-04-05T05:19:33.670Z"
   },
   {
    "duration": 11,
    "start_time": "2023-04-05T05:19:41.434Z"
   },
   {
    "duration": 9,
    "start_time": "2023-04-05T05:20:10.813Z"
   },
   {
    "duration": 19,
    "start_time": "2023-04-05T05:20:11.789Z"
   },
   {
    "duration": 21,
    "start_time": "2023-04-05T05:21:00.513Z"
   },
   {
    "duration": 5,
    "start_time": "2023-04-05T05:21:00.815Z"
   },
   {
    "duration": 7,
    "start_time": "2023-04-05T05:21:15.864Z"
   },
   {
    "duration": 20,
    "start_time": "2023-04-05T05:21:16.508Z"
   },
   {
    "duration": 9,
    "start_time": "2023-04-05T05:21:19.328Z"
   },
   {
    "duration": 24,
    "start_time": "2023-04-05T05:21:19.938Z"
   },
   {
    "duration": 7,
    "start_time": "2023-04-05T05:22:11.284Z"
   },
   {
    "duration": 7,
    "start_time": "2023-04-05T05:22:11.996Z"
   },
   {
    "duration": 13,
    "start_time": "2023-04-05T05:22:12.708Z"
   },
   {
    "duration": 10,
    "start_time": "2023-04-05T05:22:13.502Z"
   },
   {
    "duration": 13,
    "start_time": "2023-04-05T05:22:13.761Z"
   },
   {
    "duration": 6,
    "start_time": "2023-04-05T05:22:14.770Z"
   },
   {
    "duration": 5,
    "start_time": "2023-04-05T05:22:17.420Z"
   },
   {
    "duration": 10,
    "start_time": "2023-04-05T05:22:27.364Z"
   },
   {
    "duration": 5,
    "start_time": "2023-04-05T05:22:28.201Z"
   },
   {
    "duration": 5,
    "start_time": "2023-04-05T05:22:28.922Z"
   },
   {
    "duration": 11,
    "start_time": "2023-04-05T05:22:30.192Z"
   },
   {
    "duration": 46,
    "start_time": "2023-04-05T05:22:32.857Z"
   },
   {
    "duration": 6,
    "start_time": "2023-04-05T05:22:33.318Z"
   },
   {
    "duration": 4,
    "start_time": "2023-04-05T05:22:33.962Z"
   },
   {
    "duration": 26,
    "start_time": "2023-04-05T05:22:34.771Z"
   },
   {
    "duration": 2076,
    "start_time": "2023-04-05T05:22:45.361Z"
   },
   {
    "duration": 17,
    "start_time": "2023-04-05T05:25:57.800Z"
   },
   {
    "duration": 6,
    "start_time": "2023-04-05T05:26:04.570Z"
   },
   {
    "duration": 5,
    "start_time": "2023-04-05T05:26:24.264Z"
   },
   {
    "duration": 18,
    "start_time": "2023-04-05T05:27:32.396Z"
   },
   {
    "duration": 5,
    "start_time": "2023-04-05T05:27:49.767Z"
   },
   {
    "duration": 4,
    "start_time": "2023-04-05T05:28:52.369Z"
   },
   {
    "duration": 9,
    "start_time": "2023-04-05T05:28:59.688Z"
   },
   {
    "duration": 2876,
    "start_time": "2023-04-06T01:02:39.617Z"
   },
   {
    "duration": 2867,
    "start_time": "2023-04-06T01:02:42.495Z"
   },
   {
    "duration": 2592,
    "start_time": "2023-04-06T01:02:45.365Z"
   },
   {
    "duration": 1997,
    "start_time": "2023-04-06T01:02:47.959Z"
   },
   {
    "duration": 134,
    "start_time": "2023-04-06T01:02:49.958Z"
   },
   {
    "duration": 10,
    "start_time": "2023-04-06T01:02:50.094Z"
   },
   {
    "duration": 23,
    "start_time": "2023-04-06T01:02:50.105Z"
   },
   {
    "duration": 10,
    "start_time": "2023-04-06T01:02:50.130Z"
   },
   {
    "duration": 7,
    "start_time": "2023-04-06T01:02:50.142Z"
   },
   {
    "duration": 18,
    "start_time": "2023-04-06T01:02:50.151Z"
   },
   {
    "duration": 19,
    "start_time": "2023-04-06T01:02:50.171Z"
   },
   {
    "duration": 10,
    "start_time": "2023-04-06T01:02:50.192Z"
   },
   {
    "duration": 6,
    "start_time": "2023-04-06T01:02:50.203Z"
   },
   {
    "duration": 243,
    "start_time": "2023-04-06T01:02:50.210Z"
   },
   {
    "duration": 6,
    "start_time": "2023-04-06T01:02:50.454Z"
   },
   {
    "duration": 8,
    "start_time": "2023-04-06T01:02:50.461Z"
   },
   {
    "duration": 194,
    "start_time": "2023-04-06T01:02:50.471Z"
   },
   {
    "duration": 202,
    "start_time": "2023-04-06T01:02:50.667Z"
   },
   {
    "duration": 290,
    "start_time": "2023-04-06T01:02:50.871Z"
   },
   {
    "duration": 4,
    "start_time": "2023-04-06T01:02:51.163Z"
   },
   {
    "duration": 17,
    "start_time": "2023-04-06T01:02:51.169Z"
   },
   {
    "duration": 7,
    "start_time": "2023-04-06T01:02:51.187Z"
   },
   {
    "duration": 6,
    "start_time": "2023-04-06T01:02:51.195Z"
   },
   {
    "duration": 34,
    "start_time": "2023-04-06T01:02:51.202Z"
   },
   {
    "duration": 8,
    "start_time": "2023-04-06T01:02:51.237Z"
   },
   {
    "duration": 15,
    "start_time": "2023-04-06T01:02:51.247Z"
   },
   {
    "duration": 6,
    "start_time": "2023-04-06T01:02:51.264Z"
   },
   {
    "duration": 27,
    "start_time": "2023-04-06T01:02:51.273Z"
   },
   {
    "duration": 50087,
    "start_time": "2023-04-06T01:02:51.302Z"
   },
   {
    "duration": 0,
    "start_time": "2023-04-06T01:03:41.390Z"
   },
   {
    "duration": 0,
    "start_time": "2023-04-06T01:03:41.391Z"
   },
   {
    "duration": 0,
    "start_time": "2023-04-06T01:03:41.392Z"
   },
   {
    "duration": 0,
    "start_time": "2023-04-06T01:03:41.393Z"
   },
   {
    "duration": 0,
    "start_time": "2023-04-06T01:03:41.395Z"
   },
   {
    "duration": 0,
    "start_time": "2023-04-06T01:03:41.396Z"
   },
   {
    "duration": 0,
    "start_time": "2023-04-06T01:03:41.397Z"
   },
   {
    "duration": 0,
    "start_time": "2023-04-06T01:03:41.398Z"
   },
   {
    "duration": 0,
    "start_time": "2023-04-06T01:03:41.399Z"
   },
   {
    "duration": 0,
    "start_time": "2023-04-06T01:03:41.400Z"
   },
   {
    "duration": 2010,
    "start_time": "2023-04-06T01:05:48.429Z"
   },
   {
    "duration": 1978,
    "start_time": "2023-04-06T01:05:50.441Z"
   },
   {
    "duration": 1988,
    "start_time": "2023-04-06T01:05:52.421Z"
   },
   {
    "duration": 1994,
    "start_time": "2023-04-06T01:05:54.411Z"
   },
   {
    "duration": 0,
    "start_time": "2023-04-06T01:05:56.407Z"
   },
   {
    "duration": 0,
    "start_time": "2023-04-06T01:05:56.408Z"
   },
   {
    "duration": 0,
    "start_time": "2023-04-06T01:05:56.410Z"
   },
   {
    "duration": 0,
    "start_time": "2023-04-06T01:05:56.410Z"
   },
   {
    "duration": 0,
    "start_time": "2023-04-06T01:05:56.411Z"
   },
   {
    "duration": 0,
    "start_time": "2023-04-06T01:05:56.413Z"
   },
   {
    "duration": 0,
    "start_time": "2023-04-06T01:05:56.414Z"
   },
   {
    "duration": 0,
    "start_time": "2023-04-06T01:05:56.415Z"
   },
   {
    "duration": 1,
    "start_time": "2023-04-06T01:05:56.415Z"
   },
   {
    "duration": 0,
    "start_time": "2023-04-06T01:05:56.416Z"
   },
   {
    "duration": 0,
    "start_time": "2023-04-06T01:05:56.418Z"
   },
   {
    "duration": 0,
    "start_time": "2023-04-06T01:05:56.434Z"
   },
   {
    "duration": 0,
    "start_time": "2023-04-06T01:05:56.434Z"
   },
   {
    "duration": 0,
    "start_time": "2023-04-06T01:05:56.436Z"
   },
   {
    "duration": 0,
    "start_time": "2023-04-06T01:05:56.437Z"
   },
   {
    "duration": 0,
    "start_time": "2023-04-06T01:05:56.438Z"
   },
   {
    "duration": 0,
    "start_time": "2023-04-06T01:05:56.439Z"
   },
   {
    "duration": 0,
    "start_time": "2023-04-06T01:05:56.440Z"
   },
   {
    "duration": 0,
    "start_time": "2023-04-06T01:05:56.441Z"
   },
   {
    "duration": 0,
    "start_time": "2023-04-06T01:05:56.442Z"
   },
   {
    "duration": 0,
    "start_time": "2023-04-06T01:05:56.443Z"
   },
   {
    "duration": 0,
    "start_time": "2023-04-06T01:05:56.444Z"
   },
   {
    "duration": 0,
    "start_time": "2023-04-06T01:05:56.445Z"
   },
   {
    "duration": 0,
    "start_time": "2023-04-06T01:05:56.446Z"
   },
   {
    "duration": 0,
    "start_time": "2023-04-06T01:05:56.447Z"
   },
   {
    "duration": 0,
    "start_time": "2023-04-06T01:05:56.448Z"
   },
   {
    "duration": 0,
    "start_time": "2023-04-06T01:05:56.449Z"
   },
   {
    "duration": 0,
    "start_time": "2023-04-06T01:05:56.450Z"
   },
   {
    "duration": 0,
    "start_time": "2023-04-06T01:05:56.451Z"
   },
   {
    "duration": 0,
    "start_time": "2023-04-06T01:05:56.452Z"
   },
   {
    "duration": 0,
    "start_time": "2023-04-06T01:05:56.453Z"
   },
   {
    "duration": 0,
    "start_time": "2023-04-06T01:05:56.454Z"
   },
   {
    "duration": 0,
    "start_time": "2023-04-06T01:05:56.455Z"
   },
   {
    "duration": 0,
    "start_time": "2023-04-06T01:05:56.456Z"
   },
   {
    "duration": 0,
    "start_time": "2023-04-06T01:05:56.457Z"
   },
   {
    "duration": 2123,
    "start_time": "2023-04-06T01:15:11.699Z"
   },
   {
    "duration": 2156,
    "start_time": "2023-04-06T01:15:13.825Z"
   },
   {
    "duration": 2154,
    "start_time": "2023-04-06T01:15:15.983Z"
   },
   {
    "duration": 2090,
    "start_time": "2023-04-06T01:15:18.138Z"
   },
   {
    "duration": 0,
    "start_time": "2023-04-06T01:15:20.235Z"
   },
   {
    "duration": 0,
    "start_time": "2023-04-06T01:15:20.236Z"
   },
   {
    "duration": 0,
    "start_time": "2023-04-06T01:15:20.237Z"
   },
   {
    "duration": 0,
    "start_time": "2023-04-06T01:15:20.239Z"
   },
   {
    "duration": 0,
    "start_time": "2023-04-06T01:15:20.240Z"
   },
   {
    "duration": 0,
    "start_time": "2023-04-06T01:15:20.241Z"
   },
   {
    "duration": 0,
    "start_time": "2023-04-06T01:15:20.242Z"
   },
   {
    "duration": 0,
    "start_time": "2023-04-06T01:15:20.243Z"
   },
   {
    "duration": 0,
    "start_time": "2023-04-06T01:15:20.243Z"
   },
   {
    "duration": 0,
    "start_time": "2023-04-06T01:15:20.245Z"
   },
   {
    "duration": 0,
    "start_time": "2023-04-06T01:15:20.246Z"
   },
   {
    "duration": 0,
    "start_time": "2023-04-06T01:15:20.247Z"
   },
   {
    "duration": 0,
    "start_time": "2023-04-06T01:15:20.248Z"
   },
   {
    "duration": 0,
    "start_time": "2023-04-06T01:15:20.249Z"
   },
   {
    "duration": 0,
    "start_time": "2023-04-06T01:15:20.250Z"
   },
   {
    "duration": 0,
    "start_time": "2023-04-06T01:15:20.251Z"
   },
   {
    "duration": 0,
    "start_time": "2023-04-06T01:15:20.252Z"
   },
   {
    "duration": 0,
    "start_time": "2023-04-06T01:15:20.253Z"
   },
   {
    "duration": 0,
    "start_time": "2023-04-06T01:15:20.254Z"
   },
   {
    "duration": 0,
    "start_time": "2023-04-06T01:15:20.255Z"
   },
   {
    "duration": 0,
    "start_time": "2023-04-06T01:15:20.257Z"
   },
   {
    "duration": 0,
    "start_time": "2023-04-06T01:15:20.257Z"
   },
   {
    "duration": 0,
    "start_time": "2023-04-06T01:15:20.259Z"
   },
   {
    "duration": 1,
    "start_time": "2023-04-06T01:15:20.259Z"
   },
   {
    "duration": 0,
    "start_time": "2023-04-06T01:15:20.260Z"
   },
   {
    "duration": 0,
    "start_time": "2023-04-06T01:15:20.262Z"
   },
   {
    "duration": 0,
    "start_time": "2023-04-06T01:15:20.263Z"
   },
   {
    "duration": 0,
    "start_time": "2023-04-06T01:15:20.264Z"
   },
   {
    "duration": 0,
    "start_time": "2023-04-06T01:15:20.266Z"
   },
   {
    "duration": 0,
    "start_time": "2023-04-06T01:15:20.267Z"
   },
   {
    "duration": 0,
    "start_time": "2023-04-06T01:15:20.269Z"
   },
   {
    "duration": 0,
    "start_time": "2023-04-06T01:15:20.270Z"
   },
   {
    "duration": 0,
    "start_time": "2023-04-06T01:15:20.272Z"
   },
   {
    "duration": 0,
    "start_time": "2023-04-06T01:15:20.338Z"
   },
   {
    "duration": 0,
    "start_time": "2023-04-06T01:15:20.343Z"
   },
   {
    "duration": 1976,
    "start_time": "2023-04-06T01:15:51.045Z"
   },
   {
    "duration": 1987,
    "start_time": "2023-04-06T01:15:53.024Z"
   },
   {
    "duration": 2012,
    "start_time": "2023-04-06T01:15:55.013Z"
   },
   {
    "duration": 1825,
    "start_time": "2023-04-06T01:15:57.027Z"
   },
   {
    "duration": 42,
    "start_time": "2023-04-06T01:15:58.854Z"
   },
   {
    "duration": 11,
    "start_time": "2023-04-06T01:15:58.898Z"
   },
   {
    "duration": 18,
    "start_time": "2023-04-06T01:15:58.910Z"
   },
   {
    "duration": 11,
    "start_time": "2023-04-06T01:15:58.929Z"
   },
   {
    "duration": 7,
    "start_time": "2023-04-06T01:15:58.941Z"
   },
   {
    "duration": 9,
    "start_time": "2023-04-06T01:15:58.949Z"
   },
   {
    "duration": 11,
    "start_time": "2023-04-06T01:15:58.960Z"
   },
   {
    "duration": 9,
    "start_time": "2023-04-06T01:15:58.972Z"
   },
   {
    "duration": 7,
    "start_time": "2023-04-06T01:15:58.983Z"
   },
   {
    "duration": 255,
    "start_time": "2023-04-06T01:15:58.993Z"
   },
   {
    "duration": 6,
    "start_time": "2023-04-06T01:15:59.250Z"
   },
   {
    "duration": 14,
    "start_time": "2023-04-06T01:15:59.257Z"
   },
   {
    "duration": 202,
    "start_time": "2023-04-06T01:15:59.273Z"
   },
   {
    "duration": 205,
    "start_time": "2023-04-06T01:15:59.477Z"
   },
   {
    "duration": 212,
    "start_time": "2023-04-06T01:15:59.683Z"
   },
   {
    "duration": 3,
    "start_time": "2023-04-06T01:15:59.897Z"
   },
   {
    "duration": 20,
    "start_time": "2023-04-06T01:15:59.901Z"
   },
   {
    "duration": 11,
    "start_time": "2023-04-06T01:15:59.923Z"
   },
   {
    "duration": 4,
    "start_time": "2023-04-06T01:15:59.936Z"
   },
   {
    "duration": 11,
    "start_time": "2023-04-06T01:15:59.941Z"
   },
   {
    "duration": 6,
    "start_time": "2023-04-06T01:15:59.953Z"
   },
   {
    "duration": 118,
    "start_time": "2023-04-06T01:15:59.961Z"
   },
   {
    "duration": 5,
    "start_time": "2023-04-06T01:16:00.080Z"
   },
   {
    "duration": 23,
    "start_time": "2023-04-06T01:16:00.087Z"
   },
   {
    "duration": 321186,
    "start_time": "2023-04-06T01:16:00.111Z"
   },
   {
    "duration": 4,
    "start_time": "2023-04-06T01:21:21.298Z"
   },
   {
    "duration": 27,
    "start_time": "2023-04-06T01:21:21.303Z"
   },
   {
    "duration": 159,
    "start_time": "2023-04-06T01:21:21.332Z"
   },
   {
    "duration": 0,
    "start_time": "2023-04-06T01:21:21.492Z"
   },
   {
    "duration": 0,
    "start_time": "2023-04-06T01:21:21.493Z"
   },
   {
    "duration": 0,
    "start_time": "2023-04-06T01:21:21.494Z"
   },
   {
    "duration": 0,
    "start_time": "2023-04-06T01:21:21.495Z"
   },
   {
    "duration": 0,
    "start_time": "2023-04-06T01:21:21.496Z"
   },
   {
    "duration": 0,
    "start_time": "2023-04-06T01:21:21.497Z"
   },
   {
    "duration": 0,
    "start_time": "2023-04-06T01:21:21.498Z"
   },
   {
    "duration": 4,
    "start_time": "2023-04-06T01:47:45.199Z"
   },
   {
    "duration": 3,
    "start_time": "2023-04-06T01:47:55.609Z"
   },
   {
    "duration": 8,
    "start_time": "2023-04-06T01:48:28.213Z"
   },
   {
    "duration": 5,
    "start_time": "2023-04-06T01:48:37.315Z"
   },
   {
    "duration": 8,
    "start_time": "2023-04-06T01:49:09.121Z"
   },
   {
    "duration": 3,
    "start_time": "2023-04-06T01:49:09.361Z"
   },
   {
    "duration": 4,
    "start_time": "2023-04-06T01:49:09.903Z"
   },
   {
    "duration": 4,
    "start_time": "2023-04-06T01:49:10.446Z"
   },
   {
    "duration": 4,
    "start_time": "2023-04-06T01:49:11.130Z"
   },
   {
    "duration": 35,
    "start_time": "2023-04-06T01:49:12.964Z"
   },
   {
    "duration": 16,
    "start_time": "2023-04-06T01:49:53.801Z"
   },
   {
    "duration": 26,
    "start_time": "2023-04-06T01:50:00.400Z"
   },
   {
    "duration": 2018,
    "start_time": "2023-04-06T01:51:01.899Z"
   },
   {
    "duration": 2068,
    "start_time": "2023-04-06T01:51:03.920Z"
   },
   {
    "duration": 1988,
    "start_time": "2023-04-06T01:51:05.991Z"
   },
   {
    "duration": 1805,
    "start_time": "2023-04-06T01:51:07.982Z"
   },
   {
    "duration": 43,
    "start_time": "2023-04-06T01:51:09.788Z"
   },
   {
    "duration": 9,
    "start_time": "2023-04-06T01:51:09.833Z"
   },
   {
    "duration": 15,
    "start_time": "2023-04-06T01:51:09.844Z"
   },
   {
    "duration": 18,
    "start_time": "2023-04-06T01:51:09.861Z"
   },
   {
    "duration": 8,
    "start_time": "2023-04-06T01:51:09.880Z"
   },
   {
    "duration": 8,
    "start_time": "2023-04-06T01:51:09.890Z"
   },
   {
    "duration": 17,
    "start_time": "2023-04-06T01:51:09.899Z"
   },
   {
    "duration": 24,
    "start_time": "2023-04-06T01:51:09.917Z"
   },
   {
    "duration": 5,
    "start_time": "2023-04-06T01:51:09.942Z"
   },
   {
    "duration": 268,
    "start_time": "2023-04-06T01:51:09.948Z"
   },
   {
    "duration": 5,
    "start_time": "2023-04-06T01:51:10.218Z"
   },
   {
    "duration": 7,
    "start_time": "2023-04-06T01:51:10.234Z"
   },
   {
    "duration": 196,
    "start_time": "2023-04-06T01:51:10.243Z"
   },
   {
    "duration": 216,
    "start_time": "2023-04-06T01:51:10.441Z"
   },
   {
    "duration": 199,
    "start_time": "2023-04-06T01:51:10.658Z"
   },
   {
    "duration": 4,
    "start_time": "2023-04-06T01:51:10.858Z"
   },
   {
    "duration": 16,
    "start_time": "2023-04-06T01:51:10.864Z"
   },
   {
    "duration": 6,
    "start_time": "2023-04-06T01:51:10.881Z"
   },
   {
    "duration": 5,
    "start_time": "2023-04-06T01:51:10.889Z"
   },
   {
    "duration": 14,
    "start_time": "2023-04-06T01:51:10.896Z"
   },
   {
    "duration": 5,
    "start_time": "2023-04-06T01:51:10.934Z"
   },
   {
    "duration": 114,
    "start_time": "2023-04-06T01:51:10.941Z"
   },
   {
    "duration": 6,
    "start_time": "2023-04-06T01:51:11.057Z"
   },
   {
    "duration": 9,
    "start_time": "2023-04-06T01:51:11.066Z"
   },
   {
    "duration": 330724,
    "start_time": "2023-04-06T01:51:11.077Z"
   },
   {
    "duration": 3,
    "start_time": "2023-04-06T01:56:41.803Z"
   },
   {
    "duration": 16,
    "start_time": "2023-04-06T01:56:41.807Z"
   },
   {
    "duration": 4,
    "start_time": "2023-04-06T01:56:41.824Z"
   },
   {
    "duration": 3,
    "start_time": "2023-04-06T01:56:41.834Z"
   },
   {
    "duration": 7,
    "start_time": "2023-04-06T01:56:41.839Z"
   },
   {
    "duration": 7,
    "start_time": "2023-04-06T01:56:41.847Z"
   },
   {
    "duration": 153,
    "start_time": "2023-04-06T01:56:41.856Z"
   },
   {
    "duration": 0,
    "start_time": "2023-04-06T01:56:42.011Z"
   },
   {
    "duration": 0,
    "start_time": "2023-04-06T01:56:42.012Z"
   },
   {
    "duration": 0,
    "start_time": "2023-04-06T01:56:42.013Z"
   },
   {
    "duration": 4,
    "start_time": "2023-04-06T01:57:11.605Z"
   },
   {
    "duration": 3,
    "start_time": "2023-04-06T01:58:06.220Z"
   },
   {
    "duration": 3,
    "start_time": "2023-04-06T01:58:07.128Z"
   },
   {
    "duration": 4,
    "start_time": "2023-04-06T01:58:07.614Z"
   },
   {
    "duration": 14,
    "start_time": "2023-04-06T01:58:08.281Z"
   },
   {
    "duration": 57,
    "start_time": "2023-04-06T01:58:27.464Z"
   },
   {
    "duration": 3,
    "start_time": "2023-04-06T01:58:29.842Z"
   },
   {
    "duration": 7,
    "start_time": "2023-04-06T01:58:44.348Z"
   },
   {
    "duration": 6,
    "start_time": "2023-04-06T01:58:58.163Z"
   },
   {
    "duration": 4,
    "start_time": "2023-04-06T01:59:20.872Z"
   },
   {
    "duration": 12,
    "start_time": "2023-04-06T02:00:56.804Z"
   },
   {
    "duration": 4,
    "start_time": "2023-04-06T02:00:57.484Z"
   },
   {
    "duration": 5,
    "start_time": "2023-04-06T02:00:58.016Z"
   },
   {
    "duration": 3,
    "start_time": "2023-04-06T02:00:58.677Z"
   },
   {
    "duration": 6,
    "start_time": "2023-04-06T02:00:59.111Z"
   },
   {
    "duration": 5,
    "start_time": "2023-04-06T02:00:59.896Z"
   },
   {
    "duration": 3,
    "start_time": "2023-04-06T02:01:00.515Z"
   },
   {
    "duration": 3,
    "start_time": "2023-04-06T02:01:01.104Z"
   },
   {
    "duration": 24,
    "start_time": "2023-04-06T02:01:02.347Z"
   },
   {
    "duration": 15,
    "start_time": "2023-04-06T02:03:00.968Z"
   },
   {
    "duration": 2,
    "start_time": "2023-04-06T02:03:01.374Z"
   },
   {
    "duration": 7,
    "start_time": "2023-04-06T02:03:13.730Z"
   },
   {
    "duration": 4,
    "start_time": "2023-04-06T02:03:21.475Z"
   },
   {
    "duration": 3,
    "start_time": "2023-04-06T02:03:27.205Z"
   },
   {
    "duration": 4,
    "start_time": "2023-04-06T02:03:27.585Z"
   },
   {
    "duration": 24,
    "start_time": "2023-04-06T02:03:28.672Z"
   },
   {
    "duration": 6,
    "start_time": "2023-04-06T02:04:11.264Z"
   },
   {
    "duration": 7,
    "start_time": "2023-04-06T02:04:20.692Z"
   },
   {
    "duration": 6,
    "start_time": "2023-04-06T02:04:30.199Z"
   },
   {
    "duration": 6,
    "start_time": "2023-04-06T02:04:40.609Z"
   },
   {
    "duration": 54,
    "start_time": "2023-04-06T02:05:22.469Z"
   },
   {
    "duration": 19,
    "start_time": "2023-04-06T02:05:28.875Z"
   },
   {
    "duration": 19,
    "start_time": "2023-04-06T02:05:35.452Z"
   },
   {
    "duration": 17,
    "start_time": "2023-04-06T02:05:41.678Z"
   },
   {
    "duration": 5,
    "start_time": "2023-04-06T02:05:54.760Z"
   },
   {
    "duration": 4,
    "start_time": "2023-04-06T02:06:01.997Z"
   },
   {
    "duration": 4,
    "start_time": "2023-04-06T02:06:05.376Z"
   },
   {
    "duration": 15,
    "start_time": "2023-04-06T02:07:18.975Z"
   },
   {
    "duration": 4,
    "start_time": "2023-04-06T02:07:27.256Z"
   },
   {
    "duration": 4,
    "start_time": "2023-04-06T02:07:27.864Z"
   },
   {
    "duration": 147,
    "start_time": "2023-04-06T02:07:37.826Z"
   },
   {
    "duration": 937,
    "start_time": "2023-04-06T02:08:05.351Z"
   },
   {
    "duration": 5,
    "start_time": "2023-04-06T02:09:08.699Z"
   },
   {
    "duration": 21134,
    "start_time": "2023-04-06T02:10:18.130Z"
   },
   {
    "duration": 39,
    "start_time": "2023-04-06T02:10:45.158Z"
   },
   {
    "duration": 5,
    "start_time": "2023-04-06T02:11:06.830Z"
   },
   {
    "duration": 4,
    "start_time": "2023-04-06T02:11:14.904Z"
   },
   {
    "duration": 5,
    "start_time": "2023-04-06T02:11:24.871Z"
   },
   {
    "duration": 5,
    "start_time": "2023-04-06T02:11:32.264Z"
   },
   {
    "duration": 6,
    "start_time": "2023-04-06T02:11:39.772Z"
   },
   {
    "duration": 16,
    "start_time": "2023-04-06T02:11:56.578Z"
   },
   {
    "duration": 5,
    "start_time": "2023-04-06T02:11:56.881Z"
   },
   {
    "duration": 4,
    "start_time": "2023-04-06T02:11:57.203Z"
   },
   {
    "duration": 6,
    "start_time": "2023-04-06T02:11:57.532Z"
   },
   {
    "duration": 4,
    "start_time": "2023-04-06T02:12:00.947Z"
   },
   {
    "duration": 4,
    "start_time": "2023-04-06T02:12:01.356Z"
   },
   {
    "duration": 20,
    "start_time": "2023-04-06T02:12:02.270Z"
   },
   {
    "duration": 4,
    "start_time": "2023-04-06T02:12:02.927Z"
   },
   {
    "duration": 5,
    "start_time": "2023-04-06T02:12:13.036Z"
   },
   {
    "duration": 4,
    "start_time": "2023-04-06T02:16:32.962Z"
   },
   {
    "duration": 6,
    "start_time": "2023-04-06T02:16:33.252Z"
   },
   {
    "duration": 8,
    "start_time": "2023-04-06T02:16:33.538Z"
   },
   {
    "duration": 30,
    "start_time": "2023-04-06T02:16:34.150Z"
   },
   {
    "duration": 3,
    "start_time": "2023-04-06T02:16:47.988Z"
   },
   {
    "duration": 4,
    "start_time": "2023-04-06T02:16:48.173Z"
   },
   {
    "duration": 5,
    "start_time": "2023-04-06T02:16:48.369Z"
   },
   {
    "duration": 27,
    "start_time": "2023-04-06T02:16:48.550Z"
   },
   {
    "duration": 4,
    "start_time": "2023-04-06T02:19:56.613Z"
   },
   {
    "duration": 6,
    "start_time": "2023-04-06T02:19:57.078Z"
   },
   {
    "duration": 4,
    "start_time": "2023-04-06T02:19:57.424Z"
   },
   {
    "duration": 16,
    "start_time": "2023-04-06T02:19:58.301Z"
   },
   {
    "duration": 4,
    "start_time": "2023-04-06T02:19:59.213Z"
   },
   {
    "duration": 4,
    "start_time": "2023-04-06T02:22:20.775Z"
   },
   {
    "duration": 5,
    "start_time": "2023-04-06T02:22:21.120Z"
   },
   {
    "duration": 5,
    "start_time": "2023-04-06T02:22:21.626Z"
   },
   {
    "duration": 26,
    "start_time": "2023-04-06T02:22:22.276Z"
   },
   {
    "duration": 5,
    "start_time": "2023-04-06T02:22:22.787Z"
   },
   {
    "duration": 39,
    "start_time": "2023-04-06T02:23:06.262Z"
   },
   {
    "duration": 4,
    "start_time": "2023-04-06T02:23:06.918Z"
   },
   {
    "duration": 4,
    "start_time": "2023-04-06T02:23:07.468Z"
   },
   {
    "duration": 7,
    "start_time": "2023-04-06T02:23:08.057Z"
   },
   {
    "duration": 5,
    "start_time": "2023-04-06T02:23:18.004Z"
   },
   {
    "duration": 51,
    "start_time": "2023-04-06T02:23:22.914Z"
   },
   {
    "duration": 97734,
    "start_time": "2023-04-06T02:23:38.908Z"
   },
   {
    "duration": 512316,
    "start_time": "2023-04-06T02:25:20.562Z"
   },
   {
    "duration": 18,
    "start_time": "2023-04-06T02:34:21.996Z"
   },
   {
    "duration": 5,
    "start_time": "2023-04-06T02:34:22.216Z"
   },
   {
    "duration": 5,
    "start_time": "2023-04-06T02:34:22.419Z"
   },
   {
    "duration": 4,
    "start_time": "2023-04-06T02:34:22.628Z"
   },
   {
    "duration": 7,
    "start_time": "2023-04-06T02:34:22.934Z"
   },
   {
    "duration": 48,
    "start_time": "2023-04-06T02:34:23.269Z"
   },
   {
    "duration": 13,
    "start_time": "2023-04-06T02:34:28.400Z"
   },
   {
    "duration": 5,
    "start_time": "2023-04-06T02:34:28.601Z"
   },
   {
    "duration": 4,
    "start_time": "2023-04-06T02:34:28.786Z"
   },
   {
    "duration": 5,
    "start_time": "2023-04-06T02:34:28.989Z"
   },
   {
    "duration": 4,
    "start_time": "2023-04-06T02:34:29.181Z"
   },
   {
    "duration": 62,
    "start_time": "2023-04-06T02:34:30.233Z"
   },
   {
    "duration": 6,
    "start_time": "2023-04-06T02:34:30.296Z"
   },
   {
    "duration": 15,
    "start_time": "2023-04-06T02:34:30.304Z"
   },
   {
    "duration": 407733,
    "start_time": "2023-04-06T02:34:30.743Z"
   },
   {
    "duration": 20,
    "start_time": "2023-04-06T02:46:47.142Z"
   },
   {
    "duration": 5,
    "start_time": "2023-04-06T02:47:05.013Z"
   },
   {
    "duration": 15,
    "start_time": "2023-04-06T02:47:07.304Z"
   },
   {
    "duration": 7,
    "start_time": "2023-04-06T02:47:26.899Z"
   },
   {
    "duration": 4,
    "start_time": "2023-04-06T02:47:32.231Z"
   },
   {
    "duration": 14,
    "start_time": "2023-04-06T02:48:08.460Z"
   },
   {
    "duration": 11,
    "start_time": "2023-04-06T02:48:23.423Z"
   },
   {
    "duration": 16,
    "start_time": "2023-04-06T02:48:53.858Z"
   },
   {
    "duration": 10,
    "start_time": "2023-04-06T02:49:04.398Z"
   },
   {
    "duration": 4,
    "start_time": "2023-04-06T02:49:08.893Z"
   },
   {
    "duration": 5,
    "start_time": "2023-04-06T02:49:14.772Z"
   },
   {
    "duration": 18,
    "start_time": "2023-04-06T02:49:32.790Z"
   },
   {
    "duration": 18,
    "start_time": "2023-04-06T02:49:56.970Z"
   },
   {
    "duration": 171,
    "start_time": "2023-04-06T02:50:05.589Z"
   },
   {
    "duration": 5,
    "start_time": "2023-04-06T02:51:10.860Z"
   },
   {
    "duration": 11437,
    "start_time": "2023-04-06T02:52:25.549Z"
   },
   {
    "duration": 181,
    "start_time": "2023-04-06T02:52:38.498Z"
   },
   {
    "duration": 17,
    "start_time": "2023-04-06T02:53:28.625Z"
   },
   {
    "duration": 134835,
    "start_time": "2023-04-06T02:53:44.533Z"
   },
   {
    "duration": 5,
    "start_time": "2023-04-06T02:56:29.692Z"
   },
   {
    "duration": 199146,
    "start_time": "2023-04-06T02:56:30.610Z"
   },
   {
    "duration": 4,
    "start_time": "2023-04-06T03:00:10.474Z"
   },
   {
    "duration": 303509,
    "start_time": "2023-04-06T03:00:11.443Z"
   },
   {
    "duration": 3126,
    "start_time": "2023-04-06T03:07:54.686Z"
   },
   {
    "duration": 157,
    "start_time": "2023-04-06T03:11:36.352Z"
   },
   {
    "duration": 12,
    "start_time": "2023-04-06T03:15:39.406Z"
   },
   {
    "duration": 5882,
    "start_time": "2023-04-06T03:16:06.376Z"
   },
   {
    "duration": 161,
    "start_time": "2023-04-06T03:16:19.584Z"
   },
   {
    "duration": 6270,
    "start_time": "2023-04-06T03:16:24.595Z"
   },
   {
    "duration": 886,
    "start_time": "2023-04-06T03:19:16.950Z"
   },
   {
    "duration": 4,
    "start_time": "2023-04-06T03:19:21.707Z"
   },
   {
    "duration": 12,
    "start_time": "2023-04-06T03:20:27.078Z"
   },
   {
    "duration": 6,
    "start_time": "2023-04-06T03:20:33.114Z"
   },
   {
    "duration": 6,
    "start_time": "2023-04-06T03:20:36.756Z"
   },
   {
    "duration": 7,
    "start_time": "2023-04-06T03:23:24.877Z"
   },
   {
    "duration": 69,
    "start_time": "2023-04-06T03:26:31.057Z"
   },
   {
    "duration": 239708,
    "start_time": "2023-04-06T03:26:42.444Z"
   },
   {
    "duration": 14,
    "start_time": "2023-04-06T03:30:52.090Z"
   },
   {
    "duration": 116816,
    "start_time": "2023-04-06T03:32:47.363Z"
   },
   {
    "duration": 16,
    "start_time": "2023-04-06T03:36:23.375Z"
   },
   {
    "duration": 16,
    "start_time": "2023-04-06T03:36:39.269Z"
   },
   {
    "duration": 7306,
    "start_time": "2023-04-06T03:37:04.675Z"
   },
   {
    "duration": 4699,
    "start_time": "2023-04-06T03:37:25.377Z"
   },
   {
    "duration": 2443,
    "start_time": "2023-04-06T03:37:33.656Z"
   },
   {
    "duration": 2319,
    "start_time": "2023-04-06T03:37:36.101Z"
   },
   {
    "duration": 2338,
    "start_time": "2023-04-06T03:37:38.421Z"
   },
   {
    "duration": 2317,
    "start_time": "2023-04-06T03:37:40.762Z"
   },
   {
    "duration": 51,
    "start_time": "2023-04-06T03:37:43.081Z"
   },
   {
    "duration": 23,
    "start_time": "2023-04-06T03:37:43.140Z"
   },
   {
    "duration": 24,
    "start_time": "2023-04-06T03:37:43.164Z"
   },
   {
    "duration": 11,
    "start_time": "2023-04-06T03:37:43.189Z"
   },
   {
    "duration": 6,
    "start_time": "2023-04-06T03:37:43.202Z"
   },
   {
    "duration": 16,
    "start_time": "2023-04-06T03:37:43.209Z"
   },
   {
    "duration": 26,
    "start_time": "2023-04-06T03:37:43.226Z"
   },
   {
    "duration": 29,
    "start_time": "2023-04-06T03:37:43.254Z"
   },
   {
    "duration": 15,
    "start_time": "2023-04-06T03:37:43.285Z"
   },
   {
    "duration": 280,
    "start_time": "2023-04-06T03:37:43.304Z"
   },
   {
    "duration": 5,
    "start_time": "2023-04-06T03:37:43.586Z"
   },
   {
    "duration": 8,
    "start_time": "2023-04-06T03:37:43.592Z"
   },
   {
    "duration": 229,
    "start_time": "2023-04-06T03:37:43.602Z"
   },
   {
    "duration": 233,
    "start_time": "2023-04-06T03:37:43.832Z"
   },
   {
    "duration": 213,
    "start_time": "2023-04-06T03:37:44.067Z"
   },
   {
    "duration": 4,
    "start_time": "2023-04-06T03:37:44.283Z"
   },
   {
    "duration": 20,
    "start_time": "2023-04-06T03:37:44.289Z"
   },
   {
    "duration": 6,
    "start_time": "2023-04-06T03:37:44.311Z"
   },
   {
    "duration": 36,
    "start_time": "2023-04-06T03:37:44.318Z"
   },
   {
    "duration": 21,
    "start_time": "2023-04-06T03:37:44.359Z"
   },
   {
    "duration": 10,
    "start_time": "2023-04-06T03:37:44.382Z"
   },
   {
    "duration": 111,
    "start_time": "2023-04-06T03:37:44.393Z"
   },
   {
    "duration": 5,
    "start_time": "2023-04-06T03:37:44.506Z"
   },
   {
    "duration": 6,
    "start_time": "2023-04-06T03:37:44.512Z"
   },
   {
    "duration": 106273,
    "start_time": "2023-04-06T03:37:44.519Z"
   },
   {
    "duration": 0,
    "start_time": "2023-04-06T03:39:30.794Z"
   },
   {
    "duration": 0,
    "start_time": "2023-04-06T03:39:30.795Z"
   },
   {
    "duration": 0,
    "start_time": "2023-04-06T03:39:30.796Z"
   },
   {
    "duration": 0,
    "start_time": "2023-04-06T03:39:30.797Z"
   },
   {
    "duration": 0,
    "start_time": "2023-04-06T03:39:30.798Z"
   },
   {
    "duration": 0,
    "start_time": "2023-04-06T03:39:30.799Z"
   },
   {
    "duration": 0,
    "start_time": "2023-04-06T03:39:30.800Z"
   },
   {
    "duration": 0,
    "start_time": "2023-04-06T03:39:30.802Z"
   },
   {
    "duration": 0,
    "start_time": "2023-04-06T03:39:30.802Z"
   },
   {
    "duration": 0,
    "start_time": "2023-04-06T03:39:30.803Z"
   },
   {
    "duration": 0,
    "start_time": "2023-04-06T03:39:30.804Z"
   },
   {
    "duration": 2308,
    "start_time": "2023-04-06T03:39:40.513Z"
   },
   {
    "duration": 2301,
    "start_time": "2023-04-06T03:39:42.822Z"
   },
   {
    "duration": 2383,
    "start_time": "2023-04-06T03:39:45.125Z"
   },
   {
    "duration": 2176,
    "start_time": "2023-04-06T03:39:47.510Z"
   },
   {
    "duration": 46,
    "start_time": "2023-04-06T03:39:49.687Z"
   },
   {
    "duration": 16,
    "start_time": "2023-04-06T03:39:49.734Z"
   },
   {
    "duration": 30,
    "start_time": "2023-04-06T03:39:49.751Z"
   },
   {
    "duration": 12,
    "start_time": "2023-04-06T03:39:49.782Z"
   },
   {
    "duration": 7,
    "start_time": "2023-04-06T03:39:49.795Z"
   },
   {
    "duration": 9,
    "start_time": "2023-04-06T03:39:49.806Z"
   },
   {
    "duration": 29,
    "start_time": "2023-04-06T03:39:49.817Z"
   },
   {
    "duration": 19,
    "start_time": "2023-04-06T03:39:49.848Z"
   },
   {
    "duration": 13,
    "start_time": "2023-04-06T03:39:49.868Z"
   },
   {
    "duration": 300,
    "start_time": "2023-04-06T03:39:49.883Z"
   },
   {
    "duration": 6,
    "start_time": "2023-04-06T03:39:50.185Z"
   },
   {
    "duration": 11,
    "start_time": "2023-04-06T03:39:50.192Z"
   },
   {
    "duration": 238,
    "start_time": "2023-04-06T03:39:50.205Z"
   },
   {
    "duration": 242,
    "start_time": "2023-04-06T03:39:50.446Z"
   },
   {
    "duration": 242,
    "start_time": "2023-04-06T03:39:50.689Z"
   },
   {
    "duration": 9,
    "start_time": "2023-04-06T03:39:50.933Z"
   },
   {
    "duration": 49,
    "start_time": "2023-04-06T03:39:50.945Z"
   },
   {
    "duration": 8,
    "start_time": "2023-04-06T03:39:50.996Z"
   },
   {
    "duration": 11,
    "start_time": "2023-04-06T03:39:51.005Z"
   },
   {
    "duration": 65,
    "start_time": "2023-04-06T03:39:51.018Z"
   },
   {
    "duration": 11,
    "start_time": "2023-04-06T03:39:51.086Z"
   },
   {
    "duration": 118,
    "start_time": "2023-04-06T03:39:51.099Z"
   },
   {
    "duration": 9,
    "start_time": "2023-04-06T03:39:51.219Z"
   },
   {
    "duration": 45,
    "start_time": "2023-04-06T03:39:51.231Z"
   },
   {
    "duration": 393659,
    "start_time": "2023-04-06T03:39:51.277Z"
   },
   {
    "duration": 6,
    "start_time": "2023-04-06T03:46:24.938Z"
   },
   {
    "duration": 53,
    "start_time": "2023-04-06T03:46:24.946Z"
   },
   {
    "duration": 4,
    "start_time": "2023-04-06T03:46:25.001Z"
   },
   {
    "duration": 5,
    "start_time": "2023-04-06T03:46:25.006Z"
   },
   {
    "duration": 10,
    "start_time": "2023-04-06T03:46:25.012Z"
   },
   {
    "duration": 7,
    "start_time": "2023-04-06T03:46:25.023Z"
   },
   {
    "duration": 78,
    "start_time": "2023-04-06T03:46:25.032Z"
   },
   {
    "duration": 4,
    "start_time": "2023-04-06T03:46:25.111Z"
   },
   {
    "duration": 7,
    "start_time": "2023-04-06T03:46:25.117Z"
   },
   {
    "duration": 297755,
    "start_time": "2023-04-06T03:46:25.125Z"
   },
   {
    "duration": 1734292,
    "start_time": "2023-04-06T03:51:22.882Z"
   },
   {
    "duration": 26452,
    "start_time": "2023-04-06T04:35:30.949Z"
   },
   {
    "duration": 10987,
    "start_time": "2023-04-06T04:36:05.981Z"
   },
   {
    "duration": 0,
    "start_time": "2023-04-06T04:36:16.969Z"
   },
   {
    "duration": 84314,
    "start_time": "2023-04-06T04:36:18.742Z"
   },
   {
    "duration": 0,
    "start_time": "2023-04-06T04:37:43.058Z"
   },
   {
    "duration": 0,
    "start_time": "2023-04-06T04:37:43.059Z"
   },
   {
    "duration": 298268,
    "start_time": "2023-04-06T04:37:44.302Z"
   },
   {
    "duration": 1362370,
    "start_time": "2023-04-06T04:42:42.573Z"
   },
   {
    "duration": 1884809,
    "start_time": "2023-04-06T05:05:49.337Z"
   },
   {
    "duration": 80,
    "start_time": "2023-04-06T06:40:14.859Z"
   },
   {
    "duration": 95,
    "start_time": "2023-04-06T06:40:27.246Z"
   },
   {
    "duration": 5,
    "start_time": "2023-04-06T06:42:31.094Z"
   },
   {
    "duration": 5,
    "start_time": "2023-04-06T06:42:35.889Z"
   },
   {
    "duration": 3,
    "start_time": "2023-04-06T06:49:03.072Z"
   },
   {
    "duration": 11,
    "start_time": "2023-04-06T06:49:10.502Z"
   },
   {
    "duration": 9,
    "start_time": "2023-04-06T06:49:16.338Z"
   },
   {
    "duration": 6,
    "start_time": "2023-04-06T06:53:49.014Z"
   },
   {
    "duration": 3057,
    "start_time": "2023-04-07T01:06:32.104Z"
   },
   {
    "duration": 2771,
    "start_time": "2023-04-07T01:06:35.164Z"
   },
   {
    "duration": 2837,
    "start_time": "2023-04-07T01:06:37.937Z"
   },
   {
    "duration": 2221,
    "start_time": "2023-04-07T01:06:40.776Z"
   },
   {
    "duration": 192,
    "start_time": "2023-04-07T01:06:43.000Z"
   },
   {
    "duration": 12,
    "start_time": "2023-04-07T01:06:43.194Z"
   },
   {
    "duration": 11,
    "start_time": "2023-04-07T01:06:43.207Z"
   },
   {
    "duration": 11,
    "start_time": "2023-04-07T01:06:43.220Z"
   },
   {
    "duration": 8,
    "start_time": "2023-04-07T01:06:43.232Z"
   },
   {
    "duration": 12,
    "start_time": "2023-04-07T01:06:43.241Z"
   },
   {
    "duration": 34,
    "start_time": "2023-04-07T01:06:43.255Z"
   },
   {
    "duration": 11,
    "start_time": "2023-04-07T01:06:43.291Z"
   },
   {
    "duration": 13,
    "start_time": "2023-04-07T01:06:43.303Z"
   },
   {
    "duration": 273,
    "start_time": "2023-04-07T01:06:43.320Z"
   },
   {
    "duration": 6,
    "start_time": "2023-04-07T01:06:43.594Z"
   },
   {
    "duration": 9,
    "start_time": "2023-04-07T01:06:43.602Z"
   },
   {
    "duration": 219,
    "start_time": "2023-04-07T01:06:43.612Z"
   },
   {
    "duration": 224,
    "start_time": "2023-04-07T01:06:43.833Z"
   },
   {
    "duration": 350,
    "start_time": "2023-04-07T01:06:44.059Z"
   },
   {
    "duration": 5,
    "start_time": "2023-04-07T01:06:44.411Z"
   },
   {
    "duration": 16,
    "start_time": "2023-04-07T01:06:44.418Z"
   },
   {
    "duration": 8,
    "start_time": "2023-04-07T01:06:44.435Z"
   },
   {
    "duration": 7,
    "start_time": "2023-04-07T01:06:44.444Z"
   },
   {
    "duration": 38,
    "start_time": "2023-04-07T01:06:44.453Z"
   },
   {
    "duration": 28,
    "start_time": "2023-04-07T01:06:44.494Z"
   },
   {
    "duration": 18,
    "start_time": "2023-04-07T01:06:44.524Z"
   },
   {
    "duration": 7,
    "start_time": "2023-04-07T01:06:44.544Z"
   },
   {
    "duration": 21,
    "start_time": "2023-04-07T01:06:44.553Z"
   },
   {
    "duration": 1026,
    "start_time": "2023-04-07T01:06:44.576Z"
   },
   {
    "duration": 0,
    "start_time": "2023-04-07T01:06:45.604Z"
   },
   {
    "duration": 0,
    "start_time": "2023-04-07T01:06:45.606Z"
   },
   {
    "duration": 0,
    "start_time": "2023-04-07T01:06:45.608Z"
   },
   {
    "duration": 0,
    "start_time": "2023-04-07T01:06:45.609Z"
   },
   {
    "duration": 0,
    "start_time": "2023-04-07T01:06:45.611Z"
   },
   {
    "duration": 0,
    "start_time": "2023-04-07T01:06:45.612Z"
   },
   {
    "duration": 0,
    "start_time": "2023-04-07T01:06:45.614Z"
   },
   {
    "duration": 0,
    "start_time": "2023-04-07T01:06:45.615Z"
   },
   {
    "duration": 0,
    "start_time": "2023-04-07T01:06:45.617Z"
   },
   {
    "duration": 0,
    "start_time": "2023-04-07T01:06:45.618Z"
   },
   {
    "duration": 950,
    "start_time": "2023-04-07T01:07:40.322Z"
   },
   {
    "duration": 622,
    "start_time": "2023-04-07T01:11:33.316Z"
   },
   {
    "duration": 0,
    "start_time": "2023-04-07T01:15:14.457Z"
   },
   {
    "duration": 2226,
    "start_time": "2023-04-07T01:15:20.294Z"
   },
   {
    "duration": 2168,
    "start_time": "2023-04-07T01:15:22.522Z"
   },
   {
    "duration": 2238,
    "start_time": "2023-04-07T01:15:24.692Z"
   },
   {
    "duration": 1960,
    "start_time": "2023-04-07T01:15:26.932Z"
   },
   {
    "duration": 46,
    "start_time": "2023-04-07T01:15:28.894Z"
   },
   {
    "duration": 12,
    "start_time": "2023-04-07T01:15:28.941Z"
   },
   {
    "duration": 12,
    "start_time": "2023-04-07T01:15:28.954Z"
   },
   {
    "duration": 20,
    "start_time": "2023-04-07T01:15:28.968Z"
   },
   {
    "duration": 8,
    "start_time": "2023-04-07T01:15:28.990Z"
   },
   {
    "duration": 11,
    "start_time": "2023-04-07T01:15:29.000Z"
   },
   {
    "duration": 16,
    "start_time": "2023-04-07T01:15:29.012Z"
   },
   {
    "duration": 10,
    "start_time": "2023-04-07T01:15:29.030Z"
   },
   {
    "duration": 5,
    "start_time": "2023-04-07T01:15:29.041Z"
   },
   {
    "duration": 275,
    "start_time": "2023-04-07T01:15:29.049Z"
   },
   {
    "duration": 6,
    "start_time": "2023-04-07T01:15:29.326Z"
   },
   {
    "duration": 12,
    "start_time": "2023-04-07T01:15:29.334Z"
   },
   {
    "duration": 226,
    "start_time": "2023-04-07T01:15:29.348Z"
   },
   {
    "duration": 240,
    "start_time": "2023-04-07T01:15:29.576Z"
   },
   {
    "duration": 233,
    "start_time": "2023-04-07T01:15:29.818Z"
   },
   {
    "duration": 4,
    "start_time": "2023-04-07T01:15:30.052Z"
   },
   {
    "duration": 15,
    "start_time": "2023-04-07T01:15:30.058Z"
   },
   {
    "duration": 18,
    "start_time": "2023-04-07T01:15:30.074Z"
   },
   {
    "duration": 6,
    "start_time": "2023-04-07T01:15:30.094Z"
   },
   {
    "duration": 18,
    "start_time": "2023-04-07T01:15:30.102Z"
   },
   {
    "duration": 11,
    "start_time": "2023-04-07T01:15:30.122Z"
   },
   {
    "duration": 129,
    "start_time": "2023-04-07T01:15:30.135Z"
   },
   {
    "duration": 5,
    "start_time": "2023-04-07T01:15:30.266Z"
   },
   {
    "duration": 33,
    "start_time": "2023-04-07T01:15:30.273Z"
   },
   {
    "duration": 232458,
    "start_time": "2023-04-07T01:15:30.308Z"
   },
   {
    "duration": 5,
    "start_time": "2023-04-07T01:19:22.767Z"
   },
   {
    "duration": 174,
    "start_time": "2023-04-07T01:19:22.774Z"
   },
   {
    "duration": 0,
    "start_time": "2023-04-07T01:19:22.950Z"
   },
   {
    "duration": 0,
    "start_time": "2023-04-07T01:19:22.952Z"
   },
   {
    "duration": 0,
    "start_time": "2023-04-07T01:19:22.954Z"
   },
   {
    "duration": 0,
    "start_time": "2023-04-07T01:19:22.956Z"
   },
   {
    "duration": 0,
    "start_time": "2023-04-07T01:19:22.957Z"
   },
   {
    "duration": 1,
    "start_time": "2023-04-07T01:19:22.959Z"
   },
   {
    "duration": 0,
    "start_time": "2023-04-07T01:19:22.961Z"
   },
   {
    "duration": 0,
    "start_time": "2023-04-07T01:19:22.963Z"
   },
   {
    "duration": 2294,
    "start_time": "2023-04-07T01:20:53.205Z"
   },
   {
    "duration": 2265,
    "start_time": "2023-04-07T01:20:55.502Z"
   },
   {
    "duration": 2268,
    "start_time": "2023-04-07T01:20:57.769Z"
   },
   {
    "duration": 2099,
    "start_time": "2023-04-07T01:21:00.040Z"
   },
   {
    "duration": 48,
    "start_time": "2023-04-07T01:21:02.141Z"
   },
   {
    "duration": 16,
    "start_time": "2023-04-07T01:21:02.190Z"
   },
   {
    "duration": 57,
    "start_time": "2023-04-07T01:21:02.208Z"
   },
   {
    "duration": 28,
    "start_time": "2023-04-07T01:21:02.267Z"
   },
   {
    "duration": 20,
    "start_time": "2023-04-07T01:21:02.297Z"
   },
   {
    "duration": 44,
    "start_time": "2023-04-07T01:21:02.319Z"
   },
   {
    "duration": 37,
    "start_time": "2023-04-07T01:21:02.365Z"
   },
   {
    "duration": 39,
    "start_time": "2023-04-07T01:21:02.404Z"
   },
   {
    "duration": 29,
    "start_time": "2023-04-07T01:21:02.444Z"
   },
   {
    "duration": 280,
    "start_time": "2023-04-07T01:21:02.475Z"
   },
   {
    "duration": 6,
    "start_time": "2023-04-07T01:21:02.757Z"
   },
   {
    "duration": 15,
    "start_time": "2023-04-07T01:21:02.764Z"
   },
   {
    "duration": 220,
    "start_time": "2023-04-07T01:21:02.780Z"
   },
   {
    "duration": 225,
    "start_time": "2023-04-07T01:21:03.002Z"
   },
   {
    "duration": 219,
    "start_time": "2023-04-07T01:21:03.229Z"
   },
   {
    "duration": 4,
    "start_time": "2023-04-07T01:21:03.450Z"
   },
   {
    "duration": 12,
    "start_time": "2023-04-07T01:21:03.457Z"
   },
   {
    "duration": 21,
    "start_time": "2023-04-07T01:21:03.471Z"
   },
   {
    "duration": 6,
    "start_time": "2023-04-07T01:21:03.494Z"
   },
   {
    "duration": 16,
    "start_time": "2023-04-07T01:21:03.502Z"
   },
   {
    "duration": 7,
    "start_time": "2023-04-07T01:21:03.520Z"
   },
   {
    "duration": 130,
    "start_time": "2023-04-07T01:21:03.529Z"
   },
   {
    "duration": 8,
    "start_time": "2023-04-07T01:21:03.661Z"
   },
   {
    "duration": 15,
    "start_time": "2023-04-07T01:21:03.673Z"
   },
   {
    "duration": 232158,
    "start_time": "2023-04-07T01:21:03.690Z"
   },
   {
    "duration": 3,
    "start_time": "2023-04-07T01:24:55.850Z"
   },
   {
    "duration": 16,
    "start_time": "2023-04-07T01:24:55.855Z"
   },
   {
    "duration": 12,
    "start_time": "2023-04-07T01:24:55.873Z"
   },
   {
    "duration": 18,
    "start_time": "2023-04-07T01:24:55.886Z"
   },
   {
    "duration": 18,
    "start_time": "2023-04-07T01:24:55.906Z"
   },
   {
    "duration": 7,
    "start_time": "2023-04-07T01:24:55.925Z"
   },
   {
    "duration": 9,
    "start_time": "2023-04-07T01:24:55.933Z"
   },
   {
    "duration": 45,
    "start_time": "2023-04-07T01:24:55.944Z"
   },
   {
    "duration": 4,
    "start_time": "2023-04-07T01:24:55.991Z"
   },
   {
    "duration": 38506,
    "start_time": "2023-04-07T01:24:55.996Z"
   },
   {
    "duration": 1127402,
    "start_time": "2023-04-07T01:25:34.504Z"
   },
   {
    "duration": 8,
    "start_time": "2023-04-07T01:44:21.908Z"
   },
   {
    "duration": 177,
    "start_time": "2023-04-07T01:44:21.917Z"
   },
   {
    "duration": 2765,
    "start_time": "2023-04-08T01:48:47.712Z"
   },
   {
    "duration": 2527,
    "start_time": "2023-04-08T01:48:50.479Z"
   },
   {
    "duration": 2602,
    "start_time": "2023-04-08T01:48:53.008Z"
   },
   {
    "duration": 2104,
    "start_time": "2023-04-08T01:48:55.612Z"
   },
   {
    "duration": 123,
    "start_time": "2023-04-08T01:48:57.720Z"
   },
   {
    "duration": 11,
    "start_time": "2023-04-08T01:48:57.845Z"
   },
   {
    "duration": 15,
    "start_time": "2023-04-08T01:48:57.858Z"
   },
   {
    "duration": 28,
    "start_time": "2023-04-08T01:48:57.874Z"
   },
   {
    "duration": 8,
    "start_time": "2023-04-08T01:48:57.904Z"
   },
   {
    "duration": 11,
    "start_time": "2023-04-08T01:48:57.914Z"
   },
   {
    "duration": 11,
    "start_time": "2023-04-08T01:48:57.927Z"
   },
   {
    "duration": 9,
    "start_time": "2023-04-08T01:48:57.939Z"
   },
   {
    "duration": 8,
    "start_time": "2023-04-08T01:48:57.950Z"
   },
   {
    "duration": 245,
    "start_time": "2023-04-08T01:48:57.959Z"
   },
   {
    "duration": 7,
    "start_time": "2023-04-08T01:48:58.205Z"
   },
   {
    "duration": 22,
    "start_time": "2023-04-08T01:48:58.214Z"
   },
   {
    "duration": 205,
    "start_time": "2023-04-08T01:48:58.238Z"
   },
   {
    "duration": 195,
    "start_time": "2023-04-08T01:48:58.445Z"
   },
   {
    "duration": 292,
    "start_time": "2023-04-08T01:48:58.642Z"
   },
   {
    "duration": 4,
    "start_time": "2023-04-08T01:48:58.936Z"
   },
   {
    "duration": 19,
    "start_time": "2023-04-08T01:48:58.942Z"
   },
   {
    "duration": 6,
    "start_time": "2023-04-08T01:48:58.962Z"
   },
   {
    "duration": 5,
    "start_time": "2023-04-08T01:48:58.970Z"
   },
   {
    "duration": 18,
    "start_time": "2023-04-08T01:48:58.977Z"
   },
   {
    "duration": 8,
    "start_time": "2023-04-08T01:48:58.997Z"
   },
   {
    "duration": 27,
    "start_time": "2023-04-08T01:48:59.007Z"
   },
   {
    "duration": 6,
    "start_time": "2023-04-08T01:48:59.036Z"
   },
   {
    "duration": 7,
    "start_time": "2023-04-08T01:48:59.046Z"
   },
   {
    "duration": 36984,
    "start_time": "2023-04-08T01:48:59.055Z"
   },
   {
    "duration": 0,
    "start_time": "2023-04-08T01:49:36.042Z"
   },
   {
    "duration": 0,
    "start_time": "2023-04-08T01:49:36.043Z"
   },
   {
    "duration": 0,
    "start_time": "2023-04-08T01:49:36.050Z"
   },
   {
    "duration": 0,
    "start_time": "2023-04-08T01:49:36.051Z"
   },
   {
    "duration": 0,
    "start_time": "2023-04-08T01:49:36.056Z"
   },
   {
    "duration": 0,
    "start_time": "2023-04-08T01:49:36.059Z"
   },
   {
    "duration": 0,
    "start_time": "2023-04-08T01:49:36.060Z"
   },
   {
    "duration": 0,
    "start_time": "2023-04-08T01:49:36.062Z"
   },
   {
    "duration": 0,
    "start_time": "2023-04-08T01:49:36.064Z"
   },
   {
    "duration": 0,
    "start_time": "2023-04-08T01:49:36.065Z"
   },
   {
    "duration": 0,
    "start_time": "2023-04-08T01:49:36.066Z"
   },
   {
    "duration": 0,
    "start_time": "2023-04-08T01:49:36.068Z"
   },
   {
    "duration": 0,
    "start_time": "2023-04-08T01:49:36.069Z"
   },
   {
    "duration": 2189,
    "start_time": "2023-04-08T01:50:16.795Z"
   },
   {
    "duration": 2166,
    "start_time": "2023-04-08T01:50:18.986Z"
   },
   {
    "duration": 2227,
    "start_time": "2023-04-08T01:50:21.154Z"
   },
   {
    "duration": 1894,
    "start_time": "2023-04-08T01:50:23.384Z"
   },
   {
    "duration": 46,
    "start_time": "2023-04-08T01:50:25.281Z"
   },
   {
    "duration": 12,
    "start_time": "2023-04-08T01:50:25.329Z"
   },
   {
    "duration": 12,
    "start_time": "2023-04-08T01:50:25.342Z"
   },
   {
    "duration": 14,
    "start_time": "2023-04-08T01:50:25.356Z"
   },
   {
    "duration": 9,
    "start_time": "2023-04-08T01:50:25.372Z"
   },
   {
    "duration": 13,
    "start_time": "2023-04-08T01:50:25.383Z"
   },
   {
    "duration": 39,
    "start_time": "2023-04-08T01:50:25.398Z"
   },
   {
    "duration": 13,
    "start_time": "2023-04-08T01:50:25.439Z"
   },
   {
    "duration": 8,
    "start_time": "2023-04-08T01:50:25.453Z"
   },
   {
    "duration": 287,
    "start_time": "2023-04-08T01:50:25.464Z"
   },
   {
    "duration": 7,
    "start_time": "2023-04-08T01:50:25.753Z"
   },
   {
    "duration": 12,
    "start_time": "2023-04-08T01:50:25.761Z"
   },
   {
    "duration": 223,
    "start_time": "2023-04-08T01:50:25.775Z"
   },
   {
    "duration": 236,
    "start_time": "2023-04-08T01:50:25.999Z"
   },
   {
    "duration": 209,
    "start_time": "2023-04-08T01:50:26.237Z"
   },
   {
    "duration": 4,
    "start_time": "2023-04-08T01:50:26.447Z"
   },
   {
    "duration": 23,
    "start_time": "2023-04-08T01:50:26.453Z"
   },
   {
    "duration": 18,
    "start_time": "2023-04-08T01:50:26.477Z"
   },
   {
    "duration": 9,
    "start_time": "2023-04-08T01:50:26.497Z"
   },
   {
    "duration": 30,
    "start_time": "2023-04-08T01:50:26.507Z"
   },
   {
    "duration": 8,
    "start_time": "2023-04-08T01:50:26.539Z"
   },
   {
    "duration": 110,
    "start_time": "2023-04-08T01:50:26.549Z"
   },
   {
    "duration": 5,
    "start_time": "2023-04-08T01:50:26.660Z"
   },
   {
    "duration": 18,
    "start_time": "2023-04-08T01:50:26.667Z"
   },
   {
    "duration": 212732,
    "start_time": "2023-04-08T01:50:26.687Z"
   },
   {
    "duration": 4,
    "start_time": "2023-04-08T01:53:59.420Z"
   },
   {
    "duration": 16,
    "start_time": "2023-04-08T01:53:59.425Z"
   },
   {
    "duration": 10,
    "start_time": "2023-04-08T01:53:59.443Z"
   },
   {
    "duration": 29,
    "start_time": "2023-04-08T01:53:59.455Z"
   },
   {
    "duration": 27,
    "start_time": "2023-04-08T01:53:59.486Z"
   },
   {
    "duration": 11,
    "start_time": "2023-04-08T01:53:59.514Z"
   },
   {
    "duration": 16,
    "start_time": "2023-04-08T01:53:59.526Z"
   },
   {
    "duration": 52,
    "start_time": "2023-04-08T01:53:59.543Z"
   },
   {
    "duration": 4,
    "start_time": "2023-04-08T01:53:59.596Z"
   },
   {
    "duration": 125555,
    "start_time": "2023-04-08T01:53:59.602Z"
   },
   {
    "duration": 1156811,
    "start_time": "2023-04-08T01:56:05.235Z"
   },
   {
    "duration": 7,
    "start_time": "2023-04-08T02:15:22.050Z"
   },
   {
    "duration": 94,
    "start_time": "2023-04-08T02:15:22.059Z"
   },
   {
    "duration": 2773,
    "start_time": "2023-04-09T01:28:29.123Z"
   },
   {
    "duration": 2402,
    "start_time": "2023-04-09T01:28:31.898Z"
   },
   {
    "duration": 2439,
    "start_time": "2023-04-09T01:28:34.301Z"
   },
   {
    "duration": 1980,
    "start_time": "2023-04-09T01:28:36.742Z"
   },
   {
    "duration": 111,
    "start_time": "2023-04-09T01:28:38.723Z"
   },
   {
    "duration": 9,
    "start_time": "2023-04-09T01:28:38.836Z"
   },
   {
    "duration": 10,
    "start_time": "2023-04-09T01:28:38.847Z"
   },
   {
    "duration": 14,
    "start_time": "2023-04-09T01:28:38.858Z"
   },
   {
    "duration": 7,
    "start_time": "2023-04-09T01:28:38.873Z"
   },
   {
    "duration": 9,
    "start_time": "2023-04-09T01:28:38.883Z"
   },
   {
    "duration": 9,
    "start_time": "2023-04-09T01:28:38.893Z"
   },
   {
    "duration": 10,
    "start_time": "2023-04-09T01:28:38.904Z"
   },
   {
    "duration": 6,
    "start_time": "2023-04-09T01:28:38.915Z"
   },
   {
    "duration": 246,
    "start_time": "2023-04-09T01:28:38.922Z"
   },
   {
    "duration": 7,
    "start_time": "2023-04-09T01:28:39.171Z"
   },
   {
    "duration": 15,
    "start_time": "2023-04-09T01:28:39.180Z"
   },
   {
    "duration": 175,
    "start_time": "2023-04-09T01:28:39.197Z"
   },
   {
    "duration": 186,
    "start_time": "2023-04-09T01:28:39.374Z"
   },
   {
    "duration": 273,
    "start_time": "2023-04-09T01:28:39.562Z"
   },
   {
    "duration": 4,
    "start_time": "2023-04-09T01:28:39.836Z"
   },
   {
    "duration": 13,
    "start_time": "2023-04-09T01:28:39.841Z"
   },
   {
    "duration": 5,
    "start_time": "2023-04-09T01:28:39.855Z"
   },
   {
    "duration": 5,
    "start_time": "2023-04-09T01:28:39.872Z"
   },
   {
    "duration": 11,
    "start_time": "2023-04-09T01:28:39.878Z"
   },
   {
    "duration": 9,
    "start_time": "2023-04-09T01:28:39.890Z"
   },
   {
    "duration": 12,
    "start_time": "2023-04-09T01:28:39.900Z"
   },
   {
    "duration": 3,
    "start_time": "2023-04-09T01:28:39.914Z"
   },
   {
    "duration": 5,
    "start_time": "2023-04-09T01:28:39.920Z"
   },
   {
    "duration": 202566,
    "start_time": "2023-04-09T01:28:39.927Z"
   },
   {
    "duration": 3,
    "start_time": "2023-04-09T01:32:02.495Z"
   },
   {
    "duration": 41,
    "start_time": "2023-04-09T01:32:02.499Z"
   },
   {
    "duration": 43,
    "start_time": "2023-04-09T01:32:02.541Z"
   },
   {
    "duration": 62,
    "start_time": "2023-04-09T01:32:02.586Z"
   },
   {
    "duration": 59,
    "start_time": "2023-04-09T01:32:02.650Z"
   },
   {
    "duration": 33,
    "start_time": "2023-04-09T01:32:02.711Z"
   },
   {
    "duration": 57,
    "start_time": "2023-04-09T01:32:02.746Z"
   },
   {
    "duration": 71,
    "start_time": "2023-04-09T01:32:02.805Z"
   },
   {
    "duration": 29,
    "start_time": "2023-04-09T01:32:02.877Z"
   },
   {
    "duration": 122964,
    "start_time": "2023-04-09T01:32:02.908Z"
   },
   {
    "duration": 849004,
    "start_time": "2023-04-09T01:34:05.874Z"
   },
   {
    "duration": 8,
    "start_time": "2023-04-09T01:48:14.880Z"
   },
   {
    "duration": 98,
    "start_time": "2023-04-09T01:48:14.889Z"
   },
   {
    "duration": 146,
    "start_time": "2023-04-09T01:54:39.691Z"
   },
   {
    "duration": 10,
    "start_time": "2023-04-09T01:54:53.867Z"
   },
   {
    "duration": 14,
    "start_time": "2023-04-09T01:55:02.518Z"
   },
   {
    "duration": 1864,
    "start_time": "2023-04-09T01:55:38.430Z"
   },
   {
    "duration": 1841,
    "start_time": "2023-04-09T01:55:40.296Z"
   },
   {
    "duration": 1881,
    "start_time": "2023-04-09T01:55:42.139Z"
   },
   {
    "duration": 1757,
    "start_time": "2023-04-09T01:55:44.023Z"
   },
   {
    "duration": 40,
    "start_time": "2023-04-09T01:55:45.782Z"
   },
   {
    "duration": 11,
    "start_time": "2023-04-09T01:55:45.824Z"
   },
   {
    "duration": 14,
    "start_time": "2023-04-09T01:55:45.837Z"
   },
   {
    "duration": 13,
    "start_time": "2023-04-09T01:55:45.852Z"
   },
   {
    "duration": 9,
    "start_time": "2023-04-09T01:55:45.867Z"
   },
   {
    "duration": 13,
    "start_time": "2023-04-09T01:55:45.878Z"
   },
   {
    "duration": 13,
    "start_time": "2023-04-09T01:55:45.893Z"
   },
   {
    "duration": 11,
    "start_time": "2023-04-09T01:55:45.908Z"
   },
   {
    "duration": 20,
    "start_time": "2023-04-09T01:55:45.921Z"
   },
   {
    "duration": 287,
    "start_time": "2023-04-09T01:55:45.943Z"
   },
   {
    "duration": 6,
    "start_time": "2023-04-09T01:55:46.232Z"
   },
   {
    "duration": 10,
    "start_time": "2023-04-09T01:55:46.239Z"
   },
   {
    "duration": 215,
    "start_time": "2023-04-09T01:55:46.250Z"
   },
   {
    "duration": 195,
    "start_time": "2023-04-09T01:55:46.472Z"
   },
   {
    "duration": 185,
    "start_time": "2023-04-09T01:55:46.671Z"
   },
   {
    "duration": 3,
    "start_time": "2023-04-09T01:55:46.858Z"
   },
   {
    "duration": 18,
    "start_time": "2023-04-09T01:55:46.863Z"
   },
   {
    "duration": 6,
    "start_time": "2023-04-09T01:55:46.883Z"
   },
   {
    "duration": 14,
    "start_time": "2023-04-09T01:55:46.891Z"
   },
   {
    "duration": 17,
    "start_time": "2023-04-09T01:55:46.908Z"
   },
   {
    "duration": 6,
    "start_time": "2023-04-09T01:55:46.927Z"
   },
   {
    "duration": 104,
    "start_time": "2023-04-09T01:55:46.935Z"
   },
   {
    "duration": 8,
    "start_time": "2023-04-09T01:55:47.041Z"
   },
   {
    "duration": 6,
    "start_time": "2023-04-09T01:55:47.053Z"
   },
   {
    "duration": 245105,
    "start_time": "2023-04-09T01:55:47.061Z"
   },
   {
    "duration": 3,
    "start_time": "2023-04-09T01:59:52.168Z"
   },
   {
    "duration": 32,
    "start_time": "2023-04-09T01:59:52.172Z"
   },
   {
    "duration": 28,
    "start_time": "2023-04-09T01:59:52.206Z"
   },
   {
    "duration": 32,
    "start_time": "2023-04-09T01:59:52.236Z"
   },
   {
    "duration": 23,
    "start_time": "2023-04-09T01:59:52.270Z"
   },
   {
    "duration": 15,
    "start_time": "2023-04-09T01:59:52.295Z"
   },
   {
    "duration": 17,
    "start_time": "2023-04-09T01:59:52.311Z"
   },
   {
    "duration": 50,
    "start_time": "2023-04-09T01:59:52.329Z"
   },
   {
    "duration": 4,
    "start_time": "2023-04-09T01:59:52.380Z"
   },
   {
    "duration": 147687,
    "start_time": "2023-04-09T01:59:52.385Z"
   },
   {
    "duration": 2418619,
    "start_time": "2023-04-09T02:02:20.075Z"
   },
   {
    "duration": 8,
    "start_time": "2023-04-09T02:42:38.696Z"
   },
   {
    "duration": 195,
    "start_time": "2023-04-09T02:42:38.705Z"
   },
   {
    "duration": 2140,
    "start_time": "2023-04-09T04:55:34.830Z"
   },
   {
    "duration": 2011,
    "start_time": "2023-04-09T04:55:36.981Z"
   },
   {
    "duration": 2546,
    "start_time": "2023-04-09T04:55:38.994Z"
   },
   {
    "duration": 2028,
    "start_time": "2023-04-09T04:55:41.542Z"
   },
   {
    "duration": 52,
    "start_time": "2023-04-09T04:55:43.575Z"
   },
   {
    "duration": 13,
    "start_time": "2023-04-09T04:55:43.629Z"
   },
   {
    "duration": 13,
    "start_time": "2023-04-09T04:55:43.644Z"
   },
   {
    "duration": 52,
    "start_time": "2023-04-09T04:55:43.659Z"
   },
   {
    "duration": 10,
    "start_time": "2023-04-09T04:55:43.712Z"
   },
   {
    "duration": 24,
    "start_time": "2023-04-09T04:55:43.724Z"
   },
   {
    "duration": 17,
    "start_time": "2023-04-09T04:55:43.750Z"
   },
   {
    "duration": 38,
    "start_time": "2023-04-09T04:55:43.769Z"
   },
   {
    "duration": 13,
    "start_time": "2023-04-09T04:55:43.808Z"
   },
   {
    "duration": 361,
    "start_time": "2023-04-09T04:55:43.824Z"
   },
   {
    "duration": 12,
    "start_time": "2023-04-09T04:55:44.187Z"
   },
   {
    "duration": 8,
    "start_time": "2023-04-09T04:55:44.202Z"
   },
   {
    "duration": 202,
    "start_time": "2023-04-09T04:55:44.212Z"
   },
   {
    "duration": 229,
    "start_time": "2023-04-09T04:55:44.416Z"
   },
   {
    "duration": 219,
    "start_time": "2023-04-09T04:55:44.647Z"
   },
   {
    "duration": 9,
    "start_time": "2023-04-09T04:55:44.868Z"
   },
   {
    "duration": 33,
    "start_time": "2023-04-09T04:55:44.880Z"
   },
   {
    "duration": 8,
    "start_time": "2023-04-09T04:55:44.915Z"
   },
   {
    "duration": 7,
    "start_time": "2023-04-09T04:55:44.924Z"
   },
   {
    "duration": 18,
    "start_time": "2023-04-09T04:55:44.932Z"
   },
   {
    "duration": 9,
    "start_time": "2023-04-09T04:55:44.952Z"
   },
   {
    "duration": 134,
    "start_time": "2023-04-09T04:55:44.963Z"
   },
   {
    "duration": 21,
    "start_time": "2023-04-09T04:55:45.102Z"
   },
   {
    "duration": 10,
    "start_time": "2023-04-09T04:55:45.125Z"
   },
   {
    "duration": 297274,
    "start_time": "2023-04-09T04:55:45.136Z"
   },
   {
    "duration": 7,
    "start_time": "2023-04-09T05:00:42.417Z"
   },
   {
    "duration": 29,
    "start_time": "2023-04-09T05:00:42.427Z"
   },
   {
    "duration": 82,
    "start_time": "2023-04-09T05:00:42.458Z"
   },
   {
    "duration": 83,
    "start_time": "2023-04-09T05:00:42.543Z"
   },
   {
    "duration": 31,
    "start_time": "2023-04-09T05:00:42.628Z"
   },
   {
    "duration": 54,
    "start_time": "2023-04-09T05:00:42.660Z"
   },
   {
    "duration": 11,
    "start_time": "2023-04-09T05:00:42.716Z"
   },
   {
    "duration": 77,
    "start_time": "2023-04-09T05:00:42.729Z"
   },
   {
    "duration": 6,
    "start_time": "2023-04-09T05:00:42.809Z"
   },
   {
    "duration": 371677,
    "start_time": "2023-04-09T05:00:42.818Z"
   },
   {
    "duration": 1170902,
    "start_time": "2023-04-09T05:06:54.496Z"
   },
   {
    "duration": 7,
    "start_time": "2023-04-09T05:26:25.475Z"
   },
   {
    "duration": 16,
    "start_time": "2023-04-09T05:26:25.484Z"
   },
   {
    "duration": 1115,
    "start_time": "2023-04-09T05:44:53.056Z"
   },
   {
    "duration": 55,
    "start_time": "2023-04-09T05:45:02.316Z"
   },
   {
    "duration": 2153,
    "start_time": "2023-04-09T05:45:52.414Z"
   },
   {
    "duration": 2379,
    "start_time": "2023-04-09T05:45:54.569Z"
   },
   {
    "duration": 2353,
    "start_time": "2023-04-09T05:45:56.950Z"
   },
   {
    "duration": 2126,
    "start_time": "2023-04-09T05:45:59.306Z"
   },
   {
    "duration": 70,
    "start_time": "2023-04-09T05:46:01.435Z"
   },
   {
    "duration": 12,
    "start_time": "2023-04-09T05:46:01.511Z"
   },
   {
    "duration": 41,
    "start_time": "2023-04-09T05:46:01.524Z"
   },
   {
    "duration": 64,
    "start_time": "2023-04-09T05:46:01.567Z"
   },
   {
    "duration": 29,
    "start_time": "2023-04-09T05:46:01.633Z"
   },
   {
    "duration": 68,
    "start_time": "2023-04-09T05:46:01.666Z"
   },
   {
    "duration": 79,
    "start_time": "2023-04-09T05:46:01.735Z"
   },
   {
    "duration": 109,
    "start_time": "2023-04-09T05:46:01.816Z"
   },
   {
    "duration": 89,
    "start_time": "2023-04-09T05:46:01.927Z"
   },
   {
    "duration": 375,
    "start_time": "2023-04-09T05:46:02.018Z"
   },
   {
    "duration": 10,
    "start_time": "2023-04-09T05:46:02.395Z"
   },
   {
    "duration": 42,
    "start_time": "2023-04-09T05:46:02.407Z"
   },
   {
    "duration": 296,
    "start_time": "2023-04-09T05:46:02.451Z"
   },
   {
    "duration": 261,
    "start_time": "2023-04-09T05:46:02.749Z"
   },
   {
    "duration": 245,
    "start_time": "2023-04-09T05:46:03.013Z"
   },
   {
    "duration": 4,
    "start_time": "2023-04-09T05:46:03.259Z"
   },
   {
    "duration": 17,
    "start_time": "2023-04-09T05:46:03.265Z"
   },
   {
    "duration": 40,
    "start_time": "2023-04-09T05:46:03.284Z"
   },
   {
    "duration": 7,
    "start_time": "2023-04-09T05:46:03.326Z"
   },
   {
    "duration": 18,
    "start_time": "2023-04-09T05:46:03.334Z"
   },
   {
    "duration": 9,
    "start_time": "2023-04-09T05:46:03.354Z"
   },
   {
    "duration": 100,
    "start_time": "2023-04-09T05:46:03.365Z"
   },
   {
    "duration": 14,
    "start_time": "2023-04-09T05:46:03.467Z"
   },
   {
    "duration": 38,
    "start_time": "2023-04-09T05:46:03.484Z"
   },
   {
    "duration": 579224,
    "start_time": "2023-04-09T05:46:03.524Z"
   },
   {
    "duration": 4,
    "start_time": "2023-04-09T05:55:42.750Z"
   },
   {
    "duration": 12,
    "start_time": "2023-04-09T05:55:42.756Z"
   },
   {
    "duration": 41,
    "start_time": "2023-04-09T05:55:42.770Z"
   },
   {
    "duration": 18,
    "start_time": "2023-04-09T05:55:42.813Z"
   },
   {
    "duration": 31,
    "start_time": "2023-04-09T05:55:42.832Z"
   },
   {
    "duration": 32,
    "start_time": "2023-04-09T05:55:42.865Z"
   },
   {
    "duration": 11,
    "start_time": "2023-04-09T05:55:42.905Z"
   },
   {
    "duration": 69,
    "start_time": "2023-04-09T05:55:42.918Z"
   },
   {
    "duration": 4,
    "start_time": "2023-04-09T05:55:42.989Z"
   },
   {
    "duration": 658809,
    "start_time": "2023-04-09T05:55:42.995Z"
   },
   {
    "duration": 2829,
    "start_time": "2023-04-10T04:44:22.457Z"
   },
   {
    "duration": 2625,
    "start_time": "2023-04-10T04:44:25.288Z"
   },
   {
    "duration": 2730,
    "start_time": "2023-04-10T04:44:27.915Z"
   },
   {
    "duration": 6526,
    "start_time": "2023-04-10T04:44:30.647Z"
   },
   {
    "duration": 120,
    "start_time": "2023-04-10T04:44:37.175Z"
   },
   {
    "duration": 11,
    "start_time": "2023-04-10T04:44:37.297Z"
   },
   {
    "duration": 35,
    "start_time": "2023-04-10T04:44:37.310Z"
   },
   {
    "duration": 20,
    "start_time": "2023-04-10T04:44:37.347Z"
   },
   {
    "duration": 16,
    "start_time": "2023-04-10T04:44:37.368Z"
   },
   {
    "duration": 38,
    "start_time": "2023-04-10T04:44:37.385Z"
   },
   {
    "duration": 56,
    "start_time": "2023-04-10T04:44:37.424Z"
   },
   {
    "duration": 44,
    "start_time": "2023-04-10T04:44:37.482Z"
   },
   {
    "duration": 6,
    "start_time": "2023-04-10T04:44:37.527Z"
   },
   {
    "duration": 248,
    "start_time": "2023-04-10T04:44:37.535Z"
   },
   {
    "duration": 5,
    "start_time": "2023-04-10T04:44:37.785Z"
   },
   {
    "duration": 18,
    "start_time": "2023-04-10T04:44:37.791Z"
   },
   {
    "duration": 200,
    "start_time": "2023-04-10T04:44:37.811Z"
   },
   {
    "duration": 217,
    "start_time": "2023-04-10T04:44:38.012Z"
   },
   {
    "duration": 324,
    "start_time": "2023-04-10T04:44:38.232Z"
   },
   {
    "duration": 4,
    "start_time": "2023-04-10T04:44:38.558Z"
   },
   {
    "duration": 23,
    "start_time": "2023-04-10T04:44:38.564Z"
   },
   {
    "duration": 16,
    "start_time": "2023-04-10T04:44:38.589Z"
   },
   {
    "duration": 12,
    "start_time": "2023-04-10T04:44:38.607Z"
   },
   {
    "duration": 18,
    "start_time": "2023-04-10T04:44:38.621Z"
   },
   {
    "duration": 21,
    "start_time": "2023-04-10T04:44:38.641Z"
   },
   {
    "duration": 27,
    "start_time": "2023-04-10T04:44:38.663Z"
   },
   {
    "duration": 16,
    "start_time": "2023-04-10T04:44:38.692Z"
   },
   {
    "duration": 13,
    "start_time": "2023-04-10T04:44:38.710Z"
   },
   {
    "duration": 520936,
    "start_time": "2023-04-10T04:44:38.724Z"
   },
   {
    "duration": 3,
    "start_time": "2023-04-10T04:53:19.662Z"
   },
   {
    "duration": 11,
    "start_time": "2023-04-10T04:53:19.668Z"
   },
   {
    "duration": 16,
    "start_time": "2023-04-10T04:53:19.681Z"
   },
   {
    "duration": 12,
    "start_time": "2023-04-10T04:53:19.698Z"
   },
   {
    "duration": 15,
    "start_time": "2023-04-10T04:53:19.711Z"
   },
   {
    "duration": 9,
    "start_time": "2023-04-10T04:53:19.728Z"
   },
   {
    "duration": 10,
    "start_time": "2023-04-10T04:53:19.738Z"
   },
   {
    "duration": 60,
    "start_time": "2023-04-10T04:53:19.749Z"
   },
   {
    "duration": 5,
    "start_time": "2023-04-10T04:53:19.811Z"
   },
   {
    "duration": 126072,
    "start_time": "2023-04-10T04:53:19.818Z"
   },
   {
    "duration": 968011,
    "start_time": "2023-04-10T04:55:25.892Z"
   },
   {
    "duration": 79,
    "start_time": "2023-04-10T05:11:33.906Z"
   },
   {
    "duration": 102,
    "start_time": "2023-04-10T05:11:33.986Z"
   },
   {
    "duration": 13,
    "start_time": "2023-04-10T05:16:51.242Z"
   },
   {
    "duration": 5,
    "start_time": "2023-04-10T05:18:11.010Z"
   },
   {
    "duration": 4,
    "start_time": "2023-04-10T05:18:28.268Z"
   },
   {
    "duration": 2091,
    "start_time": "2023-04-10T05:19:21.367Z"
   },
   {
    "duration": 2399,
    "start_time": "2023-04-10T05:19:23.460Z"
   },
   {
    "duration": 2347,
    "start_time": "2023-04-10T05:19:25.861Z"
   },
   {
    "duration": 2274,
    "start_time": "2023-04-10T05:19:28.212Z"
   },
   {
    "duration": 43,
    "start_time": "2023-04-10T05:19:30.488Z"
   },
   {
    "duration": 11,
    "start_time": "2023-04-10T05:19:30.533Z"
   },
   {
    "duration": 32,
    "start_time": "2023-04-10T05:19:30.545Z"
   },
   {
    "duration": 18,
    "start_time": "2023-04-10T05:19:30.579Z"
   },
   {
    "duration": 20,
    "start_time": "2023-04-10T05:19:30.599Z"
   },
   {
    "duration": 36,
    "start_time": "2023-04-10T05:19:30.622Z"
   },
   {
    "duration": 31,
    "start_time": "2023-04-10T05:19:30.659Z"
   },
   {
    "duration": 21,
    "start_time": "2023-04-10T05:19:30.691Z"
   },
   {
    "duration": 29,
    "start_time": "2023-04-10T05:19:30.714Z"
   },
   {
    "duration": 278,
    "start_time": "2023-04-10T05:19:30.745Z"
   },
   {
    "duration": 6,
    "start_time": "2023-04-10T05:19:31.025Z"
   },
   {
    "duration": 41,
    "start_time": "2023-04-10T05:19:31.032Z"
   },
   {
    "duration": 248,
    "start_time": "2023-04-10T05:19:31.075Z"
   },
   {
    "duration": 215,
    "start_time": "2023-04-10T05:19:31.325Z"
   },
   {
    "duration": 205,
    "start_time": "2023-04-10T05:19:31.542Z"
   },
   {
    "duration": 4,
    "start_time": "2023-04-10T05:19:31.748Z"
   },
   {
    "duration": 48,
    "start_time": "2023-04-10T05:19:31.753Z"
   },
   {
    "duration": 20,
    "start_time": "2023-04-10T05:19:31.803Z"
   },
   {
    "duration": 39,
    "start_time": "2023-04-10T05:19:31.825Z"
   },
   {
    "duration": 156,
    "start_time": "2023-04-10T05:19:31.865Z"
   },
   {
    "duration": 122,
    "start_time": "2023-04-10T05:19:32.023Z"
   },
   {
    "duration": 30,
    "start_time": "2023-04-10T05:19:32.147Z"
   },
   {
    "duration": 24,
    "start_time": "2023-04-10T05:19:32.178Z"
   },
   {
    "duration": 19,
    "start_time": "2023-04-10T05:19:32.205Z"
   },
   {
    "duration": 668166,
    "start_time": "2023-04-10T05:19:32.226Z"
   },
   {
    "duration": 3,
    "start_time": "2023-04-10T05:30:40.394Z"
   },
   {
    "duration": 32,
    "start_time": "2023-04-10T05:30:40.398Z"
   },
   {
    "duration": 37,
    "start_time": "2023-04-10T05:30:40.431Z"
   },
   {
    "duration": 40,
    "start_time": "2023-04-10T05:30:40.470Z"
   },
   {
    "duration": 49,
    "start_time": "2023-04-10T05:30:40.512Z"
   },
   {
    "duration": 53,
    "start_time": "2023-04-10T05:30:40.563Z"
   },
   {
    "duration": 25,
    "start_time": "2023-04-10T05:30:40.617Z"
   },
   {
    "duration": 71,
    "start_time": "2023-04-10T05:30:40.643Z"
   },
   {
    "duration": 4,
    "start_time": "2023-04-10T05:30:40.715Z"
   },
   {
    "duration": 218190,
    "start_time": "2023-04-10T05:30:40.721Z"
   },
   {
    "duration": 995992,
    "start_time": "2023-04-10T05:34:18.912Z"
   },
   {
    "duration": 13,
    "start_time": "2023-04-10T05:50:54.906Z"
   },
   {
    "duration": 86,
    "start_time": "2023-04-10T05:50:54.923Z"
   },
   {
    "duration": 94,
    "start_time": "2023-04-10T05:58:52.305Z"
   },
   {
    "duration": 4,
    "start_time": "2023-04-10T05:59:30.137Z"
   },
   {
    "duration": 9,
    "start_time": "2023-04-10T06:00:01.904Z"
   },
   {
    "duration": 19,
    "start_time": "2023-04-10T06:00:15.900Z"
   }
  ],
  "kernelspec": {
   "display_name": "Python 3 (ipykernel)",
   "language": "python",
   "name": "python3"
  },
  "language_info": {
   "codemirror_mode": {
    "name": "ipython",
    "version": 3
   },
   "file_extension": ".py",
   "mimetype": "text/x-python",
   "name": "python",
   "nbconvert_exporter": "python",
   "pygments_lexer": "ipython3",
   "version": "3.9.5"
  },
  "toc": {
   "base_numbering": 1,
   "nav_menu": {},
   "number_sections": true,
   "sideBar": true,
   "skip_h1_title": true,
   "title_cell": "Содержание",
   "title_sidebar": "Contents",
   "toc_cell": true,
   "toc_position": {
    "height": "calc(100% - 180px)",
    "left": "10px",
    "top": "150px",
    "width": "165px"
   },
   "toc_section_display": true,
   "toc_window_display": true
  }
 },
 "nbformat": 4,
 "nbformat_minor": 2
}
