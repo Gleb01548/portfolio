{
 "cells": [
  {
   "cell_type": "markdown",
   "id": "1709ec42",
   "metadata": {},
   "source": [
    "- [Исследование надежности заемщиков.](#toc1_)    \n",
    "    - [Шаг 1. Обзор данных](#toc1_1_1_)    \n",
    "    - [Шаг 2.1 Заполнение пропусков](#toc1_1_2_)    \n",
    "    - [Шаг 2.2 Проверка данных на аномалии и исправления.](#toc1_1_3_)    \n",
    "    - [Шаг 2.3. Изменение типов данных.](#toc1_1_4_)    \n",
    "    - [Шаг 2.4. Удаление дубликатов.](#toc1_1_5_)    \n",
    "    - [Шаг 2.5. Формирование дополнительных датафреймов словарей, декомпозиция исходного датафрейма.](#toc1_1_6_)    \n",
    "    - [Шаг 2.6. Категоризация дохода.](#toc1_1_7_)    \n",
    "    - [Шаг 2.7. Категоризация целей кредита.](#toc1_1_8_)    \n",
    "    - [Ответы на вопросы.](#toc1_1_9_)    \n",
    "        - [Вопрос 1:](#toc1_1_9_1_1_)    \n",
    "        - [Вывод 1:](#toc1_1_9_1_2_)    \n",
    "        - [Вопрос 2:](#toc1_1_9_1_3_)    \n",
    "        - [Вывод 2:](#toc1_1_9_1_4_)    \n",
    "        - [Вопрос 3:](#toc1_1_9_1_5_)    \n",
    "        - [Вывод 3:](#toc1_1_9_1_6_)    \n",
    "        - [Вопрос 4:](#toc1_1_9_1_7_)    \n",
    "        - [Вывод 4:](#toc1_1_9_1_8_)    \n",
    "  - [Общий вывод:](#toc1_2_)    \n",
    "\n",
    "<!-- vscode-jupyter-toc-config\n",
    "\tnumbering=false\n",
    "\tanchor=true\n",
    "\tflat=false\n",
    "\tminLevel=1\n",
    "\tmaxLevel=6\n",
    "\t/vscode-jupyter-toc-config -->\n",
    "<!-- THIS CELL WILL BE REPLACED ON TOC UPDATE. DO NOT WRITE YOUR TEXT IN THIS CELL -->"
   ]
  },
  {
   "cell_type": "markdown",
   "id": "5c2f9d22",
   "metadata": {},
   "source": [
    "# <a id='toc1_'></a>[Исследование надежности заемщиков.](#toc0_)"
   ]
  },
  {
   "cell_type": "markdown",
   "id": "5c1d759d",
   "metadata": {},
   "source": [
    "Заказчик — кредитный отдел банка. Нужно разобраться, влияет ли семейное положение и количество детей клиента на факт погашения кредита в срок. Входные данные от банка — статистика о платёжеспособности клиентов.\n",
    "Результаты исследования будут учтены при построении модели кредитного скоринга — специальной системы, которая оценивает способность потенциального заёмщика вернуть кредит банку"
   ]
  },
  {
   "cell_type": "markdown",
   "metadata": {},
   "source": [
    "### <a id='toc1_1_1_'></a>[Шаг 1. Обзор данных](#toc0_)"
   ]
  },
  {
   "cell_type": "code",
   "execution_count": 35,
   "id": "419389e6",
   "metadata": {},
   "outputs": [
    {
     "name": "stdout",
     "output_type": "stream",
     "text": [
      "<class 'pandas.core.frame.DataFrame'>\n",
      "RangeIndex: 21525 entries, 0 to 21524\n",
      "Data columns (total 12 columns):\n",
      " #   Column            Non-Null Count  Dtype  \n",
      "---  ------            --------------  -----  \n",
      " 0   children          21525 non-null  int64  \n",
      " 1   days_employed     19351 non-null  float64\n",
      " 2   dob_years         21525 non-null  int64  \n",
      " 3   education         21525 non-null  object \n",
      " 4   education_id      21525 non-null  int64  \n",
      " 5   family_status     21525 non-null  object \n",
      " 6   family_status_id  21525 non-null  int64  \n",
      " 7   gender            21525 non-null  object \n",
      " 8   income_type       21525 non-null  object \n",
      " 9   debt              21525 non-null  int64  \n",
      " 10  total_income      19351 non-null  float64\n",
      " 11  purpose           21525 non-null  object \n",
      "dtypes: float64(2), int64(5), object(5)\n",
      "memory usage: 2.0+ MB\n"
     ]
    },
    {
     "data": {
      "text/html": [
       "<div>\n",
       "<style scoped>\n",
       "    .dataframe tbody tr th:only-of-type {\n",
       "        vertical-align: middle;\n",
       "    }\n",
       "\n",
       "    .dataframe tbody tr th {\n",
       "        vertical-align: top;\n",
       "    }\n",
       "\n",
       "    .dataframe thead th {\n",
       "        text-align: right;\n",
       "    }\n",
       "</style>\n",
       "<table border=\"1\" class=\"dataframe\">\n",
       "  <thead>\n",
       "    <tr style=\"text-align: right;\">\n",
       "      <th></th>\n",
       "      <th>children</th>\n",
       "      <th>days_employed</th>\n",
       "      <th>dob_years</th>\n",
       "      <th>education</th>\n",
       "      <th>education_id</th>\n",
       "      <th>family_status</th>\n",
       "      <th>family_status_id</th>\n",
       "      <th>gender</th>\n",
       "      <th>income_type</th>\n",
       "      <th>debt</th>\n",
       "      <th>total_income</th>\n",
       "      <th>purpose</th>\n",
       "    </tr>\n",
       "  </thead>\n",
       "  <tbody>\n",
       "    <tr>\n",
       "      <th>4651</th>\n",
       "      <td>0</td>\n",
       "      <td>375129.070606</td>\n",
       "      <td>71</td>\n",
       "      <td>среднее</td>\n",
       "      <td>1</td>\n",
       "      <td>вдовец / вдова</td>\n",
       "      <td>2</td>\n",
       "      <td>F</td>\n",
       "      <td>пенсионер</td>\n",
       "      <td>0</td>\n",
       "      <td>138706.135238</td>\n",
       "      <td>покупка жилья</td>\n",
       "    </tr>\n",
       "    <tr>\n",
       "      <th>20650</th>\n",
       "      <td>0</td>\n",
       "      <td>344746.326618</td>\n",
       "      <td>65</td>\n",
       "      <td>среднее</td>\n",
       "      <td>1</td>\n",
       "      <td>женат / замужем</td>\n",
       "      <td>0</td>\n",
       "      <td>F</td>\n",
       "      <td>пенсионер</td>\n",
       "      <td>0</td>\n",
       "      <td>71425.048805</td>\n",
       "      <td>недвижимость</td>\n",
       "    </tr>\n",
       "    <tr>\n",
       "      <th>9679</th>\n",
       "      <td>2</td>\n",
       "      <td>-7920.458750</td>\n",
       "      <td>40</td>\n",
       "      <td>среднее</td>\n",
       "      <td>1</td>\n",
       "      <td>гражданский брак</td>\n",
       "      <td>1</td>\n",
       "      <td>F</td>\n",
       "      <td>госслужащий</td>\n",
       "      <td>0</td>\n",
       "      <td>209465.965530</td>\n",
       "      <td>сыграть свадьбу</td>\n",
       "    </tr>\n",
       "    <tr>\n",
       "      <th>6520</th>\n",
       "      <td>0</td>\n",
       "      <td>-2271.003374</td>\n",
       "      <td>58</td>\n",
       "      <td>среднее</td>\n",
       "      <td>1</td>\n",
       "      <td>женат / замужем</td>\n",
       "      <td>0</td>\n",
       "      <td>M</td>\n",
       "      <td>сотрудник</td>\n",
       "      <td>0</td>\n",
       "      <td>331863.267393</td>\n",
       "      <td>операции с недвижимостью</td>\n",
       "    </tr>\n",
       "    <tr>\n",
       "      <th>916</th>\n",
       "      <td>1</td>\n",
       "      <td>-193.894643</td>\n",
       "      <td>39</td>\n",
       "      <td>начальное</td>\n",
       "      <td>3</td>\n",
       "      <td>женат / замужем</td>\n",
       "      <td>0</td>\n",
       "      <td>M</td>\n",
       "      <td>сотрудник</td>\n",
       "      <td>0</td>\n",
       "      <td>165491.893316</td>\n",
       "      <td>заняться образованием</td>\n",
       "    </tr>\n",
       "    <tr>\n",
       "      <th>15014</th>\n",
       "      <td>1</td>\n",
       "      <td>335066.543203</td>\n",
       "      <td>45</td>\n",
       "      <td>среднее</td>\n",
       "      <td>1</td>\n",
       "      <td>в разводе</td>\n",
       "      <td>3</td>\n",
       "      <td>M</td>\n",
       "      <td>пенсионер</td>\n",
       "      <td>0</td>\n",
       "      <td>206999.918673</td>\n",
       "      <td>образование</td>\n",
       "    </tr>\n",
       "    <tr>\n",
       "      <th>2213</th>\n",
       "      <td>0</td>\n",
       "      <td>-976.884186</td>\n",
       "      <td>32</td>\n",
       "      <td>среднее</td>\n",
       "      <td>1</td>\n",
       "      <td>женат / замужем</td>\n",
       "      <td>0</td>\n",
       "      <td>F</td>\n",
       "      <td>сотрудник</td>\n",
       "      <td>0</td>\n",
       "      <td>207597.541367</td>\n",
       "      <td>ремонт жилью</td>\n",
       "    </tr>\n",
       "    <tr>\n",
       "      <th>8746</th>\n",
       "      <td>0</td>\n",
       "      <td>-620.992337</td>\n",
       "      <td>58</td>\n",
       "      <td>среднее</td>\n",
       "      <td>1</td>\n",
       "      <td>гражданский брак</td>\n",
       "      <td>1</td>\n",
       "      <td>M</td>\n",
       "      <td>сотрудник</td>\n",
       "      <td>0</td>\n",
       "      <td>225933.614926</td>\n",
       "      <td>свадьба</td>\n",
       "    </tr>\n",
       "    <tr>\n",
       "      <th>14142</th>\n",
       "      <td>0</td>\n",
       "      <td>-7435.604522</td>\n",
       "      <td>53</td>\n",
       "      <td>высшее</td>\n",
       "      <td>0</td>\n",
       "      <td>гражданский брак</td>\n",
       "      <td>1</td>\n",
       "      <td>M</td>\n",
       "      <td>компаньон</td>\n",
       "      <td>0</td>\n",
       "      <td>192393.078743</td>\n",
       "      <td>заняться высшим образованием</td>\n",
       "    </tr>\n",
       "    <tr>\n",
       "      <th>17667</th>\n",
       "      <td>0</td>\n",
       "      <td>-4985.734895</td>\n",
       "      <td>45</td>\n",
       "      <td>среднее</td>\n",
       "      <td>1</td>\n",
       "      <td>гражданский брак</td>\n",
       "      <td>1</td>\n",
       "      <td>F</td>\n",
       "      <td>компаньон</td>\n",
       "      <td>0</td>\n",
       "      <td>191986.562579</td>\n",
       "      <td>на покупку автомобиля</td>\n",
       "    </tr>\n",
       "  </tbody>\n",
       "</table>\n",
       "</div>"
      ],
      "text/plain": [
       "       children  days_employed  dob_years  education  education_id  \\\n",
       "4651          0  375129.070606         71    среднее             1   \n",
       "20650         0  344746.326618         65    среднее             1   \n",
       "9679          2   -7920.458750         40    среднее             1   \n",
       "6520          0   -2271.003374         58    среднее             1   \n",
       "916           1    -193.894643         39  начальное             3   \n",
       "15014         1  335066.543203         45    среднее             1   \n",
       "2213          0    -976.884186         32    среднее             1   \n",
       "8746          0    -620.992337         58    среднее             1   \n",
       "14142         0   -7435.604522         53     высшее             0   \n",
       "17667         0   -4985.734895         45    среднее             1   \n",
       "\n",
       "          family_status  family_status_id gender  income_type  debt  \\\n",
       "4651     вдовец / вдова                 2      F    пенсионер     0   \n",
       "20650   женат / замужем                 0      F    пенсионер     0   \n",
       "9679   гражданский брак                 1      F  госслужащий     0   \n",
       "6520    женат / замужем                 0      M    сотрудник     0   \n",
       "916     женат / замужем                 0      M    сотрудник     0   \n",
       "15014         в разводе                 3      M    пенсионер     0   \n",
       "2213    женат / замужем                 0      F    сотрудник     0   \n",
       "8746   гражданский брак                 1      M    сотрудник     0   \n",
       "14142  гражданский брак                 1      M    компаньон     0   \n",
       "17667  гражданский брак                 1      F    компаньон     0   \n",
       "\n",
       "        total_income                       purpose  \n",
       "4651   138706.135238                 покупка жилья  \n",
       "20650   71425.048805                  недвижимость  \n",
       "9679   209465.965530               сыграть свадьбу  \n",
       "6520   331863.267393      операции с недвижимостью  \n",
       "916    165491.893316         заняться образованием  \n",
       "15014  206999.918673                   образование  \n",
       "2213   207597.541367                  ремонт жилью  \n",
       "8746   225933.614926                       свадьба  \n",
       "14142  192393.078743  заняться высшим образованием  \n",
       "17667  191986.562579         на покупку автомобиля  "
      ]
     },
     "execution_count": 35,
     "metadata": {},
     "output_type": "execute_result"
    }
   ],
   "source": [
    "import pandas as pd\n",
    "data = pd.read_csv(\"/datasets/data.csv\")\n",
    "data.info()\n",
    "data.sample(10)"
   ]
  },
  {
   "cell_type": "markdown",
   "metadata": {},
   "source": [
    "### <a id='toc1_1_2_'></a>[Шаг 2.1 Заполнение пропусков](#toc0_)"
   ]
  },
  {
   "cell_type": "markdown",
   "id": "ae0c0acd",
   "metadata": {},
   "source": [
    "В ходе изучения общей информации о датасете установлено, что колонках days_employed и total_income имеются пустые значения. "
   ]
  },
  {
   "cell_type": "code",
   "execution_count": 36,
   "id": "e5459fa7",
   "metadata": {},
   "outputs": [
    {
     "name": "stdout",
     "output_type": "stream",
     "text": [
      "совпадают\n"
     ]
    }
   ],
   "source": [
    "if list(data['days_employed'].isnull()) == list(data['total_income'].isnull()): \n",
    "    print('совпадают')\n",
    "else: \n",
    "    print('не совпадают')"
   ]
  },
  {
   "cell_type": "markdown",
   "id": "91515e84",
   "metadata": {},
   "source": [
    "При пропуске значений в столбце days_employed имеется и пропуск в столбце total_income,таким образом значения в рассматриваемых \n",
    "столбцах пропущены одинаковое число раз и в одних и тех же строках (это наблюдение будет использовано при ответе на вопросы \n",
    "                                                                    подпункта). "
   ]
  },
  {
   "cell_type": "code",
   "execution_count": 37,
   "id": "79be9b37",
   "metadata": {},
   "outputs": [
    {
     "name": "stdout",
     "output_type": "stream",
     "text": [
      "Кол-во пропусков в столбцах: days_employed, total_income  равняется: 2174, \n",
      "что состоявлет 11.2% от общего числа стоблцов\n",
      "2174 11.234561521368406\n"
     ]
    }
   ],
   "source": [
    "print('Кол-во пропусков в столбцах: days_employed, total_income  равняется: {0}, \\n\\\n",
    "что состоявлет {1:.1f}% от общего числа стоблцов'.\n",
    "      format(data['days_employed'].isnull().sum(), \n",
    "             data['days_employed'].isnull().sum() * 100 / data['days_employed'].count()))\n",
    "print(data['total_income'].isnull().sum(), data['total_income'].isnull().sum() * 100 / data['total_income'].count()) # перепроверка по столцу total_income"
   ]
  },
  {
   "cell_type": "code",
   "execution_count": 38,
   "id": "bcaaf369",
   "metadata": {},
   "outputs": [
    {
     "name": "stdout",
     "output_type": "stream",
     "text": [
      "сотрудник          1105\n",
      "компаньон           508\n",
      "пенсионер           413\n",
      "госслужащий         147\n",
      "предприниматель       1\n",
      "Name: income_type, dtype: int64\n"
     ]
    }
   ],
   "source": [
    "print(data[data['total_income'].isnull()]['income_type'].value_counts()) # узнаем тип занятости лиц в строках с пропущенными значениями"
   ]
  },
  {
   "cell_type": "markdown",
   "id": "fd03892f",
   "metadata": {},
   "source": [
    "Это информация потребуется для выводов"
   ]
  },
  {
   "cell_type": "code",
   "execution_count": 39,
   "id": "9c3fcc77",
   "metadata": {},
   "outputs": [
    {
     "name": "stdout",
     "output_type": "stream",
     "text": [
      "<class 'pandas.core.frame.DataFrame'>\n",
      "RangeIndex: 21525 entries, 0 to 21524\n",
      "Data columns (total 12 columns):\n",
      " #   Column            Non-Null Count  Dtype  \n",
      "---  ------            --------------  -----  \n",
      " 0   children          21525 non-null  int64  \n",
      " 1   days_employed     19351 non-null  float64\n",
      " 2   dob_years         21525 non-null  int64  \n",
      " 3   education         21525 non-null  object \n",
      " 4   education_id      21525 non-null  int64  \n",
      " 5   family_status     21525 non-null  object \n",
      " 6   family_status_id  21525 non-null  int64  \n",
      " 7   gender            21525 non-null  object \n",
      " 8   income_type       21525 non-null  object \n",
      " 9   debt              21525 non-null  int64  \n",
      " 10  total_income      21525 non-null  float64\n",
      " 11  purpose           21525 non-null  object \n",
      "dtypes: float64(2), int64(5), object(5)\n",
      "memory usage: 2.0+ MB\n"
     ]
    }
   ],
   "source": [
    "med = data['total_income'].median() # определение медианного значения\n",
    "data['total_income'] = data['total_income'].fillna(med)\n",
    "data.info() # проверка"
   ]
  },
  {
   "cell_type": "markdown",
   "id": "13acb6c4",
   "metadata": {},
   "source": [
    "Ответы на вопросы подпункта 1 Шага 2 (далее - пп.). \n",
    "- обнаружены пропущенные значения в столбцах days_employed и total_income, \n",
    "то есть общий трудовой стаж в днях и ежемесячный доход соответственно; \n",
    "- кол-во пропусков в столбцах: days_employed, total_income  равняется: 2174,\n",
    "что составляет 11.2% от общего числа столбцов; \n",
    "- прежде чем делать выводы о причинах пропуска значений в столбцах days_employed, total_income\n",
    "необходимо отметить следующее:\n",
    "    1. Пропуски в столбцах days_employed, total_income возникают в одних и тех же строках.\n",
    "    2. Значения в вышеуказанных столбцах пропущены в отношении 413 пенсионеров и 147 госслужащих.\n",
    "    3. В рассматриваемом датасете множество лиц с пропуском значения days_employed \n",
    "полностью совпадает с множеством лиц с пропуском значения total_income, что логично (так как при отсутствии \n",
    "трудового стажа, как правило нет дохода), что говорит, о том, что это не техническая ошибка и \n",
    "позволяет сделать следующий вывод: вышеуказанные лица либо не работали либо работают неофициально и \n",
    "не могли при оформлении кредита предоставить документы, подтверждающие наличие и размер трудового стажа, дохода.\n",
    "    Однако среди рассматриваемой категории граждан имеется 413 пенсионеров и 147 госслужащих, \n",
    "которые не могут не иметь доход, а также документы его подтверждающие.\n",
    "    Если бы я работал с анализируемым датасетом на реальной работе, то я бы обратился к лицу, предоставившему данные за разъяснением.\n",
    "    \n",
    "С учетом описания задания к датасету я делаю вывод, что пропуски в столбах возникли в следствие технической ошибки.\n",
    " -  Заполнить пропуски медианным значением — лучшее решение для количественных переменных, \n",
    "    потому что на значение среднего могут существенно влиять крайние значения.  "
   ]
  },
  {
   "cell_type": "markdown",
   "metadata": {},
   "source": [
    "### <a id='toc1_1_3_'></a>[Шаг 2.2 Проверка данных на аномалии и исправления.](#toc0_)"
   ]
  },
  {
   "cell_type": "code",
   "execution_count": 40,
   "id": "a02ef359",
   "metadata": {},
   "outputs": [
    {
     "name": "stdout",
     "output_type": "stream",
     "text": [
      "Количество отрицательных строк в days_employed: 15906\n",
      "Количество отрицательных строк в days_employed: 0\n"
     ]
    }
   ],
   "source": [
    "print(\"Количество отрицательных строк в days_employed:\", \n",
    "      data[data['days_employed'] < 0]['days_employed'].count())\n",
    "data['days_employed'] = abs(data['days_employed']) # Меняем отрицательные значения на положительные\n",
    "print(\"Количество отрицательных строк в days_employed:\", \n",
    "      data[data['days_employed'] < 0]['days_employed'].count()) # проверка\n"
   ]
  },
  {
   "cell_type": "code",
   "execution_count": 41,
   "id": "056cc8d0",
   "metadata": {},
   "outputs": [
    {
     "name": "stdout",
     "output_type": "stream",
     "text": [
      "children [-1, 0, 1, 2, 3, 4, 5, 20]\n",
      "dob_years [0, 19, 20, 21, 22, 23, 24, 25, 26, 27, 28, 29, 30, 31, 32, 33, 34, 35, 36, 37, 38, 39, 40, 41, 42, 43, 44, 45, 46, 47, 48, 49, 50, 51, 52, 53, 54, 55, 56, 57, 58, 59, 60, 61, 62, 63, 64, 65, 66, 67, 68, 69, 70, 71, 72, 73, 74, 75]\n",
      "education ['ВЫСШЕЕ', 'Высшее', 'НАЧАЛЬНОЕ', 'НЕОКОНЧЕННОЕ ВЫСШЕЕ', 'Начальное', 'Неоконченное высшее', 'СРЕДНЕЕ', 'Среднее', 'УЧЕНАЯ СТЕПЕНЬ', 'Ученая степень', 'высшее', 'начальное', 'неоконченное высшее', 'среднее', 'ученая степень']\n",
      "education_id [0, 1, 2, 3, 4]\n",
      "family_status ['Не женат / не замужем', 'в разводе', 'вдовец / вдова', 'гражданский брак', 'женат / замужем']\n",
      "family_status_id [0, 1, 2, 3, 4]\n",
      "gender ['F', 'M', 'XNA']\n",
      "income_type ['безработный', 'в декрете', 'госслужащий', 'компаньон', 'пенсионер', 'предприниматель', 'сотрудник', 'студент']\n",
      "debt [0, 1]\n",
      "purpose ['автомобили', 'автомобиль', 'высшее образование', 'дополнительное образование', 'жилье', 'заняться высшим образованием', 'заняться образованием', 'на покупку автомобиля', 'на покупку подержанного автомобиля', 'на покупку своего автомобиля', 'на проведение свадьбы', 'недвижимость', 'образование', 'операции с жильем', 'операции с коммерческой недвижимостью', 'операции с недвижимостью', 'операции со своей недвижимостью', 'покупка жилой недвижимости', 'покупка жилья', 'покупка жилья для сдачи', 'покупка жилья для семьи', 'покупка коммерческой недвижимости', 'покупка недвижимости', 'покупка своего жилья', 'получение высшего образования', 'получение дополнительного образования', 'получение образования', 'приобретение автомобиля', 'профильное образование', 'ремонт жилью', 'свадьба', 'свой автомобиль', 'сделка с автомобилем', 'сделка с подержанным автомобилем', 'строительство жилой недвижимости', 'строительство недвижимости', 'строительство собственной недвижимости', 'сыграть свадьбу']\n"
     ]
    }
   ],
   "source": [
    "columns_cheсk = ['children', 'dob_years', 'education', 'education_id', 'family_status', 'family_status_id',\n",
    "                 'gender', 'income_type', 'debt', 'purpose']\n",
    "\n",
    "for name_columns in columns_cheсk: \n",
    "    print(name_columns, sorted(data[name_columns].unique())) # выводим уникальные значения для столбцов для поиска аномалий"
   ]
  },
  {
   "cell_type": "markdown",
   "id": "135e1a49",
   "metadata": {},
   "source": [
    "В колонке children имеются значения -1 и 20, что очевидно аномалия. "
   ]
  },
  {
   "cell_type": "code",
   "execution_count": 45,
   "id": "9a3d1b11",
   "metadata": {},
   "outputs": [
    {
     "name": "stdout",
     "output_type": "stream",
     "text": [
      "children [0, 1, 2, 3, 4, 5]\n"
     ]
    }
   ],
   "source": [
    "data['children'] = abs(data['children'])\n",
    "data.loc[data['children'] == 20, 'children'] = 2\n",
    "print('children', sorted(data['children'].unique())) # проверка"
   ]
  },
  {
   "cell_type": "markdown",
   "id": "5472f5ed",
   "metadata": {},
   "source": [
    "Возможными причинами появления таких данных является техническая ошибка, человеческий фактор."
   ]
  },
  {
   "cell_type": "markdown",
   "metadata": {},
   "source": [
    "### <a id='toc1_1_4_'></a>[Шаг 2.3. Изменение типов данных.](#toc0_)"
   ]
  },
  {
   "cell_type": "code",
   "execution_count": 46,
   "id": "8f9d8f83",
   "metadata": {},
   "outputs": [
    {
     "name": "stdout",
     "output_type": "stream",
     "text": [
      "<class 'pandas.core.frame.DataFrame'>\n",
      "RangeIndex: 21525 entries, 0 to 21524\n",
      "Data columns (total 12 columns):\n",
      " #   Column            Non-Null Count  Dtype  \n",
      "---  ------            --------------  -----  \n",
      " 0   children          21525 non-null  int64  \n",
      " 1   days_employed     19351 non-null  float64\n",
      " 2   dob_years         21525 non-null  int64  \n",
      " 3   education         21525 non-null  object \n",
      " 4   education_id      21525 non-null  int64  \n",
      " 5   family_status     21525 non-null  object \n",
      " 6   family_status_id  21525 non-null  int64  \n",
      " 7   gender            21525 non-null  object \n",
      " 8   income_type       21525 non-null  object \n",
      " 9   debt              21525 non-null  int64  \n",
      " 10  total_income      21525 non-null  int64  \n",
      " 11  purpose           21525 non-null  object \n",
      "dtypes: float64(1), int64(6), object(5)\n",
      "memory usage: 2.0+ MB\n"
     ]
    }
   ],
   "source": [
    "data['total_income'] = data['total_income'].astype('int')\n",
    "data.info()"
   ]
  },
  {
   "cell_type": "markdown",
   "id": "647e6b91",
   "metadata": {},
   "source": [
    "Осуществлена замена в столбце total_income на целочисленное значение"
   ]
  },
  {
   "cell_type": "markdown",
   "metadata": {},
   "source": [
    "### <a id='toc1_1_5_'></a>[Шаг 2.4. Удаление дубликатов.](#toc0_)"
   ]
  },
  {
   "cell_type": "code",
   "execution_count": 47,
   "id": "7ee60527",
   "metadata": {},
   "outputs": [
    {
     "name": "stdout",
     "output_type": "stream",
     "text": [
      "Число дубликатов в датасете: 54\n",
      "Число дубликатов в датасете: 0\n"
     ]
    }
   ],
   "source": [
    "print('Число дубликатов в датасете:', data.duplicated().sum())\n",
    "data = data.drop_duplicates().drop_duplicates().reset_index(drop=True)\n",
    "print('Число дубликатов в датасете:', data.duplicated().sum()) # Проверка"
   ]
  },
  {
   "cell_type": "markdown",
   "id": "81ba1679",
   "metadata": {},
   "source": [
    "'Поиск не явных дубликатов:'"
   ]
  },
  {
   "cell_type": "code",
   "execution_count": 48,
   "id": "097a49bb",
   "metadata": {},
   "outputs": [
    {
     "name": "stdout",
     "output_type": "stream",
     "text": [
      "children [0, 1, 2, 3, 4, 5]\n",
      "dob_years [0, 19, 20, 21, 22, 23, 24, 25, 26, 27, 28, 29, 30, 31, 32, 33, 34, 35, 36, 37, 38, 39, 40, 41, 42, 43, 44, 45, 46, 47, 48, 49, 50, 51, 52, 53, 54, 55, 56, 57, 58, 59, 60, 61, 62, 63, 64, 65, 66, 67, 68, 69, 70, 71, 72, 73, 74, 75]\n",
      "education ['ВЫСШЕЕ', 'Высшее', 'НАЧАЛЬНОЕ', 'НЕОКОНЧЕННОЕ ВЫСШЕЕ', 'Начальное', 'Неоконченное высшее', 'СРЕДНЕЕ', 'Среднее', 'УЧЕНАЯ СТЕПЕНЬ', 'Ученая степень', 'высшее', 'начальное', 'неоконченное высшее', 'среднее', 'ученая степень']\n",
      "family_status ['Не женат / не замужем', 'в разводе', 'вдовец / вдова', 'гражданский брак', 'женат / замужем']\n",
      "gender ['F', 'M', 'XNA']\n",
      "income_type ['безработный', 'в декрете', 'госслужащий', 'компаньон', 'пенсионер', 'предприниматель', 'сотрудник', 'студент']\n",
      "debt [0, 1]\n",
      "purpose ['автомобили', 'автомобиль', 'высшее образование', 'дополнительное образование', 'жилье', 'заняться высшим образованием', 'заняться образованием', 'на покупку автомобиля', 'на покупку подержанного автомобиля', 'на покупку своего автомобиля', 'на проведение свадьбы', 'недвижимость', 'образование', 'операции с жильем', 'операции с коммерческой недвижимостью', 'операции с недвижимостью', 'операции со своей недвижимостью', 'покупка жилой недвижимости', 'покупка жилья', 'покупка жилья для сдачи', 'покупка жилья для семьи', 'покупка коммерческой недвижимости', 'покупка недвижимости', 'покупка своего жилья', 'получение высшего образования', 'получение дополнительного образования', 'получение образования', 'приобретение автомобиля', 'профильное образование', 'ремонт жилью', 'свадьба', 'свой автомобиль', 'сделка с автомобилем', 'сделка с подержанным автомобилем', 'строительство жилой недвижимости', 'строительство недвижимости', 'строительство собственной недвижимости', 'сыграть свадьбу']\n"
     ]
    }
   ],
   "source": [
    "# Здесь дублирую предыдущий код для удобства восприятия\n",
    "columns_cheсk = ['children', 'dob_years', 'education', 'family_status', 'gender', 'income_type', 'debt', 'purpose']\n",
    "for name_columns in columns_cheсk: \n",
    "    print(name_columns, sorted(data[name_columns].unique()))"
   ]
  },
  {
   "cell_type": "markdown",
   "id": "f1a70735",
   "metadata": {},
   "source": [
    "В колонке education неявные дубликаты выражены в наличии записей одного и того же уровня образования в разных регистрах."
   ]
  },
  {
   "cell_type": "code",
   "execution_count": 49,
   "id": "0fcb0158",
   "metadata": {},
   "outputs": [
    {
     "name": "stdout",
     "output_type": "stream",
     "text": [
      "['высшее', 'начальное', 'неоконченное высшее', 'среднее', 'ученая степень']\n",
      "Число дубликатов в датасете: 17\n",
      "Число дубликатов в датасете: 0\n"
     ]
    }
   ],
   "source": [
    "data['education'] = data['education'].str.lower() # Приведение к нижнему регистру\n",
    "print(sorted(data['education'].unique())) # проверка\n",
    "print('Число дубликатов в датасете:', data.duplicated().sum())\n",
    "data = data.drop_duplicates().drop_duplicates().reset_index(drop=True)\n",
    "print('Число дубликатов в датасете:', data.duplicated().sum()) # Проверка"
   ]
  },
  {
   "cell_type": "markdown",
   "id": "e4e1e047",
   "metadata": {},
   "source": [
    "Ответы на вопросы пп.4\n",
    "- для поиска и удаление дубликатов использовался метод duplicated(), \n",
    "для поиска не явных дубликатов использовался метод unique(), так как \n",
    "он выводит только уникальные значения; \n",
    "- возможные причины появление дубликатов ошибка при выгрузке данных, \n",
    "человеческий фактор"
   ]
  },
  {
   "cell_type": "markdown",
   "metadata": {},
   "source": [
    "### <a id='toc1_1_6_'></a>[Шаг 2.5. Формирование дополнительных датафреймов словарей, декомпозиция исходного датафрейма.](#toc0_)"
   ]
  },
  {
   "cell_type": "code",
   "execution_count": 50,
   "id": "274d819b",
   "metadata": {},
   "outputs": [
    {
     "name": "stdout",
     "output_type": "stream",
     "text": [
      "education_dict              education  education_id\n",
      "0               высшее             0\n",
      "1              среднее             1\n",
      "2  неоконченное высшее             2\n",
      "3            начальное             3\n",
      "4       ученая степень             4\n",
      "family_status            family_status  family_status_id\n",
      "0        женат / замужем                 0\n",
      "1       гражданский брак                 1\n",
      "2         вдовец / вдова                 2\n",
      "3              в разводе                 3\n",
      "4  Не женат / не замужем                 4\n",
      "<class 'pandas.core.frame.DataFrame'>\n",
      "RangeIndex: 21454 entries, 0 to 21453\n",
      "Data columns (total 10 columns):\n",
      " #   Column            Non-Null Count  Dtype  \n",
      "---  ------            --------------  -----  \n",
      " 0   children          21454 non-null  int64  \n",
      " 1   days_employed     19351 non-null  float64\n",
      " 2   dob_years         21454 non-null  int64  \n",
      " 3   education_id      21454 non-null  int64  \n",
      " 4   family_status_id  21454 non-null  int64  \n",
      " 5   gender            21454 non-null  object \n",
      " 6   income_type       21454 non-null  object \n",
      " 7   debt              21454 non-null  int64  \n",
      " 8   total_income      21454 non-null  int64  \n",
      " 9   purpose           21454 non-null  object \n",
      "dtypes: float64(1), int64(6), object(3)\n",
      "memory usage: 1.6+ MB\n"
     ]
    }
   ],
   "source": [
    "education_dict = data[['education', 'education_id']].drop_duplicates().reset_index(drop=True)\n",
    "print('education_dict', education_dict)\n",
    "family_dict = data[['family_status', 'family_status_id']].drop_duplicates().reset_index(drop=True)\n",
    "print('family_status', family_dict)\n",
    "data = data.drop(['education', 'family_status'], axis=1)\n",
    "data.info()"
   ]
  },
  {
   "cell_type": "markdown",
   "metadata": {},
   "source": [
    "### <a id='toc1_1_7_'></a>[Шаг 2.6. Категоризация дохода.](#toc0_)"
   ]
  },
  {
   "cell_type": "code",
   "execution_count": 51,
   "id": "acfb0e45",
   "metadata": {},
   "outputs": [
    {
     "name": "stdout",
     "output_type": "stream",
     "text": [
      "       total_income total_income_category\n",
      "17320        109759                     C\n",
      "20084        145017                     C\n",
      "20350        145017                     C\n",
      "15983        145017                     C\n",
      "3982         232010                     B\n",
      "18418        192454                     C\n",
      "20905        224281                     B\n",
      "7456         122553                     C\n",
      "2591          38275                     D\n",
      "1793         172723                     C\n"
     ]
    }
   ],
   "source": [
    "def income_group(amount):\n",
    "    if 0 <= amount <= 30000: \n",
    "        return \"E\"\n",
    "    elif 30001 <= amount <= 50000: \n",
    "        return \"D\"\n",
    "    elif 50001 <= amount <= 200000: \n",
    "        return \"C\"\n",
    "    elif 200001 <= amount <= 1000000: \n",
    "        return \"B\"\n",
    "    elif 1000001 <= amount: \n",
    "        return \"A\"\n",
    "    \n",
    "data['total_income_category'] = data['total_income'].apply(income_group)\n",
    "print(data[['total_income', 'total_income_category' ]].sample(10)) # проверка"
   ]
  },
  {
   "cell_type": "markdown",
   "metadata": {},
   "source": [
    "### <a id='toc1_1_8_'></a>[Шаг 2.7. Категоризация целей кредита.](#toc0_)"
   ]
  },
  {
   "cell_type": "markdown",
   "id": "5d1a3fde",
   "metadata": {},
   "source": [
    "Для выполнения шага 2.7 создаем функцию (processing_value_colums), принимающую аргумент - строку (name_purpose). \n",
    "Функция содержит в себе словарь(category_name), ключами которого являются категории кредита, значением словаря являются ключевые слова, использованные в датасте для описания целей кредита. \n",
    "Функция возвращает строку с названием соответствующей категории при совпадении целей кредита с ключевыми словами. "
   ]
  },
  {
   "cell_type": "code",
   "execution_count": 52,
   "id": "83e9f508",
   "metadata": {},
   "outputs": [
    {
     "name": "stdout",
     "output_type": "stream",
     "text": [
      "<class 'pandas.core.frame.DataFrame'>\n",
      "RangeIndex: 21454 entries, 0 to 21453\n",
      "Data columns (total 12 columns):\n",
      " #   Column                 Non-Null Count  Dtype  \n",
      "---  ------                 --------------  -----  \n",
      " 0   children               21454 non-null  int64  \n",
      " 1   days_employed          19351 non-null  float64\n",
      " 2   dob_years              21454 non-null  int64  \n",
      " 3   education_id           21454 non-null  int64  \n",
      " 4   family_status_id       21454 non-null  int64  \n",
      " 5   gender                 21454 non-null  object \n",
      " 6   income_type            21454 non-null  object \n",
      " 7   debt                   21454 non-null  int64  \n",
      " 8   total_income           21454 non-null  int64  \n",
      " 9   purpose                21454 non-null  object \n",
      " 10  total_income_category  21454 non-null  object \n",
      " 11  purpose_category       21454 non-null  object \n",
      "dtypes: float64(1), int64(6), object(5)\n",
      "memory usage: 2.0+ MB\n",
      "['операции с недвижимостью' 'операции с автомобилем'\n",
      " 'получение образования' 'проведение свадьбы']\n"
     ]
    },
    {
     "data": {
      "text/html": [
       "<div>\n",
       "<style scoped>\n",
       "    .dataframe tbody tr th:only-of-type {\n",
       "        vertical-align: middle;\n",
       "    }\n",
       "\n",
       "    .dataframe tbody tr th {\n",
       "        vertical-align: top;\n",
       "    }\n",
       "\n",
       "    .dataframe thead th {\n",
       "        text-align: right;\n",
       "    }\n",
       "</style>\n",
       "<table border=\"1\" class=\"dataframe\">\n",
       "  <thead>\n",
       "    <tr style=\"text-align: right;\">\n",
       "      <th></th>\n",
       "      <th>children</th>\n",
       "      <th>days_employed</th>\n",
       "      <th>dob_years</th>\n",
       "      <th>education_id</th>\n",
       "      <th>family_status_id</th>\n",
       "      <th>gender</th>\n",
       "      <th>income_type</th>\n",
       "      <th>debt</th>\n",
       "      <th>total_income</th>\n",
       "      <th>purpose</th>\n",
       "      <th>total_income_category</th>\n",
       "      <th>purpose_category</th>\n",
       "    </tr>\n",
       "  </thead>\n",
       "  <tbody>\n",
       "    <tr>\n",
       "      <th>3738</th>\n",
       "      <td>0</td>\n",
       "      <td>2083.882774</td>\n",
       "      <td>37</td>\n",
       "      <td>1</td>\n",
       "      <td>4</td>\n",
       "      <td>M</td>\n",
       "      <td>сотрудник</td>\n",
       "      <td>0</td>\n",
       "      <td>78495</td>\n",
       "      <td>свой автомобиль</td>\n",
       "      <td>C</td>\n",
       "      <td>операции с автомобилем</td>\n",
       "    </tr>\n",
       "    <tr>\n",
       "      <th>11376</th>\n",
       "      <td>0</td>\n",
       "      <td>842.501580</td>\n",
       "      <td>57</td>\n",
       "      <td>0</td>\n",
       "      <td>4</td>\n",
       "      <td>M</td>\n",
       "      <td>компаньон</td>\n",
       "      <td>0</td>\n",
       "      <td>120554</td>\n",
       "      <td>автомобили</td>\n",
       "      <td>C</td>\n",
       "      <td>операции с автомобилем</td>\n",
       "    </tr>\n",
       "    <tr>\n",
       "      <th>10188</th>\n",
       "      <td>0</td>\n",
       "      <td>681.569580</td>\n",
       "      <td>34</td>\n",
       "      <td>1</td>\n",
       "      <td>0</td>\n",
       "      <td>M</td>\n",
       "      <td>сотрудник</td>\n",
       "      <td>0</td>\n",
       "      <td>272971</td>\n",
       "      <td>операции со своей недвижимостью</td>\n",
       "      <td>B</td>\n",
       "      <td>операции с недвижимостью</td>\n",
       "    </tr>\n",
       "    <tr>\n",
       "      <th>6781</th>\n",
       "      <td>0</td>\n",
       "      <td>5582.828856</td>\n",
       "      <td>51</td>\n",
       "      <td>1</td>\n",
       "      <td>0</td>\n",
       "      <td>M</td>\n",
       "      <td>сотрудник</td>\n",
       "      <td>0</td>\n",
       "      <td>122973</td>\n",
       "      <td>дополнительное образование</td>\n",
       "      <td>C</td>\n",
       "      <td>получение образования</td>\n",
       "    </tr>\n",
       "    <tr>\n",
       "      <th>16384</th>\n",
       "      <td>0</td>\n",
       "      <td>8546.554301</td>\n",
       "      <td>43</td>\n",
       "      <td>1</td>\n",
       "      <td>0</td>\n",
       "      <td>M</td>\n",
       "      <td>сотрудник</td>\n",
       "      <td>0</td>\n",
       "      <td>100817</td>\n",
       "      <td>строительство жилой недвижимости</td>\n",
       "      <td>C</td>\n",
       "      <td>операции с недвижимостью</td>\n",
       "    </tr>\n",
       "    <tr>\n",
       "      <th>18969</th>\n",
       "      <td>0</td>\n",
       "      <td>347722.358671</td>\n",
       "      <td>63</td>\n",
       "      <td>1</td>\n",
       "      <td>0</td>\n",
       "      <td>F</td>\n",
       "      <td>пенсионер</td>\n",
       "      <td>0</td>\n",
       "      <td>279112</td>\n",
       "      <td>жилье</td>\n",
       "      <td>B</td>\n",
       "      <td>операции с недвижимостью</td>\n",
       "    </tr>\n",
       "    <tr>\n",
       "      <th>21426</th>\n",
       "      <td>0</td>\n",
       "      <td>NaN</td>\n",
       "      <td>48</td>\n",
       "      <td>0</td>\n",
       "      <td>0</td>\n",
       "      <td>F</td>\n",
       "      <td>компаньон</td>\n",
       "      <td>0</td>\n",
       "      <td>145017</td>\n",
       "      <td>строительство недвижимости</td>\n",
       "      <td>C</td>\n",
       "      <td>операции с недвижимостью</td>\n",
       "    </tr>\n",
       "    <tr>\n",
       "      <th>9502</th>\n",
       "      <td>0</td>\n",
       "      <td>3906.862845</td>\n",
       "      <td>55</td>\n",
       "      <td>1</td>\n",
       "      <td>1</td>\n",
       "      <td>F</td>\n",
       "      <td>сотрудник</td>\n",
       "      <td>0</td>\n",
       "      <td>191502</td>\n",
       "      <td>свадьба</td>\n",
       "      <td>C</td>\n",
       "      <td>проведение свадьбы</td>\n",
       "    </tr>\n",
       "    <tr>\n",
       "      <th>12351</th>\n",
       "      <td>1</td>\n",
       "      <td>1258.754340</td>\n",
       "      <td>30</td>\n",
       "      <td>1</td>\n",
       "      <td>4</td>\n",
       "      <td>M</td>\n",
       "      <td>сотрудник</td>\n",
       "      <td>0</td>\n",
       "      <td>183204</td>\n",
       "      <td>ремонт жилью</td>\n",
       "      <td>C</td>\n",
       "      <td>операции с недвижимостью</td>\n",
       "    </tr>\n",
       "    <tr>\n",
       "      <th>2375</th>\n",
       "      <td>0</td>\n",
       "      <td>55.475648</td>\n",
       "      <td>44</td>\n",
       "      <td>1</td>\n",
       "      <td>0</td>\n",
       "      <td>F</td>\n",
       "      <td>компаньон</td>\n",
       "      <td>0</td>\n",
       "      <td>168682</td>\n",
       "      <td>на покупку своего автомобиля</td>\n",
       "      <td>C</td>\n",
       "      <td>операции с автомобилем</td>\n",
       "    </tr>\n",
       "  </tbody>\n",
       "</table>\n",
       "</div>"
      ],
      "text/plain": [
       "       children  days_employed  dob_years  education_id  family_status_id  \\\n",
       "3738          0    2083.882774         37             1                 4   \n",
       "11376         0     842.501580         57             0                 4   \n",
       "10188         0     681.569580         34             1                 0   \n",
       "6781          0    5582.828856         51             1                 0   \n",
       "16384         0    8546.554301         43             1                 0   \n",
       "18969         0  347722.358671         63             1                 0   \n",
       "21426         0            NaN         48             0                 0   \n",
       "9502          0    3906.862845         55             1                 1   \n",
       "12351         1    1258.754340         30             1                 4   \n",
       "2375          0      55.475648         44             1                 0   \n",
       "\n",
       "      gender income_type  debt  total_income  \\\n",
       "3738       M   сотрудник     0         78495   \n",
       "11376      M   компаньон     0        120554   \n",
       "10188      M   сотрудник     0        272971   \n",
       "6781       M   сотрудник     0        122973   \n",
       "16384      M   сотрудник     0        100817   \n",
       "18969      F   пенсионер     0        279112   \n",
       "21426      F   компаньон     0        145017   \n",
       "9502       F   сотрудник     0        191502   \n",
       "12351      M   сотрудник     0        183204   \n",
       "2375       F   компаньон     0        168682   \n",
       "\n",
       "                                purpose total_income_category  \\\n",
       "3738                    свой автомобиль                     C   \n",
       "11376                        автомобили                     C   \n",
       "10188   операции со своей недвижимостью                     B   \n",
       "6781         дополнительное образование                     C   \n",
       "16384  строительство жилой недвижимости                     C   \n",
       "18969                             жилье                     B   \n",
       "21426        строительство недвижимости                     C   \n",
       "9502                            свадьба                     C   \n",
       "12351                      ремонт жилью                     C   \n",
       "2375       на покупку своего автомобиля                     C   \n",
       "\n",
       "               purpose_category  \n",
       "3738     операции с автомобилем  \n",
       "11376    операции с автомобилем  \n",
       "10188  операции с недвижимостью  \n",
       "6781      получение образования  \n",
       "16384  операции с недвижимостью  \n",
       "18969  операции с недвижимостью  \n",
       "21426  операции с недвижимостью  \n",
       "9502         проведение свадьбы  \n",
       "12351  операции с недвижимостью  \n",
       "2375     операции с автомобилем  "
      ]
     },
     "execution_count": 52,
     "metadata": {},
     "output_type": "execute_result"
    }
   ],
   "source": [
    "def processing_value_colums(name_purpose):\n",
    "    dict_category_name = {'операции с автомобилем': ['авто'], \n",
    "              'операции с недвижимостью': ['недвиж', 'жил'],\n",
    "              'получение образования': ['образ'],\n",
    "              'проведение свадьбы': ['свадьб']}\n",
    "    for category_name in dict_category_name.keys(): # получаем значение \n",
    "        for keyword in dict_category_name[category_name]: # проходим по ключевым словам\n",
    "                if keyword in name_purpose: # ищем соответствие \n",
    "                    return category_name\n",
    "data['purpose_category'] = data['purpose'].apply(processing_value_colums)\n",
    "data.info()\n",
    "print(data['purpose_category'].unique())\n",
    "data.sample(10)"
   ]
  },
  {
   "cell_type": "markdown",
   "id": "ed5135d0",
   "metadata": {},
   "source": [
    "Пустых значений в столбце purpose_category нет, значит функция успешно обработала все необходимые значения"
   ]
  },
  {
   "cell_type": "markdown",
   "id": "db6634ca",
   "metadata": {},
   "source": [
    "### <a id='toc1_1_9_'></a>[Ответы на вопросы.](#toc0_)"
   ]
  },
  {
   "cell_type": "markdown",
   "metadata": {},
   "source": [
    "##### <a id='toc1_1_9_1_1_'></a>[Вопрос 1:](#toc0_)"
   ]
  },
  {
   "cell_type": "markdown",
   "id": "c871d186",
   "metadata": {},
   "source": [
    "Есть ли зависимость между количеством детей и возвратом кредита в срок?"
   ]
  },
  {
   "cell_type": "code",
   "execution_count": 53,
   "id": "3f1ee886",
   "metadata": {},
   "outputs": [
    {
     "name": "stdout",
     "output_type": "stream",
     "text": [
      "          children  debt  persent_debt\n",
      "children                              \n",
      "0            14091  1063      7.543822\n",
      "1             4855   445      9.165808\n",
      "2             2128   202      9.492481\n",
      "3              330    27      8.181818\n",
      "4               41     4      9.756098\n",
      "5                9     0      0.000000\n",
      "Процент просрочек по кредитам клиентов с детьми: 9.208203178052424\n"
     ]
    }
   ],
   "source": [
    "children_group = data.groupby(['children']).agg({'children':'count', 'debt':'sum'})\n",
    "children_group['persent_debt'] = children_group['debt'] * 100 / children_group['children']\n",
    "print(children_group)\n",
    "print('Процент просрочек по кредитам клиентов с детьми:', children_group[1:]['debt'].sum() * 100 / \n",
    "      children_group.loc[1:]['children'].sum())"
   ]
  },
  {
   "cell_type": "markdown",
   "metadata": {},
   "source": [
    "##### <a id='toc1_1_9_1_2_'></a>[Вывод 1:](#toc0_)"
   ]
  },
  {
   "cell_type": "markdown",
   "id": "00c47849",
   "metadata": {},
   "source": [
    "У людей с детьми чаще просрочки по кредитам (9.2%), чем у бездетных (7.5%)"
   ]
  },
  {
   "cell_type": "markdown",
   "metadata": {},
   "source": [
    "##### <a id='toc1_1_9_1_3_'></a>[Вопрос 2:](#toc0_)"
   ]
  },
  {
   "cell_type": "markdown",
   "id": "9f8f020c",
   "metadata": {},
   "source": [
    "Есть ли зависимость между семейным положением и возвратом кредита в срок?"
   ]
  },
  {
   "cell_type": "code",
   "execution_count": 54,
   "id": "dae4a309",
   "metadata": {},
   "outputs": [
    {
     "name": "stdout",
     "output_type": "stream",
     "text": [
      "           family_status  family_status_id\n",
      "0        женат / замужем                 0\n",
      "1       гражданский брак                 1\n",
      "2         вдовец / вдова                 2\n",
      "3              в разводе                 3\n",
      "4  Не женат / не замужем                 4\n",
      "                  family_status_id  debt  persent_debt\n",
      "family_status_id                                      \n",
      "0                            12339   931      7.545182\n",
      "1                             4151   388      9.347145\n",
      "2                              959    63      6.569343\n",
      "3                             1195    85      7.112971\n",
      "4                             2810   274      9.750890\n",
      "Процент просрочек по кредитам клиентов никогда не состоявший в офицальном браке: 9.51012785519322\n",
      "Процент просрочек по кредитам клиентов состоящих (состоявших) в офицальном браке: 7.4449734354515975\n"
     ]
    }
   ],
   "source": [
    "family_group = data.groupby(['family_status_id']).agg({'family_status_id':'count', 'debt':'sum'})\n",
    "family_group['persent_debt'] = family_group['debt'] * 100 / family_group['family_status_id']\n",
    "print(family_dict)\n",
    "print(family_group)\n",
    "print('Процент просрочек по кредитам клиентов никогда не состоявший в офицальном браке:',\n",
    "      family_group.loc[[1, 4]]['debt'].sum() * 100 / family_group.loc[[1, 4]]['family_status_id'].sum())\n",
    "print('Процент просрочек по кредитам клиентов состоящих (состоявших) в офицальном браке:',\n",
    "      family_group.loc[[0, 2, 3]]['debt'].sum() * 100 / family_group.loc[[0, 2, 3]]['family_status_id'].sum())"
   ]
  },
  {
   "cell_type": "markdown",
   "metadata": {},
   "source": [
    "##### <a id='toc1_1_9_1_4_'></a>[Вывод 2:](#toc0_)"
   ]
  },
  {
   "cell_type": "markdown",
   "id": "e1e5cabe",
   "metadata": {},
   "source": [
    "Такая зависемость имеется - клиенты, состоящие либо состоявшие в браке реже всего допускают образование задолженности (7,4%), из них овдовевшие реже всех допускают просрочки (6.5%), а чаще всего женатые / замужем (7.5%). Разведенные клиенты просрачивали выплаты в 7.1% случаев.\n",
    "\n",
    "Клиенты, не состоящие в браке, в том числе состоящие в \"гражданском браке\", допускают просрочки по кредитам чаще (9,5%). "
   ]
  },
  {
   "cell_type": "markdown",
   "metadata": {},
   "source": [
    "##### <a id='toc1_1_9_1_5_'></a>[Вопрос 3:](#toc0_)"
   ]
  },
  {
   "cell_type": "markdown",
   "id": "f8dad708",
   "metadata": {},
   "source": [
    "Есть ли зависимость между уровнем дохода и возвратом кредита в срок?"
   ]
  },
  {
   "cell_type": "code",
   "execution_count": 55,
   "id": "20530c5e",
   "metadata": {},
   "outputs": [
    {
     "data": {
      "text/html": [
       "<div>\n",
       "<style scoped>\n",
       "    .dataframe tbody tr th:only-of-type {\n",
       "        vertical-align: middle;\n",
       "    }\n",
       "\n",
       "    .dataframe tbody tr th {\n",
       "        vertical-align: top;\n",
       "    }\n",
       "\n",
       "    .dataframe thead th {\n",
       "        text-align: right;\n",
       "    }\n",
       "</style>\n",
       "<table border=\"1\" class=\"dataframe\">\n",
       "  <thead>\n",
       "    <tr style=\"text-align: right;\">\n",
       "      <th></th>\n",
       "      <th>total_income_category</th>\n",
       "      <th>debt</th>\n",
       "      <th>persent_debt</th>\n",
       "    </tr>\n",
       "    <tr>\n",
       "      <th>total_income_category</th>\n",
       "      <th></th>\n",
       "      <th></th>\n",
       "      <th></th>\n",
       "    </tr>\n",
       "  </thead>\n",
       "  <tbody>\n",
       "    <tr>\n",
       "      <th>A</th>\n",
       "      <td>25</td>\n",
       "      <td>2</td>\n",
       "      <td>8.000000</td>\n",
       "    </tr>\n",
       "    <tr>\n",
       "      <th>B</th>\n",
       "      <td>5041</td>\n",
       "      <td>356</td>\n",
       "      <td>7.062091</td>\n",
       "    </tr>\n",
       "    <tr>\n",
       "      <th>C</th>\n",
       "      <td>16016</td>\n",
       "      <td>1360</td>\n",
       "      <td>8.491508</td>\n",
       "    </tr>\n",
       "    <tr>\n",
       "      <th>D</th>\n",
       "      <td>350</td>\n",
       "      <td>21</td>\n",
       "      <td>6.000000</td>\n",
       "    </tr>\n",
       "    <tr>\n",
       "      <th>E</th>\n",
       "      <td>22</td>\n",
       "      <td>2</td>\n",
       "      <td>9.090909</td>\n",
       "    </tr>\n",
       "  </tbody>\n",
       "</table>\n",
       "</div>"
      ],
      "text/plain": [
       "                       total_income_category  debt  persent_debt\n",
       "total_income_category                                           \n",
       "A                                         25     2      8.000000\n",
       "B                                       5041   356      7.062091\n",
       "C                                      16016  1360      8.491508\n",
       "D                                        350    21      6.000000\n",
       "E                                         22     2      9.090909"
      ]
     },
     "execution_count": 55,
     "metadata": {},
     "output_type": "execute_result"
    }
   ],
   "source": [
    "data_income_category = data.groupby(['total_income_category']).agg({'total_income_category':'count', 'debt':'sum'})\n",
    "data_income_category['persent_debt'] = data_income_category['debt'] * 100 / data_income_category['total_income_category']\n",
    "data_income_category"
   ]
  },
  {
   "cell_type": "markdown",
   "metadata": {},
   "source": [
    "##### <a id='toc1_1_9_1_6_'></a>[Вывод 3:](#toc0_)"
   ]
  },
  {
   "cell_type": "markdown",
   "id": "baebbef3",
   "metadata": {},
   "source": [
    "    Исходя из данных представленных в датасете размер доходов и факт наличия просрочки по кредиту не являются величинами обратно или прямо пропорциональными. \n",
    "    Наименьший объем просрочек наблюдается в категории D (6%), что меньше, чем в категориях с более высоким уровнем дохода - B(7%), C(8%). \n",
    "    Делать выводы о поведении категорий A, E не представляется возможным в связи с малой выборкой - 25 и 22 кредита соответственно."
   ]
  },
  {
   "cell_type": "markdown",
   "metadata": {},
   "source": [
    "##### <a id='toc1_1_9_1_7_'></a>[Вопрос 4:](#toc0_)"
   ]
  },
  {
   "cell_type": "markdown",
   "id": "1693afe2",
   "metadata": {},
   "source": [
    "Как разные цели кредита влияют на его возврат в срок?"
   ]
  },
  {
   "cell_type": "code",
   "execution_count": 56,
   "id": "c842eaa2",
   "metadata": {},
   "outputs": [
    {
     "name": "stdout",
     "output_type": "stream",
     "text": [
      "                          purpose_category  debt  percent_purpose_category\n",
      "purpose_category                                                          \n",
      "операции с автомобилем                4306   403                  9.359034\n",
      "операции с недвижимостью             10811   782                  7.233373\n",
      "получение образования                 4013   370                  9.220035\n",
      "проведение свадьбы                    2324   186                  8.003442\n"
     ]
    }
   ],
   "source": [
    "data_income_category = data.groupby(['purpose_category']).agg({'purpose_category':'count', 'debt':'sum'})\n",
    "data_income_category['percent_purpose_category'] = data_income_category['debt'] * 100 / data_income_category['purpose_category']\n",
    "print(data_income_category)"
   ]
  },
  {
   "cell_type": "markdown",
   "metadata": {},
   "source": [
    "##### <a id='toc1_1_9_1_8_'></a>[Вывод 4:](#toc0_)"
   ]
  },
  {
   "cell_type": "markdown",
   "id": "277bc104",
   "metadata": {},
   "source": [
    "Наименьший процент просрочек по кредитам имеется, полученных для: операций с недвижимостью (7,2%) и проведения свадьбы (8%). \n",
    "Наибольший процент просрочек по кредитам имеется, полученных для: операций с автомобилем (9,3%) и получения образования (9,2%). "
   ]
  },
  {
   "cell_type": "markdown",
   "metadata": {},
   "source": [
    "## <a id='toc1_2_'></a>[Общий вывод:](#toc0_)"
   ]
  },
  {
   "cell_type": "markdown",
   "id": "49efb0f7",
   "metadata": {},
   "source": [
    "Семейное положение и факт наличия детей вляет на факт погашения кредита в срок. \n",
    "\n",
    "Так, у людей с детьми чаще просрочки по кредитам (9.2%), чем у бездетных (7.5%). \n",
    "Клиенты, состоящие либо состоявшие в браке реже всего допускают образование задолженности (7,4%), из них овдовевшие реже всех допускают просрочку (6.5%), а чаще всего женатые / замужем (7.5%). Разведенные клиенты просрачивали выплаты в 7.1% случаев. клиенты, не состоящие в браке, в том числе состоящие в \"гражданском браке\", допускают просрочки по кредитам чаще (9,5%).\n",
    "\n",
    "Однако на факт погашения кредита в срок также влияют: цель кредита, уровень дохода клиента.\n",
    "\n",
    "Так, наименьший процент просрочек по кредитам имеется, полученных для: операций с недвижимостью (7,2%) и проведения свадьбы (8%). Наибольший процент просрочек по кредитам имеется, полученных для: операций с автомобилем (9,3%) и получения образования (9,2%). По уровню дохода наименьший объем просрочек наблюдается в категории D (6%), что меньше, чем в категориях с более высоким уровнем дохода - B(7%), C(8%)."
   ]
  }
 ],
 "metadata": {
  "ExecuteTimeLog": [
   {
    "duration": 371,
    "start_time": "2022-04-25T00:38:10.712Z"
   },
   {
    "duration": 105,
    "start_time": "2022-04-25T00:38:12.193Z"
   },
   {
    "duration": 90,
    "start_time": "2022-04-25T00:38:42.919Z"
   },
   {
    "duration": 76,
    "start_time": "2022-04-25T00:43:18.995Z"
   },
   {
    "duration": 7,
    "start_time": "2022-04-25T00:44:26.151Z"
   },
   {
    "duration": 6,
    "start_time": "2022-04-25T00:46:36.746Z"
   },
   {
    "duration": 7,
    "start_time": "2022-04-25T00:47:51.661Z"
   },
   {
    "duration": 85,
    "start_time": "2022-04-25T00:48:06.927Z"
   },
   {
    "duration": 7,
    "start_time": "2022-04-25T00:48:17.428Z"
   },
   {
    "duration": 19,
    "start_time": "2022-04-25T00:49:35.215Z"
   },
   {
    "duration": 15,
    "start_time": "2022-04-25T00:50:29.258Z"
   },
   {
    "duration": 12,
    "start_time": "2022-04-25T00:51:30.378Z"
   },
   {
    "duration": 19,
    "start_time": "2022-04-25T00:51:43.538Z"
   },
   {
    "duration": 29,
    "start_time": "2022-04-25T00:51:51.075Z"
   },
   {
    "duration": 465,
    "start_time": "2022-04-25T00:52:07.064Z"
   },
   {
    "duration": 17,
    "start_time": "2022-04-25T00:52:31.125Z"
   },
   {
    "duration": 351,
    "start_time": "2022-04-25T00:52:50.151Z"
   },
   {
    "duration": 24,
    "start_time": "2022-04-25T00:57:02.849Z"
   },
   {
    "duration": 17,
    "start_time": "2022-04-25T00:57:11.825Z"
   },
   {
    "duration": 30,
    "start_time": "2022-04-25T00:58:06.542Z"
   },
   {
    "duration": 28,
    "start_time": "2022-04-25T00:58:29.437Z"
   },
   {
    "duration": 29,
    "start_time": "2022-04-25T00:58:45.703Z"
   },
   {
    "duration": 111,
    "start_time": "2022-04-25T00:59:01.652Z"
   },
   {
    "duration": 466,
    "start_time": "2022-04-25T01:00:11.042Z"
   },
   {
    "duration": 33,
    "start_time": "2022-04-25T01:01:02.442Z"
   },
   {
    "duration": 18,
    "start_time": "2022-04-25T01:01:14.621Z"
   },
   {
    "duration": 17,
    "start_time": "2022-04-25T01:01:19.839Z"
   },
   {
    "duration": 26,
    "start_time": "2022-04-25T01:02:42.916Z"
   },
   {
    "duration": 16,
    "start_time": "2022-04-25T01:02:51.591Z"
   },
   {
    "duration": 59,
    "start_time": "2022-04-25T01:09:50.910Z"
   },
   {
    "duration": 13,
    "start_time": "2022-04-25T01:10:15.887Z"
   },
   {
    "duration": 9,
    "start_time": "2022-04-25T01:11:28.763Z"
   },
   {
    "duration": 5,
    "start_time": "2022-04-25T01:11:42.056Z"
   },
   {
    "duration": 18,
    "start_time": "2022-04-25T01:12:01.359Z"
   },
   {
    "duration": 7,
    "start_time": "2022-04-25T01:12:15.031Z"
   },
   {
    "duration": 6,
    "start_time": "2022-04-25T01:12:28.658Z"
   },
   {
    "duration": 43,
    "start_time": "2022-04-25T01:17:06.372Z"
   },
   {
    "duration": 15,
    "start_time": "2022-04-25T01:17:16.956Z"
   },
   {
    "duration": 14,
    "start_time": "2022-04-25T01:17:27.764Z"
   },
   {
    "duration": 10,
    "start_time": "2022-04-25T01:19:00.133Z"
   },
   {
    "duration": 7,
    "start_time": "2022-04-25T01:19:13.048Z"
   },
   {
    "duration": 84,
    "start_time": "2022-04-25T01:22:21.207Z"
   },
   {
    "duration": 16,
    "start_time": "2022-04-25T01:22:29.025Z"
   },
   {
    "duration": 58,
    "start_time": "2022-04-25T01:23:19.193Z"
   },
   {
    "duration": 12,
    "start_time": "2022-04-25T01:23:44.297Z"
   },
   {
    "duration": 70,
    "start_time": "2022-04-25T01:28:16.891Z"
   },
   {
    "duration": 29,
    "start_time": "2022-04-25T01:29:44.100Z"
   },
   {
    "duration": 17,
    "start_time": "2022-04-25T01:30:50.729Z"
   },
   {
    "duration": 15,
    "start_time": "2022-04-25T01:31:32.051Z"
   },
   {
    "duration": 38,
    "start_time": "2022-04-25T01:44:16.302Z"
   },
   {
    "duration": 35,
    "start_time": "2022-04-25T01:44:49.968Z"
   },
   {
    "duration": 40,
    "start_time": "2022-04-25T01:45:16.357Z"
   },
   {
    "duration": 41,
    "start_time": "2022-04-25T01:45:34.712Z"
   },
   {
    "duration": 44,
    "start_time": "2022-04-25T01:45:50.824Z"
   },
   {
    "duration": 11,
    "start_time": "2022-04-25T02:05:40.335Z"
   },
   {
    "duration": 12,
    "start_time": "2022-04-25T02:05:46.472Z"
   },
   {
    "duration": 13,
    "start_time": "2022-04-25T02:05:52.464Z"
   },
   {
    "duration": 12,
    "start_time": "2022-04-25T02:08:10.570Z"
   },
   {
    "duration": 13,
    "start_time": "2022-04-25T02:09:08.943Z"
   },
   {
    "duration": 12,
    "start_time": "2022-04-25T02:10:20.610Z"
   },
   {
    "duration": 2,
    "start_time": "2022-04-25T02:12:25.485Z"
   },
   {
    "duration": 2,
    "start_time": "2022-04-25T02:12:26.472Z"
   },
   {
    "duration": 2,
    "start_time": "2022-04-25T02:12:41.926Z"
   },
   {
    "duration": 14,
    "start_time": "2022-04-25T02:14:04.400Z"
   },
   {
    "duration": 13,
    "start_time": "2022-04-25T02:17:42.390Z"
   },
   {
    "duration": 14,
    "start_time": "2022-04-25T02:18:16.652Z"
   },
   {
    "duration": 1312,
    "start_time": "2022-04-25T02:19:48.705Z"
   },
   {
    "duration": 81,
    "start_time": "2022-04-25T02:20:16.145Z"
   },
   {
    "duration": 82,
    "start_time": "2022-04-25T02:20:23.188Z"
   },
   {
    "duration": 12,
    "start_time": "2022-04-25T02:20:28.753Z"
   },
   {
    "duration": 13,
    "start_time": "2022-04-25T02:20:46.995Z"
   },
   {
    "duration": 1390,
    "start_time": "2022-04-25T02:20:56.049Z"
   },
   {
    "duration": 18,
    "start_time": "2022-04-25T02:21:54.302Z"
   },
   {
    "duration": 14,
    "start_time": "2022-04-25T02:22:12.212Z"
   },
   {
    "duration": 16,
    "start_time": "2022-04-25T02:22:21.183Z"
   },
   {
    "duration": 22,
    "start_time": "2022-04-25T02:23:20.422Z"
   },
   {
    "duration": 16,
    "start_time": "2022-04-25T02:23:57.693Z"
   },
   {
    "duration": 15,
    "start_time": "2022-04-25T02:24:26.078Z"
   },
   {
    "duration": 15,
    "start_time": "2022-04-25T02:24:35.217Z"
   },
   {
    "duration": 14,
    "start_time": "2022-04-25T02:24:47.142Z"
   },
   {
    "duration": 12,
    "start_time": "2022-04-25T02:24:58.026Z"
   },
   {
    "duration": 1405,
    "start_time": "2022-04-25T02:28:17.268Z"
   },
   {
    "duration": 19,
    "start_time": "2022-04-25T02:28:31.336Z"
   },
   {
    "duration": 14,
    "start_time": "2022-04-25T02:31:21.686Z"
   },
   {
    "duration": 5,
    "start_time": "2022-04-25T02:34:15.866Z"
   },
   {
    "duration": 15,
    "start_time": "2022-04-25T02:34:28.462Z"
   },
   {
    "duration": 12,
    "start_time": "2022-04-25T02:38:08.791Z"
   },
   {
    "duration": 16,
    "start_time": "2022-04-25T02:39:01.974Z"
   },
   {
    "duration": 3,
    "start_time": "2022-04-25T02:49:18.066Z"
   },
   {
    "duration": 12,
    "start_time": "2022-04-25T02:49:45.738Z"
   },
   {
    "duration": 12,
    "start_time": "2022-04-25T02:51:07.376Z"
   },
   {
    "duration": 2,
    "start_time": "2022-04-25T02:55:06.177Z"
   },
   {
    "duration": 9,
    "start_time": "2022-04-25T04:39:31.107Z"
   },
   {
    "duration": 45,
    "start_time": "2022-04-25T04:40:37.945Z"
   },
   {
    "duration": 501,
    "start_time": "2022-04-25T04:40:43.840Z"
   },
   {
    "duration": 9,
    "start_time": "2022-04-25T04:40:49.853Z"
   },
   {
    "duration": 93,
    "start_time": "2022-04-25T04:40:52.802Z"
   },
   {
    "duration": 6,
    "start_time": "2022-04-25T04:41:39.818Z"
   },
   {
    "duration": 7,
    "start_time": "2022-04-25T04:42:20.939Z"
   },
   {
    "duration": 18,
    "start_time": "2022-04-25T04:42:26.592Z"
   },
   {
    "duration": 16,
    "start_time": "2022-04-25T04:42:45.106Z"
   },
   {
    "duration": 17,
    "start_time": "2022-04-25T04:43:10.802Z"
   },
   {
    "duration": 14,
    "start_time": "2022-04-25T04:43:19.419Z"
   },
   {
    "duration": 15,
    "start_time": "2022-04-25T04:43:24.923Z"
   },
   {
    "duration": 15,
    "start_time": "2022-04-25T04:43:30.397Z"
   },
   {
    "duration": 29,
    "start_time": "2022-04-25T04:43:58.731Z"
   },
   {
    "duration": 15,
    "start_time": "2022-04-25T04:45:07.392Z"
   },
   {
    "duration": 15,
    "start_time": "2022-04-25T04:45:10.683Z"
   },
   {
    "duration": 12,
    "start_time": "2022-04-25T04:48:51.658Z"
   },
   {
    "duration": 14,
    "start_time": "2022-04-25T04:49:04.858Z"
   },
   {
    "duration": 10,
    "start_time": "2022-04-25T04:49:15.591Z"
   },
   {
    "duration": 7,
    "start_time": "2022-04-25T04:49:19.355Z"
   },
   {
    "duration": 8,
    "start_time": "2022-04-25T04:49:36.530Z"
   },
   {
    "duration": 22,
    "start_time": "2022-04-25T04:49:50.555Z"
   },
   {
    "duration": 25,
    "start_time": "2022-04-25T04:49:54.444Z"
   },
   {
    "duration": 10,
    "start_time": "2022-04-25T04:49:57.071Z"
   },
   {
    "duration": 495,
    "start_time": "2022-04-25T04:50:10.248Z"
   },
   {
    "duration": 10,
    "start_time": "2022-04-25T04:50:10.744Z"
   },
   {
    "duration": 14,
    "start_time": "2022-04-25T04:50:10.756Z"
   },
   {
    "duration": 9,
    "start_time": "2022-04-25T04:50:10.773Z"
   },
   {
    "duration": 16,
    "start_time": "2022-04-25T04:50:10.784Z"
   },
   {
    "duration": 15,
    "start_time": "2022-04-25T04:50:10.802Z"
   },
   {
    "duration": 52,
    "start_time": "2022-04-25T04:50:10.819Z"
   },
   {
    "duration": 9,
    "start_time": "2022-04-25T04:50:10.873Z"
   },
   {
    "duration": 127,
    "start_time": "2022-04-25T04:50:10.884Z"
   },
   {
    "duration": 0,
    "start_time": "2022-04-25T04:50:11.014Z"
   },
   {
    "duration": 0,
    "start_time": "2022-04-25T04:50:11.015Z"
   },
   {
    "duration": 0,
    "start_time": "2022-04-25T04:50:11.016Z"
   },
   {
    "duration": 0,
    "start_time": "2022-04-25T04:50:11.018Z"
   },
   {
    "duration": 0,
    "start_time": "2022-04-25T04:50:11.019Z"
   },
   {
    "duration": 0,
    "start_time": "2022-04-25T04:50:11.021Z"
   },
   {
    "duration": 0,
    "start_time": "2022-04-25T04:50:11.022Z"
   },
   {
    "duration": 0,
    "start_time": "2022-04-25T04:50:11.023Z"
   },
   {
    "duration": 0,
    "start_time": "2022-04-25T04:50:11.025Z"
   },
   {
    "duration": 0,
    "start_time": "2022-04-25T04:50:11.026Z"
   },
   {
    "duration": 78,
    "start_time": "2022-04-25T04:50:40.332Z"
   },
   {
    "duration": 7,
    "start_time": "2022-04-25T04:50:43.102Z"
   },
   {
    "duration": 6,
    "start_time": "2022-04-25T04:50:45.403Z"
   },
   {
    "duration": 6,
    "start_time": "2022-04-25T04:50:48.973Z"
   },
   {
    "duration": 24,
    "start_time": "2022-04-25T04:50:51.114Z"
   },
   {
    "duration": 16,
    "start_time": "2022-04-25T04:50:58.276Z"
   },
   {
    "duration": 17,
    "start_time": "2022-04-25T04:51:45.172Z"
   },
   {
    "duration": 24,
    "start_time": "2022-04-25T04:55:56.154Z"
   },
   {
    "duration": 11,
    "start_time": "2022-04-25T04:56:28.288Z"
   },
   {
    "duration": 9,
    "start_time": "2022-04-25T04:59:02.720Z"
   },
   {
    "duration": 9,
    "start_time": "2022-04-25T04:59:05.424Z"
   },
   {
    "duration": 8,
    "start_time": "2022-04-25T04:59:15.795Z"
   },
   {
    "duration": 19,
    "start_time": "2022-04-25T04:59:22.280Z"
   },
   {
    "duration": 8,
    "start_time": "2022-04-25T04:59:45.916Z"
   },
   {
    "duration": 6,
    "start_time": "2022-04-25T05:00:28.432Z"
   },
   {
    "duration": 10,
    "start_time": "2022-04-25T05:00:59.026Z"
   },
   {
    "duration": 22,
    "start_time": "2022-04-25T05:01:33.912Z"
   },
   {
    "duration": 13,
    "start_time": "2022-04-25T05:03:40.594Z"
   },
   {
    "duration": 4,
    "start_time": "2022-04-25T05:05:12.985Z"
   },
   {
    "duration": 12,
    "start_time": "2022-04-25T05:05:24.313Z"
   },
   {
    "duration": 12,
    "start_time": "2022-04-25T05:05:34.002Z"
   },
   {
    "duration": 12,
    "start_time": "2022-04-25T05:08:56.883Z"
   },
   {
    "duration": 12,
    "start_time": "2022-04-25T05:10:07.110Z"
   },
   {
    "duration": 12,
    "start_time": "2022-04-25T05:12:22.769Z"
   },
   {
    "duration": 22,
    "start_time": "2022-04-25T05:12:50.745Z"
   },
   {
    "duration": 83,
    "start_time": "2022-04-25T05:13:17.716Z"
   },
   {
    "duration": 7,
    "start_time": "2022-04-25T05:13:21.935Z"
   },
   {
    "duration": 8,
    "start_time": "2022-04-25T05:13:24.247Z"
   },
   {
    "duration": 7,
    "start_time": "2022-04-25T05:13:26.190Z"
   },
   {
    "duration": 22,
    "start_time": "2022-04-25T05:13:28.318Z"
   },
   {
    "duration": 11,
    "start_time": "2022-04-25T05:13:35.564Z"
   },
   {
    "duration": 21,
    "start_time": "2022-04-25T05:13:37.948Z"
   },
   {
    "duration": 17,
    "start_time": "2022-04-25T05:13:50.810Z"
   },
   {
    "duration": 7,
    "start_time": "2022-04-25T05:16:55.864Z"
   },
   {
    "duration": 6,
    "start_time": "2022-04-25T05:16:58.101Z"
   },
   {
    "duration": 6,
    "start_time": "2022-04-25T05:17:00.624Z"
   },
   {
    "duration": 15,
    "start_time": "2022-04-25T05:17:12.788Z"
   },
   {
    "duration": 63,
    "start_time": "2022-04-25T05:17:29.738Z"
   },
   {
    "duration": 12,
    "start_time": "2022-04-25T05:17:41.716Z"
   },
   {
    "duration": 76,
    "start_time": "2022-04-25T05:18:39.107Z"
   },
   {
    "duration": 27,
    "start_time": "2022-04-25T05:19:25.295Z"
   },
   {
    "duration": 18,
    "start_time": "2022-04-25T05:19:37.648Z"
   },
   {
    "duration": 48,
    "start_time": "2022-04-25T05:19:58.619Z"
   },
   {
    "duration": 11,
    "start_time": "2022-04-25T05:20:40.301Z"
   },
   {
    "duration": 18,
    "start_time": "2022-04-25T05:20:53.333Z"
   },
   {
    "duration": 20,
    "start_time": "2022-04-25T05:27:52.947Z"
   },
   {
    "duration": 11,
    "start_time": "2022-04-25T05:29:26.781Z"
   }
  ],
  "kernelspec": {
   "display_name": "Python 3 (ipykernel)",
   "language": "python",
   "name": "python3"
  },
  "language_info": {
   "codemirror_mode": {
    "name": "ipython",
    "version": 3
   },
   "file_extension": ".py",
   "mimetype": "text/x-python",
   "name": "python",
   "nbconvert_exporter": "python",
   "pygments_lexer": "ipython3",
   "version": "3.9.5"
  },
  "toc": {
   "base_numbering": 1,
   "nav_menu": {},
   "number_sections": true,
   "sideBar": true,
   "skip_h1_title": true,
   "title_cell": "Table of Contents",
   "title_sidebar": "Contents",
   "toc_cell": false,
   "toc_position": {},
   "toc_section_display": true,
   "toc_window_display": false
  }
 },
 "nbformat": 4,
 "nbformat_minor": 5
}
