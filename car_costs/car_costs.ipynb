{
 "cells": [
  {
   "cell_type": "markdown",
   "metadata": {},
   "source": [
    "- [Определение стоимости автомобилей](#toc1_)    \n",
    "  - [Подготовка данных](#toc1_1_)    \n",
    "    - [Обработка пропусков](#toc1_1_1_)    \n",
    "  - [Обучение моделей](#toc1_2_)    \n",
    "    - [LinearRegression](#toc1_2_1_)    \n",
    "    - [Catboost](#toc1_2_2_)    \n",
    "    - [LGBMRegressor](#toc1_2_3_)    \n",
    "  - [Анализ моделей](#toc1_3_)    \n",
    "  - [Вывод](#toc1_4_)    \n",
    "\n",
    "<!-- vscode-jupyter-toc-config\n",
    "\tnumbering=false\n",
    "\tanchor=true\n",
    "\tflat=false\n",
    "\tminLevel=1\n",
    "\tmaxLevel=6\n",
    "\t/vscode-jupyter-toc-config -->\n",
    "<!-- THIS CELL WILL BE REPLACED ON TOC UPDATE. DO NOT WRITE YOUR TEXT IN THIS CELL -->"
   ]
  },
  {
   "cell_type": "markdown",
   "metadata": {},
   "source": [
    "# <a id='toc1_'></a>[Определение стоимости автомобилей](#toc0_)"
   ]
  },
  {
   "cell_type": "markdown",
   "metadata": {},
   "source": [
    "Сервис по продаже автомобилей с пробегом «Не бит, не крашен» разрабатывает приложение для привлечения новых клиентов. В нём можно быстро узнать рыночную стоимость своего автомобиля. В вашем распоряжении исторические данные: технические характеристики, комплектации и цены автомобилей. Вам нужно построить модель для определения стоимости. \n",
    "\n",
    "Заказчику важны:\n",
    "\n",
    "- качество предсказания;\n",
    "- скорость предсказания;\n",
    "- время обучения."
   ]
  },
  {
   "cell_type": "code",
   "execution_count": 1,
   "metadata": {},
   "outputs": [
    {
     "name": "stdout",
     "output_type": "stream",
     "text": [
      "Collecting category_encoders\n",
      "  Downloading category_encoders-2.6.1-py2.py3-none-any.whl (81 kB)\n",
      "\u001b[K     |████████████████████████████████| 81 kB 7.1 kB/s eta 0:00:01\n",
      "\u001b[?25hRequirement already satisfied: scikit-learn>=0.20.0 in /opt/conda/lib/python3.9/site-packages (from category_encoders) (0.24.1)\n",
      "Requirement already satisfied: statsmodels>=0.9.0 in /opt/conda/lib/python3.9/site-packages (from category_encoders) (0.13.2)\n",
      "Requirement already satisfied: scipy>=1.0.0 in /opt/conda/lib/python3.9/site-packages (from category_encoders) (1.9.1)\n",
      "Requirement already satisfied: patsy>=0.5.1 in /opt/conda/lib/python3.9/site-packages (from category_encoders) (0.5.2)\n",
      "Requirement already satisfied: numpy>=1.14.0 in /opt/conda/lib/python3.9/site-packages (from category_encoders) (1.21.1)\n",
      "Requirement already satisfied: pandas>=1.0.5 in /opt/conda/lib/python3.9/site-packages (from category_encoders) (1.2.4)\n",
      "Requirement already satisfied: python-dateutil>=2.7.3 in /opt/conda/lib/python3.9/site-packages (from pandas>=1.0.5->category_encoders) (2.8.1)\n",
      "Requirement already satisfied: pytz>=2017.3 in /opt/conda/lib/python3.9/site-packages (from pandas>=1.0.5->category_encoders) (2021.1)\n",
      "Requirement already satisfied: six in /opt/conda/lib/python3.9/site-packages (from patsy>=0.5.1->category_encoders) (1.16.0)\n",
      "Requirement already satisfied: joblib>=0.11 in /opt/conda/lib/python3.9/site-packages (from scikit-learn>=0.20.0->category_encoders) (1.1.0)\n",
      "Requirement already satisfied: threadpoolctl>=2.0.0 in /opt/conda/lib/python3.9/site-packages (from scikit-learn>=0.20.0->category_encoders) (3.1.0)\n",
      "Requirement already satisfied: packaging>=21.3 in /opt/conda/lib/python3.9/site-packages (from statsmodels>=0.9.0->category_encoders) (21.3)\n",
      "Requirement already satisfied: pyparsing!=3.0.5,>=2.0.2 in /opt/conda/lib/python3.9/site-packages (from packaging>=21.3->statsmodels>=0.9.0->category_encoders) (2.4.7)\n",
      "Installing collected packages: category-encoders\n",
      "Successfully installed category-encoders-2.6.1\n"
     ]
    }
   ],
   "source": [
    "!pip install category_encoders"
   ]
  },
  {
   "cell_type": "markdown",
   "metadata": {},
   "source": [
    "## <a id='toc1_1_'></a>[Подготовка данных](#toc0_)"
   ]
  },
  {
   "cell_type": "code",
   "execution_count": 2,
   "metadata": {},
   "outputs": [
    {
     "name": "stdout",
     "output_type": "stream",
     "text": [
      "Using matplotlib backend: agg\n"
     ]
    }
   ],
   "source": [
    "import pandas as pd\n",
    "from matplotlib import pyplot as plt\n",
    "import plotly.express as px\n",
    "import numpy as np\n",
    "import decimal\n",
    "\n",
    "from sklearn.model_selection import train_test_split\n",
    "from sklearn.linear_model import Lasso\n",
    "from sklearn.ensemble import RandomForestRegressor\n",
    "from sklearn.preprocessing import PowerTransformer, StandardScaler, LabelEncoder\n",
    "from sklearn.model_selection import GridSearchCV\n",
    "from sklearn.metrics import mean_squared_error\n",
    "\n",
    "from category_encoders.leave_one_out import LeaveOneOutEncoder\n",
    "from category_encoders.target_encoder import TargetEncoder\n",
    "from category_encoders.one_hot import OneHotEncoder\n",
    "from category_encoders.james_stein import JamesSteinEncoder \n",
    "from category_encoders.count import CountEncoder\n",
    "\n",
    "from sklearn.compose import ColumnTransformer\n",
    "from sklearn.pipeline import make_pipeline\n",
    "from sklearn.pipeline import Pipeline\n",
    "\n",
    "pd.options.display.float_format = '{:.2f}'.format\n",
    "%matplotlib"
   ]
  },
  {
   "cell_type": "code",
   "execution_count": 3,
   "metadata": {},
   "outputs": [],
   "source": [
    "df = pd.read_csv('/datasets/autos.csv')"
   ]
  },
  {
   "cell_type": "code",
   "execution_count": 4,
   "metadata": {},
   "outputs": [
    {
     "data": {
      "text/plain": [
       "(354369, 16)"
      ]
     },
     "execution_count": 4,
     "metadata": {},
     "output_type": "execute_result"
    }
   ],
   "source": [
    "df.shape"
   ]
  },
  {
   "cell_type": "markdown",
   "metadata": {},
   "source": [
    "DateCrawled — дата скачивания анкеты из базы\n",
    "VehicleType — тип автомобильного кузова\n",
    "RegistrationYear — год регистрации автомобиля\n",
    "Gearbox — тип коробки передач\n",
    "Power — мощность (л. с.)\n",
    "Model — модель автомобиля\n",
    "Kilometer — пробег (км)\n",
    "RegistrationMonth — месяц регистрации автомобиля\n",
    "FuelType — тип топлива\n",
    "Brand — марка автомобиля\n",
    "Repaired — была машина в ремонте или нет\n",
    "DateCreated — дата создания анкеты\n",
    "NumberOfPictures — количество фотографий автомобиля\n",
    "PostalCode — почтовый индекс владельца анкеты (пользователя)\n",
    "LastSeen — дата последней активности пользователя"
   ]
  },
  {
   "cell_type": "code",
   "execution_count": 5,
   "metadata": {
    "scrolled": true
   },
   "outputs": [
    {
     "data": {
      "text/html": [
       "<div>\n",
       "<style scoped>\n",
       "    .dataframe tbody tr th:only-of-type {\n",
       "        vertical-align: middle;\n",
       "    }\n",
       "\n",
       "    .dataframe tbody tr th {\n",
       "        vertical-align: top;\n",
       "    }\n",
       "\n",
       "    .dataframe thead th {\n",
       "        text-align: right;\n",
       "    }\n",
       "</style>\n",
       "<table border=\"1\" class=\"dataframe\">\n",
       "  <thead>\n",
       "    <tr style=\"text-align: right;\">\n",
       "      <th></th>\n",
       "      <th>DateCrawled</th>\n",
       "      <th>Price</th>\n",
       "      <th>VehicleType</th>\n",
       "      <th>RegistrationYear</th>\n",
       "      <th>Gearbox</th>\n",
       "      <th>Power</th>\n",
       "      <th>Model</th>\n",
       "      <th>Kilometer</th>\n",
       "      <th>RegistrationMonth</th>\n",
       "      <th>FuelType</th>\n",
       "      <th>Brand</th>\n",
       "      <th>Repaired</th>\n",
       "      <th>DateCreated</th>\n",
       "      <th>NumberOfPictures</th>\n",
       "      <th>PostalCode</th>\n",
       "      <th>LastSeen</th>\n",
       "    </tr>\n",
       "  </thead>\n",
       "  <tbody>\n",
       "    <tr>\n",
       "      <th>180760</th>\n",
       "      <td>2016-03-17 09:38:31</td>\n",
       "      <td>5299</td>\n",
       "      <td>NaN</td>\n",
       "      <td>2016</td>\n",
       "      <td>manual</td>\n",
       "      <td>69</td>\n",
       "      <td>ibiza</td>\n",
       "      <td>125000</td>\n",
       "      <td>7</td>\n",
       "      <td>petrol</td>\n",
       "      <td>seat</td>\n",
       "      <td>no</td>\n",
       "      <td>2016-03-17 00:00:00</td>\n",
       "      <td>0</td>\n",
       "      <td>58638</td>\n",
       "      <td>2016-04-06 07:44:26</td>\n",
       "    </tr>\n",
       "    <tr>\n",
       "      <th>35256</th>\n",
       "      <td>2016-04-02 00:50:56</td>\n",
       "      <td>1299</td>\n",
       "      <td>small</td>\n",
       "      <td>2004</td>\n",
       "      <td>auto</td>\n",
       "      <td>61</td>\n",
       "      <td>fortwo</td>\n",
       "      <td>150000</td>\n",
       "      <td>1</td>\n",
       "      <td>petrol</td>\n",
       "      <td>smart</td>\n",
       "      <td>yes</td>\n",
       "      <td>2016-04-01 00:00:00</td>\n",
       "      <td>0</td>\n",
       "      <td>49456</td>\n",
       "      <td>2016-04-06 05:16:05</td>\n",
       "    </tr>\n",
       "    <tr>\n",
       "      <th>243114</th>\n",
       "      <td>2016-03-26 13:57:07</td>\n",
       "      <td>1700</td>\n",
       "      <td>sedan</td>\n",
       "      <td>2000</td>\n",
       "      <td>manual</td>\n",
       "      <td>105</td>\n",
       "      <td>3er</td>\n",
       "      <td>150000</td>\n",
       "      <td>3</td>\n",
       "      <td>petrol</td>\n",
       "      <td>bmw</td>\n",
       "      <td>no</td>\n",
       "      <td>2016-03-26 00:00:00</td>\n",
       "      <td>0</td>\n",
       "      <td>70469</td>\n",
       "      <td>2016-03-29 16:46:03</td>\n",
       "    </tr>\n",
       "    <tr>\n",
       "      <th>289070</th>\n",
       "      <td>2016-03-21 09:54:48</td>\n",
       "      <td>4000</td>\n",
       "      <td>NaN</td>\n",
       "      <td>2007</td>\n",
       "      <td>manual</td>\n",
       "      <td>69</td>\n",
       "      <td>fox</td>\n",
       "      <td>150000</td>\n",
       "      <td>0</td>\n",
       "      <td>NaN</td>\n",
       "      <td>volkswagen</td>\n",
       "      <td>no</td>\n",
       "      <td>2016-03-21 00:00:00</td>\n",
       "      <td>0</td>\n",
       "      <td>42349</td>\n",
       "      <td>2016-04-06 02:45:30</td>\n",
       "    </tr>\n",
       "    <tr>\n",
       "      <th>64336</th>\n",
       "      <td>2016-04-03 20:06:19</td>\n",
       "      <td>6990</td>\n",
       "      <td>small</td>\n",
       "      <td>2008</td>\n",
       "      <td>manual</td>\n",
       "      <td>75</td>\n",
       "      <td>500</td>\n",
       "      <td>80000</td>\n",
       "      <td>1</td>\n",
       "      <td>gasoline</td>\n",
       "      <td>fiat</td>\n",
       "      <td>no</td>\n",
       "      <td>2016-04-03 00:00:00</td>\n",
       "      <td>0</td>\n",
       "      <td>65428</td>\n",
       "      <td>2016-04-07 13:16:12</td>\n",
       "    </tr>\n",
       "  </tbody>\n",
       "</table>\n",
       "</div>"
      ],
      "text/plain": [
       "                DateCrawled  Price VehicleType  RegistrationYear Gearbox  \\\n",
       "180760  2016-03-17 09:38:31   5299         NaN              2016  manual   \n",
       "35256   2016-04-02 00:50:56   1299       small              2004    auto   \n",
       "243114  2016-03-26 13:57:07   1700       sedan              2000  manual   \n",
       "289070  2016-03-21 09:54:48   4000         NaN              2007  manual   \n",
       "64336   2016-04-03 20:06:19   6990       small              2008  manual   \n",
       "\n",
       "        Power   Model  Kilometer  RegistrationMonth  FuelType       Brand  \\\n",
       "180760     69   ibiza     125000                  7    petrol        seat   \n",
       "35256      61  fortwo     150000                  1    petrol       smart   \n",
       "243114    105     3er     150000                  3    petrol         bmw   \n",
       "289070     69     fox     150000                  0       NaN  volkswagen   \n",
       "64336      75     500      80000                  1  gasoline        fiat   \n",
       "\n",
       "       Repaired          DateCreated  NumberOfPictures  PostalCode  \\\n",
       "180760       no  2016-03-17 00:00:00                 0       58638   \n",
       "35256       yes  2016-04-01 00:00:00                 0       49456   \n",
       "243114       no  2016-03-26 00:00:00                 0       70469   \n",
       "289070       no  2016-03-21 00:00:00                 0       42349   \n",
       "64336        no  2016-04-03 00:00:00                 0       65428   \n",
       "\n",
       "                   LastSeen  \n",
       "180760  2016-04-06 07:44:26  \n",
       "35256   2016-04-06 05:16:05  \n",
       "243114  2016-03-29 16:46:03  \n",
       "289070  2016-04-06 02:45:30  \n",
       "64336   2016-04-07 13:16:12  "
      ]
     },
     "execution_count": 5,
     "metadata": {},
     "output_type": "execute_result"
    }
   ],
   "source": [
    "df.sample(5)"
   ]
  },
  {
   "cell_type": "code",
   "execution_count": 6,
   "metadata": {},
   "outputs": [
    {
     "data": {
      "text/plain": [
       "DateCrawled          object\n",
       "Price                 int64\n",
       "VehicleType          object\n",
       "RegistrationYear      int64\n",
       "Gearbox              object\n",
       "Power                 int64\n",
       "Model                object\n",
       "Kilometer             int64\n",
       "RegistrationMonth     int64\n",
       "FuelType             object\n",
       "Brand                object\n",
       "Repaired             object\n",
       "DateCreated          object\n",
       "NumberOfPictures      int64\n",
       "PostalCode            int64\n",
       "LastSeen             object\n",
       "dtype: object"
      ]
     },
     "execution_count": 6,
     "metadata": {},
     "output_type": "execute_result"
    }
   ],
   "source": [
    "df.dtypes"
   ]
  },
  {
   "cell_type": "code",
   "execution_count": 7,
   "metadata": {},
   "outputs": [
    {
     "data": {
      "text/plain": [
       "4"
      ]
     },
     "execution_count": 7,
     "metadata": {},
     "output_type": "execute_result"
    }
   ],
   "source": [
    "df.duplicated().sum()"
   ]
  },
  {
   "cell_type": "code",
   "execution_count": 8,
   "metadata": {},
   "outputs": [],
   "source": [
    "df = df.drop_duplicates()"
   ]
  },
  {
   "cell_type": "code",
   "execution_count": 9,
   "metadata": {},
   "outputs": [
    {
     "data": {
      "text/plain": [
       "8143"
      ]
     },
     "execution_count": 9,
     "metadata": {},
     "output_type": "execute_result"
    }
   ],
   "source": [
    "len(df['PostalCode'].unique())"
   ]
  },
  {
   "cell_type": "markdown",
   "metadata": {},
   "source": [
    "Представляется, что дата скачивания анкеты с базы данных (DateCrawled), дата последней активности пользователя (LastSeen), почтовый индекс (PostalCode), дата публикации объявления (DateCreated), месяц регистрации (RegistrationMonth) сами по себе не представляют интереса.\n",
    "\n",
    "На основе данных почтового индекса (PostalCode) можно было бы выделить населенный пункт жительства продавца, но так как из какой страны эти данные неизвестно, то сделать это не представляется возможным. Также использовать их в качестве категориальных признаков, по-моему, тоже нельзя, так как их слишком много."
   ]
  },
  {
   "cell_type": "code",
   "execution_count": 10,
   "metadata": {},
   "outputs": [],
   "source": [
    "new_columns = list(df.columns)\n",
    "for i in ['DateCrawled', 'LastSeen', 'PostalCode', 'RegistrationMonth', 'DateCreated']:\n",
    "    new_columns.remove(i)"
   ]
  },
  {
   "cell_type": "code",
   "execution_count": 11,
   "metadata": {},
   "outputs": [],
   "source": [
    "df = df[new_columns]"
   ]
  },
  {
   "cell_type": "code",
   "execution_count": 12,
   "metadata": {},
   "outputs": [
    {
     "data": {
      "text/plain": [
       "Price                int64\n",
       "VehicleType         object\n",
       "RegistrationYear     int64\n",
       "Gearbox             object\n",
       "Power                int64\n",
       "Model               object\n",
       "Kilometer            int64\n",
       "FuelType            object\n",
       "Brand               object\n",
       "Repaired            object\n",
       "NumberOfPictures     int64\n",
       "dtype: object"
      ]
     },
     "execution_count": 12,
     "metadata": {},
     "output_type": "execute_result"
    }
   ],
   "source": [
    "df.dtypes"
   ]
  },
  {
   "cell_type": "code",
   "execution_count": 13,
   "metadata": {},
   "outputs": [],
   "source": [
    "df.columns = ['price', 'vehicle_type', 'registration_year', 'gearbox', 'power',\n",
    "              'model', 'kilometer', 'fuel_type', 'brand', 'repaired', 'number_pictures']"
   ]
  },
  {
   "cell_type": "code",
   "execution_count": 14,
   "metadata": {},
   "outputs": [
    {
     "data": {
      "text/html": [
       "<div>\n",
       "<style scoped>\n",
       "    .dataframe tbody tr th:only-of-type {\n",
       "        vertical-align: middle;\n",
       "    }\n",
       "\n",
       "    .dataframe tbody tr th {\n",
       "        vertical-align: top;\n",
       "    }\n",
       "\n",
       "    .dataframe thead th {\n",
       "        text-align: right;\n",
       "    }\n",
       "</style>\n",
       "<table border=\"1\" class=\"dataframe\">\n",
       "  <thead>\n",
       "    <tr style=\"text-align: right;\">\n",
       "      <th></th>\n",
       "      <th>price</th>\n",
       "      <th>registration_year</th>\n",
       "      <th>power</th>\n",
       "      <th>kilometer</th>\n",
       "      <th>number_pictures</th>\n",
       "    </tr>\n",
       "  </thead>\n",
       "  <tbody>\n",
       "    <tr>\n",
       "      <th>count</th>\n",
       "      <td>354365.00</td>\n",
       "      <td>354365.00</td>\n",
       "      <td>354365.00</td>\n",
       "      <td>354365.00</td>\n",
       "      <td>354365.00</td>\n",
       "    </tr>\n",
       "    <tr>\n",
       "      <th>mean</th>\n",
       "      <td>4416.68</td>\n",
       "      <td>2004.23</td>\n",
       "      <td>110.09</td>\n",
       "      <td>128211.36</td>\n",
       "      <td>0.00</td>\n",
       "    </tr>\n",
       "    <tr>\n",
       "      <th>std</th>\n",
       "      <td>4514.18</td>\n",
       "      <td>90.23</td>\n",
       "      <td>189.85</td>\n",
       "      <td>37905.08</td>\n",
       "      <td>0.00</td>\n",
       "    </tr>\n",
       "    <tr>\n",
       "      <th>min</th>\n",
       "      <td>0.00</td>\n",
       "      <td>1000.00</td>\n",
       "      <td>0.00</td>\n",
       "      <td>5000.00</td>\n",
       "      <td>0.00</td>\n",
       "    </tr>\n",
       "    <tr>\n",
       "      <th>25%</th>\n",
       "      <td>1050.00</td>\n",
       "      <td>1999.00</td>\n",
       "      <td>69.00</td>\n",
       "      <td>125000.00</td>\n",
       "      <td>0.00</td>\n",
       "    </tr>\n",
       "    <tr>\n",
       "      <th>50%</th>\n",
       "      <td>2700.00</td>\n",
       "      <td>2003.00</td>\n",
       "      <td>105.00</td>\n",
       "      <td>150000.00</td>\n",
       "      <td>0.00</td>\n",
       "    </tr>\n",
       "    <tr>\n",
       "      <th>75%</th>\n",
       "      <td>6400.00</td>\n",
       "      <td>2008.00</td>\n",
       "      <td>143.00</td>\n",
       "      <td>150000.00</td>\n",
       "      <td>0.00</td>\n",
       "    </tr>\n",
       "    <tr>\n",
       "      <th>max</th>\n",
       "      <td>20000.00</td>\n",
       "      <td>9999.00</td>\n",
       "      <td>20000.00</td>\n",
       "      <td>150000.00</td>\n",
       "      <td>0.00</td>\n",
       "    </tr>\n",
       "  </tbody>\n",
       "</table>\n",
       "</div>"
      ],
      "text/plain": [
       "          price  registration_year     power  kilometer  number_pictures\n",
       "count 354365.00          354365.00 354365.00  354365.00        354365.00\n",
       "mean    4416.68            2004.23    110.09  128211.36             0.00\n",
       "std     4514.18              90.23    189.85   37905.08             0.00\n",
       "min        0.00            1000.00      0.00    5000.00             0.00\n",
       "25%     1050.00            1999.00     69.00  125000.00             0.00\n",
       "50%     2700.00            2003.00    105.00  150000.00             0.00\n",
       "75%     6400.00            2008.00    143.00  150000.00             0.00\n",
       "max    20000.00            9999.00  20000.00  150000.00             0.00"
      ]
     },
     "execution_count": 14,
     "metadata": {},
     "output_type": "execute_result"
    }
   ],
   "source": [
    "df.describe()"
   ]
  },
  {
   "cell_type": "markdown",
   "metadata": {},
   "source": [
    "number_pictures везде ноль, поэтому этот столбец также необходимо удалить. "
   ]
  },
  {
   "cell_type": "code",
   "execution_count": 15,
   "metadata": {},
   "outputs": [],
   "source": [
    "df.drop('number_pictures', axis=1, inplace=True)"
   ]
  },
  {
   "cell_type": "code",
   "execution_count": 16,
   "metadata": {},
   "outputs": [],
   "source": [
    "cat_feat = df.dtypes[df.dtypes == object].index\n",
    "num_feat = df.dtypes[df.dtypes != object].index"
   ]
  },
  {
   "cell_type": "code",
   "execution_count": 17,
   "metadata": {},
   "outputs": [
    {
     "name": "stdout",
     "output_type": "stream",
     "text": [
      "price 2700.0\n",
      "registration_year 2003.0\n",
      "power 105.0\n",
      "kilometer 150000.0\n"
     ]
    }
   ],
   "source": [
    "for i in num_feat:\n",
    "    print(i, df[i].median())"
   ]
  },
  {
   "cell_type": "markdown",
   "metadata": {},
   "source": [
    "### <a id='toc1_1_1_'></a>[Обработка пропусков](#toc0_)"
   ]
  },
  {
   "cell_type": "code",
   "execution_count": 18,
   "metadata": {},
   "outputs": [
    {
     "data": {
      "text/plain": [
       "price                    0\n",
       "vehicle_type         37490\n",
       "registration_year        0\n",
       "gearbox              19833\n",
       "power                    0\n",
       "model                19705\n",
       "kilometer                0\n",
       "fuel_type            32895\n",
       "brand                    0\n",
       "repaired             71154\n",
       "dtype: int64"
      ]
     },
     "execution_count": 18,
     "metadata": {},
     "output_type": "execute_result"
    }
   ],
   "source": [
    "df.isnull().sum()"
   ]
  },
  {
   "cell_type": "code",
   "execution_count": 19,
   "metadata": {},
   "outputs": [
    {
     "data": {
      "text/plain": [
       "price                    0\n",
       "vehicle_type          6828\n",
       "registration_year        0\n",
       "gearbox               4131\n",
       "power                    0\n",
       "model                19705\n",
       "kilometer                0\n",
       "fuel_type             7163\n",
       "brand                    0\n",
       "repaired              9054\n",
       "dtype: int64"
      ]
     },
     "execution_count": 19,
     "metadata": {},
     "output_type": "execute_result"
    }
   ],
   "source": [
    "df[df.model.isnull()].isnull().sum()"
   ]
  },
  {
   "cell_type": "markdown",
   "metadata": {},
   "source": [
    "Так как модель автомобиля является значимой характеристикой, по-моему мнению, стоит удалить те строки, где она не указана. "
   ]
  },
  {
   "cell_type": "code",
   "execution_count": 20,
   "metadata": {},
   "outputs": [],
   "source": [
    "df.dropna(subset=['model'], inplace=True)"
   ]
  },
  {
   "cell_type": "code",
   "execution_count": 21,
   "metadata": {},
   "outputs": [
    {
     "data": {
      "text/plain": [
       "price                    0\n",
       "vehicle_type         30662\n",
       "registration_year        0\n",
       "gearbox              15702\n",
       "power                    0\n",
       "model                    0\n",
       "kilometer                0\n",
       "fuel_type            25732\n",
       "brand                    0\n",
       "repaired             62100\n",
       "dtype: int64"
      ]
     },
     "execution_count": 21,
     "metadata": {},
     "output_type": "execute_result"
    }
   ],
   "source": [
    "df.isnull().sum()"
   ]
  },
  {
   "cell_type": "markdown",
   "metadata": {},
   "source": [
    "Остальные пропуски стоит пометить, как 'unknow'."
   ]
  },
  {
   "cell_type": "code",
   "execution_count": 22,
   "metadata": {},
   "outputs": [],
   "source": [
    "df.fillna('unknow', inplace=True)"
   ]
  },
  {
   "cell_type": "code",
   "execution_count": 23,
   "metadata": {},
   "outputs": [
    {
     "data": {
      "text/plain": [
       "price                0\n",
       "vehicle_type         0\n",
       "registration_year    0\n",
       "gearbox              0\n",
       "power                0\n",
       "model                0\n",
       "kilometer            0\n",
       "fuel_type            0\n",
       "brand                0\n",
       "repaired             0\n",
       "dtype: int64"
      ]
     },
     "execution_count": 23,
     "metadata": {},
     "output_type": "execute_result"
    }
   ],
   "source": [
    "df.isnull().sum()"
   ]
  },
  {
   "cell_type": "markdown",
   "metadata": {},
   "source": [
    "Похоже, что количественные данные содержат выбросы поэтому постараемся их найти при помощи графиков"
   ]
  },
  {
   "cell_type": "code",
   "execution_count": 24,
   "metadata": {},
   "outputs": [
    {
     "data": {
      "text/plain": [
       "Index(['vehicle_type', 'gearbox', 'model', 'fuel_type', 'brand', 'repaired'], dtype='object')"
      ]
     },
     "execution_count": 24,
     "metadata": {},
     "output_type": "execute_result"
    }
   ],
   "source": [
    "cat_feat"
   ]
  },
  {
   "cell_type": "code",
   "execution_count": 25,
   "metadata": {},
   "outputs": [
    {
     "data": {
      "text/plain": [
       "Index(['price', 'registration_year', 'power', 'kilometer'], dtype='object')"
      ]
     },
     "execution_count": 25,
     "metadata": {},
     "output_type": "execute_result"
    }
   ],
   "source": [
    "num_feat"
   ]
  },
  {
   "cell_type": "markdown",
   "metadata": {},
   "source": [
    "Имеются следующие величины имеющие выбросы: цена, год регистрации, мощность.\n",
    "\n",
    "Небольшой пробег автомобиля при его продаже нельзя считать выбросом, так как такие факты бывают. \n",
    "\n",
    "Представляется необходимым сразу разобратся с очевидными выбрасами, такими как 0 скорость и мощность, а также неадекватный год регистрации."
   ]
  },
  {
   "cell_type": "code",
   "execution_count": 27,
   "metadata": {},
   "outputs": [
    {
     "name": "stdout",
     "output_type": "stream",
     "text": [
      "33931\n",
      "8588\n"
     ]
    }
   ],
   "source": [
    "print(sum((df.power == 0)))\n",
    "print(sum((df.price == 0)))"
   ]
  },
  {
   "cell_type": "markdown",
   "metadata": {},
   "source": [
    "Значения с 0 явно неадекватные, поэтому их необходимо удалить. "
   ]
  },
  {
   "cell_type": "code",
   "execution_count": 28,
   "metadata": {},
   "outputs": [],
   "source": [
    "df.drop(df[(df.power == 0) | (df.price == 0)].index, axis=0, inplace=True)"
   ]
  },
  {
   "cell_type": "code",
   "execution_count": 29,
   "metadata": {},
   "outputs": [
    {
     "data": {
      "text/plain": [
       "(294739, 10)"
      ]
     },
     "execution_count": 29,
     "metadata": {},
     "output_type": "execute_result"
    }
   ],
   "source": [
    "df.shape"
   ]
  },
  {
   "cell_type": "code",
   "execution_count": 30,
   "metadata": {},
   "outputs": [
    {
     "data": {
      "text/plain": [
       "1999    18801\n",
       "2005    18317\n",
       "2006    18140\n",
       "2000    17910\n",
       "2003    17446\n",
       "        ...  \n",
       "1935        1\n",
       "1936        1\n",
       "1947        1\n",
       "1949        1\n",
       "1932        1\n",
       "Name: registration_year, Length: 101, dtype: int64"
      ]
     },
     "execution_count": 30,
     "metadata": {},
     "output_type": "execute_result"
    }
   ],
   "source": [
    "df['registration_year'].value_counts()"
   ]
  },
  {
   "cell_type": "markdown",
   "metadata": {},
   "source": [
    "Исходя из распределения данных представляется необходимым преобразовать числовую характеристику годов в категориальную по следующему принципу: \n",
    "- 1960-1980; \n",
    "- 1980-1990; \n",
    "- 1990-2000; \n",
    "- 2000-2010;\n",
    "- 2010-2015;\n",
    "- 2015-2020; \n",
    "- иные не попавшие не в один из диапозонов. \n",
    "\n",
    "Таким образом, мы преобразуем числовую характеристику годов в категориальную и выделим выбросы в отдельную категорию не удаляя данные с указанными выбросами. "
   ]
  },
  {
   "cell_type": "code",
   "execution_count": 32,
   "metadata": {},
   "outputs": [],
   "source": [
    "def classific_year(x):\n",
    "    if x >= 1960 and x < 1980:\n",
    "        return '60-80'\n",
    "    elif x >= 1980 and x < 1990:\n",
    "        return '80-90'\n",
    "    elif x >= 1990 and x < 2000:\n",
    "        return '90-00'\n",
    "    elif x >= 2000 and x < 2010:\n",
    "        return '00-10'\n",
    "    elif x >= 2010 and x < 2015:\n",
    "        return '10-15'\n",
    "    elif x >= 2015 and x < 2020:\n",
    "        return '15-20'\n",
    "    else:\n",
    "        return 'other'"
   ]
  },
  {
   "cell_type": "code",
   "execution_count": 33,
   "metadata": {},
   "outputs": [],
   "source": [
    "df['registration_year'] = df['registration_year'].apply(classific_year)"
   ]
  },
  {
   "cell_type": "code",
   "execution_count": 34,
   "metadata": {},
   "outputs": [],
   "source": [
    "df['registration_year'] = df['registration_year'].astype('category')"
   ]
  },
  {
   "cell_type": "code",
   "execution_count": 35,
   "metadata": {},
   "outputs": [
    {
     "data": {
      "text/plain": [
       "00-10    166702\n",
       "90-00     73534\n",
       "10-15     32693\n",
       "15-20     15689\n",
       "80-90      4333\n",
       "60-80      1665\n",
       "other       123\n",
       "Name: registration_year, dtype: int64"
      ]
     },
     "execution_count": 35,
     "metadata": {},
     "output_type": "execute_result"
    }
   ],
   "source": [
    "df['registration_year'].value_counts()"
   ]
  },
  {
   "cell_type": "code",
   "execution_count": 36,
   "metadata": {},
   "outputs": [
    {
     "data": {
      "text/plain": [
       "price                   int64\n",
       "vehicle_type           object\n",
       "registration_year    category\n",
       "gearbox                object\n",
       "power                   int64\n",
       "model                  object\n",
       "kilometer               int64\n",
       "fuel_type              object\n",
       "brand                  object\n",
       "repaired               object\n",
       "dtype: object"
      ]
     },
     "execution_count": 36,
     "metadata": {},
     "output_type": "execute_result"
    }
   ],
   "source": [
    "df.dtypes"
   ]
  },
  {
   "cell_type": "markdown",
   "metadata": {},
   "source": [
    "Распределение цены выглядит странно, цены как бы делятся на свои собственные распределения со своими локальными пиками.\n",
    "Также имеется большое количество цен с 0. "
   ]
  },
  {
   "cell_type": "code",
   "execution_count": 39,
   "metadata": {},
   "outputs": [
    {
     "data": {
      "text/plain": [
       "(294739, 10)"
      ]
     },
     "execution_count": 39,
     "metadata": {},
     "output_type": "execute_result"
    }
   ],
   "source": [
    "df.shape"
   ]
  },
  {
   "cell_type": "code",
   "execution_count": 40,
   "metadata": {},
   "outputs": [
    {
     "data": {
      "text/plain": [
       "11945"
      ]
     },
     "execution_count": 40,
     "metadata": {},
     "output_type": "execute_result"
    }
   ],
   "source": [
    "sum((df.price < 400))"
   ]
  },
  {
   "cell_type": "markdown",
   "metadata": {},
   "source": [
    "Представляется, что цена автомобиля стоимостью менее 400$ является выбросом, который надо удалить. "
   ]
  },
  {
   "cell_type": "code",
   "execution_count": 41,
   "metadata": {},
   "outputs": [],
   "source": [
    "df = df[df.price >= 400]"
   ]
  },
  {
   "cell_type": "code",
   "execution_count": 42,
   "metadata": {
    "scrolled": true
   },
   "outputs": [
    {
     "data": {
      "text/plain": [
       "14032"
      ]
     },
     "execution_count": 42,
     "metadata": {},
     "output_type": "execute_result"
    }
   ],
   "source": [
    "sum(df.price > 15000)"
   ]
  },
  {
   "cell_type": "code",
   "execution_count": 43,
   "metadata": {},
   "outputs": [
    {
     "data": {
      "text/plain": [
       "Index(['price', 'vehicle_type', 'registration_year', 'gearbox', 'power',\n",
       "       'model', 'kilometer', 'fuel_type', 'brand', 'repaired'],\n",
       "      dtype='object')"
      ]
     },
     "execution_count": 43,
     "metadata": {},
     "output_type": "execute_result"
    }
   ],
   "source": [
    "df.columns"
   ]
  },
  {
   "cell_type": "code",
   "execution_count": 44,
   "metadata": {},
   "outputs": [
    {
     "data": {
      "text/plain": [
       "other       1116\n",
       "golf        1098\n",
       "3er          900\n",
       "c_klasse     589\n",
       "a4           579\n",
       "            ... \n",
       "agila          1\n",
       "espace         1\n",
       "s_type         1\n",
       "jimny          1\n",
       "v_klasse       1\n",
       "Name: model, Length: 169, dtype: int64"
      ]
     },
     "execution_count": 44,
     "metadata": {},
     "output_type": "execute_result"
    }
   ],
   "source": [
    "df.loc[df.price > 15000, 'model'].value_counts()"
   ]
  },
  {
   "cell_type": "code",
   "execution_count": 45,
   "metadata": {},
   "outputs": [],
   "source": [
    "df['class'] = df['price'].apply(lambda x: 'more' if x >= 15000 else 'less')"
   ]
  },
  {
   "cell_type": "code",
   "execution_count": 47,
   "metadata": {},
   "outputs": [
    {
     "name": "stdout",
     "output_type": "stream",
     "text": [
      "Медиана more: 170.0\n",
      "Среднее more: 185.59702209414024\n",
      "Медиана less: 110.0\n",
      "Среднее less: 122.18503840131235\n"
     ]
    }
   ],
   "source": [
    "more = df.loc[df.price >= 15000, 'power']\n",
    "less = df.loc[df.price < 15000, 'power']\n",
    "for data, name in zip([more, less], ['more', 'less']):\n",
    "    print(f'Медиана {name}: {data.median()}')\n",
    "    print(f'Среднее {name}: {data.mean()}')"
   ]
  },
  {
   "cell_type": "markdown",
   "metadata": {},
   "source": [
    "Как видно из представленных графиков, а также среднего и медианны, мощность автомобилей с ценой более 15 тыс. долларов больше чем для других автомобилей, таким образом очень дорогие автомобили это не выброс. "
   ]
  },
  {
   "cell_type": "code",
   "execution_count": 48,
   "metadata": {},
   "outputs": [
    {
     "data": {
      "text/plain": [
       "price                   int64\n",
       "vehicle_type           object\n",
       "registration_year    category\n",
       "gearbox                object\n",
       "power                   int64\n",
       "model                  object\n",
       "kilometer               int64\n",
       "fuel_type              object\n",
       "brand                  object\n",
       "repaired               object\n",
       "class                  object\n",
       "dtype: object"
      ]
     },
     "execution_count": 48,
     "metadata": {},
     "output_type": "execute_result"
    }
   ],
   "source": [
    "df.dtypes"
   ]
  },
  {
   "cell_type": "markdown",
   "metadata": {},
   "source": [
    "В ходе предобработки удалены признаки: LastSeen, PostalCode, DateCreated, RegistrationMonth, number_pictures. Удалены выбросы в следующих признаках: price, power. Признак registration_year преобразован в категориальный."
   ]
  },
  {
   "cell_type": "markdown",
   "metadata": {},
   "source": [
    "## <a id='toc1_2_'></a>[Обучение моделей](#toc0_)"
   ]
  },
  {
   "cell_type": "markdown",
   "metadata": {},
   "source": [
    "В ходе работы обучим линейную регрессию, LigtGBM, Catboost."
   ]
  },
  {
   "cell_type": "code",
   "execution_count": 49,
   "metadata": {},
   "outputs": [],
   "source": [
    "X = df.drop('price', axis=1)\n",
    "y = df['price']\n",
    "X_train, X_test, y_train, y_test =  train_test_split(X, y, test_size=0.8)\n",
    "cat_feat = list(X_train.dtypes[X_train.dtypes != int].index)\n",
    "num_feat = list(X_train.dtypes[X_train.dtypes == int].index)"
   ]
  },
  {
   "cell_type": "code",
   "execution_count": 50,
   "metadata": {},
   "outputs": [
    {
     "data": {
      "text/plain": [
       "['vehicle_type',\n",
       " 'registration_year',\n",
       " 'gearbox',\n",
       " 'model',\n",
       " 'fuel_type',\n",
       " 'brand',\n",
       " 'repaired',\n",
       " 'class']"
      ]
     },
     "execution_count": 50,
     "metadata": {},
     "output_type": "execute_result"
    }
   ],
   "source": [
    "cat_feat"
   ]
  },
  {
   "cell_type": "code",
   "execution_count": 51,
   "metadata": {},
   "outputs": [
    {
     "data": {
      "text/plain": [
       "['power', 'kilometer']"
      ]
     },
     "execution_count": 51,
     "metadata": {},
     "output_type": "execute_result"
    }
   ],
   "source": [
    "num_feat"
   ]
  },
  {
   "cell_type": "markdown",
   "metadata": {},
   "source": [
    "### <a id='toc1_2_1_'></a>[LinearRegression](#toc0_)"
   ]
  },
  {
   "cell_type": "code",
   "execution_count": 52,
   "metadata": {},
   "outputs": [
    {
     "data": {
      "text/plain": [
       "Pipeline(steps=[('preprocessor',\n",
       "                 ColumnTransformer(transformers=[('num_transform',\n",
       "                                                  Pipeline(steps=[('scaler',\n",
       "                                                                   StandardScaler())]),\n",
       "                                                  ['power', 'kilometer']),\n",
       "                                                 ('cat_transform',\n",
       "                                                  Pipeline(steps=[('cat',\n",
       "                                                                   OneHotEncoder())]),\n",
       "                                                  ['vehicle_type',\n",
       "                                                   'registration_year',\n",
       "                                                   'gearbox', 'model',\n",
       "                                                   'fuel_type', 'brand',\n",
       "                                                   'repaired', 'class'])])),\n",
       "                ('clf', Lasso())])"
      ]
     },
     "execution_count": 52,
     "metadata": {},
     "output_type": "execute_result"
    }
   ],
   "source": [
    "numeric_transformer = Pipeline(steps=[\n",
    "     (\"scaler\", StandardScaler())])\n",
    "\n",
    "\n",
    "categorical_transformer = Pipeline(steps=[\n",
    "    ('cat', OneHotEncoder(handle_unknown=\"value\"))\n",
    "])\n",
    "\n",
    "preprocessor = ColumnTransformer(transformers=[\n",
    "     (\"num_transform\", numeric_transformer, num_feat),\n",
    "    (\"cat_transform\", categorical_transformer, cat_feat)    \n",
    "])\n",
    "\n",
    "\n",
    "pipeline_linear = Pipeline([('preprocessor', preprocessor), \n",
    "                    ('clf', Lasso())])\n",
    "pipeline_linear"
   ]
  },
  {
   "cell_type": "code",
   "execution_count": null,
   "metadata": {},
   "outputs": [
    {
     "name": "stdout",
     "output_type": "stream",
     "text": [
      "Лучшие параметры:\n",
      "{'clf__alpha': 0.5}\n",
      "Лучшая метрика на валидационных данных:\n",
      "-5147708.729449254\n"
     ]
    }
   ],
   "source": [
    "list_alpha = [0.5, 1, 2]\n",
    "param = [ {\"clf__alpha\": list_alpha}\n",
    "        ]  \n",
    "                                       \n",
    "grid_search_linear = GridSearchCV(pipeline_linear, param, cv=5, n_jobs=-1, \n",
    "                                 refit='rmse', scoring='neg_mean_squared_error')\n",
    "grid_search_linear.fit(X_train, y_train)\n",
    "print(\"Лучшие параметры:\")\n",
    "print(grid_search_linear.best_params_)\n",
    "print(\"Лучшая метрика на валидационных данных:\")\n",
    "print(grid_search_linear.best_score_)"
   ]
  },
  {
   "cell_type": "markdown",
   "metadata": {},
   "source": [
    "Я ошибку выше никак побороть не могу... (ValueError: Input contains NaN, infinity or a value too large for dtype('float64')). Это проблема касается линейных моделей (аналогичный результат на Ridge), на градиентном бустинге все норм. "
   ]
  },
  {
   "cell_type": "markdown",
   "metadata": {},
   "source": [
    "<div class=\"alert alert-block alert-info\">\n",
    "<b>Комментарий ревьюера:</b>\n",
    "\n",
    "Думаю дело в масштабировании. Попробуй выполнить масштабирование вручную через StandardScaler. И масштабировать только численные признаки \n",
    "</div>"
   ]
  },
  {
   "cell_type": "markdown",
   "metadata": {},
   "source": [
    "### <a id='toc1_2_2_'></a>[Catboost](#toc0_)"
   ]
  },
  {
   "cell_type": "code",
   "execution_count": null,
   "metadata": {},
   "outputs": [],
   "source": [
    "from catboost import CatBoostRegressor"
   ]
  },
  {
   "cell_type": "code",
   "execution_count": null,
   "metadata": {
    "scrolled": true
   },
   "outputs": [
    {
     "data": {
      "application/vnd.jupyter.widget-view+json": {
       "model_id": "8e084719d58b4b9d93f6f56e01ce940e",
       "version_major": 2,
       "version_minor": 0
      },
      "text/plain": [
       "MetricVisualizer(layout=Layout(align_self='stretch', height='500px'))"
      ]
     },
     "metadata": {},
     "output_type": "display_data"
    },
    {
     "name": "stdout",
     "output_type": "stream",
     "text": [
      "\n",
      "bestTest = 1712.761675\n",
      "bestIteration = 1999\n",
      "\n",
      "\n",
      "bestTest = 1913.39416\n",
      "bestIteration = 1999\n",
      "\n",
      "\n",
      "bestTest = 1717.315313\n",
      "bestIteration = 1999\n",
      "\n",
      "\n",
      "bestTest = 1912.140174\n",
      "bestIteration = 1999\n",
      "\n",
      "\n",
      "bestTest = 1667.776585\n",
      "bestIteration = 1999\n",
      "\n",
      "\n",
      "bestTest = 1869.449486\n",
      "bestIteration = 1999\n",
      "\n",
      "\n",
      "bestTest = 1670.65066\n",
      "bestIteration = 1999\n",
      "\n",
      "\n",
      "bestTest = 1869.41206\n",
      "bestIteration = 1999\n",
      "\n",
      "\n",
      "bestTest = 1649.021455\n",
      "bestIteration = 1997\n",
      "\n",
      "\n",
      "bestTest = 1849.025102\n",
      "bestIteration = 1999\n",
      "\n",
      "\n",
      "bestTest = 1651.591754\n",
      "bestIteration = 1999\n",
      "\n",
      "\n",
      "bestTest = 1852.906106\n",
      "bestIteration = 1999\n",
      "\n",
      "Training on fold [0/3]\n",
      "\n",
      "bestTest = 1666.757404\n",
      "bestIteration = 1996\n",
      "\n",
      "Training on fold [1/3]\n",
      "\n",
      "bestTest = 1644.153689\n",
      "bestIteration = 1999\n",
      "\n",
      "Training on fold [2/3]\n",
      "\n",
      "bestTest = 1658.826891\n",
      "bestIteration = 1999\n",
      "\n"
     ]
    }
   ],
   "source": [
    "model = CatBoostRegressor(iterations=2000, \n",
    "                          cat_features=cat_feat,\n",
    "                          verbose=False\n",
    "                         )\n",
    "param = {'l2_leaf_reg':[0.5, 1], \n",
    "        'depth':[6, 8, 9], \n",
    "         'learning_rate':[0.03, 0.003]\n",
    "       }\n",
    "\n",
    "grid_search = model.grid_search(param,\n",
    "                                X=X_train,\n",
    "                                y=y_train,\n",
    "                                train_size=0.8,\n",
    "                                refit=True,\n",
    "                                cv=3,\n",
    "                                calc_cv_statistics=True,\n",
    "                                verbose=False,\n",
    "                                plot=True)"
   ]
  },
  {
   "cell_type": "code",
   "execution_count": null,
   "metadata": {},
   "outputs": [
    {
     "data": {
      "text/plain": [
       "{'depth': 9, 'learning_rate': 0.03, 'l2_leaf_reg': 0.5}"
      ]
     },
     "execution_count": 56,
     "metadata": {},
     "output_type": "execute_result"
    }
   ],
   "source": [
    "grid_search['params']"
   ]
  },
  {
   "cell_type": "markdown",
   "metadata": {},
   "source": [
    "Обучим заново модель с лучшими параметрами, чтобы найти время за которое она обучится. "
   ]
  },
  {
   "cell_type": "markdown",
   "metadata": {},
   "source": [
    "### <a id='toc1_2_3_'></a>[LGBMRegressor](#toc0_)"
   ]
  },
  {
   "cell_type": "code",
   "execution_count": null,
   "metadata": {},
   "outputs": [],
   "source": [
    "from lightgbm import LGBMRegressor\n",
    "import lightgbm as lgb"
   ]
  },
  {
   "cell_type": "code",
   "execution_count": null,
   "metadata": {},
   "outputs": [],
   "source": [
    "X_train_lg = X_train.copy()"
   ]
  },
  {
   "cell_type": "code",
   "execution_count": null,
   "metadata": {},
   "outputs": [],
   "source": [
    "X_train_lg[cat_feat] = X_train_lg[cat_feat].apply(LabelEncoder().fit_transform)"
   ]
  },
  {
   "cell_type": "code",
   "execution_count": null,
   "metadata": {},
   "outputs": [
    {
     "data": {
      "text/plain": [
       "GridSearchCV(cv=3, estimator=LGBMRegressor(),\n",
       "             param_grid={'learning_rate': [0.03, 0.003], 'max_depth': [-1, 5],\n",
       "                         'n_estimators': [500, 1000], 'num_leaves': [31, 50]},\n",
       "             scoring='neg_root_mean_squared_error')"
      ]
     },
     "execution_count": 60,
     "metadata": {},
     "output_type": "execute_result"
    }
   ],
   "source": [
    "params = {\n",
    "    'num_leaves': [31, 50],\n",
    "    'learning_rate': [0.03, 0.003],\n",
    "    'max_depth': [-1, 5],\n",
    "    'n_estimators': [500, 1000],\n",
    "}\n",
    "\n",
    "grid_lg = GridSearchCV(LGBMRegressor(), params, scoring='neg_root_mean_squared_error', cv=3)\n",
    "grid_lg.fit(X_train_lg, y_train)"
   ]
  },
  {
   "cell_type": "code",
   "execution_count": null,
   "metadata": {},
   "outputs": [
    {
     "name": "stdout",
     "output_type": "stream",
     "text": [
      "Лучшие параметры:\n",
      "{'learning_rate': 0.03, 'max_depth': -1, 'n_estimators': 1000, 'num_leaves': 50}\n",
      "Лучшая метрика на валидационных данных:\n",
      "-1655.3425075708176\n"
     ]
    }
   ],
   "source": [
    "print(\"Лучшие параметры:\")\n",
    "print(grid_lg.best_params_)\n",
    "print(\"Лучшая метрика на валидационных данных:\")\n",
    "print(grid_lg.best_score_)"
   ]
  },
  {
   "cell_type": "markdown",
   "metadata": {},
   "source": [
    "Чтобы узнать время обучения обучим заново модель LGBMRegressor, включим туда время предобработки категориальных фичей, для чистоты эксперимента. "
   ]
  },
  {
   "cell_type": "markdown",
   "metadata": {},
   "source": [
    "## <a id='toc1_3_'></a>[Анализ моделей](#toc0_)"
   ]
  },
  {
   "cell_type": "code",
   "execution_count": null,
   "metadata": {},
   "outputs": [
    {
     "data": {
      "text/plain": [
       "[92.81106734275818, 0.47640461921691896, 5147708.729449254]"
      ]
     },
     "execution_count": 62,
     "metadata": {},
     "output_type": "execute_result"
    }
   ],
   "source": [
    "table = pd.DataFrame(grid_search_linear.cv_results_)\n",
    "linear_list = list(table.loc[table.params == grid_search_linear.best_params_, ['mean_fit_time', 'mean_score_time']].values[0])\n",
    "linear_list.append(abs(grid_search_linear.best_score_))\n",
    "linear_list"
   ]
  },
  {
   "cell_type": "code",
   "execution_count": null,
   "metadata": {},
   "outputs": [
    {
     "data": {
      "text/plain": [
       "[18.335092544555664, 2.717296044031779, 1655.3425075708176]"
      ]
     },
     "execution_count": 63,
     "metadata": {},
     "output_type": "execute_result"
    }
   ],
   "source": [
    "tabel_lgbmr = pd.DataFrame(grid_lg.cv_results_)\n",
    "lgbmr_list = list(tabel_lgbmr.loc[tabel_lgbmr.params == grid_lg.best_params_, ['mean_fit_time', 'mean_score_time']].values[0])\n",
    "lgbmr_list.append(abs(grid_lg.best_score_))\n",
    "lgbmr_list"
   ]
  },
  {
   "cell_type": "markdown",
   "metadata": {},
   "source": [
    "<div class=\"alert alert-block alert-info\">\n",
    "\n",
    "grid_search катбуста данных о среднем времени обучения и предсказания не предаставляет, поэтому обучим модель заново на лучших параметрах. И используем при предсказании X_test **только** для того, что бы узмерить время предсказания. "
   ]
  },
  {
   "cell_type": "code",
   "execution_count": null,
   "metadata": {
    "scrolled": true
   },
   "outputs": [
    {
     "name": "stdout",
     "output_type": "stream",
     "text": [
      "CPU times: user 3min 45s, sys: 26 s, total: 4min 11s\n",
      "Wall time: 4min 13s\n"
     ]
    },
    {
     "data": {
      "text/plain": [
       "<catboost.core.CatBoostRegressor at 0x7fed0d817190>"
      ]
     },
     "execution_count": 64,
     "metadata": {},
     "output_type": "execute_result"
    }
   ],
   "source": [
    "%%time\n",
    "model_cat = CatBoostRegressor(iterations=2000, \n",
    "                          cat_features=cat_feat,\n",
    "                          depth=9,\n",
    "                          learning_rate=0.03,\n",
    "                          l2_leaf_reg=0.5,\n",
    "                          verbose=False\n",
    "                         )\n",
    "model_cat.fit(X_train, y_train, verbose=False)"
   ]
  },
  {
   "cell_type": "code",
   "execution_count": null,
   "metadata": {},
   "outputs": [
    {
     "name": "stdout",
     "output_type": "stream",
     "text": [
      "CPU times: user 5.3 s, sys: 35.9 ms, total: 5.33 s\n",
      "Wall time: 5.34 s\n"
     ]
    },
    {
     "data": {
      "text/plain": [
       "array([ 3437.61729123,  4321.61182932,  1491.15528496, ...,\n",
       "        6138.75508627,  5045.66847525, 17260.2006452 ])"
      ]
     },
     "execution_count": 65,
     "metadata": {},
     "output_type": "execute_result"
    }
   ],
   "source": [
    "%%time\n",
    "model_cat.predict(X_test)"
   ]
  },
  {
   "cell_type": "code",
   "execution_count": null,
   "metadata": {},
   "outputs": [],
   "source": [
    "cat_list = [264, 5.44, 1853]"
   ]
  },
  {
   "cell_type": "code",
   "execution_count": null,
   "metadata": {},
   "outputs": [],
   "source": [
    "result = pd.DataFrame([linear_list, lgbmr_list, cat_list], \n",
    "                      columns=['mean_fit_time', 'mean_score_time', 'best_score'], \n",
    "                      index=['linear', 'LGBMRegressor', 'Catboost'])"
   ]
  },
  {
   "cell_type": "code",
   "execution_count": null,
   "metadata": {},
   "outputs": [
    {
     "data": {
      "text/html": [
       "<div>\n",
       "<style scoped>\n",
       "    .dataframe tbody tr th:only-of-type {\n",
       "        vertical-align: middle;\n",
       "    }\n",
       "\n",
       "    .dataframe tbody tr th {\n",
       "        vertical-align: top;\n",
       "    }\n",
       "\n",
       "    .dataframe thead th {\n",
       "        text-align: right;\n",
       "    }\n",
       "</style>\n",
       "<table border=\"1\" class=\"dataframe\">\n",
       "  <thead>\n",
       "    <tr style=\"text-align: right;\">\n",
       "      <th></th>\n",
       "      <th>mean_fit_time</th>\n",
       "      <th>mean_score_time</th>\n",
       "      <th>best_score</th>\n",
       "    </tr>\n",
       "  </thead>\n",
       "  <tbody>\n",
       "    <tr>\n",
       "      <th>linear</th>\n",
       "      <td>92.81</td>\n",
       "      <td>0.48</td>\n",
       "      <td>5147708.73</td>\n",
       "    </tr>\n",
       "    <tr>\n",
       "      <th>LGBMRegressor</th>\n",
       "      <td>18.34</td>\n",
       "      <td>2.72</td>\n",
       "      <td>1655.34</td>\n",
       "    </tr>\n",
       "    <tr>\n",
       "      <th>Catboost</th>\n",
       "      <td>264.00</td>\n",
       "      <td>5.44</td>\n",
       "      <td>1853.00</td>\n",
       "    </tr>\n",
       "  </tbody>\n",
       "</table>\n",
       "</div>"
      ],
      "text/plain": [
       "               mean_fit_time  mean_score_time  best_score\n",
       "linear                 92.81             0.48  5147708.73\n",
       "LGBMRegressor          18.34             2.72     1655.34\n",
       "Catboost              264.00             5.44     1853.00"
      ]
     },
     "execution_count": 68,
     "metadata": {},
     "output_type": "execute_result"
    }
   ],
   "source": [
    "result"
   ]
  },
  {
   "cell_type": "markdown",
   "metadata": {},
   "source": [
    "## <a id='toc1_4_'></a>[Вывод](#toc0_)"
   ]
  },
  {
   "cell_type": "markdown",
   "metadata": {},
   "source": [
    "В ходе анализа установлено следующее: \n",
    "- время обучения catboost 4 мин. 20 сек., время предсказания для тестовых данных: 4.82 сек., метрика RMSE 1619.87; \n",
    "- время обучения LGBM 20 сек., время предсказания для тестовых данных: 29.9 сек., метрика RMSE 1648.04.\n",
    "        \n",
    "Выбор модели зависит от наличных ресурсов и потребностей заказчика. Предполагаю, что целесообразно выбрать catboost, потому что он быстрее предсказывает и поэтому работу такой модели, возможно, будет проще интегрировать в сайт. Также более продолжительное время обучения, чем у LGBM не должно быть проблемой, если размер предполагаемых тренировочных данных заказчика не больше в 1000 раз и не будет возможности обучить модель на GPU."
   ]
  },
  {
   "cell_type": "markdown",
   "metadata": {},
   "source": [
    "<div class=\"alert alert-block alert-info\">\n",
    "Исходя из данных представленных ниже LGBM является наилучшим выбором, возможно catboost при обучении на GPU справится лучше. "
   ]
  },
  {
   "cell_type": "code",
   "execution_count": null,
   "metadata": {},
   "outputs": [
    {
     "data": {
      "text/html": [
       "<div>\n",
       "<style scoped>\n",
       "    .dataframe tbody tr th:only-of-type {\n",
       "        vertical-align: middle;\n",
       "    }\n",
       "\n",
       "    .dataframe tbody tr th {\n",
       "        vertical-align: top;\n",
       "    }\n",
       "\n",
       "    .dataframe thead th {\n",
       "        text-align: right;\n",
       "    }\n",
       "</style>\n",
       "<table border=\"1\" class=\"dataframe\">\n",
       "  <thead>\n",
       "    <tr style=\"text-align: right;\">\n",
       "      <th></th>\n",
       "      <th>mean_fit_time</th>\n",
       "      <th>mean_score_time</th>\n",
       "      <th>best_score</th>\n",
       "    </tr>\n",
       "  </thead>\n",
       "  <tbody>\n",
       "    <tr>\n",
       "      <th>linear</th>\n",
       "      <td>92.81</td>\n",
       "      <td>0.48</td>\n",
       "      <td>5147708.73</td>\n",
       "    </tr>\n",
       "    <tr>\n",
       "      <th>LGBMRegressor</th>\n",
       "      <td>18.34</td>\n",
       "      <td>2.72</td>\n",
       "      <td>1655.34</td>\n",
       "    </tr>\n",
       "    <tr>\n",
       "      <th>Catboost</th>\n",
       "      <td>264.00</td>\n",
       "      <td>5.44</td>\n",
       "      <td>1853.00</td>\n",
       "    </tr>\n",
       "  </tbody>\n",
       "</table>\n",
       "</div>"
      ],
      "text/plain": [
       "               mean_fit_time  mean_score_time  best_score\n",
       "linear                 92.81             0.48  5147708.73\n",
       "LGBMRegressor          18.34             2.72     1655.34\n",
       "Catboost              264.00             5.44     1853.00"
      ]
     },
     "execution_count": 69,
     "metadata": {},
     "output_type": "execute_result"
    }
   ],
   "source": [
    "result"
   ]
  }
 ],
 "metadata": {
  "ExecuteTimeLog": [
   {
    "duration": 475,
    "start_time": "2022-12-21T09:09:20.151Z"
   },
   {
    "duration": 65,
    "start_time": "2022-12-21T09:09:32.750Z"
   },
   {
    "duration": 1115,
    "start_time": "2022-12-21T09:09:38.315Z"
   },
   {
    "duration": 28,
    "start_time": "2022-12-21T09:09:42.222Z"
   },
   {
    "duration": 24,
    "start_time": "2022-12-21T09:10:13.113Z"
   },
   {
    "duration": 4,
    "start_time": "2022-12-21T09:10:21.264Z"
   },
   {
    "duration": 12,
    "start_time": "2022-12-21T09:10:31.608Z"
   },
   {
    "duration": 8,
    "start_time": "2022-12-21T09:10:36.421Z"
   },
   {
    "duration": 8,
    "start_time": "2022-12-21T09:10:45.253Z"
   },
   {
    "duration": 9,
    "start_time": "2022-12-21T09:10:55.350Z"
   },
   {
    "duration": 10,
    "start_time": "2022-12-21T09:11:19.751Z"
   },
   {
    "duration": 21,
    "start_time": "2022-12-21T09:11:23.191Z"
   },
   {
    "duration": 6,
    "start_time": "2022-12-21T09:12:03.750Z"
   },
   {
    "duration": 10,
    "start_time": "2022-12-21T09:18:38.567Z"
   },
   {
    "duration": 6,
    "start_time": "2022-12-21T09:18:43.799Z"
   },
   {
    "duration": 5,
    "start_time": "2022-12-21T09:19:07.716Z"
   },
   {
    "duration": 3,
    "start_time": "2022-12-21T09:19:35.281Z"
   },
   {
    "duration": 3,
    "start_time": "2022-12-21T09:19:41.622Z"
   },
   {
    "duration": 5,
    "start_time": "2022-12-21T09:19:44.623Z"
   },
   {
    "duration": 6,
    "start_time": "2022-12-21T09:19:57.342Z"
   },
   {
    "duration": 15,
    "start_time": "2022-12-21T09:22:36.339Z"
   },
   {
    "duration": 14,
    "start_time": "2022-12-21T09:22:43.635Z"
   },
   {
    "duration": 12,
    "start_time": "2022-12-21T09:22:53.205Z"
   },
   {
    "duration": 6,
    "start_time": "2022-12-21T09:23:44.962Z"
   },
   {
    "duration": 28,
    "start_time": "2022-12-21T09:40:26.100Z"
   },
   {
    "duration": 4,
    "start_time": "2022-12-21T09:40:42.320Z"
   },
   {
    "duration": 19,
    "start_time": "2022-12-21T09:40:50.030Z"
   },
   {
    "duration": 9,
    "start_time": "2022-12-21T09:42:16.562Z"
   },
   {
    "duration": 4,
    "start_time": "2022-12-21T09:42:31.132Z"
   },
   {
    "duration": 5,
    "start_time": "2022-12-21T09:42:39.065Z"
   },
   {
    "duration": 31,
    "start_time": "2022-12-21T09:43:02.233Z"
   },
   {
    "duration": 6,
    "start_time": "2022-12-21T09:43:16.229Z"
   },
   {
    "duration": 4,
    "start_time": "2022-12-21T09:44:57.126Z"
   },
   {
    "duration": 3,
    "start_time": "2022-12-21T09:46:24.239Z"
   },
   {
    "duration": 26,
    "start_time": "2022-12-21T09:46:39.057Z"
   },
   {
    "duration": 113,
    "start_time": "2022-12-21T09:48:33.755Z"
   },
   {
    "duration": 9,
    "start_time": "2022-12-21T09:50:28.100Z"
   },
   {
    "duration": 272,
    "start_time": "2022-12-21T09:50:34.935Z"
   },
   {
    "duration": 3,
    "start_time": "2022-12-21T09:51:22.972Z"
   },
   {
    "duration": 951,
    "start_time": "2022-12-21T09:51:23.111Z"
   },
   {
    "duration": 17,
    "start_time": "2022-12-21T09:51:24.065Z"
   },
   {
    "duration": 6,
    "start_time": "2022-12-21T09:51:24.085Z"
   },
   {
    "duration": 0,
    "start_time": "2022-12-21T09:51:24.093Z"
   },
   {
    "duration": 11,
    "start_time": "2022-12-21T09:51:24.530Z"
   },
   {
    "duration": 3,
    "start_time": "2022-12-21T09:51:30.157Z"
   },
   {
    "duration": 927,
    "start_time": "2022-12-21T09:51:30.300Z"
   },
   {
    "duration": 5,
    "start_time": "2022-12-21T09:51:31.229Z"
   },
   {
    "duration": 36,
    "start_time": "2022-12-21T09:51:31.626Z"
   },
   {
    "duration": 6,
    "start_time": "2022-12-21T09:51:35.386Z"
   },
   {
    "duration": 511,
    "start_time": "2022-12-21T09:51:36.861Z"
   },
   {
    "duration": 7,
    "start_time": "2022-12-21T09:52:56.251Z"
   },
   {
    "duration": 46,
    "start_time": "2022-12-21T09:52:57.348Z"
   },
   {
    "duration": 3,
    "start_time": "2022-12-21T09:53:04.855Z"
   },
   {
    "duration": 486,
    "start_time": "2022-12-21T09:53:05.703Z"
   },
   {
    "duration": 3,
    "start_time": "2022-12-21T09:53:22.268Z"
   },
   {
    "duration": 817,
    "start_time": "2022-12-21T09:53:22.484Z"
   },
   {
    "duration": 4,
    "start_time": "2022-12-21T09:53:23.303Z"
   },
   {
    "duration": 26,
    "start_time": "2022-12-21T09:53:23.383Z"
   },
   {
    "duration": 7,
    "start_time": "2022-12-21T09:53:25.011Z"
   },
   {
    "duration": 509,
    "start_time": "2022-12-21T09:53:25.666Z"
   },
   {
    "duration": 7,
    "start_time": "2022-12-21T09:53:27.150Z"
   },
   {
    "duration": 3,
    "start_time": "2022-12-21T09:53:28.122Z"
   },
   {
    "duration": 428,
    "start_time": "2022-12-21T09:53:28.793Z"
   },
   {
    "duration": 9,
    "start_time": "2022-12-21T09:53:50.044Z"
   },
   {
    "duration": 475,
    "start_time": "2022-12-21T09:53:55.326Z"
   },
   {
    "duration": 570,
    "start_time": "2022-12-21T09:54:05.557Z"
   },
   {
    "duration": 7,
    "start_time": "2022-12-21T09:54:06.129Z"
   },
   {
    "duration": 4,
    "start_time": "2022-12-21T09:54:06.427Z"
   },
   {
    "duration": 447,
    "start_time": "2022-12-21T09:54:07.015Z"
   },
   {
    "duration": 409,
    "start_time": "2022-12-22T02:02:24.618Z"
   },
   {
    "duration": 1019,
    "start_time": "2022-12-22T02:02:25.029Z"
   },
   {
    "duration": 7,
    "start_time": "2022-12-22T02:02:26.050Z"
   },
   {
    "duration": 25,
    "start_time": "2022-12-22T02:02:26.918Z"
   },
   {
    "duration": 5,
    "start_time": "2022-12-22T02:02:29.128Z"
   },
   {
    "duration": 483,
    "start_time": "2022-12-22T02:02:30.809Z"
   },
   {
    "duration": 502,
    "start_time": "2022-12-22T02:02:32.191Z"
   },
   {
    "duration": 7,
    "start_time": "2022-12-22T02:02:33.810Z"
   },
   {
    "duration": 3,
    "start_time": "2022-12-22T02:02:35.665Z"
   },
   {
    "duration": 54,
    "start_time": "2022-12-22T02:02:36.045Z"
   },
   {
    "duration": 6,
    "start_time": "2022-12-22T02:02:36.564Z"
   },
   {
    "duration": 4,
    "start_time": "2022-12-22T02:02:38.567Z"
   },
   {
    "duration": 79,
    "start_time": "2022-12-22T02:02:39.783Z"
   },
   {
    "duration": 361,
    "start_time": "2022-12-22T02:09:02.308Z"
   },
   {
    "duration": 4,
    "start_time": "2022-12-22T02:09:18.744Z"
   },
   {
    "duration": 5,
    "start_time": "2022-12-22T02:10:59.829Z"
   },
   {
    "duration": 292,
    "start_time": "2022-12-22T02:14:03.421Z"
   },
   {
    "duration": 6,
    "start_time": "2022-12-22T02:14:18.032Z"
   },
   {
    "duration": 4,
    "start_time": "2022-12-22T02:14:29.839Z"
   },
   {
    "duration": 5,
    "start_time": "2022-12-22T02:14:38.929Z"
   },
   {
    "duration": 5,
    "start_time": "2022-12-22T02:16:52.653Z"
   },
   {
    "duration": 4,
    "start_time": "2022-12-22T02:17:08.235Z"
   },
   {
    "duration": 70,
    "start_time": "2022-12-22T02:18:59.414Z"
   },
   {
    "duration": 132,
    "start_time": "2022-12-22T02:19:03.605Z"
   },
   {
    "duration": 10250,
    "start_time": "2022-12-22T02:19:07.868Z"
   },
   {
    "duration": 52,
    "start_time": "2022-12-22T02:25:45.725Z"
   },
   {
    "duration": 32,
    "start_time": "2022-12-22T02:25:57.157Z"
   },
   {
    "duration": 21,
    "start_time": "2022-12-22T02:26:05.837Z"
   },
   {
    "duration": 5,
    "start_time": "2022-12-22T02:26:19.730Z"
   },
   {
    "duration": 5,
    "start_time": "2022-12-22T02:26:22.621Z"
   },
   {
    "duration": 4,
    "start_time": "2022-12-22T02:28:16.059Z"
   },
   {
    "duration": 4,
    "start_time": "2022-12-22T02:28:21.630Z"
   },
   {
    "duration": 1557,
    "start_time": "2022-12-22T02:43:21.153Z"
   },
   {
    "duration": 67,
    "start_time": "2022-12-22T02:48:53.145Z"
   },
   {
    "duration": 12,
    "start_time": "2022-12-22T02:48:58.805Z"
   },
   {
    "duration": 7,
    "start_time": "2022-12-22T02:49:07.960Z"
   },
   {
    "duration": 6,
    "start_time": "2022-12-22T02:49:50.133Z"
   },
   {
    "duration": 5,
    "start_time": "2022-12-22T02:50:13.501Z"
   },
   {
    "duration": 5,
    "start_time": "2022-12-22T02:50:35.993Z"
   },
   {
    "duration": 5,
    "start_time": "2022-12-22T02:50:42.588Z"
   },
   {
    "duration": 6,
    "start_time": "2022-12-22T02:50:46.804Z"
   },
   {
    "duration": 4,
    "start_time": "2022-12-22T02:51:01.987Z"
   },
   {
    "duration": 40,
    "start_time": "2022-12-22T02:51:07.712Z"
   },
   {
    "duration": 5,
    "start_time": "2022-12-22T02:51:13.162Z"
   },
   {
    "duration": 40,
    "start_time": "2022-12-22T02:51:18.088Z"
   },
   {
    "duration": 12,
    "start_time": "2022-12-22T02:52:56.809Z"
   },
   {
    "duration": 42,
    "start_time": "2022-12-22T02:55:38.686Z"
   },
   {
    "duration": 37,
    "start_time": "2022-12-22T02:55:47.160Z"
   },
   {
    "duration": 29,
    "start_time": "2022-12-22T03:01:13.699Z"
   },
   {
    "duration": 23,
    "start_time": "2022-12-22T03:01:16.935Z"
   },
   {
    "duration": 39,
    "start_time": "2022-12-22T03:01:21.923Z"
   },
   {
    "duration": 23,
    "start_time": "2022-12-22T03:03:16.015Z"
   },
   {
    "duration": 706,
    "start_time": "2022-12-22T03:04:11.063Z"
   },
   {
    "duration": 741,
    "start_time": "2022-12-22T03:04:16.081Z"
   },
   {
    "duration": 19,
    "start_time": "2022-12-22T03:04:30.669Z"
   },
   {
    "duration": 12,
    "start_time": "2022-12-22T03:04:38.919Z"
   },
   {
    "duration": 4,
    "start_time": "2022-12-22T03:05:11.254Z"
   },
   {
    "duration": 9,
    "start_time": "2022-12-22T03:05:26.007Z"
   },
   {
    "duration": 109,
    "start_time": "2022-12-22T03:06:19.069Z"
   },
   {
    "duration": 249,
    "start_time": "2022-12-22T03:10:56.135Z"
   },
   {
    "duration": 195,
    "start_time": "2022-12-22T03:11:04.150Z"
   },
   {
    "duration": 170,
    "start_time": "2022-12-22T03:11:08.120Z"
   },
   {
    "duration": 221,
    "start_time": "2022-12-22T03:11:12.968Z"
   },
   {
    "duration": 173,
    "start_time": "2022-12-22T03:11:20.422Z"
   },
   {
    "duration": 1545,
    "start_time": "2022-12-22T03:11:32.616Z"
   },
   {
    "duration": 362,
    "start_time": "2022-12-22T03:18:54.026Z"
   },
   {
    "duration": 363,
    "start_time": "2022-12-22T03:19:06.421Z"
   },
   {
    "duration": 19,
    "start_time": "2022-12-22T03:19:33.723Z"
   },
   {
    "duration": 5,
    "start_time": "2022-12-22T03:19:55.306Z"
   },
   {
    "duration": 5344,
    "start_time": "2022-12-22T03:20:00.966Z"
   },
   {
    "duration": 8,
    "start_time": "2022-12-22T03:21:36.794Z"
   },
   {
    "duration": 5,
    "start_time": "2022-12-22T03:21:42.174Z"
   },
   {
    "duration": 6,
    "start_time": "2022-12-22T03:21:46.912Z"
   },
   {
    "duration": 50,
    "start_time": "2022-12-22T03:21:56.250Z"
   },
   {
    "duration": 454,
    "start_time": "2022-12-22T03:22:11.395Z"
   },
   {
    "duration": 189,
    "start_time": "2022-12-22T03:22:40.601Z"
   },
   {
    "duration": 13,
    "start_time": "2022-12-22T03:22:48.749Z"
   },
   {
    "duration": 33,
    "start_time": "2022-12-22T03:23:32.760Z"
   },
   {
    "duration": 13,
    "start_time": "2022-12-22T03:23:37.725Z"
   },
   {
    "duration": 504,
    "start_time": "2022-12-22T03:23:54.969Z"
   },
   {
    "duration": 79,
    "start_time": "2022-12-22T03:23:59.800Z"
   },
   {
    "duration": 46,
    "start_time": "2022-12-22T03:24:14.613Z"
   },
   {
    "duration": 4,
    "start_time": "2022-12-22T03:24:24.614Z"
   },
   {
    "duration": 8,
    "start_time": "2022-12-22T03:25:01.881Z"
   },
   {
    "duration": 24,
    "start_time": "2022-12-22T03:25:02.353Z"
   },
   {
    "duration": 11,
    "start_time": "2022-12-22T03:25:06.186Z"
   },
   {
    "duration": 114,
    "start_time": "2022-12-22T03:34:39.972Z"
   },
   {
    "duration": 4,
    "start_time": "2022-12-22T03:34:48.334Z"
   },
   {
    "duration": 22,
    "start_time": "2022-12-22T03:34:48.928Z"
   },
   {
    "duration": 22,
    "start_time": "2022-12-22T03:34:52.061Z"
   },
   {
    "duration": 28,
    "start_time": "2022-12-22T03:34:54.174Z"
   },
   {
    "duration": 4,
    "start_time": "2022-12-22T03:34:59.156Z"
   },
   {
    "duration": 4,
    "start_time": "2022-12-22T03:35:18.975Z"
   },
   {
    "duration": 42,
    "start_time": "2022-12-22T03:35:53.419Z"
   },
   {
    "duration": 7,
    "start_time": "2022-12-22T03:35:57.395Z"
   },
   {
    "duration": 4,
    "start_time": "2022-12-22T03:36:04.771Z"
   },
   {
    "duration": 5,
    "start_time": "2022-12-22T03:36:08.727Z"
   },
   {
    "duration": 84,
    "start_time": "2022-12-22T03:37:45.327Z"
   },
   {
    "duration": 9,
    "start_time": "2022-12-22T03:37:52.148Z"
   },
   {
    "duration": 26,
    "start_time": "2022-12-22T03:38:03.843Z"
   },
   {
    "duration": 4,
    "start_time": "2022-12-22T03:38:10.453Z"
   },
   {
    "duration": 10,
    "start_time": "2022-12-22T03:38:18.478Z"
   },
   {
    "duration": 59,
    "start_time": "2022-12-22T03:41:03.234Z"
   },
   {
    "duration": 10,
    "start_time": "2022-12-22T03:41:03.356Z"
   },
   {
    "duration": 45,
    "start_time": "2022-12-22T03:41:16.198Z"
   },
   {
    "duration": 68,
    "start_time": "2022-12-22T03:43:45.541Z"
   },
   {
    "duration": 9,
    "start_time": "2022-12-22T03:43:50.194Z"
   },
   {
    "duration": 30,
    "start_time": "2022-12-22T03:44:00.628Z"
   },
   {
    "duration": 45,
    "start_time": "2022-12-22T03:44:15.204Z"
   },
   {
    "duration": 18,
    "start_time": "2022-12-22T03:44:15.656Z"
   },
   {
    "duration": 6,
    "start_time": "2022-12-22T03:44:24.852Z"
   },
   {
    "duration": 5,
    "start_time": "2022-12-22T03:44:42.882Z"
   },
   {
    "duration": 7,
    "start_time": "2022-12-22T03:44:50.329Z"
   },
   {
    "duration": 133,
    "start_time": "2022-12-22T03:45:40.303Z"
   },
   {
    "duration": 114,
    "start_time": "2022-12-22T03:45:45.904Z"
   },
   {
    "duration": 540,
    "start_time": "2022-12-22T03:45:50.473Z"
   },
   {
    "duration": 159,
    "start_time": "2022-12-22T03:46:05.276Z"
   },
   {
    "duration": 392,
    "start_time": "2022-12-22T03:46:10.484Z"
   },
   {
    "duration": 902,
    "start_time": "2022-12-22T03:46:17.317Z"
   },
   {
    "duration": 12,
    "start_time": "2022-12-22T03:46:26.100Z"
   },
   {
    "duration": 10,
    "start_time": "2022-12-22T03:46:42.128Z"
   },
   {
    "duration": 21,
    "start_time": "2022-12-22T03:47:12.482Z"
   },
   {
    "duration": 62,
    "start_time": "2022-12-22T03:48:02.565Z"
   },
   {
    "duration": 6,
    "start_time": "2022-12-22T03:48:09.334Z"
   },
   {
    "duration": 21,
    "start_time": "2022-12-22T03:48:15.768Z"
   },
   {
    "duration": 2518,
    "start_time": "2022-12-22T03:50:43.914Z"
   },
   {
    "duration": 8,
    "start_time": "2022-12-22T03:52:39.085Z"
   },
   {
    "duration": 2063,
    "start_time": "2022-12-22T03:52:43.480Z"
   },
   {
    "duration": 23,
    "start_time": "2022-12-22T03:55:56.277Z"
   },
   {
    "duration": 2204,
    "start_time": "2022-12-22T03:58:34.942Z"
   },
   {
    "duration": 22,
    "start_time": "2022-12-22T04:08:37.512Z"
   },
   {
    "duration": 57,
    "start_time": "2022-12-22T04:09:42.378Z"
   },
   {
    "duration": 24,
    "start_time": "2022-12-22T04:09:48.684Z"
   },
   {
    "duration": 42,
    "start_time": "2022-12-22T04:13:09.905Z"
   },
   {
    "duration": 78,
    "start_time": "2022-12-22T04:14:30.979Z"
   },
   {
    "duration": 179,
    "start_time": "2022-12-22T04:14:42.421Z"
   },
   {
    "duration": 97,
    "start_time": "2022-12-22T04:15:05.557Z"
   },
   {
    "duration": 19,
    "start_time": "2022-12-22T04:15:13.317Z"
   },
   {
    "duration": 4,
    "start_time": "2022-12-22T04:15:20.287Z"
   },
   {
    "duration": 1668,
    "start_time": "2022-12-22T04:16:27.788Z"
   },
   {
    "duration": 2253,
    "start_time": "2022-12-22T04:17:12.849Z"
   },
   {
    "duration": 7,
    "start_time": "2022-12-22T04:19:17.145Z"
   },
   {
    "duration": 832,
    "start_time": "2022-12-26T04:31:45.621Z"
   },
   {
    "duration": 1009,
    "start_time": "2022-12-26T04:31:46.455Z"
   },
   {
    "duration": 5,
    "start_time": "2022-12-26T04:31:47.466Z"
   },
   {
    "duration": 28,
    "start_time": "2022-12-26T04:31:47.473Z"
   },
   {
    "duration": 4,
    "start_time": "2022-12-26T04:31:47.503Z"
   },
   {
    "duration": 427,
    "start_time": "2022-12-26T04:31:47.508Z"
   },
   {
    "duration": 487,
    "start_time": "2022-12-26T04:31:47.937Z"
   },
   {
    "duration": 12,
    "start_time": "2022-12-26T04:31:48.425Z"
   },
   {
    "duration": 3,
    "start_time": "2022-12-26T04:31:48.439Z"
   },
   {
    "duration": 48,
    "start_time": "2022-12-26T04:31:48.444Z"
   },
   {
    "duration": 6,
    "start_time": "2022-12-26T04:31:48.493Z"
   },
   {
    "duration": 10,
    "start_time": "2022-12-26T04:31:48.522Z"
   },
   {
    "duration": 74,
    "start_time": "2022-12-26T04:31:48.536Z"
   },
   {
    "duration": 34,
    "start_time": "2022-12-26T04:31:48.612Z"
   },
   {
    "duration": 4,
    "start_time": "2022-12-26T04:31:48.647Z"
   },
   {
    "duration": 36,
    "start_time": "2022-12-26T04:31:48.653Z"
   },
   {
    "duration": 4,
    "start_time": "2022-12-26T04:31:48.691Z"
   },
   {
    "duration": 6,
    "start_time": "2022-12-26T04:31:48.696Z"
   },
   {
    "duration": 7948,
    "start_time": "2022-12-26T04:31:48.703Z"
   },
   {
    "duration": 180,
    "start_time": "2022-12-26T04:31:56.653Z"
   },
   {
    "duration": 106,
    "start_time": "2022-12-26T04:31:56.837Z"
   },
   {
    "duration": 3,
    "start_time": "2022-12-26T04:31:56.946Z"
   },
   {
    "duration": 10,
    "start_time": "2022-12-26T04:31:56.951Z"
   },
   {
    "duration": 1347,
    "start_time": "2022-12-26T04:31:56.962Z"
   },
   {
    "duration": 10,
    "start_time": "2022-12-26T04:31:58.312Z"
   },
   {
    "duration": 243,
    "start_time": "2022-12-26T04:31:58.323Z"
   },
   {
    "duration": 1257,
    "start_time": "2022-12-26T04:31:58.621Z"
   },
   {
    "duration": 4,
    "start_time": "2022-12-26T04:31:59.880Z"
   },
   {
    "duration": 56,
    "start_time": "2022-12-26T04:31:59.886Z"
   },
   {
    "duration": 20,
    "start_time": "2022-12-26T04:31:59.944Z"
   },
   {
    "duration": 80,
    "start_time": "2022-12-26T04:31:59.965Z"
   },
   {
    "duration": 3,
    "start_time": "2022-12-26T04:32:00.047Z"
   },
   {
    "duration": 17,
    "start_time": "2022-12-26T04:32:00.051Z"
   },
   {
    "duration": 165,
    "start_time": "2022-12-26T04:32:00.069Z"
   },
   {
    "duration": 1244,
    "start_time": "2022-12-26T04:32:00.236Z"
   },
   {
    "duration": 1272,
    "start_time": "2022-12-26T04:32:01.482Z"
   },
   {
    "duration": 17,
    "start_time": "2022-12-26T04:32:02.756Z"
   },
   {
    "duration": 677,
    "start_time": "2022-12-26T04:35:03.965Z"
   },
   {
    "duration": 802,
    "start_time": "2022-12-26T04:35:04.643Z"
   },
   {
    "duration": 6,
    "start_time": "2022-12-26T04:35:05.447Z"
   },
   {
    "duration": 35,
    "start_time": "2022-12-26T04:35:05.455Z"
   },
   {
    "duration": 5,
    "start_time": "2022-12-26T04:35:05.491Z"
   },
   {
    "duration": 448,
    "start_time": "2022-12-26T04:35:05.497Z"
   },
   {
    "duration": 489,
    "start_time": "2022-12-26T04:35:05.947Z"
   },
   {
    "duration": 7,
    "start_time": "2022-12-26T04:35:06.437Z"
   },
   {
    "duration": 3,
    "start_time": "2022-12-26T04:35:06.445Z"
   },
   {
    "duration": 49,
    "start_time": "2022-12-26T04:35:06.450Z"
   },
   {
    "duration": 27,
    "start_time": "2022-12-26T04:35:06.500Z"
   },
   {
    "duration": 4,
    "start_time": "2022-12-26T04:35:06.528Z"
   },
   {
    "duration": 75,
    "start_time": "2022-12-26T04:35:06.534Z"
   },
   {
    "duration": 30,
    "start_time": "2022-12-26T04:35:06.611Z"
   },
   {
    "duration": 4,
    "start_time": "2022-12-26T04:35:06.644Z"
   },
   {
    "duration": 36,
    "start_time": "2022-12-26T04:35:06.650Z"
   },
   {
    "duration": 4,
    "start_time": "2022-12-26T04:35:06.688Z"
   },
   {
    "duration": 9,
    "start_time": "2022-12-26T04:35:06.693Z"
   },
   {
    "duration": 7832,
    "start_time": "2022-12-26T04:35:06.704Z"
   },
   {
    "duration": 107,
    "start_time": "2022-12-26T04:35:14.537Z"
   },
   {
    "duration": 117,
    "start_time": "2022-12-26T04:35:14.645Z"
   },
   {
    "duration": 3,
    "start_time": "2022-12-26T04:35:14.764Z"
   },
   {
    "duration": 11,
    "start_time": "2022-12-26T04:35:14.769Z"
   },
   {
    "duration": 1477,
    "start_time": "2022-12-26T04:35:14.781Z"
   },
   {
    "duration": 4,
    "start_time": "2022-12-26T04:35:16.260Z"
   },
   {
    "duration": 188,
    "start_time": "2022-12-26T04:35:16.265Z"
   },
   {
    "duration": 1708,
    "start_time": "2022-12-26T04:35:16.455Z"
   },
   {
    "duration": 1476,
    "start_time": "2022-12-26T04:35:18.166Z"
   },
   {
    "duration": 4,
    "start_time": "2022-12-26T04:35:19.644Z"
   },
   {
    "duration": 28,
    "start_time": "2022-12-26T04:35:19.649Z"
   },
   {
    "duration": 64,
    "start_time": "2022-12-26T04:35:19.679Z"
   },
   {
    "duration": 81,
    "start_time": "2022-12-26T04:35:19.745Z"
   },
   {
    "duration": 6,
    "start_time": "2022-12-26T04:35:19.831Z"
   },
   {
    "duration": 12,
    "start_time": "2022-12-26T04:35:19.838Z"
   },
   {
    "duration": 99,
    "start_time": "2022-12-26T04:35:19.852Z"
   },
   {
    "duration": 1161,
    "start_time": "2022-12-26T04:35:19.952Z"
   },
   {
    "duration": 1200,
    "start_time": "2022-12-26T04:35:21.115Z"
   },
   {
    "duration": 18,
    "start_time": "2022-12-26T04:35:22.321Z"
   },
   {
    "duration": 27,
    "start_time": "2022-12-26T04:37:38.011Z"
   },
   {
    "duration": 307,
    "start_time": "2022-12-26T04:38:19.700Z"
   },
   {
    "duration": 11,
    "start_time": "2022-12-26T04:38:36.494Z"
   },
   {
    "duration": 10,
    "start_time": "2022-12-26T04:38:42.341Z"
   },
   {
    "duration": 8,
    "start_time": "2022-12-26T04:38:48.908Z"
   },
   {
    "duration": 7,
    "start_time": "2022-12-26T04:38:51.627Z"
   },
   {
    "duration": 24,
    "start_time": "2022-12-26T04:39:31.951Z"
   },
   {
    "duration": 1582,
    "start_time": "2022-12-26T04:39:38.621Z"
   },
   {
    "duration": 1595,
    "start_time": "2022-12-26T04:39:47.099Z"
   },
   {
    "duration": 1712,
    "start_time": "2022-12-26T04:40:03.051Z"
   },
   {
    "duration": 9,
    "start_time": "2022-12-26T04:40:47.905Z"
   },
   {
    "duration": 7,
    "start_time": "2022-12-26T04:40:51.629Z"
   },
   {
    "duration": 21,
    "start_time": "2022-12-26T04:44:12.413Z"
   },
   {
    "duration": 1601,
    "start_time": "2022-12-26T04:44:20.063Z"
   },
   {
    "duration": 6,
    "start_time": "2022-12-26T04:44:29.262Z"
   },
   {
    "duration": 20,
    "start_time": "2022-12-26T04:44:42.053Z"
   },
   {
    "duration": 1633,
    "start_time": "2022-12-26T04:44:43.026Z"
   },
   {
    "duration": 5,
    "start_time": "2022-12-26T04:44:51.718Z"
   },
   {
    "duration": 385,
    "start_time": "2022-12-26T04:45:01.668Z"
   },
   {
    "duration": 712,
    "start_time": "2022-12-26T04:45:11.223Z"
   },
   {
    "duration": 769,
    "start_time": "2022-12-26T04:45:11.937Z"
   },
   {
    "duration": 6,
    "start_time": "2022-12-26T04:45:12.707Z"
   },
   {
    "duration": 31,
    "start_time": "2022-12-26T04:45:12.722Z"
   },
   {
    "duration": 5,
    "start_time": "2022-12-26T04:45:12.755Z"
   },
   {
    "duration": 460,
    "start_time": "2022-12-26T04:45:12.761Z"
   },
   {
    "duration": 463,
    "start_time": "2022-12-26T04:45:13.222Z"
   },
   {
    "duration": 6,
    "start_time": "2022-12-26T04:45:13.687Z"
   },
   {
    "duration": 5,
    "start_time": "2022-12-26T04:45:13.695Z"
   },
   {
    "duration": 65,
    "start_time": "2022-12-26T04:45:13.702Z"
   },
   {
    "duration": 5,
    "start_time": "2022-12-26T04:45:13.768Z"
   },
   {
    "duration": 5,
    "start_time": "2022-12-26T04:45:13.775Z"
   },
   {
    "duration": 91,
    "start_time": "2022-12-26T04:45:13.782Z"
   },
   {
    "duration": 25,
    "start_time": "2022-12-26T04:45:13.874Z"
   },
   {
    "duration": 16,
    "start_time": "2022-12-26T04:45:13.900Z"
   },
   {
    "duration": 35,
    "start_time": "2022-12-26T04:45:13.917Z"
   },
   {
    "duration": 4,
    "start_time": "2022-12-26T04:45:13.953Z"
   },
   {
    "duration": 9,
    "start_time": "2022-12-26T04:45:13.959Z"
   },
   {
    "duration": 7354,
    "start_time": "2022-12-26T04:45:13.970Z"
   },
   {
    "duration": 122,
    "start_time": "2022-12-26T04:45:21.326Z"
   },
   {
    "duration": 115,
    "start_time": "2022-12-26T04:45:21.449Z"
   },
   {
    "duration": 6,
    "start_time": "2022-12-26T04:45:21.566Z"
   },
   {
    "duration": 14,
    "start_time": "2022-12-26T04:45:21.574Z"
   },
   {
    "duration": 1320,
    "start_time": "2022-12-26T04:45:21.590Z"
   },
   {
    "duration": 4,
    "start_time": "2022-12-26T04:45:22.921Z"
   },
   {
    "duration": 141,
    "start_time": "2022-12-26T04:45:22.927Z"
   },
   {
    "duration": 19,
    "start_time": "2022-12-26T04:45:23.121Z"
   },
   {
    "duration": 7,
    "start_time": "2022-12-26T04:45:23.143Z"
   },
   {
    "duration": 4,
    "start_time": "2022-12-26T04:45:23.151Z"
   },
   {
    "duration": 1620,
    "start_time": "2022-12-26T04:45:23.156Z"
   },
   {
    "duration": 1441,
    "start_time": "2022-12-26T04:45:24.778Z"
   },
   {
    "duration": 4,
    "start_time": "2022-12-26T04:45:26.221Z"
   },
   {
    "duration": 30,
    "start_time": "2022-12-26T04:45:26.226Z"
   },
   {
    "duration": 72,
    "start_time": "2022-12-26T04:45:26.257Z"
   },
   {
    "duration": 33,
    "start_time": "2022-12-26T04:45:26.330Z"
   },
   {
    "duration": 4,
    "start_time": "2022-12-26T04:45:26.364Z"
   },
   {
    "duration": 13,
    "start_time": "2022-12-26T04:45:26.422Z"
   },
   {
    "duration": 104,
    "start_time": "2022-12-26T04:45:26.437Z"
   },
   {
    "duration": 1163,
    "start_time": "2022-12-26T04:45:26.543Z"
   },
   {
    "duration": 1146,
    "start_time": "2022-12-26T04:45:27.708Z"
   },
   {
    "duration": 14,
    "start_time": "2022-12-26T04:45:28.856Z"
   },
   {
    "duration": 51,
    "start_time": "2022-12-26T04:48:25.451Z"
   },
   {
    "duration": 5,
    "start_time": "2022-12-26T04:48:26.221Z"
   },
   {
    "duration": 664,
    "start_time": "2022-12-26T04:48:44.029Z"
   },
   {
    "duration": 831,
    "start_time": "2022-12-26T04:48:44.695Z"
   },
   {
    "duration": 5,
    "start_time": "2022-12-26T04:48:45.527Z"
   },
   {
    "duration": 24,
    "start_time": "2022-12-26T04:48:45.534Z"
   },
   {
    "duration": 5,
    "start_time": "2022-12-26T04:48:45.560Z"
   },
   {
    "duration": 448,
    "start_time": "2022-12-26T04:48:45.566Z"
   },
   {
    "duration": 472,
    "start_time": "2022-12-26T04:48:46.016Z"
   },
   {
    "duration": 6,
    "start_time": "2022-12-26T04:48:46.490Z"
   },
   {
    "duration": 3,
    "start_time": "2022-12-26T04:48:46.498Z"
   },
   {
    "duration": 60,
    "start_time": "2022-12-26T04:48:46.503Z"
   },
   {
    "duration": 19,
    "start_time": "2022-12-26T04:48:46.565Z"
   },
   {
    "duration": 16,
    "start_time": "2022-12-26T04:48:46.585Z"
   },
   {
    "duration": 78,
    "start_time": "2022-12-26T04:48:46.603Z"
   },
   {
    "duration": 25,
    "start_time": "2022-12-26T04:48:46.684Z"
   },
   {
    "duration": 12,
    "start_time": "2022-12-26T04:48:46.711Z"
   },
   {
    "duration": 38,
    "start_time": "2022-12-26T04:48:46.724Z"
   },
   {
    "duration": 5,
    "start_time": "2022-12-26T04:48:46.764Z"
   },
   {
    "duration": 14,
    "start_time": "2022-12-26T04:48:46.770Z"
   },
   {
    "duration": 2633,
    "start_time": "2022-12-29T01:56:52.740Z"
   },
   {
    "duration": 1652,
    "start_time": "2022-12-29T01:56:55.375Z"
   },
   {
    "duration": 0,
    "start_time": "2022-12-29T01:56:57.030Z"
   },
   {
    "duration": 0,
    "start_time": "2022-12-29T01:56:57.031Z"
   },
   {
    "duration": 0,
    "start_time": "2022-12-29T01:56:57.032Z"
   },
   {
    "duration": 0,
    "start_time": "2022-12-29T01:56:57.033Z"
   },
   {
    "duration": 0,
    "start_time": "2022-12-29T01:56:57.034Z"
   },
   {
    "duration": 0,
    "start_time": "2022-12-29T01:56:57.035Z"
   },
   {
    "duration": 0,
    "start_time": "2022-12-29T01:56:57.036Z"
   },
   {
    "duration": 0,
    "start_time": "2022-12-29T01:56:57.037Z"
   },
   {
    "duration": 0,
    "start_time": "2022-12-29T01:56:57.038Z"
   },
   {
    "duration": 0,
    "start_time": "2022-12-29T01:56:57.039Z"
   },
   {
    "duration": 0,
    "start_time": "2022-12-29T01:56:57.039Z"
   },
   {
    "duration": 0,
    "start_time": "2022-12-29T01:56:57.040Z"
   },
   {
    "duration": 0,
    "start_time": "2022-12-29T01:56:57.041Z"
   },
   {
    "duration": 0,
    "start_time": "2022-12-29T01:56:57.042Z"
   },
   {
    "duration": 0,
    "start_time": "2022-12-29T01:56:57.043Z"
   },
   {
    "duration": 0,
    "start_time": "2022-12-29T01:56:57.044Z"
   },
   {
    "duration": 0,
    "start_time": "2022-12-29T01:56:57.045Z"
   },
   {
    "duration": 0,
    "start_time": "2022-12-29T01:56:57.045Z"
   },
   {
    "duration": 0,
    "start_time": "2022-12-29T01:56:57.046Z"
   },
   {
    "duration": 0,
    "start_time": "2022-12-29T01:56:57.047Z"
   },
   {
    "duration": 0,
    "start_time": "2022-12-29T01:56:57.048Z"
   },
   {
    "duration": 0,
    "start_time": "2022-12-29T01:56:57.049Z"
   },
   {
    "duration": 0,
    "start_time": "2022-12-29T01:56:57.051Z"
   },
   {
    "duration": 0,
    "start_time": "2022-12-29T01:56:57.051Z"
   },
   {
    "duration": 0,
    "start_time": "2022-12-29T01:56:57.052Z"
   },
   {
    "duration": 0,
    "start_time": "2022-12-29T01:56:57.053Z"
   },
   {
    "duration": 0,
    "start_time": "2022-12-29T01:56:57.054Z"
   },
   {
    "duration": 0,
    "start_time": "2022-12-29T01:56:57.055Z"
   },
   {
    "duration": 0,
    "start_time": "2022-12-29T01:56:57.056Z"
   },
   {
    "duration": 0,
    "start_time": "2022-12-29T01:56:57.057Z"
   },
   {
    "duration": 0,
    "start_time": "2022-12-29T01:56:57.058Z"
   },
   {
    "duration": 0,
    "start_time": "2022-12-29T01:56:57.059Z"
   },
   {
    "duration": 0,
    "start_time": "2022-12-29T01:56:57.060Z"
   },
   {
    "duration": 0,
    "start_time": "2022-12-29T01:56:57.061Z"
   },
   {
    "duration": 0,
    "start_time": "2022-12-29T01:56:57.062Z"
   },
   {
    "duration": 0,
    "start_time": "2022-12-29T01:56:57.063Z"
   },
   {
    "duration": 0,
    "start_time": "2022-12-29T01:56:57.116Z"
   },
   {
    "duration": 0,
    "start_time": "2022-12-29T01:56:57.117Z"
   },
   {
    "duration": 0,
    "start_time": "2022-12-29T01:56:57.118Z"
   },
   {
    "duration": 0,
    "start_time": "2022-12-29T01:56:57.119Z"
   },
   {
    "duration": 6,
    "start_time": "2022-12-29T01:57:31.764Z"
   },
   {
    "duration": 2050,
    "start_time": "2022-12-29T01:57:37.330Z"
   },
   {
    "duration": 1456,
    "start_time": "2022-12-29T01:57:39.382Z"
   },
   {
    "duration": 1054,
    "start_time": "2022-12-29T01:57:40.840Z"
   },
   {
    "duration": 63,
    "start_time": "2022-12-29T01:57:41.896Z"
   },
   {
    "duration": 28,
    "start_time": "2022-12-29T01:57:41.961Z"
   },
   {
    "duration": 5,
    "start_time": "2022-12-29T01:57:41.991Z"
   },
   {
    "duration": 439,
    "start_time": "2022-12-29T01:57:41.997Z"
   },
   {
    "duration": 493,
    "start_time": "2022-12-29T01:57:42.437Z"
   },
   {
    "duration": 9,
    "start_time": "2022-12-29T01:57:42.932Z"
   },
   {
    "duration": 3,
    "start_time": "2022-12-29T01:57:42.943Z"
   },
   {
    "duration": 77,
    "start_time": "2022-12-29T01:57:42.948Z"
   },
   {
    "duration": 7,
    "start_time": "2022-12-29T01:57:43.027Z"
   },
   {
    "duration": 6,
    "start_time": "2022-12-29T01:57:43.037Z"
   },
   {
    "duration": 87,
    "start_time": "2022-12-29T01:57:43.047Z"
   },
   {
    "duration": 25,
    "start_time": "2022-12-29T01:57:43.135Z"
   },
   {
    "duration": 7,
    "start_time": "2022-12-29T01:57:43.162Z"
   },
   {
    "duration": 46,
    "start_time": "2022-12-29T01:57:43.171Z"
   },
   {
    "duration": 4,
    "start_time": "2022-12-29T01:57:43.219Z"
   },
   {
    "duration": 9,
    "start_time": "2022-12-29T01:57:43.224Z"
   },
   {
    "duration": 7887,
    "start_time": "2022-12-29T01:57:43.235Z"
   },
   {
    "duration": 91,
    "start_time": "2022-12-29T01:57:51.124Z"
   },
   {
    "duration": 107,
    "start_time": "2022-12-29T01:57:51.218Z"
   },
   {
    "duration": 4,
    "start_time": "2022-12-29T01:57:51.327Z"
   },
   {
    "duration": 10,
    "start_time": "2022-12-29T01:57:51.333Z"
   },
   {
    "duration": 1302,
    "start_time": "2022-12-29T01:57:51.344Z"
   },
   {
    "duration": 4,
    "start_time": "2022-12-29T01:57:52.647Z"
   },
   {
    "duration": 177,
    "start_time": "2022-12-29T01:57:52.652Z"
   },
   {
    "duration": 19,
    "start_time": "2022-12-29T01:57:52.831Z"
   },
   {
    "duration": 7,
    "start_time": "2022-12-29T01:57:52.851Z"
   },
   {
    "duration": 59,
    "start_time": "2022-12-29T01:57:52.860Z"
   },
   {
    "duration": 1648,
    "start_time": "2022-12-29T01:57:52.921Z"
   },
   {
    "duration": 1536,
    "start_time": "2022-12-29T01:57:54.571Z"
   },
   {
    "duration": 8,
    "start_time": "2022-12-29T01:57:56.109Z"
   },
   {
    "duration": 25,
    "start_time": "2022-12-29T01:57:56.119Z"
   },
   {
    "duration": 73,
    "start_time": "2022-12-29T01:57:56.145Z"
   },
   {
    "duration": 30,
    "start_time": "2022-12-29T01:57:56.221Z"
   },
   {
    "duration": 10,
    "start_time": "2022-12-29T01:57:56.254Z"
   },
   {
    "duration": 79,
    "start_time": "2022-12-29T01:57:56.266Z"
   },
   {
    "duration": 91,
    "start_time": "2022-12-29T01:57:56.347Z"
   },
   {
    "duration": 1077,
    "start_time": "2022-12-29T01:57:56.440Z"
   },
   {
    "duration": 1161,
    "start_time": "2022-12-29T01:57:57.521Z"
   },
   {
    "duration": 36,
    "start_time": "2022-12-29T01:57:58.683Z"
   },
   {
    "duration": 4,
    "start_time": "2022-12-29T01:59:59.345Z"
   },
   {
    "duration": 6,
    "start_time": "2022-12-29T02:00:24.244Z"
   },
   {
    "duration": 4,
    "start_time": "2022-12-29T02:03:08.075Z"
   },
   {
    "duration": 4,
    "start_time": "2022-12-29T02:03:13.838Z"
   },
   {
    "duration": 4,
    "start_time": "2022-12-29T02:03:19.661Z"
   },
   {
    "duration": 2061,
    "start_time": "2022-12-29T02:07:00.869Z"
   },
   {
    "duration": 1410,
    "start_time": "2022-12-29T02:07:02.933Z"
   },
   {
    "duration": 742,
    "start_time": "2022-12-29T02:07:04.345Z"
   },
   {
    "duration": 70,
    "start_time": "2022-12-29T02:07:05.089Z"
   },
   {
    "duration": 28,
    "start_time": "2022-12-29T02:07:05.161Z"
   },
   {
    "duration": 5,
    "start_time": "2022-12-29T02:07:05.191Z"
   },
   {
    "duration": 434,
    "start_time": "2022-12-29T02:07:05.197Z"
   },
   {
    "duration": 494,
    "start_time": "2022-12-29T02:07:05.633Z"
   },
   {
    "duration": 6,
    "start_time": "2022-12-29T02:07:06.129Z"
   },
   {
    "duration": 4,
    "start_time": "2022-12-29T02:07:06.137Z"
   },
   {
    "duration": 52,
    "start_time": "2022-12-29T02:07:06.143Z"
   },
   {
    "duration": 20,
    "start_time": "2022-12-29T02:07:06.197Z"
   },
   {
    "duration": 9,
    "start_time": "2022-12-29T02:07:06.219Z"
   },
   {
    "duration": 89,
    "start_time": "2022-12-29T02:07:06.233Z"
   },
   {
    "duration": 30,
    "start_time": "2022-12-29T02:07:06.324Z"
   },
   {
    "duration": 11,
    "start_time": "2022-12-29T02:07:06.356Z"
   },
   {
    "duration": 33,
    "start_time": "2022-12-29T02:07:06.369Z"
   },
   {
    "duration": 5,
    "start_time": "2022-12-29T02:07:06.415Z"
   },
   {
    "duration": 4,
    "start_time": "2022-12-29T02:07:06.422Z"
   },
   {
    "duration": 6083,
    "start_time": "2022-12-29T02:07:06.428Z"
   },
   {
    "duration": 102,
    "start_time": "2022-12-29T02:07:12.514Z"
   },
   {
    "duration": 104,
    "start_time": "2022-12-29T02:07:12.618Z"
   },
   {
    "duration": 4,
    "start_time": "2022-12-29T02:07:12.724Z"
   },
   {
    "duration": 18,
    "start_time": "2022-12-29T02:07:12.729Z"
   },
   {
    "duration": 1378,
    "start_time": "2022-12-29T02:07:12.748Z"
   },
   {
    "duration": 4,
    "start_time": "2022-12-29T02:07:14.128Z"
   },
   {
    "duration": 184,
    "start_time": "2022-12-29T02:07:14.134Z"
   },
   {
    "duration": 19,
    "start_time": "2022-12-29T02:07:14.320Z"
   },
   {
    "duration": 6,
    "start_time": "2022-12-29T02:07:14.341Z"
   },
   {
    "duration": 10,
    "start_time": "2022-12-29T02:07:14.349Z"
   },
   {
    "duration": 1695,
    "start_time": "2022-12-29T02:07:14.360Z"
   },
   {
    "duration": 1490,
    "start_time": "2022-12-29T02:07:16.058Z"
   },
   {
    "duration": 4,
    "start_time": "2022-12-29T02:07:17.550Z"
   },
   {
    "duration": 25,
    "start_time": "2022-12-29T02:07:17.556Z"
   },
   {
    "duration": 22,
    "start_time": "2022-12-29T02:07:17.616Z"
   },
   {
    "duration": 77,
    "start_time": "2022-12-29T02:07:17.639Z"
   },
   {
    "duration": 4,
    "start_time": "2022-12-29T02:07:17.717Z"
   },
   {
    "duration": 22,
    "start_time": "2022-12-29T02:07:17.722Z"
   },
   {
    "duration": 98,
    "start_time": "2022-12-29T02:07:17.746Z"
   },
   {
    "duration": 1151,
    "start_time": "2022-12-29T02:07:17.845Z"
   },
   {
    "duration": 1148,
    "start_time": "2022-12-29T02:07:19.001Z"
   },
   {
    "duration": 14,
    "start_time": "2022-12-29T02:07:20.151Z"
   },
   {
    "duration": 12,
    "start_time": "2022-12-29T02:07:20.166Z"
   },
   {
    "duration": 36,
    "start_time": "2022-12-29T02:07:20.180Z"
   },
   {
    "duration": 6,
    "start_time": "2022-12-29T02:07:20.217Z"
   },
   {
    "duration": 6,
    "start_time": "2022-12-29T02:07:20.225Z"
   },
   {
    "duration": 3,
    "start_time": "2022-12-29T02:09:30.274Z"
   },
   {
    "duration": 108,
    "start_time": "2022-12-29T02:13:41.121Z"
   },
   {
    "duration": 4,
    "start_time": "2022-12-29T02:14:36.846Z"
   },
   {
    "duration": 4,
    "start_time": "2022-12-29T02:14:37.331Z"
   },
   {
    "duration": 5,
    "start_time": "2022-12-29T02:18:18.162Z"
   },
   {
    "duration": 2079,
    "start_time": "2022-12-29T02:19:02.447Z"
   },
   {
    "duration": 1424,
    "start_time": "2022-12-29T02:19:04.529Z"
   },
   {
    "duration": 904,
    "start_time": "2022-12-29T02:19:05.957Z"
   },
   {
    "duration": 5,
    "start_time": "2022-12-29T02:19:06.864Z"
   },
   {
    "duration": 25,
    "start_time": "2022-12-29T02:19:06.870Z"
   },
   {
    "duration": 21,
    "start_time": "2022-12-29T02:19:06.896Z"
   },
   {
    "duration": 433,
    "start_time": "2022-12-29T02:19:06.919Z"
   },
   {
    "duration": 489,
    "start_time": "2022-12-29T02:19:07.354Z"
   },
   {
    "duration": 6,
    "start_time": "2022-12-29T02:19:07.845Z"
   },
   {
    "duration": 3,
    "start_time": "2022-12-29T02:19:07.853Z"
   },
   {
    "duration": 60,
    "start_time": "2022-12-29T02:19:07.858Z"
   },
   {
    "duration": 9,
    "start_time": "2022-12-29T02:19:07.920Z"
   },
   {
    "duration": 3,
    "start_time": "2022-12-29T02:19:07.932Z"
   },
   {
    "duration": 83,
    "start_time": "2022-12-29T02:19:07.937Z"
   },
   {
    "duration": 31,
    "start_time": "2022-12-29T02:19:08.021Z"
   },
   {
    "duration": 7,
    "start_time": "2022-12-29T02:19:08.055Z"
   },
   {
    "duration": 31,
    "start_time": "2022-12-29T02:19:08.064Z"
   },
   {
    "duration": 21,
    "start_time": "2022-12-29T02:19:08.097Z"
   },
   {
    "duration": 8,
    "start_time": "2022-12-29T02:19:08.120Z"
   },
   {
    "duration": 5902,
    "start_time": "2022-12-29T02:19:08.129Z"
   },
   {
    "duration": 0,
    "start_time": "2022-12-29T02:19:14.033Z"
   },
   {
    "duration": 0,
    "start_time": "2022-12-29T02:19:14.034Z"
   },
   {
    "duration": 0,
    "start_time": "2022-12-29T02:19:14.035Z"
   },
   {
    "duration": 0,
    "start_time": "2022-12-29T02:19:14.036Z"
   },
   {
    "duration": 0,
    "start_time": "2022-12-29T02:19:14.037Z"
   },
   {
    "duration": 1,
    "start_time": "2022-12-29T02:19:14.038Z"
   },
   {
    "duration": 0,
    "start_time": "2022-12-29T02:19:14.040Z"
   },
   {
    "duration": 0,
    "start_time": "2022-12-29T02:19:14.041Z"
   },
   {
    "duration": 0,
    "start_time": "2022-12-29T02:19:14.042Z"
   },
   {
    "duration": 0,
    "start_time": "2022-12-29T02:19:14.043Z"
   },
   {
    "duration": 0,
    "start_time": "2022-12-29T02:19:14.044Z"
   },
   {
    "duration": 0,
    "start_time": "2022-12-29T02:19:14.045Z"
   },
   {
    "duration": 0,
    "start_time": "2022-12-29T02:19:14.046Z"
   },
   {
    "duration": 0,
    "start_time": "2022-12-29T02:19:14.048Z"
   },
   {
    "duration": 0,
    "start_time": "2022-12-29T02:19:14.049Z"
   },
   {
    "duration": 0,
    "start_time": "2022-12-29T02:19:14.051Z"
   },
   {
    "duration": 0,
    "start_time": "2022-12-29T02:19:14.053Z"
   },
   {
    "duration": 0,
    "start_time": "2022-12-29T02:19:14.054Z"
   },
   {
    "duration": 0,
    "start_time": "2022-12-29T02:19:14.055Z"
   },
   {
    "duration": 0,
    "start_time": "2022-12-29T02:19:14.057Z"
   },
   {
    "duration": 0,
    "start_time": "2022-12-29T02:19:14.057Z"
   },
   {
    "duration": 0,
    "start_time": "2022-12-29T02:19:14.059Z"
   },
   {
    "duration": 0,
    "start_time": "2022-12-29T02:19:14.061Z"
   },
   {
    "duration": 0,
    "start_time": "2022-12-29T02:19:14.061Z"
   },
   {
    "duration": 0,
    "start_time": "2022-12-29T02:19:14.062Z"
   },
   {
    "duration": 0,
    "start_time": "2022-12-29T02:19:14.063Z"
   },
   {
    "duration": 0,
    "start_time": "2022-12-29T02:19:14.063Z"
   },
   {
    "duration": 0,
    "start_time": "2022-12-29T02:19:14.064Z"
   },
   {
    "duration": 0,
    "start_time": "2022-12-29T02:19:14.065Z"
   },
   {
    "duration": 2036,
    "start_time": "2022-12-29T02:21:52.289Z"
   },
   {
    "duration": 1410,
    "start_time": "2022-12-29T02:21:54.328Z"
   },
   {
    "duration": 795,
    "start_time": "2022-12-29T02:21:55.740Z"
   },
   {
    "duration": 64,
    "start_time": "2022-12-29T02:21:56.537Z"
   },
   {
    "duration": 23,
    "start_time": "2022-12-29T02:21:56.615Z"
   },
   {
    "duration": 6,
    "start_time": "2022-12-29T02:21:56.640Z"
   },
   {
    "duration": 440,
    "start_time": "2022-12-29T02:21:56.647Z"
   },
   {
    "duration": 475,
    "start_time": "2022-12-29T02:21:57.089Z"
   },
   {
    "duration": 10,
    "start_time": "2022-12-29T02:21:57.565Z"
   },
   {
    "duration": 4,
    "start_time": "2022-12-29T02:21:57.577Z"
   },
   {
    "duration": 71,
    "start_time": "2022-12-29T02:21:57.583Z"
   },
   {
    "duration": 11,
    "start_time": "2022-12-29T02:21:57.656Z"
   },
   {
    "duration": 5,
    "start_time": "2022-12-29T02:21:57.669Z"
   },
   {
    "duration": 84,
    "start_time": "2022-12-29T02:21:57.676Z"
   },
   {
    "duration": 25,
    "start_time": "2022-12-29T02:21:57.762Z"
   },
   {
    "duration": 9,
    "start_time": "2022-12-29T02:21:57.789Z"
   },
   {
    "duration": 38,
    "start_time": "2022-12-29T02:21:57.799Z"
   },
   {
    "duration": 4,
    "start_time": "2022-12-29T02:21:57.839Z"
   },
   {
    "duration": 8,
    "start_time": "2022-12-29T02:21:57.845Z"
   },
   {
    "duration": 73,
    "start_time": "2022-12-29T02:21:57.854Z"
   },
   {
    "duration": 50,
    "start_time": "2022-12-29T02:21:57.929Z"
   },
   {
    "duration": 4,
    "start_time": "2022-12-29T02:21:57.980Z"
   },
   {
    "duration": 34,
    "start_time": "2022-12-29T02:21:57.985Z"
   },
   {
    "duration": 4,
    "start_time": "2022-12-29T02:21:58.020Z"
   },
   {
    "duration": 110,
    "start_time": "2022-12-29T02:21:58.025Z"
   },
   {
    "duration": 18,
    "start_time": "2022-12-29T02:21:58.137Z"
   },
   {
    "duration": 6,
    "start_time": "2022-12-29T02:21:58.156Z"
   },
   {
    "duration": 6,
    "start_time": "2022-12-29T02:21:58.164Z"
   },
   {
    "duration": 12,
    "start_time": "2022-12-29T02:21:58.171Z"
   },
   {
    "duration": 50,
    "start_time": "2022-12-29T02:21:58.185Z"
   },
   {
    "duration": 24,
    "start_time": "2022-12-29T02:21:58.237Z"
   },
   {
    "duration": 27,
    "start_time": "2022-12-29T02:21:58.263Z"
   },
   {
    "duration": 24,
    "start_time": "2022-12-29T02:21:58.292Z"
   },
   {
    "duration": 9,
    "start_time": "2022-12-29T02:21:58.318Z"
   },
   {
    "duration": 44,
    "start_time": "2022-12-29T02:21:58.329Z"
   },
   {
    "duration": 1589,
    "start_time": "2022-12-29T02:21:58.375Z"
   },
   {
    "duration": 1406,
    "start_time": "2022-12-29T02:21:59.966Z"
   },
   {
    "duration": 15,
    "start_time": "2022-12-29T02:22:01.374Z"
   },
   {
    "duration": 41,
    "start_time": "2022-12-29T02:22:01.391Z"
   },
   {
    "duration": 38,
    "start_time": "2022-12-29T02:22:01.433Z"
   },
   {
    "duration": 41,
    "start_time": "2022-12-29T02:22:01.475Z"
   },
   {
    "duration": 207,
    "start_time": "2022-12-29T02:22:01.518Z"
   },
   {
    "duration": 4,
    "start_time": "2022-12-29T02:22:01.727Z"
   },
   {
    "duration": 9,
    "start_time": "2022-12-29T02:22:01.733Z"
   },
   {
    "duration": 162,
    "start_time": "2022-12-29T02:22:01.743Z"
   },
   {
    "duration": 2091,
    "start_time": "2022-12-29T02:22:18.108Z"
   },
   {
    "duration": 1470,
    "start_time": "2022-12-29T02:22:20.201Z"
   },
   {
    "duration": 778,
    "start_time": "2022-12-29T02:22:21.673Z"
   },
   {
    "duration": 75,
    "start_time": "2022-12-29T02:22:22.452Z"
   },
   {
    "duration": 26,
    "start_time": "2022-12-29T02:22:22.530Z"
   },
   {
    "duration": 5,
    "start_time": "2022-12-29T02:22:22.557Z"
   },
   {
    "duration": 457,
    "start_time": "2022-12-29T02:22:22.564Z"
   },
   {
    "duration": 472,
    "start_time": "2022-12-29T02:22:23.022Z"
   },
   {
    "duration": 6,
    "start_time": "2022-12-29T02:22:23.496Z"
   },
   {
    "duration": 3,
    "start_time": "2022-12-29T02:22:23.504Z"
   },
   {
    "duration": 41,
    "start_time": "2022-12-29T02:22:23.516Z"
   },
   {
    "duration": 7,
    "start_time": "2022-12-29T02:22:23.558Z"
   },
   {
    "duration": 7,
    "start_time": "2022-12-29T02:22:23.567Z"
   },
   {
    "duration": 81,
    "start_time": "2022-12-29T02:22:23.576Z"
   },
   {
    "duration": 20,
    "start_time": "2022-12-29T02:22:23.659Z"
   },
   {
    "duration": 4,
    "start_time": "2022-12-29T02:22:23.681Z"
   },
   {
    "duration": 45,
    "start_time": "2022-12-29T02:22:23.686Z"
   },
   {
    "duration": 4,
    "start_time": "2022-12-29T02:22:23.733Z"
   },
   {
    "duration": 6,
    "start_time": "2022-12-29T02:22:23.738Z"
   },
   {
    "duration": 70,
    "start_time": "2022-12-29T02:22:23.746Z"
   },
   {
    "duration": 55,
    "start_time": "2022-12-29T02:22:23.817Z"
   },
   {
    "duration": 4,
    "start_time": "2022-12-29T02:22:23.874Z"
   },
   {
    "duration": 10,
    "start_time": "2022-12-29T02:22:23.879Z"
   },
   {
    "duration": 25,
    "start_time": "2022-12-29T02:22:23.891Z"
   },
   {
    "duration": 99,
    "start_time": "2022-12-29T02:22:23.917Z"
   },
   {
    "duration": 19,
    "start_time": "2022-12-29T02:22:24.018Z"
   },
   {
    "duration": 6,
    "start_time": "2022-12-29T02:22:24.038Z"
   },
   {
    "duration": 5,
    "start_time": "2022-12-29T02:22:24.046Z"
   },
   {
    "duration": 12,
    "start_time": "2022-12-29T02:22:24.053Z"
   },
   {
    "duration": 48,
    "start_time": "2022-12-29T02:22:24.067Z"
   },
   {
    "duration": 25,
    "start_time": "2022-12-29T02:22:24.117Z"
   },
   {
    "duration": 26,
    "start_time": "2022-12-29T02:22:24.144Z"
   },
   {
    "duration": 3,
    "start_time": "2022-12-29T02:22:24.171Z"
   },
   {
    "duration": 10,
    "start_time": "2022-12-29T02:22:24.176Z"
   },
   {
    "duration": 67,
    "start_time": "2022-12-29T02:22:24.188Z"
   },
   {
    "duration": 15,
    "start_time": "2022-12-29T02:22:24.256Z"
   },
   {
    "duration": 4,
    "start_time": "2022-12-29T02:22:24.273Z"
   },
   {
    "duration": 7,
    "start_time": "2022-12-29T02:22:24.278Z"
   },
   {
    "duration": 33,
    "start_time": "2022-12-29T02:22:24.286Z"
   },
   {
    "duration": 102,
    "start_time": "2022-12-29T02:22:24.321Z"
   },
   {
    "duration": 4,
    "start_time": "2022-12-29T02:22:24.426Z"
   },
   {
    "duration": 7,
    "start_time": "2022-12-29T02:22:24.431Z"
   },
   {
    "duration": 130,
    "start_time": "2022-12-29T02:22:24.440Z"
   },
   {
    "duration": 11,
    "start_time": "2022-12-29T02:41:14.149Z"
   },
   {
    "duration": 20,
    "start_time": "2022-12-29T02:41:28.368Z"
   },
   {
    "duration": 3,
    "start_time": "2022-12-29T02:42:48.291Z"
   },
   {
    "duration": 10,
    "start_time": "2022-12-29T02:54:11.268Z"
   },
   {
    "duration": 4,
    "start_time": "2022-12-29T02:54:56.809Z"
   },
   {
    "duration": 18,
    "start_time": "2022-12-29T02:56:19.504Z"
   },
   {
    "duration": 4,
    "start_time": "2022-12-29T02:56:33.977Z"
   },
   {
    "duration": 44,
    "start_time": "2022-12-29T02:56:42.176Z"
   },
   {
    "duration": 3,
    "start_time": "2022-12-29T02:56:46.956Z"
   },
   {
    "duration": 4,
    "start_time": "2022-12-29T02:56:53.572Z"
   },
   {
    "duration": 3,
    "start_time": "2022-12-29T02:56:55.737Z"
   },
   {
    "duration": 3,
    "start_time": "2022-12-29T02:57:18.767Z"
   },
   {
    "duration": 2,
    "start_time": "2022-12-29T02:57:19.289Z"
   },
   {
    "duration": 4,
    "start_time": "2022-12-29T02:57:22.859Z"
   },
   {
    "duration": 11,
    "start_time": "2022-12-29T02:58:21.025Z"
   },
   {
    "duration": 29,
    "start_time": "2022-12-29T02:58:40.123Z"
   },
   {
    "duration": 18,
    "start_time": "2022-12-29T02:58:50.494Z"
   },
   {
    "duration": 6709,
    "start_time": "2022-12-29T02:58:51.442Z"
   },
   {
    "duration": 22,
    "start_time": "2022-12-29T02:59:32.084Z"
   },
   {
    "duration": 2271,
    "start_time": "2022-12-29T03:00:55.476Z"
   },
   {
    "duration": 1417,
    "start_time": "2022-12-29T03:00:57.750Z"
   },
   {
    "duration": 782,
    "start_time": "2022-12-29T03:00:59.168Z"
   },
   {
    "duration": 7,
    "start_time": "2022-12-29T03:01:00.019Z"
   },
   {
    "duration": 28,
    "start_time": "2022-12-29T03:01:00.028Z"
   },
   {
    "duration": 6,
    "start_time": "2022-12-29T03:01:00.058Z"
   },
   {
    "duration": 465,
    "start_time": "2022-12-29T03:01:00.066Z"
   },
   {
    "duration": 501,
    "start_time": "2022-12-29T03:01:00.533Z"
   },
   {
    "duration": 6,
    "start_time": "2022-12-29T03:01:01.036Z"
   },
   {
    "duration": 13,
    "start_time": "2022-12-29T03:01:01.044Z"
   },
   {
    "duration": 79,
    "start_time": "2022-12-29T03:01:01.058Z"
   },
   {
    "duration": 5,
    "start_time": "2022-12-29T03:01:01.139Z"
   },
   {
    "duration": 26,
    "start_time": "2022-12-29T03:01:01.145Z"
   },
   {
    "duration": 91,
    "start_time": "2022-12-29T03:01:01.172Z"
   },
   {
    "duration": 23,
    "start_time": "2022-12-29T03:01:01.264Z"
   },
   {
    "duration": 19,
    "start_time": "2022-12-29T03:01:01.288Z"
   },
   {
    "duration": 80,
    "start_time": "2022-12-29T03:01:01.308Z"
   },
   {
    "duration": 57,
    "start_time": "2022-12-29T03:01:01.390Z"
   },
   {
    "duration": 37,
    "start_time": "2022-12-29T03:01:01.449Z"
   },
   {
    "duration": 75,
    "start_time": "2022-12-29T03:01:01.488Z"
   },
   {
    "duration": 54,
    "start_time": "2022-12-29T03:01:01.565Z"
   },
   {
    "duration": 4,
    "start_time": "2022-12-29T03:01:01.621Z"
   },
   {
    "duration": 24,
    "start_time": "2022-12-29T03:01:01.626Z"
   },
   {
    "duration": 13,
    "start_time": "2022-12-29T03:01:01.651Z"
   },
   {
    "duration": 105,
    "start_time": "2022-12-29T03:01:01.665Z"
   },
   {
    "duration": 19,
    "start_time": "2022-12-29T03:01:01.772Z"
   },
   {
    "duration": 6,
    "start_time": "2022-12-29T03:01:01.793Z"
   },
   {
    "duration": 5,
    "start_time": "2022-12-29T03:01:01.815Z"
   },
   {
    "duration": 15,
    "start_time": "2022-12-29T03:01:01.822Z"
   },
   {
    "duration": 26,
    "start_time": "2022-12-29T03:01:01.838Z"
   },
   {
    "duration": 21,
    "start_time": "2022-12-29T03:01:01.866Z"
   },
   {
    "duration": 39,
    "start_time": "2022-12-29T03:01:01.889Z"
   },
   {
    "duration": 16,
    "start_time": "2022-12-29T03:01:01.929Z"
   },
   {
    "duration": 18,
    "start_time": "2022-12-29T03:01:01.946Z"
   },
   {
    "duration": 44,
    "start_time": "2022-12-29T03:01:01.966Z"
   },
   {
    "duration": 15,
    "start_time": "2022-12-29T03:01:02.016Z"
   },
   {
    "duration": 5,
    "start_time": "2022-12-29T03:01:02.032Z"
   },
   {
    "duration": 31,
    "start_time": "2022-12-29T03:01:02.039Z"
   },
   {
    "duration": 23,
    "start_time": "2022-12-29T03:01:02.072Z"
   },
   {
    "duration": 99,
    "start_time": "2022-12-29T03:01:02.097Z"
   },
   {
    "duration": 4,
    "start_time": "2022-12-29T03:01:02.198Z"
   },
   {
    "duration": 14,
    "start_time": "2022-12-29T03:01:02.203Z"
   },
   {
    "duration": 22,
    "start_time": "2022-12-29T03:01:02.218Z"
   },
   {
    "duration": 18,
    "start_time": "2022-12-29T03:01:02.242Z"
   },
   {
    "duration": 8785,
    "start_time": "2022-12-29T03:01:02.261Z"
   },
   {
    "duration": 7,
    "start_time": "2022-12-29T03:02:24.750Z"
   },
   {
    "duration": 749,
    "start_time": "2022-12-29T03:02:25.101Z"
   },
   {
    "duration": 4,
    "start_time": "2022-12-29T03:02:25.852Z"
   },
   {
    "duration": 20,
    "start_time": "2022-12-29T03:02:26.756Z"
   },
   {
    "duration": 5,
    "start_time": "2022-12-29T03:02:27.085Z"
   },
   {
    "duration": 409,
    "start_time": "2022-12-29T03:02:27.531Z"
   },
   {
    "duration": 416,
    "start_time": "2022-12-29T03:02:28.870Z"
   },
   {
    "duration": 9,
    "start_time": "2022-12-29T03:02:29.288Z"
   },
   {
    "duration": 4,
    "start_time": "2022-12-29T03:02:29.657Z"
   },
   {
    "duration": 44,
    "start_time": "2022-12-29T03:02:31.279Z"
   },
   {
    "duration": 5,
    "start_time": "2022-12-29T03:02:31.591Z"
   },
   {
    "duration": 3,
    "start_time": "2022-12-29T03:02:32.183Z"
   },
   {
    "duration": 60,
    "start_time": "2022-12-29T03:02:33.386Z"
   },
   {
    "duration": 19,
    "start_time": "2022-12-29T03:02:35.628Z"
   },
   {
    "duration": 4,
    "start_time": "2022-12-29T03:02:35.967Z"
   },
   {
    "duration": 27,
    "start_time": "2022-12-29T03:02:36.352Z"
   },
   {
    "duration": 78,
    "start_time": "2022-12-29T03:02:36.859Z"
   },
   {
    "duration": 12,
    "start_time": "2022-12-29T03:06:05.343Z"
   },
   {
    "duration": 27,
    "start_time": "2022-12-29T03:06:11.089Z"
   },
   {
    "duration": 37,
    "start_time": "2022-12-29T03:10:50.192Z"
   },
   {
    "duration": 84,
    "start_time": "2022-12-29T03:10:54.144Z"
   },
   {
    "duration": 9,
    "start_time": "2022-12-29T03:12:16.423Z"
   },
   {
    "duration": 9,
    "start_time": "2022-12-29T03:12:27.115Z"
   },
   {
    "duration": 8,
    "start_time": "2022-12-29T03:12:33.505Z"
   },
   {
    "duration": 8,
    "start_time": "2022-12-29T03:12:38.921Z"
   },
   {
    "duration": 106,
    "start_time": "2022-12-29T03:13:47.687Z"
   },
   {
    "duration": 88,
    "start_time": "2022-12-29T03:14:02.060Z"
   },
   {
    "duration": 80,
    "start_time": "2022-12-29T03:14:08.109Z"
   },
   {
    "duration": 2071,
    "start_time": "2022-12-29T03:14:49.263Z"
   },
   {
    "duration": 1443,
    "start_time": "2022-12-29T03:14:51.336Z"
   },
   {
    "duration": 781,
    "start_time": "2022-12-29T03:14:52.781Z"
   },
   {
    "duration": 5,
    "start_time": "2022-12-29T03:14:53.627Z"
   },
   {
    "duration": 28,
    "start_time": "2022-12-29T03:14:53.634Z"
   },
   {
    "duration": 5,
    "start_time": "2022-12-29T03:14:53.664Z"
   },
   {
    "duration": 490,
    "start_time": "2022-12-29T03:14:53.671Z"
   },
   {
    "duration": 517,
    "start_time": "2022-12-29T03:14:54.163Z"
   },
   {
    "duration": 10,
    "start_time": "2022-12-29T03:14:54.681Z"
   },
   {
    "duration": 22,
    "start_time": "2022-12-29T03:14:54.694Z"
   },
   {
    "duration": 49,
    "start_time": "2022-12-29T03:14:54.718Z"
   },
   {
    "duration": 4,
    "start_time": "2022-12-29T03:14:54.769Z"
   },
   {
    "duration": 5,
    "start_time": "2022-12-29T03:14:54.775Z"
   },
   {
    "duration": 84,
    "start_time": "2022-12-29T03:14:54.781Z"
   },
   {
    "duration": 24,
    "start_time": "2022-12-29T03:14:54.866Z"
   },
   {
    "duration": 24,
    "start_time": "2022-12-29T03:14:54.892Z"
   },
   {
    "duration": 29,
    "start_time": "2022-12-29T03:14:54.917Z"
   },
   {
    "duration": 85,
    "start_time": "2022-12-29T03:14:54.948Z"
   },
   {
    "duration": 26,
    "start_time": "2022-12-29T03:14:55.034Z"
   },
   {
    "duration": 63,
    "start_time": "2022-12-29T03:14:55.062Z"
   },
   {
    "duration": 74,
    "start_time": "2022-12-29T03:14:55.127Z"
   },
   {
    "duration": 87,
    "start_time": "2022-12-29T03:14:55.203Z"
   },
   {
    "duration": 90,
    "start_time": "2022-12-29T03:14:55.292Z"
   },
   {
    "duration": 4,
    "start_time": "2022-12-29T03:14:55.384Z"
   },
   {
    "duration": 25,
    "start_time": "2022-12-29T03:14:55.391Z"
   },
   {
    "duration": 44,
    "start_time": "2022-12-29T03:14:55.418Z"
   },
   {
    "duration": 90,
    "start_time": "2022-12-29T03:14:55.464Z"
   },
   {
    "duration": 5,
    "start_time": "2022-12-29T03:14:55.558Z"
   },
   {
    "duration": 13,
    "start_time": "2022-12-29T03:14:55.564Z"
   },
   {
    "duration": 8,
    "start_time": "2022-12-29T03:14:55.579Z"
   },
   {
    "duration": 104,
    "start_time": "2022-12-29T03:14:55.588Z"
   },
   {
    "duration": 26,
    "start_time": "2022-12-29T03:14:55.693Z"
   },
   {
    "duration": 8,
    "start_time": "2022-12-29T03:14:55.721Z"
   },
   {
    "duration": 9,
    "start_time": "2022-12-29T03:14:55.731Z"
   },
   {
    "duration": 12,
    "start_time": "2022-12-29T03:14:55.742Z"
   },
   {
    "duration": 24,
    "start_time": "2022-12-29T03:14:55.756Z"
   },
   {
    "duration": 44,
    "start_time": "2022-12-29T03:14:55.781Z"
   },
   {
    "duration": 20,
    "start_time": "2022-12-29T03:14:55.827Z"
   },
   {
    "duration": 6,
    "start_time": "2022-12-29T03:14:55.848Z"
   },
   {
    "duration": 15,
    "start_time": "2022-12-29T03:14:55.856Z"
   },
   {
    "duration": 79,
    "start_time": "2022-12-29T03:14:55.873Z"
   },
   {
    "duration": 14,
    "start_time": "2022-12-29T03:14:55.954Z"
   },
   {
    "duration": 5,
    "start_time": "2022-12-29T03:14:55.970Z"
   },
   {
    "duration": 7,
    "start_time": "2022-12-29T03:14:55.977Z"
   },
   {
    "duration": 35,
    "start_time": "2022-12-29T03:14:55.985Z"
   },
   {
    "duration": 94,
    "start_time": "2022-12-29T03:14:56.022Z"
   },
   {
    "duration": 5,
    "start_time": "2022-12-29T03:14:56.118Z"
   },
   {
    "duration": 14,
    "start_time": "2022-12-29T03:14:56.125Z"
   },
   {
    "duration": 18,
    "start_time": "2022-12-29T03:14:56.141Z"
   },
   {
    "duration": 18,
    "start_time": "2022-12-29T03:14:56.161Z"
   },
   {
    "duration": 9405,
    "start_time": "2022-12-29T03:14:56.181Z"
   },
   {
    "duration": 81,
    "start_time": "2022-12-29T03:16:42.356Z"
   },
   {
    "duration": 4,
    "start_time": "2022-12-29T03:16:43.032Z"
   },
   {
    "duration": 4,
    "start_time": "2022-12-29T03:16:43.917Z"
   },
   {
    "duration": 17,
    "start_time": "2022-12-29T03:16:51.912Z"
   },
   {
    "duration": 18,
    "start_time": "2022-12-29T03:16:53.765Z"
   },
   {
    "duration": 19662,
    "start_time": "2022-12-29T03:17:00.659Z"
   },
   {
    "duration": 241622,
    "start_time": "2022-12-29T03:17:40.895Z"
   },
   {
    "duration": 20174,
    "start_time": "2022-12-29T03:31:04.550Z"
   },
   {
    "duration": 35740,
    "start_time": "2022-12-29T03:34:32.276Z"
   },
   {
    "duration": 15,
    "start_time": "2022-12-29T03:35:38.868Z"
   },
   {
    "duration": 69029,
    "start_time": "2022-12-29T03:35:41.988Z"
   },
   {
    "duration": 20,
    "start_time": "2022-12-29T03:36:51.020Z"
   },
   {
    "duration": 46,
    "start_time": "2022-12-29T03:39:36.740Z"
   },
   {
    "duration": 12,
    "start_time": "2022-12-29T04:32:21.952Z"
   },
   {
    "duration": 10,
    "start_time": "2022-12-29T04:32:28.453Z"
   },
   {
    "duration": 3,
    "start_time": "2022-12-29T04:32:37.917Z"
   },
   {
    "duration": 24,
    "start_time": "2022-12-29T04:32:38.528Z"
   },
   {
    "duration": 89,
    "start_time": "2022-12-29T04:33:23.834Z"
   },
   {
    "duration": 1582,
    "start_time": "2022-12-29T04:34:22.724Z"
   },
   {
    "duration": 294,
    "start_time": "2022-12-29T04:35:23.512Z"
   },
   {
    "duration": 6,
    "start_time": "2022-12-29T04:36:25.479Z"
   },
   {
    "duration": 6,
    "start_time": "2022-12-29T04:37:31.932Z"
   },
   {
    "duration": 5,
    "start_time": "2022-12-29T04:37:35.855Z"
   },
   {
    "duration": 1047,
    "start_time": "2022-12-29T04:38:52.359Z"
   },
   {
    "duration": 286,
    "start_time": "2022-12-29T04:38:59.158Z"
   },
   {
    "duration": 7,
    "start_time": "2022-12-29T04:38:59.610Z"
   },
   {
    "duration": 1024,
    "start_time": "2022-12-29T04:39:06.472Z"
   },
   {
    "duration": 298,
    "start_time": "2022-12-29T04:39:08.953Z"
   },
   {
    "duration": 6,
    "start_time": "2022-12-29T04:39:09.559Z"
   },
   {
    "duration": 1111,
    "start_time": "2022-12-29T04:39:23.388Z"
   },
   {
    "duration": 300,
    "start_time": "2022-12-29T04:39:24.501Z"
   },
   {
    "duration": 14,
    "start_time": "2022-12-29T04:39:24.803Z"
   },
   {
    "duration": 6,
    "start_time": "2022-12-29T04:39:28.857Z"
   },
   {
    "duration": 870,
    "start_time": "2022-12-29T04:39:33.043Z"
   },
   {
    "duration": 319,
    "start_time": "2022-12-29T04:39:33.914Z"
   },
   {
    "duration": 6,
    "start_time": "2022-12-29T04:39:34.235Z"
   },
   {
    "duration": 49,
    "start_time": "2022-12-29T04:40:06.528Z"
   },
   {
    "duration": 43720,
    "start_time": "2022-12-29T04:40:27.886Z"
   },
   {
    "duration": 44437,
    "start_time": "2022-12-29T04:41:15.907Z"
   },
   {
    "duration": 746,
    "start_time": "2022-12-29T04:42:06.574Z"
   },
   {
    "duration": 5,
    "start_time": "2022-12-29T04:42:07.322Z"
   },
   {
    "duration": 13,
    "start_time": "2022-12-29T04:48:24.442Z"
   },
   {
    "duration": 48,
    "start_time": "2022-12-29T04:48:44.340Z"
   },
   {
    "duration": 22786,
    "start_time": "2022-12-29T04:48:48.555Z"
   },
   {
    "duration": 45576,
    "start_time": "2022-12-29T04:51:06.718Z"
   },
   {
    "duration": 2026,
    "start_time": "2022-12-29T04:52:58.179Z"
   },
   {
    "duration": 5,
    "start_time": "2022-12-29T04:53:01.125Z"
   },
   {
    "duration": 95609,
    "start_time": "2022-12-29T04:53:13.722Z"
   },
   {
    "duration": 2962,
    "start_time": "2022-12-29T04:55:10.471Z"
   },
   {
    "duration": 4,
    "start_time": "2022-12-29T04:55:13.435Z"
   },
   {
    "duration": 153208,
    "start_time": "2022-12-29T04:55:29.632Z"
   },
   {
    "duration": 4215,
    "start_time": "2022-12-29T04:58:21.603Z"
   },
   {
    "duration": 6,
    "start_time": "2022-12-29T04:58:26.595Z"
   },
   {
    "duration": 96680,
    "start_time": "2022-12-29T04:59:07.547Z"
   },
   {
    "duration": 3088,
    "start_time": "2022-12-29T05:01:45.322Z"
   },
   {
    "duration": 7,
    "start_time": "2022-12-29T05:01:48.412Z"
   },
   {
    "duration": 695,
    "start_time": "2022-12-29T05:27:18.154Z"
   },
   {
    "duration": 20,
    "start_time": "2022-12-29T05:28:30.878Z"
   },
   {
    "duration": 5,
    "start_time": "2022-12-29T05:28:31.390Z"
   },
   {
    "duration": 704,
    "start_time": "2022-12-29T05:28:41.141Z"
   },
   {
    "duration": 0,
    "start_time": "2022-12-29T05:57:36.519Z"
   },
   {
    "duration": 0,
    "start_time": "2022-12-29T06:00:20.923Z"
   },
   {
    "duration": 12,
    "start_time": "2022-12-29T06:00:23.143Z"
   },
   {
    "duration": 11,
    "start_time": "2022-12-29T06:00:35.111Z"
   },
   {
    "duration": 1221991,
    "start_time": "2022-12-29T06:00:51.888Z"
   },
   {
    "duration": 16,
    "start_time": "2022-12-29T06:34:21.366Z"
   },
   {
    "duration": 15422,
    "start_time": "2022-12-29T06:34:31.114Z"
   },
   {
    "duration": 13,
    "start_time": "2022-12-29T06:34:56.806Z"
   },
   {
    "duration": 108257,
    "start_time": "2022-12-29T06:34:57.366Z"
   },
   {
    "duration": 15,
    "start_time": "2022-12-29T06:37:28.969Z"
   },
   {
    "duration": 118962,
    "start_time": "2022-12-29T06:37:29.557Z"
   },
   {
    "duration": 74,
    "start_time": "2022-12-29T06:39:58.622Z"
   },
   {
    "duration": 5,
    "start_time": "2022-12-29T06:39:59.354Z"
   },
   {
    "duration": 4,
    "start_time": "2022-12-29T06:40:00.639Z"
   },
   {
    "duration": 22,
    "start_time": "2022-12-29T06:40:15.324Z"
   },
   {
    "duration": 14,
    "start_time": "2022-12-29T06:40:19.501Z"
   },
   {
    "duration": 94694,
    "start_time": "2022-12-29T06:40:21.026Z"
   },
   {
    "duration": 27,
    "start_time": "2022-12-29T06:44:29.029Z"
   },
   {
    "duration": 47,
    "start_time": "2022-12-29T06:48:46.534Z"
   },
   {
    "duration": 24,
    "start_time": "2022-12-29T06:51:12.338Z"
   },
   {
    "duration": 3,
    "start_time": "2022-12-29T06:53:23.027Z"
   },
   {
    "duration": 24,
    "start_time": "2022-12-29T06:55:15.351Z"
   },
   {
    "duration": 4,
    "start_time": "2022-12-29T06:57:52.937Z"
   },
   {
    "duration": 4,
    "start_time": "2022-12-29T06:58:43.091Z"
   },
   {
    "duration": 4,
    "start_time": "2022-12-29T07:00:46.889Z"
   },
   {
    "duration": 2,
    "start_time": "2022-12-29T07:01:10.562Z"
   },
   {
    "duration": 26,
    "start_time": "2022-12-29T07:02:54.273Z"
   },
   {
    "duration": 20,
    "start_time": "2022-12-29T07:03:19.294Z"
   },
   {
    "duration": 11,
    "start_time": "2022-12-29T07:06:01.169Z"
   },
   {
    "duration": 5,
    "start_time": "2022-12-29T07:06:03.852Z"
   },
   {
    "duration": 93,
    "start_time": "2022-12-29T07:06:04.100Z"
   },
   {
    "duration": 29,
    "start_time": "2022-12-29T07:06:36.195Z"
   },
   {
    "duration": 22,
    "start_time": "2022-12-29T07:06:52.637Z"
   },
   {
    "duration": 20,
    "start_time": "2022-12-29T07:07:07.711Z"
   },
   {
    "duration": 87,
    "start_time": "2022-12-29T07:07:33.223Z"
   },
   {
    "duration": 12,
    "start_time": "2022-12-29T07:07:46.561Z"
   },
   {
    "duration": 504,
    "start_time": "2022-12-29T07:08:00.012Z"
   },
   {
    "duration": 25,
    "start_time": "2022-12-29T07:08:39.206Z"
   },
   {
    "duration": 2025,
    "start_time": "2022-12-29T07:08:49.300Z"
   },
   {
    "duration": 11,
    "start_time": "2022-12-29T07:12:43.664Z"
   },
   {
    "duration": 16,
    "start_time": "2022-12-29T07:12:51.204Z"
   },
   {
    "duration": 10,
    "start_time": "2022-12-29T07:13:12.185Z"
   },
   {
    "duration": 2,
    "start_time": "2022-12-29T07:13:28.496Z"
   },
   {
    "duration": 4,
    "start_time": "2022-12-29T07:13:30.408Z"
   },
   {
    "duration": 600,
    "start_time": "2022-12-29T07:14:20.716Z"
   },
   {
    "duration": 10,
    "start_time": "2022-12-29T07:14:57.523Z"
   },
   {
    "duration": 5,
    "start_time": "2022-12-29T07:15:23.467Z"
   },
   {
    "duration": 7008576,
    "start_time": "2022-12-29T07:15:46.347Z"
   },
   {
    "duration": 4,
    "start_time": "2022-12-29T09:40:09.686Z"
   },
   {
    "duration": 203,
    "start_time": "2022-12-29T09:40:21.189Z"
   },
   {
    "duration": 760429,
    "start_time": "2022-12-29T09:40:26.889Z"
   },
   {
    "duration": 3,
    "start_time": "2022-12-29T09:53:07.320Z"
   },
   {
    "duration": 14,
    "start_time": "2022-12-29T10:21:14.463Z"
   },
   {
    "duration": 11,
    "start_time": "2022-12-29T10:23:30.435Z"
   },
   {
    "duration": 690253,
    "start_time": "2022-12-29T10:23:38.972Z"
   },
   {
    "duration": 4,
    "start_time": "2022-12-29T10:35:09.227Z"
   },
   {
    "duration": 4,
    "start_time": "2022-12-29T10:38:22.272Z"
   },
   {
    "duration": 2935250,
    "start_time": "2022-12-29T10:39:19.680Z"
   },
   {
    "duration": 9,
    "start_time": "2022-12-29T13:53:14.819Z"
   },
   {
    "duration": 37,
    "start_time": "2022-12-29T13:53:26.634Z"
   },
   {
    "duration": 4,
    "start_time": "2022-12-29T13:54:04.456Z"
   },
   {
    "duration": 4,
    "start_time": "2022-12-29T13:54:35.981Z"
   },
   {
    "duration": 4,
    "start_time": "2022-12-29T13:54:40.982Z"
   },
   {
    "duration": 3,
    "start_time": "2022-12-29T13:54:43.637Z"
   },
   {
    "duration": 4,
    "start_time": "2022-12-29T13:55:06.766Z"
   },
   {
    "duration": 5,
    "start_time": "2022-12-29T13:55:11.131Z"
   },
   {
    "duration": 34,
    "start_time": "2022-12-29T13:55:14.761Z"
   },
   {
    "duration": 0,
    "start_time": "2022-12-29T13:55:35.495Z"
   },
   {
    "duration": 0,
    "start_time": "2022-12-29T14:00:04.793Z"
   },
   {
    "duration": 276598,
    "start_time": "2022-12-29T14:00:25.140Z"
   },
   {
    "duration": 260892,
    "start_time": "2022-12-29T14:10:22.060Z"
   },
   {
    "duration": 32,
    "start_time": "2022-12-29T14:14:42.954Z"
   },
   {
    "duration": 26,
    "start_time": "2022-12-29T14:21:11.027Z"
   },
   {
    "duration": 24239,
    "start_time": "2022-12-29T14:21:28.986Z"
   },
   {
    "duration": 71,
    "start_time": "2022-12-29T14:24:52.305Z"
   },
   {
    "duration": 5011,
    "start_time": "2022-12-29T14:25:02.792Z"
   },
   {
    "duration": 11,
    "start_time": "2022-12-29T14:25:13.507Z"
   },
   {
    "duration": 5,
    "start_time": "2022-12-29T14:25:27.312Z"
   },
   {
    "duration": 78,
    "start_time": "2022-12-29T14:25:56.990Z"
   },
   {
    "duration": 23,
    "start_time": "2022-12-29T14:28:19.932Z"
   },
   {
    "duration": 8,
    "start_time": "2022-12-29T14:28:32.019Z"
   },
   {
    "duration": 9,
    "start_time": "2022-12-29T14:28:46.444Z"
   },
   {
    "duration": 24,
    "start_time": "2022-12-29T14:29:12.036Z"
   },
   {
    "duration": 21,
    "start_time": "2022-12-29T14:32:20.360Z"
   },
   {
    "duration": 75070,
    "start_time": "2022-12-29T14:32:36.846Z"
   },
   {
    "duration": 8,
    "start_time": "2022-12-29T14:36:39.998Z"
   },
   {
    "duration": 47,
    "start_time": "2022-12-29T14:37:31.047Z"
   },
   {
    "duration": 61,
    "start_time": "2022-12-29T14:37:47.314Z"
   },
   {
    "duration": 47,
    "start_time": "2022-12-29T14:38:17.145Z"
   },
   {
    "duration": 23,
    "start_time": "2022-12-29T14:38:33.119Z"
   },
   {
    "duration": 12,
    "start_time": "2022-12-29T14:40:09.139Z"
   },
   {
    "duration": 67,
    "start_time": "2022-12-29T14:43:45.575Z"
   },
   {
    "duration": 0,
    "start_time": "2022-12-29T15:15:53.638Z"
   },
   {
    "duration": 160,
    "start_time": "2022-12-29T15:16:09.808Z"
   },
   {
    "duration": 3,
    "start_time": "2022-12-29T15:20:54.106Z"
   },
   {
    "duration": 485,
    "start_time": "2022-12-29T15:24:01.062Z"
   },
   {
    "duration": 1376,
    "start_time": "2022-12-29T15:24:15.936Z"
   },
   {
    "duration": 980,
    "start_time": "2022-12-29T15:24:33.516Z"
   },
   {
    "duration": 11,
    "start_time": "2022-12-29T15:24:38.917Z"
   },
   {
    "duration": 18,
    "start_time": "2022-12-29T15:25:11.249Z"
   },
   {
    "duration": 65,
    "start_time": "2022-12-29T15:26:33.049Z"
   },
   {
    "duration": 11,
    "start_time": "2022-12-29T15:26:59.906Z"
   },
   {
    "duration": 9,
    "start_time": "2022-12-29T15:27:07.322Z"
   },
   {
    "duration": 5,
    "start_time": "2022-12-29T15:27:11.358Z"
   },
   {
    "duration": 4,
    "start_time": "2022-12-29T15:27:46.497Z"
   },
   {
    "duration": 5,
    "start_time": "2022-12-29T15:28:58.894Z"
   },
   {
    "duration": 3,
    "start_time": "2022-12-29T15:29:01.983Z"
   },
   {
    "duration": 78,
    "start_time": "2022-12-29T15:29:02.918Z"
   },
   {
    "duration": 79,
    "start_time": "2022-12-29T15:29:24.386Z"
   },
   {
    "duration": 1043,
    "start_time": "2022-12-29T15:29:57.747Z"
   },
   {
    "duration": 20945,
    "start_time": "2022-12-29T15:30:12.873Z"
   },
   {
    "duration": 84,
    "start_time": "2022-12-29T15:30:44.736Z"
   },
   {
    "duration": 30072,
    "start_time": "2022-12-29T15:30:58.186Z"
   },
   {
    "duration": 6,
    "start_time": "2022-12-29T15:31:28.260Z"
   },
   {
    "duration": 29862,
    "start_time": "2022-12-29T15:32:28.435Z"
   },
   {
    "duration": 5,
    "start_time": "2022-12-29T15:32:58.316Z"
   },
   {
    "duration": 4842,
    "start_time": "2022-12-29T15:32:58.323Z"
   },
   {
    "duration": 6,
    "start_time": "2022-12-29T15:33:03.167Z"
   },
   {
    "duration": 2819,
    "start_time": "2022-12-29T15:50:23.874Z"
   },
   {
    "duration": 6,
    "start_time": "2022-12-29T15:50:57.334Z"
   },
   {
    "duration": 770,
    "start_time": "2022-12-29T15:50:58.076Z"
   },
   {
    "duration": 5,
    "start_time": "2022-12-29T15:50:58.848Z"
   },
   {
    "duration": 24,
    "start_time": "2022-12-29T15:51:00.551Z"
   },
   {
    "duration": 5,
    "start_time": "2022-12-29T15:51:02.040Z"
   },
   {
    "duration": 382,
    "start_time": "2022-12-29T15:51:02.473Z"
   },
   {
    "duration": 388,
    "start_time": "2022-12-29T15:51:02.960Z"
   },
   {
    "duration": 8,
    "start_time": "2022-12-29T15:51:03.350Z"
   },
   {
    "duration": 3,
    "start_time": "2022-12-29T15:51:05.239Z"
   },
   {
    "duration": 35,
    "start_time": "2022-12-29T15:51:05.812Z"
   },
   {
    "duration": 5,
    "start_time": "2022-12-29T15:51:06.467Z"
   },
   {
    "duration": 3,
    "start_time": "2022-12-29T15:51:07.198Z"
   },
   {
    "duration": 58,
    "start_time": "2022-12-29T15:51:08.723Z"
   },
   {
    "duration": 18,
    "start_time": "2022-12-29T15:51:09.823Z"
   },
   {
    "duration": 4,
    "start_time": "2022-12-29T15:51:10.205Z"
   },
   {
    "duration": 23,
    "start_time": "2022-12-29T15:51:10.746Z"
   },
   {
    "duration": 88,
    "start_time": "2022-12-29T15:51:13.491Z"
   },
   {
    "duration": 26,
    "start_time": "2022-12-29T15:51:14.017Z"
   },
   {
    "duration": 41,
    "start_time": "2022-12-29T15:51:20.591Z"
   },
   {
    "duration": 72,
    "start_time": "2022-12-29T15:51:21.181Z"
   },
   {
    "duration": 73,
    "start_time": "2022-12-29T15:51:37.908Z"
   },
   {
    "duration": 72,
    "start_time": "2022-12-29T15:51:38.606Z"
   },
   {
    "duration": 5,
    "start_time": "2022-12-29T15:51:42.159Z"
   },
   {
    "duration": 4,
    "start_time": "2022-12-29T15:51:42.844Z"
   },
   {
    "duration": 5554,
    "start_time": "2022-12-29T15:51:45.322Z"
   },
   {
    "duration": 60,
    "start_time": "2022-12-29T15:51:50.879Z"
   },
   {
    "duration": 85,
    "start_time": "2022-12-29T15:51:52.314Z"
   },
   {
    "duration": 3,
    "start_time": "2022-12-29T15:51:56.843Z"
   },
   {
    "duration": 8,
    "start_time": "2022-12-29T15:51:56.925Z"
   },
   {
    "duration": 1251,
    "start_time": "2022-12-29T15:52:03.997Z"
   },
   {
    "duration": 4,
    "start_time": "2022-12-29T15:52:11.183Z"
   },
   {
    "duration": 78,
    "start_time": "2022-12-29T15:52:11.669Z"
   },
   {
    "duration": 17,
    "start_time": "2022-12-29T15:52:12.013Z"
   },
   {
    "duration": 7,
    "start_time": "2022-12-29T15:52:12.797Z"
   },
   {
    "duration": 6,
    "start_time": "2022-12-29T15:52:15.066Z"
   },
   {
    "duration": 1587,
    "start_time": "2022-12-29T15:52:19.155Z"
   },
   {
    "duration": 1250,
    "start_time": "2022-12-29T15:52:22.561Z"
   },
   {
    "duration": 4,
    "start_time": "2022-12-29T15:52:33.921Z"
   },
   {
    "duration": 20,
    "start_time": "2022-12-29T15:52:34.356Z"
   },
   {
    "duration": 19,
    "start_time": "2022-12-29T15:52:35.186Z"
   },
   {
    "duration": 20,
    "start_time": "2022-12-29T15:52:35.556Z"
   },
   {
    "duration": 4,
    "start_time": "2022-12-29T15:52:37.030Z"
   },
   {
    "duration": 10,
    "start_time": "2022-12-29T15:52:37.517Z"
   },
   {
    "duration": 41,
    "start_time": "2022-12-29T15:52:39.543Z"
   },
   {
    "duration": 1031,
    "start_time": "2022-12-29T15:53:04.628Z"
   },
   {
    "duration": 14,
    "start_time": "2022-12-29T15:53:40.518Z"
   },
   {
    "duration": 5,
    "start_time": "2022-12-29T15:53:42.854Z"
   },
   {
    "duration": 7,
    "start_time": "2022-12-29T15:54:08.826Z"
   },
   {
    "duration": 85,
    "start_time": "2022-12-29T15:54:28.106Z"
   },
   {
    "duration": 4,
    "start_time": "2022-12-29T15:54:28.722Z"
   },
   {
    "duration": 4,
    "start_time": "2022-12-29T15:54:30.195Z"
   },
   {
    "duration": 20,
    "start_time": "2022-12-29T15:54:31.557Z"
   },
   {
    "duration": 4,
    "start_time": "2022-12-29T15:54:59.135Z"
   },
   {
    "duration": 2636,
    "start_time": "2023-01-09T01:17:49.889Z"
   },
   {
    "duration": 1769,
    "start_time": "2023-01-09T01:17:52.527Z"
   },
   {
    "duration": 963,
    "start_time": "2023-01-09T01:17:54.298Z"
   },
   {
    "duration": 66,
    "start_time": "2023-01-09T01:17:55.263Z"
   },
   {
    "duration": 27,
    "start_time": "2023-01-09T01:17:55.332Z"
   },
   {
    "duration": 10,
    "start_time": "2023-01-09T01:17:55.361Z"
   },
   {
    "duration": 423,
    "start_time": "2023-01-09T01:17:55.372Z"
   },
   {
    "duration": 527,
    "start_time": "2023-01-09T01:17:55.798Z"
   },
   {
    "duration": 7,
    "start_time": "2023-01-09T01:17:56.326Z"
   },
   {
    "duration": 17,
    "start_time": "2023-01-09T01:17:56.334Z"
   },
   {
    "duration": 54,
    "start_time": "2023-01-09T01:17:56.352Z"
   },
   {
    "duration": 9,
    "start_time": "2023-01-09T01:17:56.408Z"
   },
   {
    "duration": 11,
    "start_time": "2023-01-09T01:17:56.419Z"
   },
   {
    "duration": 69,
    "start_time": "2023-01-09T01:17:56.433Z"
   },
   {
    "duration": 21,
    "start_time": "2023-01-09T01:17:56.503Z"
   },
   {
    "duration": 9,
    "start_time": "2023-01-09T01:17:56.526Z"
   },
   {
    "duration": 36,
    "start_time": "2023-01-09T01:17:56.536Z"
   },
   {
    "duration": 74,
    "start_time": "2023-01-09T01:17:56.574Z"
   },
   {
    "duration": 28,
    "start_time": "2023-01-09T01:17:56.650Z"
   },
   {
    "duration": 47,
    "start_time": "2023-01-09T01:17:56.680Z"
   },
   {
    "duration": 72,
    "start_time": "2023-01-09T01:17:56.729Z"
   },
   {
    "duration": 64,
    "start_time": "2023-01-09T01:17:56.803Z"
   },
   {
    "duration": 73,
    "start_time": "2023-01-09T01:17:56.869Z"
   },
   {
    "duration": 4,
    "start_time": "2023-01-09T01:17:56.943Z"
   },
   {
    "duration": 19,
    "start_time": "2023-01-09T01:17:56.948Z"
   },
   {
    "duration": 5795,
    "start_time": "2023-01-09T01:17:56.969Z"
   },
   {
    "duration": 51,
    "start_time": "2023-01-09T01:18:02.766Z"
   },
   {
    "duration": 183,
    "start_time": "2023-01-09T01:18:02.819Z"
   },
   {
    "duration": 4,
    "start_time": "2023-01-09T01:18:03.004Z"
   },
   {
    "duration": 12,
    "start_time": "2023-01-09T01:18:03.010Z"
   },
   {
    "duration": 1275,
    "start_time": "2023-01-09T01:18:03.023Z"
   },
   {
    "duration": 4,
    "start_time": "2023-01-09T01:18:04.300Z"
   },
   {
    "duration": 137,
    "start_time": "2023-01-09T01:18:04.306Z"
   },
   {
    "duration": 18,
    "start_time": "2023-01-09T01:18:04.497Z"
   },
   {
    "duration": 6,
    "start_time": "2023-01-09T01:18:04.516Z"
   },
   {
    "duration": 7,
    "start_time": "2023-01-09T01:18:04.524Z"
   },
   {
    "duration": 1700,
    "start_time": "2023-01-09T01:18:04.532Z"
   },
   {
    "duration": 1364,
    "start_time": "2023-01-09T01:18:06.234Z"
   },
   {
    "duration": 4,
    "start_time": "2023-01-09T01:18:07.599Z"
   },
   {
    "duration": 22,
    "start_time": "2023-01-09T01:18:07.605Z"
   },
   {
    "duration": 72,
    "start_time": "2023-01-09T01:18:07.631Z"
   },
   {
    "duration": 19,
    "start_time": "2023-01-09T01:18:07.704Z"
   },
   {
    "duration": 7,
    "start_time": "2023-01-09T01:18:07.725Z"
   },
   {
    "duration": 11,
    "start_time": "2023-01-09T01:18:07.733Z"
   },
   {
    "duration": 162,
    "start_time": "2023-01-09T01:18:07.746Z"
   },
   {
    "duration": 1152,
    "start_time": "2023-01-09T01:18:07.910Z"
   },
   {
    "duration": 34,
    "start_time": "2023-01-09T01:18:09.064Z"
   },
   {
    "duration": 5,
    "start_time": "2023-01-09T01:18:09.100Z"
   },
   {
    "duration": 156,
    "start_time": "2023-01-09T01:18:09.107Z"
   },
   {
    "duration": 4,
    "start_time": "2023-01-09T01:18:09.265Z"
   },
   {
    "duration": 4,
    "start_time": "2023-01-09T01:18:09.297Z"
   },
   {
    "duration": 21,
    "start_time": "2023-01-09T01:18:09.302Z"
   },
   {
    "duration": 2687,
    "start_time": "2023-01-09T01:27:05.398Z"
   },
   {
    "duration": 1732,
    "start_time": "2023-01-09T01:27:08.087Z"
   },
   {
    "duration": 1043,
    "start_time": "2023-01-09T01:27:09.820Z"
   },
   {
    "duration": 6,
    "start_time": "2023-01-09T01:27:10.934Z"
   },
   {
    "duration": 27,
    "start_time": "2023-01-09T01:27:10.941Z"
   },
   {
    "duration": 4,
    "start_time": "2023-01-09T01:27:10.970Z"
   },
   {
    "duration": 444,
    "start_time": "2023-01-09T01:27:10.976Z"
   },
   {
    "duration": 490,
    "start_time": "2023-01-09T01:27:11.422Z"
   },
   {
    "duration": 8,
    "start_time": "2023-01-09T01:27:11.914Z"
   },
   {
    "duration": 3,
    "start_time": "2023-01-09T01:27:11.926Z"
   },
   {
    "duration": 50,
    "start_time": "2023-01-09T01:27:11.930Z"
   },
   {
    "duration": 18,
    "start_time": "2023-01-09T01:27:11.982Z"
   },
   {
    "duration": 4,
    "start_time": "2023-01-09T01:27:12.002Z"
   },
   {
    "duration": 69,
    "start_time": "2023-01-09T01:27:12.008Z"
   },
   {
    "duration": 39,
    "start_time": "2023-01-09T01:27:12.079Z"
   },
   {
    "duration": 5,
    "start_time": "2023-01-09T01:27:12.120Z"
   },
   {
    "duration": 27,
    "start_time": "2023-01-09T01:27:12.127Z"
   },
   {
    "duration": 85,
    "start_time": "2023-01-09T01:27:12.156Z"
   },
   {
    "duration": 24,
    "start_time": "2023-01-09T01:27:12.242Z"
   },
   {
    "duration": 53,
    "start_time": "2023-01-09T01:27:12.268Z"
   },
   {
    "duration": 60,
    "start_time": "2023-01-09T01:27:12.323Z"
   },
   {
    "duration": 62,
    "start_time": "2023-01-09T01:27:12.397Z"
   },
   {
    "duration": 75,
    "start_time": "2023-01-09T01:27:12.461Z"
   },
   {
    "duration": 4,
    "start_time": "2023-01-09T01:27:12.538Z"
   },
   {
    "duration": 8,
    "start_time": "2023-01-09T01:27:12.543Z"
   },
   {
    "duration": 6026,
    "start_time": "2023-01-09T01:27:12.552Z"
   },
   {
    "duration": 50,
    "start_time": "2023-01-09T01:27:18.580Z"
   },
   {
    "duration": 183,
    "start_time": "2023-01-09T01:27:18.634Z"
   },
   {
    "duration": 4,
    "start_time": "2023-01-09T01:27:18.819Z"
   },
   {
    "duration": 12,
    "start_time": "2023-01-09T01:27:18.824Z"
   },
   {
    "duration": 1397,
    "start_time": "2023-01-09T01:27:18.837Z"
   },
   {
    "duration": 4,
    "start_time": "2023-01-09T01:27:20.236Z"
   },
   {
    "duration": 170,
    "start_time": "2023-01-09T01:27:20.242Z"
   },
   {
    "duration": 23,
    "start_time": "2023-01-09T01:27:20.415Z"
   },
   {
    "duration": 57,
    "start_time": "2023-01-09T01:27:20.439Z"
   },
   {
    "duration": 5,
    "start_time": "2023-01-09T01:27:20.498Z"
   },
   {
    "duration": 1618,
    "start_time": "2023-01-09T01:27:20.505Z"
   },
   {
    "duration": 1408,
    "start_time": "2023-01-09T01:27:22.126Z"
   },
   {
    "duration": 4,
    "start_time": "2023-01-09T01:27:23.536Z"
   },
   {
    "duration": 62,
    "start_time": "2023-01-09T01:27:23.541Z"
   },
   {
    "duration": 21,
    "start_time": "2023-01-09T01:27:23.604Z"
   },
   {
    "duration": 95,
    "start_time": "2023-01-09T01:27:23.627Z"
   },
   {
    "duration": 4,
    "start_time": "2023-01-09T01:27:23.724Z"
   },
   {
    "duration": 75,
    "start_time": "2023-01-09T01:27:23.729Z"
   },
   {
    "duration": 43,
    "start_time": "2023-01-09T01:27:23.806Z"
   },
   {
    "duration": 1192,
    "start_time": "2023-01-09T01:27:23.850Z"
   },
   {
    "duration": 15,
    "start_time": "2023-01-09T01:27:25.044Z"
   },
   {
    "duration": 36,
    "start_time": "2023-01-09T01:27:25.061Z"
   },
   {
    "duration": 141,
    "start_time": "2023-01-09T01:27:25.099Z"
   },
   {
    "duration": 4,
    "start_time": "2023-01-09T01:27:25.241Z"
   },
   {
    "duration": 5,
    "start_time": "2023-01-09T01:27:25.247Z"
   },
   {
    "duration": 14,
    "start_time": "2023-01-09T01:27:25.253Z"
   },
   {
    "duration": 2753,
    "start_time": "2023-01-09T01:41:10.976Z"
   },
   {
    "duration": 2540,
    "start_time": "2023-01-09T01:41:13.731Z"
   },
   {
    "duration": 1010,
    "start_time": "2023-01-09T01:41:16.273Z"
   },
   {
    "duration": 72,
    "start_time": "2023-01-09T01:41:17.285Z"
   },
   {
    "duration": 24,
    "start_time": "2023-01-09T01:41:17.359Z"
   },
   {
    "duration": 4,
    "start_time": "2023-01-09T01:41:17.385Z"
   },
   {
    "duration": 434,
    "start_time": "2023-01-09T01:41:17.390Z"
   },
   {
    "duration": 467,
    "start_time": "2023-01-09T01:41:17.825Z"
   },
   {
    "duration": 6,
    "start_time": "2023-01-09T01:41:18.297Z"
   },
   {
    "duration": 4,
    "start_time": "2023-01-09T01:41:18.306Z"
   },
   {
    "duration": 47,
    "start_time": "2023-01-09T01:41:18.312Z"
   },
   {
    "duration": 7,
    "start_time": "2023-01-09T01:41:18.361Z"
   },
   {
    "duration": 8,
    "start_time": "2023-01-09T01:41:18.370Z"
   },
   {
    "duration": 66,
    "start_time": "2023-01-09T01:41:18.381Z"
   },
   {
    "duration": 21,
    "start_time": "2023-01-09T01:41:18.448Z"
   },
   {
    "duration": 12,
    "start_time": "2023-01-09T01:41:18.471Z"
   },
   {
    "duration": 42,
    "start_time": "2023-01-09T01:41:18.485Z"
   },
   {
    "duration": 64,
    "start_time": "2023-01-09T01:41:18.529Z"
   },
   {
    "duration": 36,
    "start_time": "2023-01-09T01:41:18.594Z"
   },
   {
    "duration": 37,
    "start_time": "2023-01-09T01:41:18.631Z"
   },
   {
    "duration": 61,
    "start_time": "2023-01-09T01:41:18.669Z"
   },
   {
    "duration": 64,
    "start_time": "2023-01-09T01:41:18.732Z"
   },
   {
    "duration": 61,
    "start_time": "2023-01-09T01:41:18.798Z"
   },
   {
    "duration": 3,
    "start_time": "2023-01-09T01:41:18.861Z"
   },
   {
    "duration": 27,
    "start_time": "2023-01-09T01:41:18.866Z"
   },
   {
    "duration": 6224,
    "start_time": "2023-01-09T01:41:18.895Z"
   },
   {
    "duration": 99,
    "start_time": "2023-01-09T01:41:25.121Z"
   },
   {
    "duration": 198,
    "start_time": "2023-01-09T01:41:25.222Z"
   },
   {
    "duration": 4,
    "start_time": "2023-01-09T01:41:25.421Z"
   },
   {
    "duration": 11,
    "start_time": "2023-01-09T01:41:25.427Z"
   },
   {
    "duration": 1334,
    "start_time": "2023-01-09T01:41:25.439Z"
   },
   {
    "duration": 5,
    "start_time": "2023-01-09T01:41:26.775Z"
   },
   {
    "duration": 150,
    "start_time": "2023-01-09T01:41:26.781Z"
   },
   {
    "duration": 71,
    "start_time": "2023-01-09T01:41:26.934Z"
   },
   {
    "duration": 7,
    "start_time": "2023-01-09T01:41:27.007Z"
   },
   {
    "duration": 11,
    "start_time": "2023-01-09T01:41:27.015Z"
   },
   {
    "duration": 1637,
    "start_time": "2023-01-09T01:41:27.028Z"
   },
   {
    "duration": 1401,
    "start_time": "2023-01-09T01:41:28.667Z"
   },
   {
    "duration": 4,
    "start_time": "2023-01-09T01:41:30.070Z"
   },
   {
    "duration": 47,
    "start_time": "2023-01-09T01:41:30.076Z"
   },
   {
    "duration": 77,
    "start_time": "2023-01-09T01:41:30.128Z"
   },
   {
    "duration": 39,
    "start_time": "2023-01-09T01:41:30.206Z"
   },
   {
    "duration": 50,
    "start_time": "2023-01-09T01:41:30.247Z"
   },
   {
    "duration": 50,
    "start_time": "2023-01-09T01:41:30.299Z"
   },
   {
    "duration": 62,
    "start_time": "2023-01-09T01:41:30.351Z"
   },
   {
    "duration": 1185,
    "start_time": "2023-01-09T01:41:30.415Z"
   },
   {
    "duration": 15,
    "start_time": "2023-01-09T01:41:31.602Z"
   },
   {
    "duration": 11,
    "start_time": "2023-01-09T01:41:31.619Z"
   },
   {
    "duration": 182,
    "start_time": "2023-01-09T01:41:31.631Z"
   },
   {
    "duration": 4,
    "start_time": "2023-01-09T01:41:31.815Z"
   },
   {
    "duration": 6,
    "start_time": "2023-01-09T01:41:31.820Z"
   },
   {
    "duration": 17,
    "start_time": "2023-01-09T01:41:31.828Z"
   },
   {
    "duration": 735758,
    "start_time": "2023-01-09T01:41:31.847Z"
   },
   {
    "duration": 244,
    "start_time": "2023-01-09T01:53:47.608Z"
   },
   {
    "duration": 2860343,
    "start_time": "2023-01-09T01:53:47.854Z"
   },
   {
    "duration": 4,
    "start_time": "2023-01-09T02:41:28.199Z"
   },
   {
    "duration": 262103,
    "start_time": "2023-01-09T02:41:28.204Z"
   },
   {
    "duration": 111,
    "start_time": "2023-01-09T02:45:50.309Z"
   },
   {
    "duration": 4,
    "start_time": "2023-01-09T02:45:50.421Z"
   },
   {
    "duration": 88,
    "start_time": "2023-01-09T02:45:50.427Z"
   },
   {
    "duration": 1717691,
    "start_time": "2023-01-09T02:45:50.516Z"
   },
   {
    "duration": 3,
    "start_time": "2023-01-09T03:14:28.209Z"
   },
   {
    "duration": 23103,
    "start_time": "2023-01-09T03:14:28.214Z"
   },
   {
    "duration": 5115,
    "start_time": "2023-01-09T03:14:51.319Z"
   },
   {
    "duration": 6,
    "start_time": "2023-01-09T03:14:56.436Z"
   },
   {
    "duration": 30684,
    "start_time": "2023-01-09T03:14:56.443Z"
   },
   {
    "duration": 6,
    "start_time": "2023-01-09T03:15:27.129Z"
   },
   {
    "duration": 207,
    "start_time": "2023-01-09T03:15:27.143Z"
   },
   {
    "duration": 11,
    "start_time": "2023-01-09T05:27:22.366Z"
   },
   {
    "duration": 3,
    "start_time": "2023-01-09T05:27:34.651Z"
   },
   {
    "duration": 4,
    "start_time": "2023-01-09T05:27:40.553Z"
   },
   {
    "duration": 733735,
    "start_time": "2023-01-09T05:31:19.062Z"
   },
   {
    "duration": 3,
    "start_time": "2023-01-09T05:43:32.800Z"
   },
   {
    "duration": 0,
    "start_time": "2023-01-09T05:47:53.019Z"
   },
   {
    "duration": 4,
    "start_time": "2023-01-09T05:48:09.308Z"
   },
   {
    "duration": 2934904,
    "start_time": "2023-01-09T05:48:11.600Z"
   },
   {
    "duration": 3,
    "start_time": "2023-01-09T06:37:11.309Z"
   },
   {
    "duration": 264900,
    "start_time": "2023-01-09T06:37:12.453Z"
   },
   {
    "duration": 3,
    "start_time": "2023-01-09T06:41:37.354Z"
   },
   {
    "duration": 14,
    "start_time": "2023-01-09T06:41:37.358Z"
   },
   {
    "duration": 94,
    "start_time": "2023-01-09T06:41:37.374Z"
   },
   {
    "duration": 8178141,
    "start_time": "2023-01-09T06:41:37.470Z"
   },
   {
    "duration": 85,
    "start_time": "2023-01-09T08:57:55.613Z"
   },
   {
    "duration": 28411,
    "start_time": "2023-01-09T08:57:55.700Z"
   },
   {
    "duration": 10,
    "start_time": "2023-01-09T09:09:21.487Z"
   },
   {
    "duration": 12,
    "start_time": "2023-01-09T09:09:36.317Z"
   },
   {
    "duration": 12,
    "start_time": "2023-01-09T09:10:59.871Z"
   },
   {
    "duration": 25,
    "start_time": "2023-01-09T09:11:06.917Z"
   },
   {
    "duration": 7,
    "start_time": "2023-01-09T09:11:39.616Z"
   },
   {
    "duration": 20,
    "start_time": "2023-01-09T09:12:06.539Z"
   },
   {
    "duration": 17,
    "start_time": "2023-01-09T09:12:46.015Z"
   },
   {
    "duration": 16,
    "start_time": "2023-01-09T09:13:01.424Z"
   },
   {
    "duration": 10,
    "start_time": "2023-01-09T09:13:43.601Z"
   },
   {
    "duration": 20,
    "start_time": "2023-01-09T09:14:06.285Z"
   },
   {
    "duration": 12,
    "start_time": "2023-01-09T09:15:28.210Z"
   },
   {
    "duration": 41,
    "start_time": "2023-01-09T09:17:03.014Z"
   },
   {
    "duration": 4,
    "start_time": "2023-01-09T09:18:01.842Z"
   },
   {
    "duration": 61,
    "start_time": "2023-01-09T09:18:18.739Z"
   },
   {
    "duration": 4,
    "start_time": "2023-01-09T09:20:24.535Z"
   },
   {
    "duration": 17,
    "start_time": "2023-01-09T09:20:47.331Z"
   },
   {
    "duration": 37,
    "start_time": "2023-01-09T09:24:43.281Z"
   },
   {
    "duration": 13,
    "start_time": "2023-01-09T09:45:35.021Z"
   },
   {
    "duration": 13,
    "start_time": "2023-01-09T09:45:45.265Z"
   },
   {
    "duration": 15,
    "start_time": "2023-01-09T09:45:59.867Z"
   },
   {
    "duration": 4,
    "start_time": "2023-01-09T09:48:19.559Z"
   },
   {
    "duration": 62,
    "start_time": "2023-01-09T09:48:24.095Z"
   },
   {
    "duration": 73,
    "start_time": "2023-01-09T09:48:32.248Z"
   },
   {
    "duration": 35111,
    "start_time": "2023-01-09T09:48:52.006Z"
   },
   {
    "duration": 5720,
    "start_time": "2023-01-09T09:49:42.698Z"
   },
   {
    "duration": 5,
    "start_time": "2023-01-09T09:50:32.906Z"
   },
   {
    "duration": 6429,
    "start_time": "2023-01-09T09:51:37.771Z"
   },
   {
    "duration": 13,
    "start_time": "2023-01-09T09:53:03.608Z"
   },
   {
    "duration": 7,
    "start_time": "2023-01-09T09:53:16.902Z"
   },
   {
    "duration": 28,
    "start_time": "2023-01-09T09:53:36.503Z"
   },
   {
    "duration": 27,
    "start_time": "2023-01-09T09:54:11.750Z"
   },
   {
    "duration": 545,
    "start_time": "2023-01-09T09:54:40.712Z"
   },
   {
    "duration": 472,
    "start_time": "2023-01-09T09:54:54.174Z"
   },
   {
    "duration": 8,
    "start_time": "2023-01-09T09:55:06.058Z"
   },
   {
    "duration": 23,
    "start_time": "2023-01-09T09:56:51.900Z"
   },
   {
    "duration": 9,
    "start_time": "2023-01-09T09:57:18.701Z"
   },
   {
    "duration": 14,
    "start_time": "2023-01-09T09:57:39.557Z"
   },
   {
    "duration": 11,
    "start_time": "2023-01-09T09:58:12.562Z"
   },
   {
    "duration": 10,
    "start_time": "2023-01-09T09:58:29.716Z"
   },
   {
    "duration": 10,
    "start_time": "2023-01-09T09:58:48.242Z"
   },
   {
    "duration": 386,
    "start_time": "2023-01-09T09:58:57.095Z"
   },
   {
    "duration": 4,
    "start_time": "2023-01-09T09:59:18.158Z"
   },
   {
    "duration": 29,
    "start_time": "2023-01-09T09:59:35.771Z"
   },
   {
    "duration": 546,
    "start_time": "2023-01-09T10:00:00.528Z"
   },
   {
    "duration": 10,
    "start_time": "2023-01-09T10:00:12.703Z"
   },
   {
    "duration": 2812,
    "start_time": "2023-01-09T10:42:54.577Z"
   },
   {
    "duration": 2807,
    "start_time": "2023-01-09T10:43:20.057Z"
   },
   {
    "duration": 120,
    "start_time": "2023-01-09T10:44:10.072Z"
   },
   {
    "duration": 117,
    "start_time": "2023-01-09T10:44:21.350Z"
   },
   {
    "duration": 2805,
    "start_time": "2023-01-09T10:44:37.318Z"
   },
   {
    "duration": 20,
    "start_time": "2023-01-09T10:45:35.901Z"
   },
   {
    "duration": 18,
    "start_time": "2023-01-09T10:45:44.901Z"
   },
   {
    "duration": 9,
    "start_time": "2023-01-09T10:45:51.393Z"
   },
   {
    "duration": 2750,
    "start_time": "2023-01-09T10:46:27.064Z"
   },
   {
    "duration": 13,
    "start_time": "2023-01-09T10:48:01.133Z"
   },
   {
    "duration": 2720,
    "start_time": "2023-01-09T10:48:14.773Z"
   },
   {
    "duration": 2771,
    "start_time": "2023-01-09T10:48:35.734Z"
   },
   {
    "duration": 23,
    "start_time": "2023-01-09T10:48:56.107Z"
   },
   {
    "duration": 14,
    "start_time": "2023-01-09T10:49:23.152Z"
   },
   {
    "duration": 2709,
    "start_time": "2023-01-09T10:49:24.004Z"
   },
   {
    "duration": 8198,
    "start_time": "2023-01-09T10:49:57.740Z"
   },
   {
    "duration": 22,
    "start_time": "2023-01-09T10:50:05.940Z"
   },
   {
    "duration": 4,
    "start_time": "2023-01-09T10:50:14.614Z"
   },
   {
    "duration": 4,
    "start_time": "2023-01-09T10:50:24.025Z"
   },
   {
    "duration": 15,
    "start_time": "2023-01-09T10:52:08.562Z"
   },
   {
    "duration": 12,
    "start_time": "2023-01-09T10:52:20.298Z"
   },
   {
    "duration": 4,
    "start_time": "2023-01-09T10:52:21.758Z"
   },
   {
    "duration": 2659,
    "start_time": "2023-01-09T10:52:26.658Z"
   },
   {
    "duration": 8,
    "start_time": "2023-01-09T11:04:03.593Z"
   },
   {
    "duration": 9,
    "start_time": "2023-01-09T11:04:13.310Z"
   },
   {
    "duration": 14,
    "start_time": "2023-01-09T11:05:15.872Z"
   },
   {
    "duration": 10,
    "start_time": "2023-01-09T11:06:01.801Z"
   },
   {
    "duration": 10,
    "start_time": "2023-01-09T11:06:06.173Z"
   },
   {
    "duration": 16,
    "start_time": "2023-01-09T11:06:21.348Z"
   },
   {
    "duration": 16,
    "start_time": "2023-01-09T11:06:25.406Z"
   },
   {
    "duration": 6,
    "start_time": "2023-01-09T11:06:46.826Z"
   },
   {
    "duration": 7,
    "start_time": "2023-01-09T11:06:52.092Z"
   },
   {
    "duration": 6,
    "start_time": "2023-01-09T11:07:10.688Z"
   },
   {
    "duration": 7,
    "start_time": "2023-01-09T11:07:25.556Z"
   },
   {
    "duration": 8,
    "start_time": "2023-01-09T11:08:03.070Z"
   },
   {
    "duration": 4,
    "start_time": "2023-01-09T11:08:08.341Z"
   },
   {
    "duration": 18,
    "start_time": "2023-01-09T11:08:44.159Z"
   },
   {
    "duration": 7,
    "start_time": "2023-01-09T11:09:06.443Z"
   },
   {
    "duration": 7,
    "start_time": "2023-01-09T11:09:12.518Z"
   },
   {
    "duration": 8,
    "start_time": "2023-01-09T11:09:17.739Z"
   },
   {
    "duration": 9,
    "start_time": "2023-01-09T11:09:20.688Z"
   },
   {
    "duration": 154,
    "start_time": "2023-01-09T11:14:51.919Z"
   },
   {
    "duration": 64,
    "start_time": "2023-01-09T11:14:52.296Z"
   },
   {
    "duration": 8,
    "start_time": "2023-01-09T11:15:00.000Z"
   },
   {
    "duration": 10,
    "start_time": "2023-01-09T11:15:00.330Z"
   },
   {
    "duration": 5490,
    "start_time": "2023-01-09T11:18:20.503Z"
   },
   {
    "duration": 64,
    "start_time": "2023-01-09T11:20:35.739Z"
   },
   {
    "duration": 12,
    "start_time": "2023-01-09T11:20:52.842Z"
   },
   {
    "duration": 4,
    "start_time": "2023-01-09T11:21:02.192Z"
   },
   {
    "duration": 5,
    "start_time": "2023-01-09T11:21:02.579Z"
   },
   {
    "duration": 7,
    "start_time": "2023-01-09T11:21:08.561Z"
   },
   {
    "duration": 46,
    "start_time": "2023-01-09T11:22:31.784Z"
   },
   {
    "duration": 6,
    "start_time": "2023-01-09T11:22:44.457Z"
   },
   {
    "duration": 3107,
    "start_time": "2023-06-25T06:32:49.713Z"
   },
   {
    "duration": 1791,
    "start_time": "2023-06-25T06:32:52.822Z"
   },
   {
    "duration": 1013,
    "start_time": "2023-06-25T06:32:54.615Z"
   },
   {
    "duration": 5,
    "start_time": "2023-06-25T06:32:55.689Z"
   },
   {
    "duration": 51,
    "start_time": "2023-06-25T06:32:55.696Z"
   },
   {
    "duration": 4,
    "start_time": "2023-06-25T06:32:55.748Z"
   },
   {
    "duration": 456,
    "start_time": "2023-06-25T06:32:55.754Z"
   },
   {
    "duration": 457,
    "start_time": "2023-06-25T06:32:56.211Z"
   },
   {
    "duration": 6,
    "start_time": "2023-06-25T06:32:56.669Z"
   },
   {
    "duration": 4,
    "start_time": "2023-06-25T06:32:56.678Z"
   },
   {
    "duration": 53,
    "start_time": "2023-06-25T06:32:56.684Z"
   },
   {
    "duration": 5,
    "start_time": "2023-06-25T06:32:56.738Z"
   },
   {
    "duration": 9,
    "start_time": "2023-06-25T06:32:56.745Z"
   },
   {
    "duration": 73,
    "start_time": "2023-06-25T06:32:56.755Z"
   },
   {
    "duration": 23,
    "start_time": "2023-06-25T06:32:56.830Z"
   },
   {
    "duration": 21,
    "start_time": "2023-06-25T06:32:56.854Z"
   },
   {
    "duration": 32,
    "start_time": "2023-06-25T06:32:56.876Z"
   },
   {
    "duration": 68,
    "start_time": "2023-06-25T06:32:56.909Z"
   },
   {
    "duration": 35,
    "start_time": "2023-06-25T06:32:56.978Z"
   },
   {
    "duration": 36,
    "start_time": "2023-06-25T06:32:57.015Z"
   },
   {
    "duration": 78,
    "start_time": "2023-06-25T06:32:57.053Z"
   },
   {
    "duration": 74,
    "start_time": "2023-06-25T06:32:57.132Z"
   },
   {
    "duration": 64,
    "start_time": "2023-06-25T06:32:57.208Z"
   },
   {
    "duration": 5,
    "start_time": "2023-06-25T06:32:57.273Z"
   },
   {
    "duration": 23,
    "start_time": "2023-06-25T06:32:57.279Z"
   },
   {
    "duration": 6033,
    "start_time": "2023-06-25T06:32:57.304Z"
   },
   {
    "duration": 72,
    "start_time": "2023-06-25T06:33:03.339Z"
   },
   {
    "duration": 188,
    "start_time": "2023-06-25T06:33:03.414Z"
   },
   {
    "duration": 4,
    "start_time": "2023-06-25T06:33:03.603Z"
   },
   {
    "duration": 10,
    "start_time": "2023-06-25T06:33:03.608Z"
   },
   {
    "duration": 1272,
    "start_time": "2023-06-25T06:33:03.619Z"
   },
   {
    "duration": 7,
    "start_time": "2023-06-25T06:33:04.893Z"
   },
   {
    "duration": 125,
    "start_time": "2023-06-25T06:33:04.901Z"
   },
   {
    "duration": 17,
    "start_time": "2023-06-25T06:33:05.028Z"
   },
   {
    "duration": 7,
    "start_time": "2023-06-25T06:33:05.100Z"
   },
   {
    "duration": 50,
    "start_time": "2023-06-25T06:33:05.108Z"
   },
   {
    "duration": 1645,
    "start_time": "2023-06-25T06:33:05.159Z"
   },
   {
    "duration": 1374,
    "start_time": "2023-06-25T06:33:06.805Z"
   },
   {
    "duration": 3,
    "start_time": "2023-06-25T06:33:08.181Z"
   },
   {
    "duration": 34,
    "start_time": "2023-06-25T06:33:08.185Z"
   },
   {
    "duration": 23,
    "start_time": "2023-06-25T06:33:08.220Z"
   },
   {
    "duration": 68,
    "start_time": "2023-06-25T06:33:08.244Z"
   },
   {
    "duration": 22,
    "start_time": "2023-06-25T06:33:08.313Z"
   },
   {
    "duration": 18,
    "start_time": "2023-06-25T06:33:08.336Z"
   },
   {
    "duration": 76,
    "start_time": "2023-06-25T06:33:08.356Z"
   },
   {
    "duration": 1133,
    "start_time": "2023-06-25T06:33:08.433Z"
   },
   {
    "duration": 32,
    "start_time": "2023-06-25T06:33:09.568Z"
   },
   {
    "duration": 5,
    "start_time": "2023-06-25T06:33:09.601Z"
   },
   {
    "duration": 122,
    "start_time": "2023-06-25T06:33:09.607Z"
   },
   {
    "duration": 3,
    "start_time": "2023-06-25T06:33:09.731Z"
   },
   {
    "duration": 6,
    "start_time": "2023-06-25T06:33:09.736Z"
   },
   {
    "duration": 14,
    "start_time": "2023-06-25T06:33:09.744Z"
   },
   {
    "duration": 374242,
    "start_time": "2023-06-25T06:33:09.759Z"
   },
   {
    "duration": 138,
    "start_time": "2023-06-25T06:39:24.002Z"
   },
   {
    "duration": 3302,
    "start_time": "2023-06-27T01:16:00.851Z"
   },
   {
    "duration": 1828,
    "start_time": "2023-06-27T01:16:04.155Z"
   },
   {
    "duration": 1288,
    "start_time": "2023-06-27T01:16:05.984Z"
   },
   {
    "duration": 7,
    "start_time": "2023-06-27T01:16:07.340Z"
   },
   {
    "duration": 38,
    "start_time": "2023-06-27T01:16:07.349Z"
   },
   {
    "duration": 5,
    "start_time": "2023-06-27T01:16:07.389Z"
   },
   {
    "duration": 556,
    "start_time": "2023-06-27T01:16:07.395Z"
   },
   {
    "duration": 568,
    "start_time": "2023-06-27T01:16:07.953Z"
   },
   {
    "duration": 14,
    "start_time": "2023-06-27T01:16:08.523Z"
   },
   {
    "duration": 16,
    "start_time": "2023-06-27T01:16:08.541Z"
   },
   {
    "duration": 48,
    "start_time": "2023-06-27T01:16:08.560Z"
   },
   {
    "duration": 20,
    "start_time": "2023-06-27T01:16:08.610Z"
   },
   {
    "duration": 41,
    "start_time": "2023-06-27T01:16:08.634Z"
   },
   {
    "duration": 86,
    "start_time": "2023-06-27T01:16:08.677Z"
   },
   {
    "duration": 29,
    "start_time": "2023-06-27T01:16:08.765Z"
   },
   {
    "duration": 11,
    "start_time": "2023-06-27T01:16:08.796Z"
   },
   {
    "duration": 54,
    "start_time": "2023-06-27T01:16:08.810Z"
   },
   {
    "duration": 122,
    "start_time": "2023-06-27T01:16:08.866Z"
   },
   {
    "duration": 28,
    "start_time": "2023-06-27T01:16:08.990Z"
   },
   {
    "duration": 74,
    "start_time": "2023-06-27T01:16:09.019Z"
   },
   {
    "duration": 94,
    "start_time": "2023-06-27T01:16:09.095Z"
   },
   {
    "duration": 91,
    "start_time": "2023-06-27T01:16:09.190Z"
   },
   {
    "duration": 139,
    "start_time": "2023-06-27T01:16:09.283Z"
   },
   {
    "duration": 23,
    "start_time": "2023-06-27T01:16:09.424Z"
   },
   {
    "duration": 18,
    "start_time": "2023-06-27T01:16:09.449Z"
   },
   {
    "duration": 6910,
    "start_time": "2023-06-27T01:16:09.469Z"
   },
   {
    "duration": 90,
    "start_time": "2023-06-27T01:16:16.382Z"
   },
   {
    "duration": 273,
    "start_time": "2023-06-27T01:16:16.477Z"
   },
   {
    "duration": 6,
    "start_time": "2023-06-27T01:16:16.753Z"
   },
   {
    "duration": 22,
    "start_time": "2023-06-27T01:16:16.761Z"
   },
   {
    "duration": 1468,
    "start_time": "2023-06-27T01:16:16.785Z"
   },
   {
    "duration": 5,
    "start_time": "2023-06-27T01:16:18.255Z"
   },
   {
    "duration": 211,
    "start_time": "2023-06-27T01:16:18.261Z"
   },
   {
    "duration": 81,
    "start_time": "2023-06-27T01:16:18.474Z"
   },
   {
    "duration": 97,
    "start_time": "2023-06-27T01:16:18.557Z"
   },
   {
    "duration": 43,
    "start_time": "2023-06-27T01:16:18.656Z"
   },
   {
    "duration": 1865,
    "start_time": "2023-06-27T01:16:18.701Z"
   },
   {
    "duration": 1685,
    "start_time": "2023-06-27T01:16:20.569Z"
   },
   {
    "duration": 5,
    "start_time": "2023-06-27T01:16:22.256Z"
   },
   {
    "duration": 25,
    "start_time": "2023-06-27T01:16:22.262Z"
   },
   {
    "duration": 30,
    "start_time": "2023-06-27T01:16:22.331Z"
   },
   {
    "duration": 85,
    "start_time": "2023-06-27T01:16:22.363Z"
   },
   {
    "duration": 31,
    "start_time": "2023-06-27T01:16:22.451Z"
   },
   {
    "duration": 59,
    "start_time": "2023-06-27T01:16:22.484Z"
   },
   {
    "duration": 56,
    "start_time": "2023-06-27T01:16:22.545Z"
   },
   {
    "duration": 1276,
    "start_time": "2023-06-27T01:16:22.603Z"
   },
   {
    "duration": 14,
    "start_time": "2023-06-27T01:16:23.881Z"
   },
   {
    "duration": 37,
    "start_time": "2023-06-27T01:16:23.896Z"
   },
   {
    "duration": 206,
    "start_time": "2023-06-27T01:16:23.935Z"
   },
   {
    "duration": 4,
    "start_time": "2023-06-27T01:16:24.144Z"
   },
   {
    "duration": 15,
    "start_time": "2023-06-27T01:16:24.151Z"
   },
   {
    "duration": 17,
    "start_time": "2023-06-27T01:16:24.168Z"
   },
   {
    "duration": 2911,
    "start_time": "2023-06-27T01:21:20.467Z"
   },
   {
    "duration": 1592,
    "start_time": "2023-06-27T01:21:23.380Z"
   },
   {
    "duration": 1016,
    "start_time": "2023-06-27T01:21:24.974Z"
   },
   {
    "duration": 69,
    "start_time": "2023-06-27T01:21:25.991Z"
   },
   {
    "duration": 28,
    "start_time": "2023-06-27T01:21:26.062Z"
   },
   {
    "duration": 5,
    "start_time": "2023-06-27T01:21:26.091Z"
   },
   {
    "duration": 419,
    "start_time": "2023-06-27T01:21:26.097Z"
   },
   {
    "duration": 473,
    "start_time": "2023-06-27T01:21:26.517Z"
   },
   {
    "duration": 7,
    "start_time": "2023-06-27T01:21:26.991Z"
   },
   {
    "duration": 2,
    "start_time": "2023-06-27T01:21:26.999Z"
   },
   {
    "duration": 59,
    "start_time": "2023-06-27T01:21:27.003Z"
   },
   {
    "duration": 5,
    "start_time": "2023-06-27T01:21:27.063Z"
   },
   {
    "duration": 4,
    "start_time": "2023-06-27T01:21:27.069Z"
   },
   {
    "duration": 70,
    "start_time": "2023-06-27T01:21:27.076Z"
   },
   {
    "duration": 22,
    "start_time": "2023-06-27T01:21:27.147Z"
   },
   {
    "duration": 21,
    "start_time": "2023-06-27T01:21:27.171Z"
   },
   {
    "duration": 28,
    "start_time": "2023-06-27T01:21:27.193Z"
   },
   {
    "duration": 77,
    "start_time": "2023-06-27T01:21:27.222Z"
   },
   {
    "duration": 32,
    "start_time": "2023-06-27T01:21:27.301Z"
   },
   {
    "duration": 36,
    "start_time": "2023-06-27T01:21:27.334Z"
   },
   {
    "duration": 78,
    "start_time": "2023-06-27T01:21:27.371Z"
   },
   {
    "duration": 83,
    "start_time": "2023-06-27T01:21:27.450Z"
   },
   {
    "duration": 71,
    "start_time": "2023-06-27T01:21:27.535Z"
   },
   {
    "duration": 3,
    "start_time": "2023-06-27T01:21:27.608Z"
   },
   {
    "duration": 20,
    "start_time": "2023-06-27T01:21:27.612Z"
   },
   {
    "duration": 5762,
    "start_time": "2023-06-27T01:21:27.634Z"
   },
   {
    "duration": 62,
    "start_time": "2023-06-27T01:21:33.398Z"
   },
   {
    "duration": 173,
    "start_time": "2023-06-27T01:21:33.461Z"
   },
   {
    "duration": 3,
    "start_time": "2023-06-27T01:21:33.636Z"
   },
   {
    "duration": 32,
    "start_time": "2023-06-27T01:21:33.641Z"
   },
   {
    "duration": 1257,
    "start_time": "2023-06-27T01:21:33.675Z"
   },
   {
    "duration": 4,
    "start_time": "2023-06-27T01:21:34.933Z"
   },
   {
    "duration": 195,
    "start_time": "2023-06-27T01:21:34.938Z"
   },
   {
    "duration": 17,
    "start_time": "2023-06-27T01:21:35.135Z"
   },
   {
    "duration": 10,
    "start_time": "2023-06-27T01:21:35.154Z"
   },
   {
    "duration": 10,
    "start_time": "2023-06-27T01:21:35.165Z"
   },
   {
    "duration": 1534,
    "start_time": "2023-06-27T01:21:35.177Z"
   },
   {
    "duration": 1339,
    "start_time": "2023-06-27T01:21:36.713Z"
   },
   {
    "duration": 4,
    "start_time": "2023-06-27T01:21:38.054Z"
   },
   {
    "duration": 25,
    "start_time": "2023-06-27T01:21:38.060Z"
   },
   {
    "duration": 61,
    "start_time": "2023-06-27T01:21:38.088Z"
   },
   {
    "duration": 34,
    "start_time": "2023-06-27T01:21:38.151Z"
   },
   {
    "duration": 4,
    "start_time": "2023-06-27T01:21:38.231Z"
   },
   {
    "duration": 11,
    "start_time": "2023-06-27T01:21:38.237Z"
   },
   {
    "duration": 47,
    "start_time": "2023-06-27T01:21:38.249Z"
   },
   {
    "duration": 1146,
    "start_time": "2023-06-27T01:21:38.332Z"
   },
   {
    "duration": 15,
    "start_time": "2023-06-27T01:21:39.479Z"
   },
   {
    "duration": 41,
    "start_time": "2023-06-27T01:21:39.495Z"
   },
   {
    "duration": 143,
    "start_time": "2023-06-27T01:21:39.538Z"
   },
   {
    "duration": 4,
    "start_time": "2023-06-27T01:21:39.682Z"
   },
   {
    "duration": 34,
    "start_time": "2023-06-27T01:21:39.687Z"
   },
   {
    "duration": 22,
    "start_time": "2023-06-27T01:21:39.723Z"
   }
  ],
  "kernelspec": {
   "display_name": "Python 3 (ipykernel)",
   "language": "python",
   "name": "python3"
  },
  "language_info": {
   "codemirror_mode": {
    "name": "ipython",
    "version": 3
   },
   "file_extension": ".py",
   "mimetype": "text/x-python",
   "name": "python",
   "nbconvert_exporter": "python",
   "pygments_lexer": "ipython3",
   "version": "3.9.5"
  },
  "toc": {
   "base_numbering": 1,
   "nav_menu": {},
   "number_sections": true,
   "sideBar": true,
   "skip_h1_title": true,
   "title_cell": "Table of Contents",
   "title_sidebar": "Contents",
   "toc_cell": false,
   "toc_position": {},
   "toc_section_display": true,
   "toc_window_display": false
  }
 },
 "nbformat": 4,
 "nbformat_minor": 2
}
